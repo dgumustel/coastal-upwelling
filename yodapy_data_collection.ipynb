{
 "cells": [
  {
   "cell_type": "code",
   "execution_count": 12,
   "metadata": {
    "collapsed": true,
    "jupyter": {
     "outputs_hidden": true
    }
   },
   "outputs": [
    {
     "name": "stdout",
     "output_type": "stream",
     "text": [
      "Collecting git+https://github.com/cormorack/yodapy.git\n",
      "  Cloning https://github.com/cormorack/yodapy.git to /private/var/folders/n_/nb90ccy937xbj76bczdjm0xw0000gn/T/pip-req-build-j4mbygrx\n",
      "Requirement already satisfied (use --upgrade to upgrade): yodapy==0.3.0b0+5.g95ce171 from git+https://github.com/cormorack/yodapy.git in /opt/anaconda3/lib/python3.8/site-packages\n",
      "Requirement already satisfied: requests in /opt/anaconda3/lib/python3.8/site-packages (from yodapy==0.3.0b0+5.g95ce171) (2.24.0)\n",
      "Requirement already satisfied: pandas in /opt/anaconda3/lib/python3.8/site-packages (from yodapy==0.3.0b0+5.g95ce171) (1.1.3)\n",
      "Requirement already satisfied: xarray in /opt/anaconda3/lib/python3.8/site-packages (from yodapy==0.3.0b0+5.g95ce171) (0.17.0)\n",
      "Requirement already satisfied: matplotlib in /opt/anaconda3/lib/python3.8/site-packages (from yodapy==0.3.0b0+5.g95ce171) (3.3.2)\n",
      "Requirement already satisfied: lxml in /opt/anaconda3/lib/python3.8/site-packages (from yodapy==0.3.0b0+5.g95ce171) (4.6.1)\n",
      "Requirement already satisfied: grequests in /opt/anaconda3/lib/python3.8/site-packages (from yodapy==0.3.0b0+5.g95ce171) (0.6.0)\n",
      "Requirement already satisfied: gevent in /opt/anaconda3/lib/python3.8/site-packages (from yodapy==0.3.0b0+5.g95ce171) (20.9.0)\n",
      "Requirement already satisfied: gspread in /opt/anaconda3/lib/python3.8/site-packages (from yodapy==0.3.0b0+5.g95ce171) (3.7.0)\n",
      "Requirement already satisfied: siphon in /opt/anaconda3/lib/python3.8/site-packages (from yodapy==0.3.0b0+5.g95ce171) (0.9)\n",
      "Requirement already satisfied: dask in /opt/anaconda3/lib/python3.8/site-packages (from yodapy==0.3.0b0+5.g95ce171) (2.30.0)\n",
      "Requirement already satisfied: seaborn in /opt/anaconda3/lib/python3.8/site-packages (from yodapy==0.3.0b0+5.g95ce171) (0.11.0)\n",
      "Requirement already satisfied: netcdf4 in /opt/anaconda3/lib/python3.8/site-packages (from yodapy==0.3.0b0+5.g95ce171) (1.5.6)\n",
      "Requirement already satisfied: oauth2client in /opt/anaconda3/lib/python3.8/site-packages (from yodapy==0.3.0b0+5.g95ce171) (4.1.3)\n",
      "Requirement already satisfied: progressbar2 in /opt/anaconda3/lib/python3.8/site-packages (from yodapy==0.3.0b0+5.g95ce171) (3.53.1)\n",
      "Requirement already satisfied: s3fs in /opt/anaconda3/lib/python3.8/site-packages (from yodapy==0.3.0b0+5.g95ce171) (0.6.0)\n",
      "Requirement already satisfied: echopype in /opt/anaconda3/lib/python3.8/site-packages (from yodapy==0.3.0b0+5.g95ce171) (0.4.1)\n",
      "Requirement already satisfied: idna<3,>=2.5 in /opt/anaconda3/lib/python3.8/site-packages (from requests->yodapy==0.3.0b0+5.g95ce171) (2.10)\n",
      "Requirement already satisfied: chardet<4,>=3.0.2 in /opt/anaconda3/lib/python3.8/site-packages (from requests->yodapy==0.3.0b0+5.g95ce171) (3.0.4)\n",
      "Requirement already satisfied: urllib3!=1.25.0,!=1.25.1,<1.26,>=1.21.1 in /opt/anaconda3/lib/python3.8/site-packages (from requests->yodapy==0.3.0b0+5.g95ce171) (1.25.11)\n",
      "Requirement already satisfied: certifi>=2017.4.17 in /opt/anaconda3/lib/python3.8/site-packages (from requests->yodapy==0.3.0b0+5.g95ce171) (2020.6.20)\n",
      "Requirement already satisfied: pytz>=2017.2 in /opt/anaconda3/lib/python3.8/site-packages (from pandas->yodapy==0.3.0b0+5.g95ce171) (2020.1)\n",
      "Requirement already satisfied: numpy>=1.15.4 in /opt/anaconda3/lib/python3.8/site-packages (from pandas->yodapy==0.3.0b0+5.g95ce171) (1.19.2)\n",
      "Requirement already satisfied: python-dateutil>=2.7.3 in /opt/anaconda3/lib/python3.8/site-packages (from pandas->yodapy==0.3.0b0+5.g95ce171) (2.8.1)\n",
      "Requirement already satisfied: setuptools>=40.4 in /opt/anaconda3/lib/python3.8/site-packages (from xarray->yodapy==0.3.0b0+5.g95ce171) (50.3.1.post20201107)\n",
      "Requirement already satisfied: kiwisolver>=1.0.1 in /opt/anaconda3/lib/python3.8/site-packages (from matplotlib->yodapy==0.3.0b0+5.g95ce171) (1.3.0)\n",
      "Requirement already satisfied: pyparsing!=2.0.4,!=2.1.2,!=2.1.6,>=2.0.3 in /opt/anaconda3/lib/python3.8/site-packages (from matplotlib->yodapy==0.3.0b0+5.g95ce171) (2.4.7)\n",
      "Requirement already satisfied: cycler>=0.10 in /opt/anaconda3/lib/python3.8/site-packages (from matplotlib->yodapy==0.3.0b0+5.g95ce171) (0.10.0)\n",
      "Requirement already satisfied: pillow>=6.2.0 in /opt/anaconda3/lib/python3.8/site-packages (from matplotlib->yodapy==0.3.0b0+5.g95ce171) (8.0.1)\n",
      "Requirement already satisfied: greenlet>=0.4.17; platform_python_implementation == \"CPython\" in /opt/anaconda3/lib/python3.8/site-packages (from gevent->yodapy==0.3.0b0+5.g95ce171) (0.4.17)\n",
      "Requirement already satisfied: zope.event in /opt/anaconda3/lib/python3.8/site-packages (from gevent->yodapy==0.3.0b0+5.g95ce171) (4.5.0)\n",
      "Requirement already satisfied: zope.interface in /opt/anaconda3/lib/python3.8/site-packages (from gevent->yodapy==0.3.0b0+5.g95ce171) (5.1.2)\n",
      "Requirement already satisfied: google-auth-oauthlib>=0.4.1 in /opt/anaconda3/lib/python3.8/site-packages (from gspread->yodapy==0.3.0b0+5.g95ce171) (0.4.4)\n",
      "Requirement already satisfied: google-auth>=1.12.0 in /opt/anaconda3/lib/python3.8/site-packages (from gspread->yodapy==0.3.0b0+5.g95ce171) (1.29.0)\n",
      "Requirement already satisfied: beautifulsoup4>=4.6 in /opt/anaconda3/lib/python3.8/site-packages (from siphon->yodapy==0.3.0b0+5.g95ce171) (4.9.3)\n",
      "Requirement already satisfied: protobuf>=3.0.0a3 in /opt/anaconda3/lib/python3.8/site-packages (from siphon->yodapy==0.3.0b0+5.g95ce171) (3.15.8)\n",
      "Requirement already satisfied: pyyaml in /opt/anaconda3/lib/python3.8/site-packages (from dask->yodapy==0.3.0b0+5.g95ce171) (5.3.1)\n",
      "Requirement already satisfied: scipy>=1.0 in /opt/anaconda3/lib/python3.8/site-packages (from seaborn->yodapy==0.3.0b0+5.g95ce171) (1.5.2)\n",
      "Requirement already satisfied: cftime in /opt/anaconda3/lib/python3.8/site-packages (from netcdf4->yodapy==0.3.0b0+5.g95ce171) (1.4.1)\n",
      "Requirement already satisfied: rsa>=3.1.4 in /opt/anaconda3/lib/python3.8/site-packages (from oauth2client->yodapy==0.3.0b0+5.g95ce171) (4.7.2)\n",
      "Requirement already satisfied: six>=1.6.1 in /opt/anaconda3/lib/python3.8/site-packages (from oauth2client->yodapy==0.3.0b0+5.g95ce171) (1.15.0)\n",
      "Requirement already satisfied: pyasn1>=0.1.7 in /opt/anaconda3/lib/python3.8/site-packages (from oauth2client->yodapy==0.3.0b0+5.g95ce171) (0.4.8)\n",
      "Requirement already satisfied: pyasn1-modules>=0.0.5 in /opt/anaconda3/lib/python3.8/site-packages (from oauth2client->yodapy==0.3.0b0+5.g95ce171) (0.2.8)\n",
      "Requirement already satisfied: httplib2>=0.9.1 in /opt/anaconda3/lib/python3.8/site-packages (from oauth2client->yodapy==0.3.0b0+5.g95ce171) (0.19.1)\n",
      "Requirement already satisfied: python-utils>=2.3.0 in /opt/anaconda3/lib/python3.8/site-packages (from progressbar2->yodapy==0.3.0b0+5.g95ce171) (2.5.6)\n",
      "Requirement already satisfied: aiobotocore>=1.0.1 in /opt/anaconda3/lib/python3.8/site-packages (from s3fs->yodapy==0.3.0b0+5.g95ce171) (1.3.0)\n",
      "Requirement already satisfied: fsspec>=0.8.0 in /opt/anaconda3/lib/python3.8/site-packages (from s3fs->yodapy==0.3.0b0+5.g95ce171) (0.8.3)\n",
      "Requirement already satisfied: pynmea2 in /opt/anaconda3/lib/python3.8/site-packages (from echopype->yodapy==0.3.0b0+5.g95ce171) (1.18.0)\n",
      "Requirement already satisfied: zarr in /opt/anaconda3/lib/python3.8/site-packages (from echopype->yodapy==0.3.0b0+5.g95ce171) (2.7.1)\n",
      "Requirement already satisfied: requests-oauthlib>=0.7.0 in /opt/anaconda3/lib/python3.8/site-packages (from google-auth-oauthlib>=0.4.1->gspread->yodapy==0.3.0b0+5.g95ce171) (1.3.0)\n",
      "Requirement already satisfied: cachetools<5.0,>=2.0.0 in /opt/anaconda3/lib/python3.8/site-packages (from google-auth>=1.12.0->gspread->yodapy==0.3.0b0+5.g95ce171) (4.2.1)\n",
      "Requirement already satisfied: soupsieve>1.2; python_version >= \"3.0\" in /opt/anaconda3/lib/python3.8/site-packages (from beautifulsoup4>=4.6->siphon->yodapy==0.3.0b0+5.g95ce171) (2.0.1)\n",
      "Requirement already satisfied: aiohttp>=3.3.1 in /opt/anaconda3/lib/python3.8/site-packages (from aiobotocore>=1.0.1->s3fs->yodapy==0.3.0b0+5.g95ce171) (3.7.4.post0)\n",
      "Requirement already satisfied: botocore<1.20.50,>=1.20.49 in /opt/anaconda3/lib/python3.8/site-packages (from aiobotocore>=1.0.1->s3fs->yodapy==0.3.0b0+5.g95ce171) (1.20.49)\n",
      "Requirement already satisfied: aioitertools>=0.5.1 in /opt/anaconda3/lib/python3.8/site-packages (from aiobotocore>=1.0.1->s3fs->yodapy==0.3.0b0+5.g95ce171) (0.7.1)\n",
      "Requirement already satisfied: wrapt>=1.10.10 in /opt/anaconda3/lib/python3.8/site-packages (from aiobotocore>=1.0.1->s3fs->yodapy==0.3.0b0+5.g95ce171) (1.11.2)\n",
      "Requirement already satisfied: numcodecs>=0.6.4 in /opt/anaconda3/lib/python3.8/site-packages (from zarr->echopype->yodapy==0.3.0b0+5.g95ce171) (0.7.3)\n",
      "Requirement already satisfied: asciitree in /opt/anaconda3/lib/python3.8/site-packages (from zarr->echopype->yodapy==0.3.0b0+5.g95ce171) (0.3.3)\n",
      "Requirement already satisfied: fasteners in /opt/anaconda3/lib/python3.8/site-packages (from zarr->echopype->yodapy==0.3.0b0+5.g95ce171) (0.16)\n",
      "Requirement already satisfied: oauthlib>=3.0.0 in /opt/anaconda3/lib/python3.8/site-packages (from requests-oauthlib>=0.7.0->google-auth-oauthlib>=0.4.1->gspread->yodapy==0.3.0b0+5.g95ce171) (3.1.0)\n",
      "Requirement already satisfied: multidict<7.0,>=4.5 in /opt/anaconda3/lib/python3.8/site-packages (from aiohttp>=3.3.1->aiobotocore>=1.0.1->s3fs->yodapy==0.3.0b0+5.g95ce171) (5.1.0)\n",
      "Requirement already satisfied: yarl<2.0,>=1.0 in /opt/anaconda3/lib/python3.8/site-packages (from aiohttp>=3.3.1->aiobotocore>=1.0.1->s3fs->yodapy==0.3.0b0+5.g95ce171) (1.6.3)\n",
      "Requirement already satisfied: typing-extensions>=3.6.5 in /opt/anaconda3/lib/python3.8/site-packages (from aiohttp>=3.3.1->aiobotocore>=1.0.1->s3fs->yodapy==0.3.0b0+5.g95ce171) (3.7.4.3)\n",
      "Requirement already satisfied: async-timeout<4.0,>=3.0 in /opt/anaconda3/lib/python3.8/site-packages (from aiohttp>=3.3.1->aiobotocore>=1.0.1->s3fs->yodapy==0.3.0b0+5.g95ce171) (3.0.1)\n",
      "Requirement already satisfied: attrs>=17.3.0 in /opt/anaconda3/lib/python3.8/site-packages (from aiohttp>=3.3.1->aiobotocore>=1.0.1->s3fs->yodapy==0.3.0b0+5.g95ce171) (20.3.0)\n",
      "Requirement already satisfied: jmespath<1.0.0,>=0.7.1 in /opt/anaconda3/lib/python3.8/site-packages (from botocore<1.20.50,>=1.20.49->aiobotocore>=1.0.1->s3fs->yodapy==0.3.0b0+5.g95ce171) (0.10.0)\n",
      "Building wheels for collected packages: yodapy\n",
      "  Building wheel for yodapy (setup.py) ... \u001b[?25ldone\n",
      "\u001b[?25h  Created wheel for yodapy: filename=yodapy-0.3.0b0+5.g95ce171-py3-none-any.whl size=123764 sha256=f3e98be5e4bc3c3aafeb7952be2db806ba29872638ecc76edf5f914758ece9c7\n",
      "  Stored in directory: /private/var/folders/n_/nb90ccy937xbj76bczdjm0xw0000gn/T/pip-ephem-wheel-cache-n3un1x40/wheels/70/66/92/c227a78c387cfc6581a0c7219bb39e2c42d1c66564f4158884\n",
      "Successfully built yodapy\n"
     ]
    }
   ],
   "source": [
    "# install necessary packages\n",
    "\n",
    "# Ensure that the latest build of yodapy is installed directly from github using\n",
    "!pip install git+https://github.com/cormorack/yodapy.git\n",
    "#pip install cmocean -q"
   ]
  },
  {
   "cell_type": "code",
   "execution_count": 17,
   "metadata": {
    "collapsed": true,
    "jupyter": {
     "outputs_hidden": true
    }
   },
   "outputs": [
    {
     "name": "stdout",
     "output_type": "stream",
     "text": [
      "Requirement already satisfied: yodapy in /opt/anaconda3/lib/python3.8/site-packages (0.3.0b0+5.g95ce171)\n",
      "Requirement already satisfied: seaborn in /opt/anaconda3/lib/python3.8/site-packages (from yodapy) (0.11.0)\n",
      "Requirement already satisfied: xarray in /opt/anaconda3/lib/python3.8/site-packages (from yodapy) (0.17.0)\n",
      "Requirement already satisfied: siphon in /opt/anaconda3/lib/python3.8/site-packages (from yodapy) (0.9)\n",
      "Requirement already satisfied: dask in /opt/anaconda3/lib/python3.8/site-packages (from yodapy) (2.30.0)\n",
      "Requirement already satisfied: netcdf4 in /opt/anaconda3/lib/python3.8/site-packages (from yodapy) (1.5.6)\n",
      "Requirement already satisfied: matplotlib in /opt/anaconda3/lib/python3.8/site-packages (from yodapy) (3.3.2)\n",
      "Requirement already satisfied: requests in /opt/anaconda3/lib/python3.8/site-packages (from yodapy) (2.24.0)\n",
      "Requirement already satisfied: gspread in /opt/anaconda3/lib/python3.8/site-packages (from yodapy) (3.7.0)\n",
      "Requirement already satisfied: s3fs in /opt/anaconda3/lib/python3.8/site-packages (from yodapy) (0.6.0)\n",
      "Requirement already satisfied: gevent in /opt/anaconda3/lib/python3.8/site-packages (from yodapy) (20.9.0)\n",
      "Requirement already satisfied: oauth2client in /opt/anaconda3/lib/python3.8/site-packages (from yodapy) (4.1.3)\n",
      "Requirement already satisfied: progressbar2 in /opt/anaconda3/lib/python3.8/site-packages (from yodapy) (3.53.1)\n",
      "Requirement already satisfied: lxml in /opt/anaconda3/lib/python3.8/site-packages (from yodapy) (4.6.1)\n",
      "Requirement already satisfied: pandas in /opt/anaconda3/lib/python3.8/site-packages (from yodapy) (1.1.3)\n",
      "Requirement already satisfied: grequests in /opt/anaconda3/lib/python3.8/site-packages (from yodapy) (0.6.0)\n",
      "Requirement already satisfied: echopype in /opt/anaconda3/lib/python3.8/site-packages (from yodapy) (0.4.1)\n",
      "Requirement already satisfied: numpy>=1.15 in /opt/anaconda3/lib/python3.8/site-packages (from seaborn->yodapy) (1.19.2)\n",
      "Requirement already satisfied: scipy>=1.0 in /opt/anaconda3/lib/python3.8/site-packages (from seaborn->yodapy) (1.5.2)\n",
      "Requirement already satisfied: setuptools>=40.4 in /opt/anaconda3/lib/python3.8/site-packages (from xarray->yodapy) (50.3.1.post20201107)\n",
      "Requirement already satisfied: protobuf>=3.0.0a3 in /opt/anaconda3/lib/python3.8/site-packages (from siphon->yodapy) (3.15.8)\n",
      "Requirement already satisfied: beautifulsoup4>=4.6 in /opt/anaconda3/lib/python3.8/site-packages (from siphon->yodapy) (4.9.3)\n",
      "Requirement already satisfied: pyyaml in /opt/anaconda3/lib/python3.8/site-packages (from dask->yodapy) (5.3.1)\n",
      "Requirement already satisfied: cftime in /opt/anaconda3/lib/python3.8/site-packages (from netcdf4->yodapy) (1.4.1)\n",
      "Requirement already satisfied: pyparsing!=2.0.4,!=2.1.2,!=2.1.6,>=2.0.3 in /opt/anaconda3/lib/python3.8/site-packages (from matplotlib->yodapy) (2.4.7)\n",
      "Requirement already satisfied: kiwisolver>=1.0.1 in /opt/anaconda3/lib/python3.8/site-packages (from matplotlib->yodapy) (1.3.0)\n",
      "Requirement already satisfied: pillow>=6.2.0 in /opt/anaconda3/lib/python3.8/site-packages (from matplotlib->yodapy) (8.0.1)\n",
      "Requirement already satisfied: cycler>=0.10 in /opt/anaconda3/lib/python3.8/site-packages (from matplotlib->yodapy) (0.10.0)\n",
      "Requirement already satisfied: python-dateutil>=2.1 in /opt/anaconda3/lib/python3.8/site-packages (from matplotlib->yodapy) (2.8.1)\n",
      "Requirement already satisfied: certifi>=2020.06.20 in /opt/anaconda3/lib/python3.8/site-packages (from matplotlib->yodapy) (2020.6.20)\n",
      "Requirement already satisfied: idna<3,>=2.5 in /opt/anaconda3/lib/python3.8/site-packages (from requests->yodapy) (2.10)\n",
      "Requirement already satisfied: urllib3!=1.25.0,!=1.25.1,<1.26,>=1.21.1 in /opt/anaconda3/lib/python3.8/site-packages (from requests->yodapy) (1.25.11)\n",
      "Requirement already satisfied: chardet<4,>=3.0.2 in /opt/anaconda3/lib/python3.8/site-packages (from requests->yodapy) (3.0.4)\n",
      "Requirement already satisfied: google-auth>=1.12.0 in /opt/anaconda3/lib/python3.8/site-packages (from gspread->yodapy) (1.29.0)\n",
      "Requirement already satisfied: google-auth-oauthlib>=0.4.1 in /opt/anaconda3/lib/python3.8/site-packages (from gspread->yodapy) (0.4.4)\n",
      "Requirement already satisfied: fsspec>=0.8.0 in /opt/anaconda3/lib/python3.8/site-packages (from s3fs->yodapy) (0.8.3)\n",
      "Requirement already satisfied: aiobotocore>=1.0.1 in /opt/anaconda3/lib/python3.8/site-packages (from s3fs->yodapy) (1.3.0)\n",
      "Requirement already satisfied: greenlet>=0.4.17; platform_python_implementation == \"CPython\" in /opt/anaconda3/lib/python3.8/site-packages (from gevent->yodapy) (0.4.17)\n",
      "Requirement already satisfied: zope.interface in /opt/anaconda3/lib/python3.8/site-packages (from gevent->yodapy) (5.1.2)\n",
      "Requirement already satisfied: zope.event in /opt/anaconda3/lib/python3.8/site-packages (from gevent->yodapy) (4.5.0)\n",
      "Requirement already satisfied: rsa>=3.1.4 in /opt/anaconda3/lib/python3.8/site-packages (from oauth2client->yodapy) (4.7.2)\n",
      "Requirement already satisfied: httplib2>=0.9.1 in /opt/anaconda3/lib/python3.8/site-packages (from oauth2client->yodapy) (0.19.1)\n",
      "Requirement already satisfied: six>=1.6.1 in /opt/anaconda3/lib/python3.8/site-packages (from oauth2client->yodapy) (1.15.0)\n",
      "Requirement already satisfied: pyasn1>=0.1.7 in /opt/anaconda3/lib/python3.8/site-packages (from oauth2client->yodapy) (0.4.8)\n",
      "Requirement already satisfied: pyasn1-modules>=0.0.5 in /opt/anaconda3/lib/python3.8/site-packages (from oauth2client->yodapy) (0.2.8)\n",
      "Requirement already satisfied: python-utils>=2.3.0 in /opt/anaconda3/lib/python3.8/site-packages (from progressbar2->yodapy) (2.5.6)\n",
      "Requirement already satisfied: pytz>=2017.2 in /opt/anaconda3/lib/python3.8/site-packages (from pandas->yodapy) (2020.1)\n",
      "Requirement already satisfied: zarr in /opt/anaconda3/lib/python3.8/site-packages (from echopype->yodapy) (2.7.1)\n",
      "Requirement already satisfied: pynmea2 in /opt/anaconda3/lib/python3.8/site-packages (from echopype->yodapy) (1.18.0)\n",
      "Requirement already satisfied: soupsieve>1.2; python_version >= \"3.0\" in /opt/anaconda3/lib/python3.8/site-packages (from beautifulsoup4>=4.6->siphon->yodapy) (2.0.1)\n",
      "Requirement already satisfied: cachetools<5.0,>=2.0.0 in /opt/anaconda3/lib/python3.8/site-packages (from google-auth>=1.12.0->gspread->yodapy) (4.2.1)\n",
      "Requirement already satisfied: requests-oauthlib>=0.7.0 in /opt/anaconda3/lib/python3.8/site-packages (from google-auth-oauthlib>=0.4.1->gspread->yodapy) (1.3.0)\n",
      "Requirement already satisfied: botocore<1.20.50,>=1.20.49 in /opt/anaconda3/lib/python3.8/site-packages (from aiobotocore>=1.0.1->s3fs->yodapy) (1.20.49)\n",
      "Requirement already satisfied: aiohttp>=3.3.1 in /opt/anaconda3/lib/python3.8/site-packages (from aiobotocore>=1.0.1->s3fs->yodapy) (3.7.4.post0)\n",
      "Requirement already satisfied: aioitertools>=0.5.1 in /opt/anaconda3/lib/python3.8/site-packages (from aiobotocore>=1.0.1->s3fs->yodapy) (0.7.1)\n",
      "Requirement already satisfied: wrapt>=1.10.10 in /opt/anaconda3/lib/python3.8/site-packages (from aiobotocore>=1.0.1->s3fs->yodapy) (1.11.2)\n",
      "Requirement already satisfied: fasteners in /opt/anaconda3/lib/python3.8/site-packages (from zarr->echopype->yodapy) (0.16)\n",
      "Requirement already satisfied: asciitree in /opt/anaconda3/lib/python3.8/site-packages (from zarr->echopype->yodapy) (0.3.3)\n",
      "Requirement already satisfied: numcodecs>=0.6.4 in /opt/anaconda3/lib/python3.8/site-packages (from zarr->echopype->yodapy) (0.7.3)\n",
      "Requirement already satisfied: oauthlib>=3.0.0 in /opt/anaconda3/lib/python3.8/site-packages (from requests-oauthlib>=0.7.0->google-auth-oauthlib>=0.4.1->gspread->yodapy) (3.1.0)\n",
      "Requirement already satisfied: jmespath<1.0.0,>=0.7.1 in /opt/anaconda3/lib/python3.8/site-packages (from botocore<1.20.50,>=1.20.49->aiobotocore>=1.0.1->s3fs->yodapy) (0.10.0)\n",
      "Requirement already satisfied: async-timeout<4.0,>=3.0 in /opt/anaconda3/lib/python3.8/site-packages (from aiohttp>=3.3.1->aiobotocore>=1.0.1->s3fs->yodapy) (3.0.1)\n",
      "Requirement already satisfied: multidict<7.0,>=4.5 in /opt/anaconda3/lib/python3.8/site-packages (from aiohttp>=3.3.1->aiobotocore>=1.0.1->s3fs->yodapy) (5.1.0)\n",
      "Requirement already satisfied: attrs>=17.3.0 in /opt/anaconda3/lib/python3.8/site-packages (from aiohttp>=3.3.1->aiobotocore>=1.0.1->s3fs->yodapy) (20.3.0)\n",
      "Requirement already satisfied: yarl<2.0,>=1.0 in /opt/anaconda3/lib/python3.8/site-packages (from aiohttp>=3.3.1->aiobotocore>=1.0.1->s3fs->yodapy) (1.6.3)\n",
      "Requirement already satisfied: typing-extensions>=3.6.5 in /opt/anaconda3/lib/python3.8/site-packages (from aiohttp>=3.3.1->aiobotocore>=1.0.1->s3fs->yodapy) (3.7.4.3)\n",
      "Note: you may need to restart the kernel to use updated packages.\n"
     ]
    }
   ],
   "source": [
    "pip install yodapy"
   ]
  },
  {
   "cell_type": "code",
   "execution_count": 18,
   "metadata": {},
   "outputs": [
    {
     "ename": "ImportError",
     "evalue": "cannot import name 'setup_logging' from 'fsspec.utils' (/opt/anaconda3/lib/python3.8/site-packages/fsspec/utils.py)",
     "output_type": "error",
     "traceback": [
      "\u001b[0;31m---------------------------------------------------------------------------\u001b[0m",
      "\u001b[0;31mImportError\u001b[0m                               Traceback (most recent call last)",
      "\u001b[0;32m<ipython-input-18-126ed1d58892>\u001b[0m in \u001b[0;36m<module>\u001b[0;34m\u001b[0m\n\u001b[0;32m----> 1\u001b[0;31m \u001b[0;32mfrom\u001b[0m \u001b[0myodapy\u001b[0m\u001b[0;34m.\u001b[0m\u001b[0mutils\u001b[0m\u001b[0;34m.\u001b[0m\u001b[0mcreds\u001b[0m \u001b[0;32mimport\u001b[0m \u001b[0mset_credentials_file\u001b[0m\u001b[0;34m\u001b[0m\u001b[0;34m\u001b[0m\u001b[0m\n\u001b[0m",
      "\u001b[0;32m/opt/anaconda3/lib/python3.8/site-packages/yodapy/__init__.py\u001b[0m in \u001b[0;36m<module>\u001b[0;34m\u001b[0m\n\u001b[1;32m      6\u001b[0m )\n\u001b[1;32m      7\u001b[0m \u001b[0;34m\u001b[0m\u001b[0m\n\u001b[0;32m----> 8\u001b[0;31m \u001b[0;32mfrom\u001b[0m \u001b[0myodapy\u001b[0m \u001b[0;32mimport\u001b[0m \u001b[0mdatasources\u001b[0m\u001b[0;34m\u001b[0m\u001b[0;34m\u001b[0m\u001b[0m\n\u001b[0m\u001b[1;32m      9\u001b[0m \u001b[0;34m\u001b[0m\u001b[0m\n\u001b[1;32m     10\u001b[0m \u001b[0;32mfrom\u001b[0m \u001b[0;34m.\u001b[0m\u001b[0m_version\u001b[0m \u001b[0;32mimport\u001b[0m \u001b[0mget_versions\u001b[0m\u001b[0;34m\u001b[0m\u001b[0;34m\u001b[0m\u001b[0m\n",
      "\u001b[0;32m/opt/anaconda3/lib/python3.8/site-packages/yodapy/datasources/__init__.py\u001b[0m in \u001b[0;36m<module>\u001b[0;34m\u001b[0m\n\u001b[1;32m      8\u001b[0m )\n\u001b[1;32m      9\u001b[0m \u001b[0;34m\u001b[0m\u001b[0m\n\u001b[0;32m---> 10\u001b[0;31m \u001b[0;32mfrom\u001b[0m \u001b[0myodapy\u001b[0m\u001b[0;34m.\u001b[0m\u001b[0mdatasources\u001b[0m\u001b[0;34m.\u001b[0m\u001b[0mooi\u001b[0m\u001b[0;34m.\u001b[0m\u001b[0mCAVA\u001b[0m \u001b[0;32mimport\u001b[0m \u001b[0mCAVA\u001b[0m\u001b[0;34m\u001b[0m\u001b[0;34m\u001b[0m\u001b[0m\n\u001b[0m\u001b[1;32m     11\u001b[0m \u001b[0;32mfrom\u001b[0m \u001b[0myodapy\u001b[0m\u001b[0;34m.\u001b[0m\u001b[0mdatasources\u001b[0m\u001b[0;34m.\u001b[0m\u001b[0mooi\u001b[0m\u001b[0;34m.\u001b[0m\u001b[0mOOI\u001b[0m \u001b[0;32mimport\u001b[0m \u001b[0mOOI\u001b[0m  \u001b[0;31m# noqa\u001b[0m\u001b[0;34m\u001b[0m\u001b[0;34m\u001b[0m\u001b[0m\n",
      "\u001b[0;32m/opt/anaconda3/lib/python3.8/site-packages/yodapy/datasources/ooi/__init__.py\u001b[0m in \u001b[0;36m<module>\u001b[0;34m\u001b[0m\n\u001b[0;32m----> 1\u001b[0;31m \u001b[0;32mfrom\u001b[0m \u001b[0myodapy\u001b[0m\u001b[0;34m.\u001b[0m\u001b[0mdatasources\u001b[0m\u001b[0;34m.\u001b[0m\u001b[0mooi\u001b[0m\u001b[0;34m.\u001b[0m\u001b[0mOOI\u001b[0m \u001b[0;32mimport\u001b[0m \u001b[0mOOI\u001b[0m\u001b[0;34m\u001b[0m\u001b[0;34m\u001b[0m\u001b[0m\n\u001b[0m",
      "\u001b[0;32m/opt/anaconda3/lib/python3.8/site-packages/yodapy/datasources/ooi/OOI.py\u001b[0m in \u001b[0;36m<module>\u001b[0;34m\u001b[0m\n\u001b[1;32m     16\u001b[0m \u001b[0;32mimport\u001b[0m \u001b[0mpytz\u001b[0m\u001b[0;34m\u001b[0m\u001b[0;34m\u001b[0m\u001b[0m\n\u001b[1;32m     17\u001b[0m \u001b[0;32mimport\u001b[0m \u001b[0mrequests\u001b[0m\u001b[0;34m\u001b[0m\u001b[0;34m\u001b[0m\u001b[0m\n\u001b[0;32m---> 18\u001b[0;31m \u001b[0;32mimport\u001b[0m \u001b[0ms3fs\u001b[0m\u001b[0;34m\u001b[0m\u001b[0;34m\u001b[0m\u001b[0m\n\u001b[0m\u001b[1;32m     19\u001b[0m \u001b[0;32mimport\u001b[0m \u001b[0murllib3\u001b[0m\u001b[0;34m\u001b[0m\u001b[0;34m\u001b[0m\u001b[0m\n\u001b[1;32m     20\u001b[0m \u001b[0;32mimport\u001b[0m \u001b[0mxarray\u001b[0m \u001b[0;32mas\u001b[0m \u001b[0mxr\u001b[0m\u001b[0;34m\u001b[0m\u001b[0;34m\u001b[0m\u001b[0m\n",
      "\u001b[0;32m/opt/anaconda3/lib/python3.8/site-packages/s3fs/__init__.py\u001b[0m in \u001b[0;36m<module>\u001b[0;34m\u001b[0m\n\u001b[0;32m----> 1\u001b[0;31m \u001b[0;32mfrom\u001b[0m \u001b[0;34m.\u001b[0m\u001b[0mcore\u001b[0m \u001b[0;32mimport\u001b[0m \u001b[0mS3FileSystem\u001b[0m\u001b[0;34m,\u001b[0m \u001b[0mS3File\u001b[0m\u001b[0;34m\u001b[0m\u001b[0;34m\u001b[0m\u001b[0m\n\u001b[0m\u001b[1;32m      2\u001b[0m \u001b[0;32mfrom\u001b[0m \u001b[0;34m.\u001b[0m\u001b[0mmapping\u001b[0m \u001b[0;32mimport\u001b[0m \u001b[0mS3Map\u001b[0m\u001b[0;34m\u001b[0m\u001b[0;34m\u001b[0m\u001b[0m\n\u001b[1;32m      3\u001b[0m \u001b[0;34m\u001b[0m\u001b[0m\n\u001b[1;32m      4\u001b[0m \u001b[0;32mfrom\u001b[0m \u001b[0;34m.\u001b[0m\u001b[0m_version\u001b[0m \u001b[0;32mimport\u001b[0m \u001b[0mget_versions\u001b[0m\u001b[0;34m\u001b[0m\u001b[0;34m\u001b[0m\u001b[0m\n\u001b[1;32m      5\u001b[0m \u001b[0;34m\u001b[0m\u001b[0m\n",
      "\u001b[0;32m/opt/anaconda3/lib/python3.8/site-packages/s3fs/core.py\u001b[0m in \u001b[0;36m<module>\u001b[0;34m\u001b[0m\n\u001b[1;32m      9\u001b[0m \u001b[0;34m\u001b[0m\u001b[0m\n\u001b[1;32m     10\u001b[0m \u001b[0;32mfrom\u001b[0m \u001b[0mfsspec\u001b[0m\u001b[0;34m.\u001b[0m\u001b[0mspec\u001b[0m \u001b[0;32mimport\u001b[0m \u001b[0mAbstractBufferedFile\u001b[0m\u001b[0;34m\u001b[0m\u001b[0;34m\u001b[0m\u001b[0m\n\u001b[0;32m---> 11\u001b[0;31m \u001b[0;32mfrom\u001b[0m \u001b[0mfsspec\u001b[0m\u001b[0;34m.\u001b[0m\u001b[0mutils\u001b[0m \u001b[0;32mimport\u001b[0m \u001b[0minfer_storage_options\u001b[0m\u001b[0;34m,\u001b[0m \u001b[0mtokenize\u001b[0m\u001b[0;34m,\u001b[0m \u001b[0msetup_logging\u001b[0m\u001b[0;34m\u001b[0m\u001b[0;34m\u001b[0m\u001b[0m\n\u001b[0m\u001b[1;32m     12\u001b[0m \u001b[0;32mfrom\u001b[0m \u001b[0mfsspec\u001b[0m\u001b[0;34m.\u001b[0m\u001b[0masyn\u001b[0m \u001b[0;32mimport\u001b[0m \u001b[0mAsyncFileSystem\u001b[0m\u001b[0;34m,\u001b[0m \u001b[0msync\u001b[0m\u001b[0;34m,\u001b[0m \u001b[0msync_wrapper\u001b[0m\u001b[0;34m\u001b[0m\u001b[0;34m\u001b[0m\u001b[0m\n\u001b[1;32m     13\u001b[0m \u001b[0;34m\u001b[0m\u001b[0m\n",
      "\u001b[0;31mImportError\u001b[0m: cannot import name 'setup_logging' from 'fsspec.utils' (/opt/anaconda3/lib/python3.8/site-packages/fsspec/utils.py)"
     ]
    }
   ],
   "source": [
    "from yodapy.utils.creds import set_credentials_file"
   ]
  },
  {
   "cell_type": "code",
   "execution_count": 19,
   "metadata": {},
   "outputs": [
    {
     "ename": "ImportError",
     "evalue": "cannot import name 'setup_logging' from 'fsspec.utils' (/opt/anaconda3/lib/python3.8/site-packages/fsspec/utils.py)",
     "output_type": "error",
     "traceback": [
      "\u001b[0;31m---------------------------------------------------------------------------\u001b[0m",
      "\u001b[0;31mImportError\u001b[0m                               Traceback (most recent call last)",
      "\u001b[0;32m<ipython-input-19-f64d6c3c5dd1>\u001b[0m in \u001b[0;36m<module>\u001b[0;34m\u001b[0m\n\u001b[0;32m----> 1\u001b[0;31m \u001b[0;32mimport\u001b[0m \u001b[0myodapy\u001b[0m\u001b[0;34m\u001b[0m\u001b[0;34m\u001b[0m\u001b[0m\n\u001b[0m",
      "\u001b[0;32m/opt/anaconda3/lib/python3.8/site-packages/yodapy/__init__.py\u001b[0m in \u001b[0;36m<module>\u001b[0;34m\u001b[0m\n\u001b[1;32m      6\u001b[0m )\n\u001b[1;32m      7\u001b[0m \u001b[0;34m\u001b[0m\u001b[0m\n\u001b[0;32m----> 8\u001b[0;31m \u001b[0;32mfrom\u001b[0m \u001b[0myodapy\u001b[0m \u001b[0;32mimport\u001b[0m \u001b[0mdatasources\u001b[0m\u001b[0;34m\u001b[0m\u001b[0;34m\u001b[0m\u001b[0m\n\u001b[0m\u001b[1;32m      9\u001b[0m \u001b[0;34m\u001b[0m\u001b[0m\n\u001b[1;32m     10\u001b[0m \u001b[0;32mfrom\u001b[0m \u001b[0;34m.\u001b[0m\u001b[0m_version\u001b[0m \u001b[0;32mimport\u001b[0m \u001b[0mget_versions\u001b[0m\u001b[0;34m\u001b[0m\u001b[0;34m\u001b[0m\u001b[0m\n",
      "\u001b[0;32m/opt/anaconda3/lib/python3.8/site-packages/yodapy/datasources/__init__.py\u001b[0m in \u001b[0;36m<module>\u001b[0;34m\u001b[0m\n\u001b[1;32m      8\u001b[0m )\n\u001b[1;32m      9\u001b[0m \u001b[0;34m\u001b[0m\u001b[0m\n\u001b[0;32m---> 10\u001b[0;31m \u001b[0;32mfrom\u001b[0m \u001b[0myodapy\u001b[0m\u001b[0;34m.\u001b[0m\u001b[0mdatasources\u001b[0m\u001b[0;34m.\u001b[0m\u001b[0mooi\u001b[0m\u001b[0;34m.\u001b[0m\u001b[0mCAVA\u001b[0m \u001b[0;32mimport\u001b[0m \u001b[0mCAVA\u001b[0m\u001b[0;34m\u001b[0m\u001b[0;34m\u001b[0m\u001b[0m\n\u001b[0m\u001b[1;32m     11\u001b[0m \u001b[0;32mfrom\u001b[0m \u001b[0myodapy\u001b[0m\u001b[0;34m.\u001b[0m\u001b[0mdatasources\u001b[0m\u001b[0;34m.\u001b[0m\u001b[0mooi\u001b[0m\u001b[0;34m.\u001b[0m\u001b[0mOOI\u001b[0m \u001b[0;32mimport\u001b[0m \u001b[0mOOI\u001b[0m  \u001b[0;31m# noqa\u001b[0m\u001b[0;34m\u001b[0m\u001b[0;34m\u001b[0m\u001b[0m\n",
      "\u001b[0;32m/opt/anaconda3/lib/python3.8/site-packages/yodapy/datasources/ooi/__init__.py\u001b[0m in \u001b[0;36m<module>\u001b[0;34m\u001b[0m\n\u001b[0;32m----> 1\u001b[0;31m \u001b[0;32mfrom\u001b[0m \u001b[0myodapy\u001b[0m\u001b[0;34m.\u001b[0m\u001b[0mdatasources\u001b[0m\u001b[0;34m.\u001b[0m\u001b[0mooi\u001b[0m\u001b[0;34m.\u001b[0m\u001b[0mOOI\u001b[0m \u001b[0;32mimport\u001b[0m \u001b[0mOOI\u001b[0m\u001b[0;34m\u001b[0m\u001b[0;34m\u001b[0m\u001b[0m\n\u001b[0m",
      "\u001b[0;32m/opt/anaconda3/lib/python3.8/site-packages/yodapy/datasources/ooi/OOI.py\u001b[0m in \u001b[0;36m<module>\u001b[0;34m\u001b[0m\n\u001b[1;32m     16\u001b[0m \u001b[0;32mimport\u001b[0m \u001b[0mpytz\u001b[0m\u001b[0;34m\u001b[0m\u001b[0;34m\u001b[0m\u001b[0m\n\u001b[1;32m     17\u001b[0m \u001b[0;32mimport\u001b[0m \u001b[0mrequests\u001b[0m\u001b[0;34m\u001b[0m\u001b[0;34m\u001b[0m\u001b[0m\n\u001b[0;32m---> 18\u001b[0;31m \u001b[0;32mimport\u001b[0m \u001b[0ms3fs\u001b[0m\u001b[0;34m\u001b[0m\u001b[0;34m\u001b[0m\u001b[0m\n\u001b[0m\u001b[1;32m     19\u001b[0m \u001b[0;32mimport\u001b[0m \u001b[0murllib3\u001b[0m\u001b[0;34m\u001b[0m\u001b[0;34m\u001b[0m\u001b[0m\n\u001b[1;32m     20\u001b[0m \u001b[0;32mimport\u001b[0m \u001b[0mxarray\u001b[0m \u001b[0;32mas\u001b[0m \u001b[0mxr\u001b[0m\u001b[0;34m\u001b[0m\u001b[0;34m\u001b[0m\u001b[0m\n",
      "\u001b[0;32m/opt/anaconda3/lib/python3.8/site-packages/s3fs/__init__.py\u001b[0m in \u001b[0;36m<module>\u001b[0;34m\u001b[0m\n\u001b[0;32m----> 1\u001b[0;31m \u001b[0;32mfrom\u001b[0m \u001b[0;34m.\u001b[0m\u001b[0mcore\u001b[0m \u001b[0;32mimport\u001b[0m \u001b[0mS3FileSystem\u001b[0m\u001b[0;34m,\u001b[0m \u001b[0mS3File\u001b[0m\u001b[0;34m\u001b[0m\u001b[0;34m\u001b[0m\u001b[0m\n\u001b[0m\u001b[1;32m      2\u001b[0m \u001b[0;32mfrom\u001b[0m \u001b[0;34m.\u001b[0m\u001b[0mmapping\u001b[0m \u001b[0;32mimport\u001b[0m \u001b[0mS3Map\u001b[0m\u001b[0;34m\u001b[0m\u001b[0;34m\u001b[0m\u001b[0m\n\u001b[1;32m      3\u001b[0m \u001b[0;34m\u001b[0m\u001b[0m\n\u001b[1;32m      4\u001b[0m \u001b[0;32mfrom\u001b[0m \u001b[0;34m.\u001b[0m\u001b[0m_version\u001b[0m \u001b[0;32mimport\u001b[0m \u001b[0mget_versions\u001b[0m\u001b[0;34m\u001b[0m\u001b[0;34m\u001b[0m\u001b[0m\n\u001b[1;32m      5\u001b[0m \u001b[0;34m\u001b[0m\u001b[0m\n",
      "\u001b[0;32m/opt/anaconda3/lib/python3.8/site-packages/s3fs/core.py\u001b[0m in \u001b[0;36m<module>\u001b[0;34m\u001b[0m\n\u001b[1;32m      9\u001b[0m \u001b[0;34m\u001b[0m\u001b[0m\n\u001b[1;32m     10\u001b[0m \u001b[0;32mfrom\u001b[0m \u001b[0mfsspec\u001b[0m\u001b[0;34m.\u001b[0m\u001b[0mspec\u001b[0m \u001b[0;32mimport\u001b[0m \u001b[0mAbstractBufferedFile\u001b[0m\u001b[0;34m\u001b[0m\u001b[0;34m\u001b[0m\u001b[0m\n\u001b[0;32m---> 11\u001b[0;31m \u001b[0;32mfrom\u001b[0m \u001b[0mfsspec\u001b[0m\u001b[0;34m.\u001b[0m\u001b[0mutils\u001b[0m \u001b[0;32mimport\u001b[0m \u001b[0minfer_storage_options\u001b[0m\u001b[0;34m,\u001b[0m \u001b[0mtokenize\u001b[0m\u001b[0;34m,\u001b[0m \u001b[0msetup_logging\u001b[0m\u001b[0;34m\u001b[0m\u001b[0;34m\u001b[0m\u001b[0m\n\u001b[0m\u001b[1;32m     12\u001b[0m \u001b[0;32mfrom\u001b[0m \u001b[0mfsspec\u001b[0m\u001b[0;34m.\u001b[0m\u001b[0masyn\u001b[0m \u001b[0;32mimport\u001b[0m \u001b[0mAsyncFileSystem\u001b[0m\u001b[0;34m,\u001b[0m \u001b[0msync\u001b[0m\u001b[0;34m,\u001b[0m \u001b[0msync_wrapper\u001b[0m\u001b[0;34m\u001b[0m\u001b[0;34m\u001b[0m\u001b[0m\n\u001b[1;32m     13\u001b[0m \u001b[0;34m\u001b[0m\u001b[0m\n",
      "\u001b[0;31mImportError\u001b[0m: cannot import name 'setup_logging' from 'fsspec.utils' (/opt/anaconda3/lib/python3.8/site-packages/fsspec/utils.py)"
     ]
    }
   ],
   "source": [
    "import yodapy"
   ]
  },
  {
   "cell_type": "code",
   "execution_count": 6,
   "metadata": {},
   "outputs": [
    {
     "ename": "ImportError",
     "evalue": "cannot import name 'setup_logging' from 'fsspec.utils' (/opt/anaconda3/lib/python3.8/site-packages/fsspec/utils.py)",
     "output_type": "error",
     "traceback": [
      "\u001b[0;31m---------------------------------------------------------------------------\u001b[0m",
      "\u001b[0;31mImportError\u001b[0m                               Traceback (most recent call last)",
      "\u001b[0;32m<ipython-input-6-d2ff1eb04b68>\u001b[0m in \u001b[0;36m<module>\u001b[0;34m\u001b[0m\n\u001b[1;32m      1\u001b[0m \u001b[0;32mimport\u001b[0m \u001b[0mos\u001b[0m\u001b[0;34m\u001b[0m\u001b[0;34m\u001b[0m\u001b[0m\n\u001b[0;32m----> 2\u001b[0;31m \u001b[0;32mfrom\u001b[0m \u001b[0myodapy\u001b[0m\u001b[0;34m.\u001b[0m\u001b[0mdatasources\u001b[0m \u001b[0;32mimport\u001b[0m \u001b[0mOOI\u001b[0m\u001b[0;34m\u001b[0m\u001b[0;34m\u001b[0m\u001b[0m\n\u001b[0m\u001b[1;32m      3\u001b[0m \u001b[0mooi\u001b[0m \u001b[0;34m=\u001b[0m \u001b[0mOOI\u001b[0m\u001b[0;34m(\u001b[0m\u001b[0;34m)\u001b[0m\u001b[0;34m\u001b[0m\u001b[0;34m\u001b[0m\u001b[0m\n\u001b[1;32m      4\u001b[0m \u001b[0;32mfrom\u001b[0m \u001b[0myodapy\u001b[0m\u001b[0;34m.\u001b[0m\u001b[0mutils\u001b[0m\u001b[0;34m.\u001b[0m\u001b[0mcreds\u001b[0m \u001b[0;32mimport\u001b[0m \u001b[0mset_credentials_file\u001b[0m\u001b[0;34m\u001b[0m\u001b[0;34m\u001b[0m\u001b[0m\n",
      "\u001b[0;32m/opt/anaconda3/lib/python3.8/site-packages/yodapy/__init__.py\u001b[0m in \u001b[0;36m<module>\u001b[0;34m\u001b[0m\n\u001b[1;32m      6\u001b[0m )\n\u001b[1;32m      7\u001b[0m \u001b[0;34m\u001b[0m\u001b[0m\n\u001b[0;32m----> 8\u001b[0;31m \u001b[0;32mfrom\u001b[0m \u001b[0myodapy\u001b[0m \u001b[0;32mimport\u001b[0m \u001b[0mdatasources\u001b[0m\u001b[0;34m\u001b[0m\u001b[0;34m\u001b[0m\u001b[0m\n\u001b[0m\u001b[1;32m      9\u001b[0m \u001b[0;34m\u001b[0m\u001b[0m\n\u001b[1;32m     10\u001b[0m \u001b[0;32mfrom\u001b[0m \u001b[0;34m.\u001b[0m\u001b[0m_version\u001b[0m \u001b[0;32mimport\u001b[0m \u001b[0mget_versions\u001b[0m\u001b[0;34m\u001b[0m\u001b[0;34m\u001b[0m\u001b[0m\n",
      "\u001b[0;32m/opt/anaconda3/lib/python3.8/site-packages/yodapy/datasources/__init__.py\u001b[0m in \u001b[0;36m<module>\u001b[0;34m\u001b[0m\n\u001b[1;32m      8\u001b[0m )\n\u001b[1;32m      9\u001b[0m \u001b[0;34m\u001b[0m\u001b[0m\n\u001b[0;32m---> 10\u001b[0;31m \u001b[0;32mfrom\u001b[0m \u001b[0myodapy\u001b[0m\u001b[0;34m.\u001b[0m\u001b[0mdatasources\u001b[0m\u001b[0;34m.\u001b[0m\u001b[0mooi\u001b[0m\u001b[0;34m.\u001b[0m\u001b[0mCAVA\u001b[0m \u001b[0;32mimport\u001b[0m \u001b[0mCAVA\u001b[0m\u001b[0;34m\u001b[0m\u001b[0;34m\u001b[0m\u001b[0m\n\u001b[0m\u001b[1;32m     11\u001b[0m \u001b[0;32mfrom\u001b[0m \u001b[0myodapy\u001b[0m\u001b[0;34m.\u001b[0m\u001b[0mdatasources\u001b[0m\u001b[0;34m.\u001b[0m\u001b[0mooi\u001b[0m\u001b[0;34m.\u001b[0m\u001b[0mOOI\u001b[0m \u001b[0;32mimport\u001b[0m \u001b[0mOOI\u001b[0m  \u001b[0;31m# noqa\u001b[0m\u001b[0;34m\u001b[0m\u001b[0;34m\u001b[0m\u001b[0m\n",
      "\u001b[0;32m/opt/anaconda3/lib/python3.8/site-packages/yodapy/datasources/ooi/__init__.py\u001b[0m in \u001b[0;36m<module>\u001b[0;34m\u001b[0m\n\u001b[0;32m----> 1\u001b[0;31m \u001b[0;32mfrom\u001b[0m \u001b[0myodapy\u001b[0m\u001b[0;34m.\u001b[0m\u001b[0mdatasources\u001b[0m\u001b[0;34m.\u001b[0m\u001b[0mooi\u001b[0m\u001b[0;34m.\u001b[0m\u001b[0mOOI\u001b[0m \u001b[0;32mimport\u001b[0m \u001b[0mOOI\u001b[0m\u001b[0;34m\u001b[0m\u001b[0;34m\u001b[0m\u001b[0m\n\u001b[0m",
      "\u001b[0;32m/opt/anaconda3/lib/python3.8/site-packages/yodapy/datasources/ooi/OOI.py\u001b[0m in \u001b[0;36m<module>\u001b[0;34m\u001b[0m\n\u001b[1;32m     16\u001b[0m \u001b[0;32mimport\u001b[0m \u001b[0mpytz\u001b[0m\u001b[0;34m\u001b[0m\u001b[0;34m\u001b[0m\u001b[0m\n\u001b[1;32m     17\u001b[0m \u001b[0;32mimport\u001b[0m \u001b[0mrequests\u001b[0m\u001b[0;34m\u001b[0m\u001b[0;34m\u001b[0m\u001b[0m\n\u001b[0;32m---> 18\u001b[0;31m \u001b[0;32mimport\u001b[0m \u001b[0ms3fs\u001b[0m\u001b[0;34m\u001b[0m\u001b[0;34m\u001b[0m\u001b[0m\n\u001b[0m\u001b[1;32m     19\u001b[0m \u001b[0;32mimport\u001b[0m \u001b[0murllib3\u001b[0m\u001b[0;34m\u001b[0m\u001b[0;34m\u001b[0m\u001b[0m\n\u001b[1;32m     20\u001b[0m \u001b[0;32mimport\u001b[0m \u001b[0mxarray\u001b[0m \u001b[0;32mas\u001b[0m \u001b[0mxr\u001b[0m\u001b[0;34m\u001b[0m\u001b[0;34m\u001b[0m\u001b[0m\n",
      "\u001b[0;32m/opt/anaconda3/lib/python3.8/site-packages/s3fs/__init__.py\u001b[0m in \u001b[0;36m<module>\u001b[0;34m\u001b[0m\n\u001b[0;32m----> 1\u001b[0;31m \u001b[0;32mfrom\u001b[0m \u001b[0;34m.\u001b[0m\u001b[0mcore\u001b[0m \u001b[0;32mimport\u001b[0m \u001b[0mS3FileSystem\u001b[0m\u001b[0;34m,\u001b[0m \u001b[0mS3File\u001b[0m\u001b[0;34m\u001b[0m\u001b[0;34m\u001b[0m\u001b[0m\n\u001b[0m\u001b[1;32m      2\u001b[0m \u001b[0;32mfrom\u001b[0m \u001b[0;34m.\u001b[0m\u001b[0mmapping\u001b[0m \u001b[0;32mimport\u001b[0m \u001b[0mS3Map\u001b[0m\u001b[0;34m\u001b[0m\u001b[0;34m\u001b[0m\u001b[0m\n\u001b[1;32m      3\u001b[0m \u001b[0;34m\u001b[0m\u001b[0m\n\u001b[1;32m      4\u001b[0m \u001b[0;32mfrom\u001b[0m \u001b[0;34m.\u001b[0m\u001b[0m_version\u001b[0m \u001b[0;32mimport\u001b[0m \u001b[0mget_versions\u001b[0m\u001b[0;34m\u001b[0m\u001b[0;34m\u001b[0m\u001b[0m\n\u001b[1;32m      5\u001b[0m \u001b[0;34m\u001b[0m\u001b[0m\n",
      "\u001b[0;32m/opt/anaconda3/lib/python3.8/site-packages/s3fs/core.py\u001b[0m in \u001b[0;36m<module>\u001b[0;34m\u001b[0m\n\u001b[1;32m      9\u001b[0m \u001b[0;34m\u001b[0m\u001b[0m\n\u001b[1;32m     10\u001b[0m \u001b[0;32mfrom\u001b[0m \u001b[0mfsspec\u001b[0m\u001b[0;34m.\u001b[0m\u001b[0mspec\u001b[0m \u001b[0;32mimport\u001b[0m \u001b[0mAbstractBufferedFile\u001b[0m\u001b[0;34m\u001b[0m\u001b[0;34m\u001b[0m\u001b[0m\n\u001b[0;32m---> 11\u001b[0;31m \u001b[0;32mfrom\u001b[0m \u001b[0mfsspec\u001b[0m\u001b[0;34m.\u001b[0m\u001b[0mutils\u001b[0m \u001b[0;32mimport\u001b[0m \u001b[0minfer_storage_options\u001b[0m\u001b[0;34m,\u001b[0m \u001b[0mtokenize\u001b[0m\u001b[0;34m,\u001b[0m \u001b[0msetup_logging\u001b[0m\u001b[0;34m\u001b[0m\u001b[0;34m\u001b[0m\u001b[0m\n\u001b[0m\u001b[1;32m     12\u001b[0m \u001b[0;32mfrom\u001b[0m \u001b[0mfsspec\u001b[0m\u001b[0;34m.\u001b[0m\u001b[0masyn\u001b[0m \u001b[0;32mimport\u001b[0m \u001b[0mAsyncFileSystem\u001b[0m\u001b[0;34m,\u001b[0m \u001b[0msync\u001b[0m\u001b[0;34m,\u001b[0m \u001b[0msync_wrapper\u001b[0m\u001b[0;34m\u001b[0m\u001b[0;34m\u001b[0m\u001b[0m\n\u001b[1;32m     13\u001b[0m \u001b[0;34m\u001b[0m\u001b[0m\n",
      "\u001b[0;31mImportError\u001b[0m: cannot import name 'setup_logging' from 'fsspec.utils' (/opt/anaconda3/lib/python3.8/site-packages/fsspec/utils.py)"
     ]
    }
   ],
   "source": [
    "import os\n",
    "from yodapy.datasources import OOI\n",
    "ooi = OOI()\n",
    "from yodapy.utils.creds import set_credentials_file"
   ]
  },
  {
   "cell_type": "code",
   "execution_count": 4,
   "metadata": {},
   "outputs": [
    {
     "name": "stdout",
     "output_type": "stream",
     "text": [
      "Directory already exists\n"
     ]
    }
   ],
   "source": [
    "output_dir = 'output'\n",
    "parent_dir = os.getcwd()\n",
    "save_dir = os.path.join(parent_dir, output_dir)\n",
    "\n",
    "try:\n",
    "    os.mkdir(save_dir)\n",
    "except OSError as error:\n",
    "    print('Directory already exists')"
   ]
  },
  {
   "cell_type": "code",
   "execution_count": 5,
   "metadata": {},
   "outputs": [
    {
     "ename": "NameError",
     "evalue": "name 'set_credentials_file' is not defined",
     "output_type": "error",
     "traceback": [
      "\u001b[0;31m---------------------------------------------------------------------------\u001b[0m",
      "\u001b[0;31mNameError\u001b[0m                                 Traceback (most recent call last)",
      "\u001b[0;32m<ipython-input-5-900992ba0522>\u001b[0m in \u001b[0;36m<module>\u001b[0;34m\u001b[0m\n\u001b[1;32m      2\u001b[0m \u001b[0mAPI_USERNAME\u001b[0m \u001b[0;34m=\u001b[0m \u001b[0;34m'OOIAPI-U6ZIZ5UNB1LIMA'\u001b[0m\u001b[0;34m\u001b[0m\u001b[0;34m\u001b[0m\u001b[0m\n\u001b[1;32m      3\u001b[0m \u001b[0mAPI_TOKEN\u001b[0m \u001b[0;34m=\u001b[0m \u001b[0;34m'TEMP-TOKEN-KDQJQSSOHX9X5Q'\u001b[0m\u001b[0;34m\u001b[0m\u001b[0;34m\u001b[0m\u001b[0m\n\u001b[0;32m----> 4\u001b[0;31m \u001b[0mset_credentials_file\u001b[0m\u001b[0;34m(\u001b[0m\u001b[0mdata_source\u001b[0m\u001b[0;34m=\u001b[0m\u001b[0;34m'ooi'\u001b[0m\u001b[0;34m,\u001b[0m \u001b[0musername\u001b[0m\u001b[0;34m=\u001b[0m\u001b[0;34m'OOIAPI-U6ZIZ5UNB1LIMA'\u001b[0m\u001b[0;34m,\u001b[0m \u001b[0mtoken\u001b[0m\u001b[0;34m=\u001b[0m\u001b[0;34m'TEMP-TOKEN-KDQJQSSOHX9X5Q'\u001b[0m\u001b[0;34m)\u001b[0m\u001b[0;34m\u001b[0m\u001b[0;34m\u001b[0m\u001b[0m\n\u001b[0m\u001b[1;32m      5\u001b[0m \u001b[0;34m\u001b[0m\u001b[0m\n\u001b[1;32m      6\u001b[0m \u001b[0;31m# Recomment this line after running it once!\u001b[0m\u001b[0;34m\u001b[0m\u001b[0;34m\u001b[0m\u001b[0;34m\u001b[0m\u001b[0m\n",
      "\u001b[0;31mNameError\u001b[0m: name 'set_credentials_file' is not defined"
     ]
    }
   ],
   "source": [
    "# Remember to obscure your username and token when you're done!!!\n",
    "API_USERNAME = 'OOIAPI-U6ZIZ5UNB1LIMA'\n",
    "API_TOKEN = 'TEMP-TOKEN-KDQJQSSOHX9X5Q'\n",
    "set_credentials_file(data_source='ooi', username='OOIAPI-U6ZIZ5UNB1LIMA', token='TEMP-TOKEN-KDQJQSSOHX9X5Q')\n",
    "\n",
    "# Recomment this line after running it once! \n",
    "# Running it twice will break your credentials! "
   ]
  },
  {
   "cell_type": "code",
   "execution_count": null,
   "metadata": {},
   "outputs": [],
   "source": []
  }
 ],
 "metadata": {
  "kernelspec": {
   "display_name": "Python 3",
   "language": "python",
   "name": "python3"
  },
  "language_info": {
   "codemirror_mode": {
    "name": "ipython",
    "version": 3
   },
   "file_extension": ".py",
   "mimetype": "text/x-python",
   "name": "python",
   "nbconvert_exporter": "python",
   "pygments_lexer": "ipython3",
   "version": "3.8.5"
  }
 },
 "nbformat": 4,
 "nbformat_minor": 4
}
