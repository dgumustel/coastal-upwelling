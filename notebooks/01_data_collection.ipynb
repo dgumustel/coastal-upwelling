{
 "cells": [
  {
   "cell_type": "markdown",
   "metadata": {},
   "source": [
    "# Data Collection\n",
    "---"
   ]
  },
  {
   "cell_type": "markdown",
   "metadata": {},
   "source": [
    "For this project, I'm building a model to identify periods of coastal upwelling off the coast of Oregon using data collected by the Ocean Observatories Initiatve (OOI). I intend to use environmental variables, such as seawater temperature, salinity, and dissolved oxygen, as features in a classification model, and I'll be labeling my target variable using the CUTI upwelling index. The OOI has several instrument packages off the Washington and Oregon coasts; for this project, I'll be focusing on the Oregon Offshore location, located offshore from Newport, Oregon. The instrument packages found here include a surface mooring that has a bulk meteorology package, a shallow profiler that collects data in the upper ~200 meters of the water column, a stationary platform located at a depth of 200 meters, and a deep profiler that collects data in the lower portion of the water column."
   ]
  },
  {
   "cell_type": "code",
   "execution_count": 1,
   "metadata": {},
   "outputs": [],
   "source": [
    "# Imports\n",
    "import numpy as np\n",
    "import sys, os\n",
    "import xarray as xr\n",
    "import pandas as pd\n",
    "import cmocean.cm as cmo\n",
    "import requests\n",
    "import re\n",
    "import datetime as dt\n",
    "import seaborn as sns\n",
    "\n",
    "from netCDF4 import Dataset, num2date, date2num \n",
    "from datetime import datetime, timedelta\n",
    "from numpy import datetime64 as dt64, timedelta64 as td64\n",
    "from matplotlib import pyplot as plt"
   ]
  },
  {
   "cell_type": "markdown",
   "metadata": {},
   "source": [
    "### OOI API\n",
    "\n",
    "In order to run this notebook, you'll need to set up an account with the OOI and get a username and temporary token to use for data requests. You can do this here: https://ooinet.oceanobservatories.org/.\n",
    "\n",
    "Once you've made an account, copy and paste your username and token into the cell below. "
   ]
  },
  {
   "cell_type": "code",
   "execution_count": 2,
   "metadata": {},
   "outputs": [],
   "source": [
    "# enter your OOI API username and token \n",
    "API_USERNAME = 'OOIAPI-xx'          # this will be similar to U6ZIZ5UNB1LIMA\n",
    "API_TOKEN = 'xx'                    # this will be similar to VUO6PXYMNLE"
   ]
  },
  {
   "cell_type": "markdown",
   "metadata": {},
   "source": [
    "Make sure you don't upload your API username and token combination to a public repository! If you accidentally do, you can go to the OOI website and get a new token - do this as soon as possible to prevent your credentials being used without your consent."
   ]
  },
  {
   "cell_type": "markdown",
   "metadata": {},
   "source": [
    "---\n",
    "### Create output directory"
   ]
  },
  {
   "cell_type": "markdown",
   "metadata": {},
   "source": [
    "Set up an output directory to store the data pulled by this notebook - these files are fairly large, so they won't be saved to this repository. Instead, they'll be stored in a directory called `coastal_upwelling_output` that will be parallel to this repository on your local machine."
   ]
  },
  {
   "cell_type": "code",
   "execution_count": 3,
   "metadata": {},
   "outputs": [
    {
     "name": "stdout",
     "output_type": "stream",
     "text": [
      "Data will be stored in C:\\Users\\Derya\\Documents\\GitHub\\coastal_upwelling_output.\n"
     ]
    }
   ],
   "source": [
    "parent_dir = os.path.dirname(os.getcwd())\n",
    "grandparent_dir = os.path.dirname(parent_dir)\n",
    "output_dir = os.path.join(grandparent_dir, 'coastal_upwelling_output')\n",
    "\n",
    "try:\n",
    "    os.mkdir(output_dir)\n",
    "except OSError as error:\n",
    "    pass\n",
    "\n",
    "print(f'Data will be stored in {output_dir}.')"
   ]
  },
  {
   "cell_type": "markdown",
   "metadata": {},
   "source": [
    "---\n",
    "### Pull data \n",
    "\n",
    "Start by looking at just a small selection of the data available:\n",
    "* pull data from the Oregon Offshore location (CE04)\n",
    "* use the surface mooring, 200m platform, and shallow profiler\n",
    "* was going to start with March-June 2017 but ended up pulling data for all of 2017\n",
    "* 2017 had poor continuity for the shallow profiler, so I also ended up pulling data for all of 2018"
   ]
  },
  {
   "cell_type": "markdown",
   "metadata": {},
   "source": [
    "The following two functions were provided by the OOI for requesting and downloading data.\n",
    "\n",
    "`request_data` takes your API username and temporary token and inputs a request for data from the OOI. This function returns the URL where your requested data is stored, but the URl is not populated right away because these requests take time, especially if you request an entire year's worth of data! If you pass these URLs to the `get_data` function right away, you might get nothing but errors because the data isn't ready yet. When it is ready, you'll get an email notification with the same URL in it as is returned by the `request_data` function. Then you'll know it's time to run the next function!\n",
    "\n",
    "The URLs don't expire so you can keep using them if you get the data but don't save it locally to your machine, which I highyl recommend doing. I've saved all the data requests I've done in the file `data_urls.txt` for use again later."
   ]
  },
  {
   "cell_type": "code",
   "execution_count": 4,
   "metadata": {
    "colab": {},
    "colab_type": "code",
    "id": "B8cTVmt5mhsA"
   },
   "outputs": [],
   "source": [
    "def request_data(reference_designator, method, stream, start_date=None, end_date=None):\n",
    "    site = reference_designator[:8]\n",
    "    node = reference_designator[9:14]\n",
    "    instrument = reference_designator[15:]\n",
    "\n",
    "    # Create the request URL\n",
    "    api_base_url = 'https://ooinet.oceanobservatories.org/api/m2m/12576/sensor/inv'\n",
    "    data_request_url = '/'.join((api_base_url, site, node, instrument, method, stream))\n",
    "    print(data_request_url)\n",
    "    # All of the following are optional, but you should specify a date range\n",
    "    params = {\n",
    "        'format': 'application/netcdf',\n",
    "        'include_provenance': 'true',\n",
    "        'include_annotations': 'true'\n",
    "    }\n",
    "    if start_date:\n",
    "        params['beginDT'] = start_date\n",
    "    if end_date:\n",
    "        params['endDT'] = end_date\n",
    "\n",
    "    # Make the data request\n",
    "    r = requests.get(data_request_url, params=params, auth=(API_USERNAME, API_TOKEN))\n",
    "    data = r.json()\n",
    "\n",
    "    # Return just the THREDDS URL\n",
    "    return data['allURLs'][0]"
   ]
  },
  {
   "cell_type": "markdown",
   "metadata": {},
   "source": [
    "`get_data` accesses the URLs provided by the `request_data` function and accesses the .nc folders and OPeNDAP server data files. These files are the standard .netCDF file type, and are initially accessed using xarray, but this function returns them to you as a pandas dataframe. Running `get_data` can take a while if you are getting a lot of data at once. "
   ]
  },
  {
   "cell_type": "code",
   "execution_count": 5,
   "metadata": {
    "colab": {},
    "colab_type": "code",
    "id": "CIvFhvqdgBni"
   },
   "outputs": [],
   "source": [
    "def get_data(url, variables, deployments=None):\n",
    "    # Function to grab all data from specified directory\n",
    "    tds_url = 'https://opendap.oceanobservatories.org/thredds/dodsC'\n",
    "    dataset = requests.get(url).text\n",
    "    ii = re.findall(r'href=[\\'\"]?([^\\'\" >]+)', dataset)\n",
    "    # x = re.findall(r'(ooi/.*?.nc)', dataset)\n",
    "    x = [y for y in ii if y.endswith('.nc')]\n",
    "    for i in x:\n",
    "        if i.endswith('.nc') == False:\n",
    "            x.remove(i)\n",
    "    for i in x:\n",
    "        try:\n",
    "            float(i[-4])\n",
    "        except:\n",
    "            x.remove(i)\n",
    "    # dataset = [os.path.join(tds_url, i) for i in x]\n",
    "    datasets = [os.path.join(tds_url, i.split('=')[-1]).replace(\"\\\\\",\"/\") for i in x]\n",
    "\n",
    "    # remove deployments not in deployment list, if given\n",
    "    if deployments is not None:\n",
    "        deploy = ['deployment{:04d}'.format(j) for j in deployments]\n",
    "        datasets = [k for k in datasets if k.split('/')[-1].split('_')[0] in deploy]\n",
    "\n",
    "    # remove collocated data files if necessary\n",
    "    catalog_rms = url.split('/')[-2][20:]\n",
    "    selected_datasets = []\n",
    "    for d in datasets:\n",
    "        if catalog_rms == d.split('/')[-1].split('_20')[0][15:]:\n",
    "            selected_datasets.append(d)\n",
    "\n",
    "    # create a dictionary to populate with data from the selected datasets\n",
    "    data_dict = {'time': np.array([], dtype='datetime64[ns]')}\n",
    "    unit_dict = {}\n",
    "    for v in variables:\n",
    "        data_dict.update({v: np.array([])})\n",
    "        unit_dict.update({v: []})\n",
    "    print('Appending data from files')\n",
    "\n",
    "    for sd in selected_datasets:\n",
    "        try:\n",
    "            url_with_fillmismatch = f'{sd}#fillmismatch'  # I had to add this line to get the function to work\n",
    "            ds = xr.open_dataset(url_with_fillmismatch, mask_and_scale=False)\n",
    "            data_dict['time'] = np.append(data_dict['time'], ds['time'].values)\n",
    "            for var in variables:\n",
    "                data_dict[var] = np.append(data_dict[var], ds[var].values)\n",
    "                units = ds[var].units\n",
    "                if units not in unit_dict[var]:\n",
    "                    unit_dict[var].append(units)\n",
    "        except:\n",
    "            pass\n",
    "\n",
    "    # convert dictionary to a dataframe\n",
    "    df = pd.DataFrame(data_dict)\n",
    "    df.sort_values(by=['time'], inplace=True)  # make sure the timestamps are in ascending order\n",
    "\n",
    "    return df, unit_dict"
   ]
  },
  {
   "cell_type": "markdown",
   "metadata": {},
   "source": [
    "You can uncomment the three cells below and run the requests, but you'll need to have entered your own API credentials near the start of the notebook. You only need to run the requests once, because the resulting URLs don't expire. However, requesting a full year's worth of data takes several minutes! The cells below will output a URL right away, but the `get_data()` function won't work until the request is actually fulfilled - you'll get an email from the OOI when your request is completed, and then you'll be able to continue."
   ]
  },
  {
   "cell_type": "code",
   "execution_count": 6,
   "metadata": {
    "colab": {},
    "colab_type": "code",
    "id": "GDx1obDmm11u"
   },
   "outputs": [],
   "source": [
    "# Request data from the bulk meteorology package on the surface mooring\n",
    "\n",
    "# METBK_url = request_data('CE04OSSM-SBD11-06-METBKA000', 'recovered_host', \n",
    "#                          'metbk_a_dcl_instrument_recovered',\n",
    "#                          '2017-01-01T00:00:00.000Z', '2017-12-31T12:00:00.000Z')\n",
    "# print('METBK_url: %s' %METBK_url)"
   ]
  },
  {
   "cell_type": "code",
   "execution_count": 7,
   "metadata": {
    "colab": {},
    "colab_type": "code",
    "id": "GDx1obDmm11u"
   },
   "outputs": [],
   "source": [
    "# Request data from the CTD-O on the shallow profiler\n",
    "\n",
    "# profiler_url = request_data('CE04OSPS-PC01B-4A-CTDPFA109', 'streamed', 'ctdpf_sbe43_sample',\n",
    "#                         '2017-01-01T00:00:00.000Z', '2017-12-31T12:00:00.000Z')\n",
    "# print('profiler_url: %s' %profiler_url)"
   ]
  },
  {
   "cell_type": "code",
   "execution_count": 8,
   "metadata": {},
   "outputs": [],
   "source": [
    "# Request data from the CTD-O on the 200 meter platform\n",
    "\n",
    "# platform_url = request_data('CE04OSPS-PC01B-4A-CTDPFA109', 'streamed', \n",
    "#                          'ctdpf_optode_sample',\n",
    "#                          '2017-01-01T00:00:00.000Z', '2017-12-31T12:00:00.000Z')\n",
    "# print('platform_url: %s' %platform_url)"
   ]
  },
  {
   "cell_type": "markdown",
   "metadata": {},
   "source": [
    "Since I used my own credentials to get these URLs, I'm not sure they'll work for you. You may need to enter your own credentials, run the `request_data()` cells above, and replace the URLs below with the output.\n",
    "\n",
    "Here are three URLs that have data for the year 2017. We can use these to load in data files. Putting these URLs into your browser window will bring you to the OPeNDAP server where you can see variable names and descriptions. There are a lot of folders to navigate through, but [here](https://opendap.oceanobservatories.org/thredds/dodsC/ooi/deryag@uw.edu/20210422T030848056Z-CE04OSPS-SF01B-2A-CTDPFA107-streamed-ctdpf_sbe43_sample/deployment0004_CE04OSPS-SF01B-2A-CTDPFA107-streamed-ctdpf_sbe43_sample_20170801T160709.510843-20170916T121340.481090.nc.html) is an example of the CTD data, and [here](https://opendap.oceanobservatories.org/thredds/dodsC/ooi/deryag@uw.edu/20210422T030752259Z-CE04OSSM-SBD11-06-METBKA000-recovered_host-metbk_a_dcl_instrument_recovered/deployment0006_CE04OSSM-SBD11-04-VELPTA000-recovered_host-velpt_ab_dcl_instrument_recovered_20180403T183000-20180403T183000.nc.html) is an example of the METBK data. You can navigate to these examples by using the URLs below, selecting a .nc folder, and then clicking on the OPeNDAP link. "
   ]
  },
  {
   "cell_type": "code",
   "execution_count": 9,
   "metadata": {
    "colab": {},
    "colab_type": "code",
    "id": "_zkTLF5gtPZx"
   },
   "outputs": [],
   "source": [
    "METBK_2017_url = 'https://opendap.oceanobservatories.org/thredds/catalog/ooi/deryag@uw.edu/20210422T030752259Z-CE04OSSM-SBD11-06-METBKA000-recovered_host-metbk_a_dcl_instrument_recovered/catalog.html'\n",
    "profiler_2017_url = 'https://opendap.oceanobservatories.org/thredds/catalog/ooi/deryag@uw.edu/20210422T030848056Z-CE04OSPS-SF01B-2A-CTDPFA107-streamed-ctdpf_sbe43_sample/catalog.html'\n",
    "platform_2017_url = 'https://opendap.oceanobservatories.org/thredds/catalog/ooi/deryag@uw.edu/20210428T021551666Z-CE04OSPS-PC01B-4A-CTDPFA109-streamed-ctdpf_optode_sample/catalog.html'"
   ]
  },
  {
   "cell_type": "markdown",
   "metadata": {},
   "source": [
    "### Get 2017 data"
   ]
  },
  {
   "cell_type": "markdown",
   "metadata": {},
   "source": [
    "Time to actually get the data! The `get_data` function returns a pandas dataframe, so if you'd rather use xarray you can convert the resulting dataframe to a data array or alter the `get_data` function to return xarray data array. "
   ]
  },
  {
   "cell_type": "code",
   "execution_count": 10,
   "metadata": {},
   "outputs": [],
   "source": [
    "# Specify the variable(s) of interest\n",
    "METBK_2017_var = ['sea_surface_temperature', 'met_windavg_mag_corr_east', 'met_windavg_mag_corr_north']\n",
    "profiler_2017_var = ['seawater_pressure', 'density', 'practical_salinity', 'seawater_temperature', 'corrected_dissolved_oxygen']\n",
    "platform_2017_var = ['seawater_pressure', 'density', 'practical_salinity', 'seawater_temperature', 'dissolved_oxygen']"
   ]
  },
  {
   "cell_type": "markdown",
   "metadata": {},
   "source": [
    "The cell below takes a few minutes to run because the datasets we're getting from the OOI are quite large!"
   ]
  },
  {
   "cell_type": "code",
   "execution_count": 11,
   "metadata": {
    "colab": {},
    "colab_type": "code",
    "id": "L4dTLdWxgDU4"
   },
   "outputs": [
    {
     "name": "stdout",
     "output_type": "stream",
     "text": [
      "Appending data from files\n",
      "Appending data from files\n",
      "Appending data from files\n",
      "{'sea_surface_temperature': ['ºC'], 'met_windavg_mag_corr_east': ['m s-1'], 'met_windavg_mag_corr_north': ['m s-1']}\n",
      "{'seawater_pressure': ['dbar'], 'density': ['kg m-3'], 'practical_salinity': ['1'], 'seawater_temperature': ['ºC'], 'corrected_dissolved_oxygen': ['µmol kg-1']}\n",
      "{'seawater_pressure': ['dbar'], 'density': ['kg m-3'], 'practical_salinity': ['1'], 'seawater_temperature': ['ºC'], 'dissolved_oxygen': ['µmol kg-1']}\n"
     ]
    }
   ],
   "source": [
    "# Get the data! \n",
    "METBK_2017_data, METBK_2017_units = get_data(METBK_2017_url, METBK_2017_var)\n",
    "profiler_2017_data, profiler_2017_units = get_data(profiler_2017_url, profiler_2017_var)\n",
    "platform_2017_data, platform_2017_units = get_data(platform_2017_url, platform_2017_var)\n",
    "\n",
    "# Check the variable units\n",
    "print(METBK_2017_units)\n",
    "print(profiler_2017_units)\n",
    "print(platform_2017_units)"
   ]
  },
  {
   "cell_type": "code",
   "execution_count": 12,
   "metadata": {},
   "outputs": [],
   "source": [
    "# Save the unit dictionaries above in case you accidentally overwrite the output: \n",
    "\n",
    "METBK_2017_units = {'sea_surface_temperature': ['ºC'], 'met_windavg_mag_corr_east': ['m s-1'], 'met_windavg_mag_corr_north': ['m s-1']}\n",
    "profiler_2017_units = {'seawater_pressure': ['dbar'], 'density': ['kg m-3'], 'practical_salinity': ['1'], 'seawater_temperature': ['ºC'], 'corrected_dissolved_oxygen': ['µmol kg-1']}\n",
    "platform_2017_units = {'seawater_pressure': ['dbar'], 'density': ['kg m-3'], 'practical_salinity': ['1'], 'seawater_temperature': ['ºC'], 'dissolved_oxygen': ['µmol kg-1']}"
   ]
  },
  {
   "cell_type": "markdown",
   "metadata": {},
   "source": [
    "Save these data files as `.csv`s so we can use them in the rest of the notebooks. This will take a few minutes! "
   ]
  },
  {
   "cell_type": "code",
   "execution_count": 13,
   "metadata": {
    "tags": []
   },
   "outputs": [],
   "source": [
    "# Save 2017 dataframes to the output folder parallel to this GitHub repo \n",
    "\n",
    "METBK_2017_data.to_csv('../../coastal_upwelling_output/metbk_data_2017.csv', index=False)\n",
    "profiler_2017_data.to_csv('../../coastal_upwelling_output/profiler_data_2017.csv', index=False)\n",
    "platform_2017_data.to_csv('../../coastal_upwelling_output/platform_data_2017.csv', index=False)"
   ]
  },
  {
   "cell_type": "markdown",
   "metadata": {},
   "source": [
    "---\n",
    "### Get 2018 data"
   ]
  },
  {
   "cell_type": "markdown",
   "metadata": {},
   "source": [
    "The data availability in 2017 wasn't very good for the shallow profiler (it spent quite a number of months stuck near 200 meters), so I want to pull in the 2018 data to see if it's any better. The code below is all the same as the code above - the only differences are the dates that I used in the data requests. "
   ]
  },
  {
   "cell_type": "code",
   "execution_count": 15,
   "metadata": {
    "colab": {},
    "colab_type": "code",
    "id": "GDx1obDmm11u"
   },
   "outputs": [
    {
     "name": "stdout",
     "output_type": "stream",
     "text": [
      "https://ooinet.oceanobservatories.org/api/m2m/12576/sensor/inv/CE04OSSM/SBD11/06-METBKA000/recovered_host/metbk_a_dcl_instrument_recovered\n",
      "METBK_url: https://opendap.oceanobservatories.org/thredds/catalog/ooi/deryag@uw.edu/20210502T005210982Z-CE04OSSM-SBD11-06-METBKA000-recovered_host-metbk_a_dcl_instrument_recovered/catalog.html\n"
     ]
    }
   ],
   "source": [
    "# METBK_url = request_data('CE04OSSM-SBD11-06-METBKA000', 'recovered_host', \n",
    "#                          'metbk_a_dcl_instrument_recovered',\n",
    "#                          '2018-01-01T00:00:00.000Z', '2018-12-31T12:00:00.000Z')\n",
    "# print('METBK_url: %s' %METBK_url)"
   ]
  },
  {
   "cell_type": "code",
   "execution_count": 16,
   "metadata": {
    "colab": {},
    "colab_type": "code",
    "id": "GDx1obDmm11u"
   },
   "outputs": [
    {
     "name": "stdout",
     "output_type": "stream",
     "text": [
      "https://ooinet.oceanobservatories.org/api/m2m/12576/sensor/inv/CE04OSPS/SF01B/2A-CTDPFA107/streamed/ctdpf_sbe43_sample\n",
      "profiler_url: https://opendap.oceanobservatories.org/thredds/catalog/ooi/deryag@uw.edu/20210502T005211652Z-CE04OSPS-SF01B-2A-CTDPFA107-streamed-ctdpf_sbe43_sample/catalog.html\n"
     ]
    }
   ],
   "source": [
    "# profiler_url = request_data('CE04OSPS-SF01B-2A-CTDPFA107', 'streamed', 'ctdpf_sbe43_sample',\n",
    "#                         '2018-01-01T00:00:00.000Z', '2018-12-31T12:00:00.000Z')\n",
    "\n",
    "# print('profiler_url: %s' %profiler_url)"
   ]
  },
  {
   "cell_type": "code",
   "execution_count": 17,
   "metadata": {},
   "outputs": [
    {
     "name": "stdout",
     "output_type": "stream",
     "text": [
      "https://ooinet.oceanobservatories.org/api/m2m/12576/sensor/inv/CE04OSPS/PC01B/4A-CTDPFA109/streamed/ctdpf_optode_sample\n",
      "platform_url: https://opendap.oceanobservatories.org/thredds/catalog/ooi/deryag@uw.edu/20210502T005215562Z-CE04OSPS-PC01B-4A-CTDPFA109-streamed-ctdpf_optode_sample/catalog.html\n"
     ]
    }
   ],
   "source": [
    "# platform_url = request_data('CE04OSPS-PC01B-4A-CTDPFA109', 'streamed', \n",
    "#                          'ctdpf_optode_sample',\n",
    "#                          '2018-01-01T00:00:00.000Z', '2018-12-31T12:00:00.000Z')\n",
    "# print('platform_url: %s' %platform_url)"
   ]
  },
  {
   "cell_type": "markdown",
   "metadata": {},
   "source": [
    "Again, all of these URLs and their associated `request_data` inputs are saved in the `data_urls.txt` file in the repo in case you lose them."
   ]
  },
  {
   "cell_type": "code",
   "execution_count": 16,
   "metadata": {
    "colab": {},
    "colab_type": "code",
    "id": "_zkTLF5gtPZx"
   },
   "outputs": [],
   "source": [
    "METBK_2018_url = 'https://opendap.oceanobservatories.org/thredds/catalog/ooi/deryag@uw.edu/20210502T005210982Z-CE04OSSM-SBD11-06-METBKA000-recovered_host-metbk_a_dcl_instrument_recovered/catalog.html'\n",
    "profiler_2018_url = 'https://opendap.oceanobservatories.org/thredds/catalog/ooi/deryag@uw.edu/20210502T005211652Z-CE04OSPS-SF01B-2A-CTDPFA107-streamed-ctdpf_sbe43_sample/catalog.html'\n",
    "platform_2018_url = 'https://opendap.oceanobservatories.org/thredds/catalog/ooi/deryag@uw.edu/20210502T005215562Z-CE04OSPS-PC01B-4A-CTDPFA109-streamed-ctdpf_optode_sample/catalog.html'"
   ]
  },
  {
   "cell_type": "code",
   "execution_count": 17,
   "metadata": {},
   "outputs": [],
   "source": [
    "# Specify the variable(s) of interest\n",
    "METBK_2018_var = ['sea_surface_temperature', 'met_windavg_mag_corr_east', 'met_windavg_mag_corr_north']\n",
    "profiler_2018_var = ['seawater_pressure', 'density', 'practical_salinity', 'seawater_temperature', 'corrected_dissolved_oxygen']\n",
    "platform_2018_var = ['seawater_pressure', 'density', 'practical_salinity', 'seawater_temperature', 'dissolved_oxygen']"
   ]
  },
  {
   "cell_type": "markdown",
   "metadata": {},
   "source": [
    "For some reason, the platform data was throwing an error in the `get_data()` function for one of the `.nc` files, so I had to go back and add a try/except block to it. This means the platform data collected by this code may not be all of the data available, but I'm not sure what's causing that to happen."
   ]
  },
  {
   "cell_type": "code",
   "execution_count": 18,
   "metadata": {
    "colab": {},
    "colab_type": "code",
    "id": "L4dTLdWxgDU4"
   },
   "outputs": [
    {
     "name": "stdout",
     "output_type": "stream",
     "text": [
      "Appending data from files\n",
      "Appending data from files\n",
      "Appending data from files\n",
      "{'sea_surface_temperature': ['ºC'], 'met_windavg_mag_corr_east': ['m s-1'], 'met_windavg_mag_corr_north': ['m s-1']}\n",
      "{'seawater_pressure': ['dbar'], 'density': ['kg m-3'], 'practical_salinity': ['1'], 'seawater_temperature': ['ºC'], 'corrected_dissolved_oxygen': ['µmol kg-1']}\n",
      "{'seawater_pressure': ['dbar'], 'density': ['kg m-3'], 'practical_salinity': ['1'], 'seawater_temperature': ['ºC'], 'dissolved_oxygen': ['µmol kg-1']}\n"
     ]
    }
   ],
   "source": [
    "# get the data! \n",
    "METBK_data_2018, METBK_2018_units = get_data(METBK_2018_url, METBK_2018_var)\n",
    "profiler_data_2018, profiler_2018_units = get_data(profiler_2018_url, profiler_2018_var)\n",
    "platform_data_2018, platform_2018_units = get_data(platform_2018_url, platform_2018_var)\n",
    "\n",
    "# check the variable units\n",
    "print(METBK_2018_units)\n",
    "print(profiler_2018_units)\n",
    "print(platform_2018_units)"
   ]
  },
  {
   "cell_type": "code",
   "execution_count": 24,
   "metadata": {},
   "outputs": [],
   "source": [
    "# Save the unit dictionaries above in case you accidentally overwrite the output: \n",
    "\n",
    "METBK_2018_units = {'sea_surface_temperature': ['ºC'], 'met_windavg_mag_corr_east': ['m s-1'], 'met_windavg_mag_corr_north': ['m s-1']}\n",
    "profiler_2018_units = {'seawater_pressure': ['dbar'], 'density': ['kg m-3'], 'practical_salinity': ['1'], 'seawater_temperature': ['ºC'], 'corrected_dissolved_oxygen': ['µmol kg-1']}\n",
    "platform_2018_units = {'seawater_pressure': ['dbar'], 'density': ['kg m-3'], 'practical_salinity': ['1'], 'seawater_temperature': ['ºC'], 'dissolved_oxygen': ['µmol kg-1']}"
   ]
  },
  {
   "cell_type": "code",
   "execution_count": 19,
   "metadata": {
    "collapsed": true,
    "jupyter": {
     "outputs_hidden": true
    },
    "tags": []
   },
   "outputs": [
    {
     "data": {
      "text/html": [
       "<div>\n",
       "<style scoped>\n",
       "    .dataframe tbody tr th:only-of-type {\n",
       "        vertical-align: middle;\n",
       "    }\n",
       "\n",
       "    .dataframe tbody tr th {\n",
       "        vertical-align: top;\n",
       "    }\n",
       "\n",
       "    .dataframe thead th {\n",
       "        text-align: right;\n",
       "    }\n",
       "</style>\n",
       "<table border=\"1\" class=\"dataframe\">\n",
       "  <thead>\n",
       "    <tr style=\"text-align: right;\">\n",
       "      <th></th>\n",
       "      <th>time</th>\n",
       "      <th>sea_surface_temperature</th>\n",
       "      <th>met_windavg_mag_corr_east</th>\n",
       "      <th>met_windavg_mag_corr_north</th>\n",
       "    </tr>\n",
       "  </thead>\n",
       "  <tbody>\n",
       "    <tr>\n",
       "      <th>122325</th>\n",
       "      <td>2018-04-03 18:26:39.426999808</td>\n",
       "      <td>10.135</td>\n",
       "      <td>-1.700006</td>\n",
       "      <td>-1.983426</td>\n",
       "    </tr>\n",
       "    <tr>\n",
       "      <th>122326</th>\n",
       "      <td>2018-04-03 18:27:43.659999744</td>\n",
       "      <td>10.136</td>\n",
       "      <td>-2.854736</td>\n",
       "      <td>-2.457026</td>\n",
       "    </tr>\n",
       "    <tr>\n",
       "      <th>122327</th>\n",
       "      <td>2018-04-03 18:28:48.444000256</td>\n",
       "      <td>10.141</td>\n",
       "      <td>-1.223021</td>\n",
       "      <td>-2.973268</td>\n",
       "    </tr>\n",
       "    <tr>\n",
       "      <th>122328</th>\n",
       "      <td>2018-04-03 18:29:52.679000064</td>\n",
       "      <td>10.141</td>\n",
       "      <td>-2.237504</td>\n",
       "      <td>-2.168889</td>\n",
       "    </tr>\n",
       "    <tr>\n",
       "      <th>122329</th>\n",
       "      <td>2018-04-03 18:30:27.203999744</td>\n",
       "      <td>10.136</td>\n",
       "      <td>-1.361928</td>\n",
       "      <td>-2.531334</td>\n",
       "    </tr>\n",
       "    <tr>\n",
       "      <th>...</th>\n",
       "      <td>...</td>\n",
       "      <td>...</td>\n",
       "      <td>...</td>\n",
       "      <td>...</td>\n",
       "    </tr>\n",
       "    <tr>\n",
       "      <th>122320</th>\n",
       "      <td>2018-12-31 09:35:21.017000448</td>\n",
       "      <td>11.750</td>\n",
       "      <td>2.496349</td>\n",
       "      <td>-6.370490</td>\n",
       "    </tr>\n",
       "    <tr>\n",
       "      <th>122321</th>\n",
       "      <td>2018-12-31 09:36:26.114000384</td>\n",
       "      <td>11.751</td>\n",
       "      <td>1.183581</td>\n",
       "      <td>-7.435216</td>\n",
       "    </tr>\n",
       "    <tr>\n",
       "      <th>122322</th>\n",
       "      <td>2018-12-31 09:37:30.170999808</td>\n",
       "      <td>11.758</td>\n",
       "      <td>2.250494</td>\n",
       "      <td>-7.588503</td>\n",
       "    </tr>\n",
       "    <tr>\n",
       "      <th>122323</th>\n",
       "      <td>2018-12-31 09:38:37.085000192</td>\n",
       "      <td>11.753</td>\n",
       "      <td>2.812786</td>\n",
       "      <td>-6.963421</td>\n",
       "    </tr>\n",
       "    <tr>\n",
       "      <th>122324</th>\n",
       "      <td>2018-12-31 09:39:38.632000000</td>\n",
       "      <td>11.762</td>\n",
       "      <td>3.301284</td>\n",
       "      <td>-8.607492</td>\n",
       "    </tr>\n",
       "  </tbody>\n",
       "</table>\n",
       "<p>310067 rows × 4 columns</p>\n",
       "</div>"
      ],
      "text/plain": [
       "                                time  sea_surface_temperature  \\\n",
       "122325 2018-04-03 18:26:39.426999808                   10.135   \n",
       "122326 2018-04-03 18:27:43.659999744                   10.136   \n",
       "122327 2018-04-03 18:28:48.444000256                   10.141   \n",
       "122328 2018-04-03 18:29:52.679000064                   10.141   \n",
       "122329 2018-04-03 18:30:27.203999744                   10.136   \n",
       "...                              ...                      ...   \n",
       "122320 2018-12-31 09:35:21.017000448                   11.750   \n",
       "122321 2018-12-31 09:36:26.114000384                   11.751   \n",
       "122322 2018-12-31 09:37:30.170999808                   11.758   \n",
       "122323 2018-12-31 09:38:37.085000192                   11.753   \n",
       "122324 2018-12-31 09:39:38.632000000                   11.762   \n",
       "\n",
       "        met_windavg_mag_corr_east  met_windavg_mag_corr_north  \n",
       "122325                  -1.700006                   -1.983426  \n",
       "122326                  -2.854736                   -2.457026  \n",
       "122327                  -1.223021                   -2.973268  \n",
       "122328                  -2.237504                   -2.168889  \n",
       "122329                  -1.361928                   -2.531334  \n",
       "...                           ...                         ...  \n",
       "122320                   2.496349                   -6.370490  \n",
       "122321                   1.183581                   -7.435216  \n",
       "122322                   2.250494                   -7.588503  \n",
       "122323                   2.812786                   -6.963421  \n",
       "122324                   3.301284                   -8.607492  \n",
       "\n",
       "[310067 rows x 4 columns]"
      ]
     },
     "execution_count": 19,
     "metadata": {},
     "output_type": "execute_result"
    }
   ],
   "source": [
    "METBK_data_2018"
   ]
  },
  {
   "cell_type": "code",
   "execution_count": 20,
   "metadata": {
    "collapsed": true,
    "jupyter": {
     "outputs_hidden": true
    },
    "tags": []
   },
   "outputs": [
    {
     "data": {
      "text/html": [
       "<div>\n",
       "<style scoped>\n",
       "    .dataframe tbody tr th:only-of-type {\n",
       "        vertical-align: middle;\n",
       "    }\n",
       "\n",
       "    .dataframe tbody tr th {\n",
       "        vertical-align: top;\n",
       "    }\n",
       "\n",
       "    .dataframe thead th {\n",
       "        text-align: right;\n",
       "    }\n",
       "</style>\n",
       "<table border=\"1\" class=\"dataframe\">\n",
       "  <thead>\n",
       "    <tr style=\"text-align: right;\">\n",
       "      <th></th>\n",
       "      <th>time</th>\n",
       "      <th>seawater_pressure</th>\n",
       "      <th>density</th>\n",
       "      <th>practical_salinity</th>\n",
       "      <th>seawater_temperature</th>\n",
       "      <th>corrected_dissolved_oxygen</th>\n",
       "    </tr>\n",
       "  </thead>\n",
       "  <tbody>\n",
       "    <tr>\n",
       "      <th>6733799</th>\n",
       "      <td>2018-07-17 15:38:50.061576192</td>\n",
       "      <td>81.279138</td>\n",
       "      <td>1026.516091</td>\n",
       "      <td>33.675824</td>\n",
       "      <td>8.613400</td>\n",
       "      <td>92.728326</td>\n",
       "    </tr>\n",
       "    <tr>\n",
       "      <th>6733800</th>\n",
       "      <td>2018-07-17 15:38:51.061581824</td>\n",
       "      <td>81.182077</td>\n",
       "      <td>1026.515845</td>\n",
       "      <td>33.675754</td>\n",
       "      <td>8.611768</td>\n",
       "      <td>92.708655</td>\n",
       "    </tr>\n",
       "    <tr>\n",
       "      <th>6733801</th>\n",
       "      <td>2018-07-17 15:38:52.061271552</td>\n",
       "      <td>81.084999</td>\n",
       "      <td>1026.515921</td>\n",
       "      <td>33.676071</td>\n",
       "      <td>8.610009</td>\n",
       "      <td>92.688996</td>\n",
       "    </tr>\n",
       "    <tr>\n",
       "      <th>6733802</th>\n",
       "      <td>2018-07-17 15:38:53.061588992</td>\n",
       "      <td>80.987921</td>\n",
       "      <td>1026.517571</td>\n",
       "      <td>33.678387</td>\n",
       "      <td>8.608188</td>\n",
       "      <td>92.679191</td>\n",
       "    </tr>\n",
       "    <tr>\n",
       "      <th>6733803</th>\n",
       "      <td>2018-07-17 15:38:54.061177344</td>\n",
       "      <td>80.889759</td>\n",
       "      <td>1026.518862</td>\n",
       "      <td>33.680522</td>\n",
       "      <td>8.607749</td>\n",
       "      <td>92.633305</td>\n",
       "    </tr>\n",
       "    <tr>\n",
       "      <th>...</th>\n",
       "      <td>...</td>\n",
       "      <td>...</td>\n",
       "      <td>...</td>\n",
       "      <td>...</td>\n",
       "      <td>...</td>\n",
       "      <td>...</td>\n",
       "    </tr>\n",
       "    <tr>\n",
       "      <th>475185</th>\n",
       "      <td>2018-12-31 11:59:55.458120192</td>\n",
       "      <td>61.875097</td>\n",
       "      <td>1025.117886</td>\n",
       "      <td>32.660133</td>\n",
       "      <td>11.666675</td>\n",
       "      <td>258.166072</td>\n",
       "    </tr>\n",
       "    <tr>\n",
       "      <th>475186</th>\n",
       "      <td>2018-12-31 11:59:56.458231296</td>\n",
       "      <td>61.828144</td>\n",
       "      <td>1025.117640</td>\n",
       "      <td>32.660090</td>\n",
       "      <td>11.666675</td>\n",
       "      <td>258.112745</td>\n",
       "    </tr>\n",
       "    <tr>\n",
       "      <th>475187</th>\n",
       "      <td>2018-12-31 11:59:57.458030592</td>\n",
       "      <td>61.794006</td>\n",
       "      <td>1025.117535</td>\n",
       "      <td>32.660169</td>\n",
       "      <td>11.666744</td>\n",
       "      <td>258.100726</td>\n",
       "    </tr>\n",
       "    <tr>\n",
       "      <th>475188</th>\n",
       "      <td>2018-12-31 11:59:58.457932288</td>\n",
       "      <td>61.756694</td>\n",
       "      <td>1025.117198</td>\n",
       "      <td>32.660002</td>\n",
       "      <td>11.666952</td>\n",
       "      <td>258.181654</td>\n",
       "    </tr>\n",
       "    <tr>\n",
       "      <th>475189</th>\n",
       "      <td>2018-12-31 11:59:59.458563072</td>\n",
       "      <td>61.724677</td>\n",
       "      <td>1025.116944</td>\n",
       "      <td>32.659894</td>\n",
       "      <td>11.667090</td>\n",
       "      <td>258.221535</td>\n",
       "    </tr>\n",
       "  </tbody>\n",
       "</table>\n",
       "<p>13164703 rows × 6 columns</p>\n",
       "</div>"
      ],
      "text/plain": [
       "                                 time  seawater_pressure      density  \\\n",
       "6733799 2018-07-17 15:38:50.061576192          81.279138  1026.516091   \n",
       "6733800 2018-07-17 15:38:51.061581824          81.182077  1026.515845   \n",
       "6733801 2018-07-17 15:38:52.061271552          81.084999  1026.515921   \n",
       "6733802 2018-07-17 15:38:53.061588992          80.987921  1026.517571   \n",
       "6733803 2018-07-17 15:38:54.061177344          80.889759  1026.518862   \n",
       "...                               ...                ...          ...   \n",
       "475185  2018-12-31 11:59:55.458120192          61.875097  1025.117886   \n",
       "475186  2018-12-31 11:59:56.458231296          61.828144  1025.117640   \n",
       "475187  2018-12-31 11:59:57.458030592          61.794006  1025.117535   \n",
       "475188  2018-12-31 11:59:58.457932288          61.756694  1025.117198   \n",
       "475189  2018-12-31 11:59:59.458563072          61.724677  1025.116944   \n",
       "\n",
       "         practical_salinity  seawater_temperature  corrected_dissolved_oxygen  \n",
       "6733799           33.675824              8.613400                   92.728326  \n",
       "6733800           33.675754              8.611768                   92.708655  \n",
       "6733801           33.676071              8.610009                   92.688996  \n",
       "6733802           33.678387              8.608188                   92.679191  \n",
       "6733803           33.680522              8.607749                   92.633305  \n",
       "...                     ...                   ...                         ...  \n",
       "475185            32.660133             11.666675                  258.166072  \n",
       "475186            32.660090             11.666675                  258.112745  \n",
       "475187            32.660169             11.666744                  258.100726  \n",
       "475188            32.660002             11.666952                  258.181654  \n",
       "475189            32.659894             11.667090                  258.221535  \n",
       "\n",
       "[13164703 rows x 6 columns]"
      ]
     },
     "execution_count": 20,
     "metadata": {},
     "output_type": "execute_result"
    }
   ],
   "source": [
    "profiler_data_2018"
   ]
  },
  {
   "cell_type": "code",
   "execution_count": 21,
   "metadata": {
    "collapsed": true,
    "jupyter": {
     "outputs_hidden": true
    },
    "tags": []
   },
   "outputs": [
    {
     "data": {
      "text/html": [
       "<div>\n",
       "<style scoped>\n",
       "    .dataframe tbody tr th:only-of-type {\n",
       "        vertical-align: middle;\n",
       "    }\n",
       "\n",
       "    .dataframe tbody tr th {\n",
       "        vertical-align: top;\n",
       "    }\n",
       "\n",
       "    .dataframe thead th {\n",
       "        text-align: right;\n",
       "    }\n",
       "</style>\n",
       "<table border=\"1\" class=\"dataframe\">\n",
       "  <thead>\n",
       "    <tr style=\"text-align: right;\">\n",
       "      <th></th>\n",
       "      <th>time</th>\n",
       "      <th>seawater_pressure</th>\n",
       "      <th>density</th>\n",
       "      <th>practical_salinity</th>\n",
       "      <th>seawater_temperature</th>\n",
       "      <th>dissolved_oxygen</th>\n",
       "    </tr>\n",
       "  </thead>\n",
       "  <tbody>\n",
       "    <tr>\n",
       "      <th>8142569</th>\n",
       "      <td>2018-07-17 15:16:20.566366208</td>\n",
       "      <td>196.741005</td>\n",
       "      <td>1027.523294</td>\n",
       "      <td>33.981238</td>\n",
       "      <td>7.006586</td>\n",
       "      <td>83.921237</td>\n",
       "    </tr>\n",
       "    <tr>\n",
       "      <th>8142570</th>\n",
       "      <td>2018-07-17 15:16:21.565952512</td>\n",
       "      <td>196.743134</td>\n",
       "      <td>1027.522706</td>\n",
       "      <td>33.980552</td>\n",
       "      <td>7.007007</td>\n",
       "      <td>83.928797</td>\n",
       "    </tr>\n",
       "    <tr>\n",
       "      <th>8142571</th>\n",
       "      <td>2018-07-17 15:16:22.564911616</td>\n",
       "      <td>196.737798</td>\n",
       "      <td>1027.522188</td>\n",
       "      <td>33.980022</td>\n",
       "      <td>7.007548</td>\n",
       "      <td>83.935476</td>\n",
       "    </tr>\n",
       "    <tr>\n",
       "      <th>8142572</th>\n",
       "      <td>2018-07-17 15:16:23.566372352</td>\n",
       "      <td>196.736736</td>\n",
       "      <td>1027.521963</td>\n",
       "      <td>33.979785</td>\n",
       "      <td>7.007788</td>\n",
       "      <td>83.963296</td>\n",
       "    </tr>\n",
       "    <tr>\n",
       "      <th>8142573</th>\n",
       "      <td>2018-07-17 15:16:24.565125632</td>\n",
       "      <td>196.732468</td>\n",
       "      <td>1027.521513</td>\n",
       "      <td>33.979280</td>\n",
       "      <td>7.008028</td>\n",
       "      <td>84.000929</td>\n",
       "    </tr>\n",
       "    <tr>\n",
       "      <th>...</th>\n",
       "      <td>...</td>\n",
       "      <td>...</td>\n",
       "      <td>...</td>\n",
       "      <td>...</td>\n",
       "      <td>...</td>\n",
       "      <td>...</td>\n",
       "    </tr>\n",
       "    <tr>\n",
       "      <th>388786</th>\n",
       "      <td>2018-12-31 11:59:55.363662848</td>\n",
       "      <td>197.703089</td>\n",
       "      <td>1027.157078</td>\n",
       "      <td>33.863666</td>\n",
       "      <td>8.853098</td>\n",
       "      <td>113.586892</td>\n",
       "    </tr>\n",
       "    <tr>\n",
       "      <th>388787</th>\n",
       "      <td>2018-12-31 11:59:56.363566080</td>\n",
       "      <td>197.698820</td>\n",
       "      <td>1027.157456</td>\n",
       "      <td>33.863887</td>\n",
       "      <td>8.851699</td>\n",
       "      <td>113.587973</td>\n",
       "    </tr>\n",
       "    <tr>\n",
       "      <th>388788</th>\n",
       "      <td>2018-12-31 11:59:57.363363840</td>\n",
       "      <td>197.698817</td>\n",
       "      <td>1027.158236</td>\n",
       "      <td>33.864546</td>\n",
       "      <td>8.850046</td>\n",
       "      <td>113.583926</td>\n",
       "    </tr>\n",
       "    <tr>\n",
       "      <th>388789</th>\n",
       "      <td>2018-12-31 11:59:58.363266048</td>\n",
       "      <td>197.696683</td>\n",
       "      <td>1027.159124</td>\n",
       "      <td>33.865642</td>\n",
       "      <td>8.849791</td>\n",
       "      <td>113.620820</td>\n",
       "    </tr>\n",
       "    <tr>\n",
       "      <th>388790</th>\n",
       "      <td>2018-12-31 11:59:59.363586048</td>\n",
       "      <td>197.697750</td>\n",
       "      <td>1027.159399</td>\n",
       "      <td>33.866274</td>\n",
       "      <td>8.851190</td>\n",
       "      <td>113.632434</td>\n",
       "    </tr>\n",
       "  </tbody>\n",
       "</table>\n",
       "<p>10074761 rows × 6 columns</p>\n",
       "</div>"
      ],
      "text/plain": [
       "                                 time  seawater_pressure      density  \\\n",
       "8142569 2018-07-17 15:16:20.566366208         196.741005  1027.523294   \n",
       "8142570 2018-07-17 15:16:21.565952512         196.743134  1027.522706   \n",
       "8142571 2018-07-17 15:16:22.564911616         196.737798  1027.522188   \n",
       "8142572 2018-07-17 15:16:23.566372352         196.736736  1027.521963   \n",
       "8142573 2018-07-17 15:16:24.565125632         196.732468  1027.521513   \n",
       "...                               ...                ...          ...   \n",
       "388786  2018-12-31 11:59:55.363662848         197.703089  1027.157078   \n",
       "388787  2018-12-31 11:59:56.363566080         197.698820  1027.157456   \n",
       "388788  2018-12-31 11:59:57.363363840         197.698817  1027.158236   \n",
       "388789  2018-12-31 11:59:58.363266048         197.696683  1027.159124   \n",
       "388790  2018-12-31 11:59:59.363586048         197.697750  1027.159399   \n",
       "\n",
       "         practical_salinity  seawater_temperature  dissolved_oxygen  \n",
       "8142569           33.981238              7.006586         83.921237  \n",
       "8142570           33.980552              7.007007         83.928797  \n",
       "8142571           33.980022              7.007548         83.935476  \n",
       "8142572           33.979785              7.007788         83.963296  \n",
       "8142573           33.979280              7.008028         84.000929  \n",
       "...                     ...                   ...               ...  \n",
       "388786            33.863666              8.853098        113.586892  \n",
       "388787            33.863887              8.851699        113.587973  \n",
       "388788            33.864546              8.850046        113.583926  \n",
       "388789            33.865642              8.849791        113.620820  \n",
       "388790            33.866274              8.851190        113.632434  \n",
       "\n",
       "[10074761 rows x 6 columns]"
      ]
     },
     "execution_count": 21,
     "metadata": {},
     "output_type": "execute_result"
    }
   ],
   "source": [
    "platform_data_2018"
   ]
  },
  {
   "cell_type": "markdown",
   "metadata": {},
   "source": [
    "Looking at the start and end dates in the dataframe displays above, it doesn't look like the full year of 2018 was covered by any of these instrument packages. How unfortunate! I think the best bet will be to make a model with the 2017 data first, and then come back to the 2018 afterwards and see if there's anything I can do with it in addition."
   ]
  },
  {
   "cell_type": "markdown",
   "metadata": {},
   "source": [
    "Save these data files as `.csv`s so we can use them in the rest of the notebooks."
   ]
  },
  {
   "cell_type": "code",
   "execution_count": 22,
   "metadata": {
    "tags": []
   },
   "outputs": [],
   "source": [
    "# Save 2018 dataframes to the output folder parallel to this GitHub repo \n",
    "\n",
    "METBK_data_2018.to_csv('../../coastal_upwelling_output/metbk_data_2018.csv', index=False)\n",
    "profiler_data_2018.to_csv('../../coastal_upwelling_output/profiler_data_2018.csv', index=False)\n",
    "platform_data_2018.to_csv('../../coastal_upwelling_output/platform_data_2018.csv', index=False)"
   ]
  }
 ],
 "metadata": {
  "kernelspec": {
   "display_name": "Python 3",
   "language": "python",
   "name": "python3"
  },
  "language_info": {
   "codemirror_mode": {
    "name": "ipython",
    "version": 3
   },
   "file_extension": ".py",
   "mimetype": "text/x-python",
   "name": "python",
   "nbconvert_exporter": "python",
   "pygments_lexer": "ipython3",
   "version": "3.8.10"
  }
 },
 "nbformat": 4,
 "nbformat_minor": 4
}
