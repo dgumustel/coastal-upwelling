{
 "cells": [
  {
   "cell_type": "markdown",
   "id": "remarkable-floating",
   "metadata": {},
   "source": [
    "# Preprocessing the Data\n",
    "---"
   ]
  },
  {
   "cell_type": "markdown",
   "id": "divided-distribution",
   "metadata": {},
   "source": [
    "The first model I plan to make will utilize temperature data from the surface mooring and CTD-O variables from the 200 meter platform in 2017. The steps that need to be completed before modeling include: \n",
    "* find proportion of missing data - then drop or impute it accordingly\n",
    "* resample to lower resolution to reduce number of observations to pass to model\n",
    "* create new dataframe containing the target variable and features\n",
    "* save clean dataframe as csv"
   ]
  },
  {
   "cell_type": "code",
   "execution_count": 1,
   "id": "peripheral-registrar",
   "metadata": {},
   "outputs": [],
   "source": [
    "# Imports\n",
    "import pandas as pd\n",
    "import numpy as np\n",
    "import matplotlib.pyplot as plt\n",
    "from sklearn.model_selection import train_test_split"
   ]
  },
  {
   "cell_type": "markdown",
   "id": "inner-basis",
   "metadata": {},
   "source": [
    "---\n",
    "### Load data\n",
    "\n",
    "Read in the surface mooring and 200m platform data."
   ]
  },
  {
   "cell_type": "code",
   "execution_count": 2,
   "id": "capital-milwaukee",
   "metadata": {},
   "outputs": [],
   "source": [
    "METBK_data = pd.read_csv('../../coastal_upwelling_output/metbk_data_2017.csv')\n",
    "platform_data = pd.read_csv('../../coastal_upwelling_output/platform_data_2017.csv')"
   ]
  },
  {
   "cell_type": "markdown",
   "id": "variable-market",
   "metadata": {},
   "source": [
    "---\n",
    "### Missing data\n",
    "\n",
    "There's a significant amount of missing at random values that we should consider dropping or replacing with imputed values. Instead of being filled with nulls, these missing values are automatically filled with a designated fill value. The fill value is unique for each variable and can be found in the variable descriptions in the OPeNDAP servers. \n",
    "\n",
    "METBK variables: sea_surface_temperature, met_windavg_mag_corr_east, met_windavg_mag_corr_north\n",
    "\n",
    "\n",
    "| METBK variable             | Fill value |\n",
    "|----------------------------|------------|\n",
    "| sea_surface_temperature    | -9999999.0 |\n",
    "| met_windavg_mag_corr_east  | -9999999.0 |\n",
    "| met_windavg_mag_corr_north | -9999999.0 |\n",
    "\n",
    "platform variables: seawater_pressure, density, practical_salinity, seawater_temperature, dissolved_oxygen]\n",
    "\n",
    "| 200m platform variable | Fill value |\n",
    "|------------------------|------------|\n",
    "| seawater_pressure      | -9999999.0 |\n",
    "| density                | -9999999.0 |\n",
    "| practical_salinity     | -9999999.0 |\n",
    "| seawater_temperature   | -9999999.0 |\n",
    "| dissolved_oxygen       | -9999999.0 |\n",
    "\n",
    "How nice that they all have the same fill value! "
   ]
  },
  {
   "cell_type": "code",
   "execution_count": null,
   "id": "regulated-operations",
   "metadata": {},
   "outputs": [],
   "source": []
  },
  {
   "cell_type": "code",
   "execution_count": null,
   "id": "detailed-binding",
   "metadata": {},
   "outputs": [],
   "source": []
  },
  {
   "cell_type": "markdown",
   "id": "planned-constraint",
   "metadata": {},
   "source": [
    "---\n",
    "### Appending the CUTI index"
   ]
  },
  {
   "cell_type": "code",
   "execution_count": 49,
   "id": "owned-consent",
   "metadata": {},
   "outputs": [
    {
     "data": {
      "text/plain": [
       "True"
      ]
     },
     "execution_count": 49,
     "metadata": {},
     "output_type": "execute_result"
    }
   ],
   "source": [
    "CUTI['time'][0] == METBK_daily['time'][0] # == CTD_daily['time'][0]"
   ]
  },
  {
   "cell_type": "code",
   "execution_count": 50,
   "id": "desirable-count",
   "metadata": {},
   "outputs": [
    {
     "data": {
      "text/plain": [
       "'2017-11-14'"
      ]
     },
     "execution_count": 50,
     "metadata": {},
     "output_type": "execute_result"
    }
   ],
   "source": [
    "METBK_daily['time'].max()"
   ]
  },
  {
   "cell_type": "code",
   "execution_count": 51,
   "id": "behavioral-cosmetic",
   "metadata": {},
   "outputs": [
    {
     "data": {
      "text/plain": [
       "'2017-11-14'"
      ]
     },
     "execution_count": 51,
     "metadata": {},
     "output_type": "execute_result"
    }
   ],
   "source": [
    "CUTI[:318]['time'].max()"
   ]
  },
  {
   "cell_type": "code",
   "execution_count": 52,
   "id": "waiting-celebrity",
   "metadata": {},
   "outputs": [
    {
     "data": {
      "text/plain": [
       "0      1.731\n",
       "1      1.308\n",
       "2      0.360\n",
       "3      0.742\n",
       "4      1.469\n",
       "       ...  \n",
       "313   -1.239\n",
       "314   -0.740\n",
       "315   -0.543\n",
       "316   -2.091\n",
       "317   -2.339\n",
       "Name: 44N, Length: 318, dtype: float64"
      ]
     },
     "execution_count": 52,
     "metadata": {},
     "output_type": "execute_result"
    }
   ],
   "source": [
    "CUTI[:318]['44N']"
   ]
  },
  {
   "cell_type": "code",
   "execution_count": 53,
   "id": "conditional-morris",
   "metadata": {},
   "outputs": [],
   "source": [
    "METBK_daily['CUTI'] = CUTI[:318]['44N']"
   ]
  },
  {
   "cell_type": "code",
   "execution_count": 54,
   "id": "basic-ordinary",
   "metadata": {},
   "outputs": [
    {
     "data": {
      "text/html": [
       "<div>\n",
       "<style scoped>\n",
       "    .dataframe tbody tr th:only-of-type {\n",
       "        vertical-align: middle;\n",
       "    }\n",
       "\n",
       "    .dataframe tbody tr th {\n",
       "        vertical-align: top;\n",
       "    }\n",
       "\n",
       "    .dataframe thead th {\n",
       "        text-align: right;\n",
       "    }\n",
       "</style>\n",
       "<table border=\"1\" class=\"dataframe\">\n",
       "  <thead>\n",
       "    <tr style=\"text-align: right;\">\n",
       "      <th></th>\n",
       "      <th>time</th>\n",
       "      <th>Sea Surface Temperature (deg_C)</th>\n",
       "      <th>Eastward Wind Velocity (m s-1)</th>\n",
       "      <th>Northward Wind Velocity (m s-1)</th>\n",
       "      <th>CUTI</th>\n",
       "    </tr>\n",
       "  </thead>\n",
       "  <tbody>\n",
       "    <tr>\n",
       "      <th>0</th>\n",
       "      <td>2017-01-01</td>\n",
       "      <td>11.247412</td>\n",
       "      <td>6.413056</td>\n",
       "      <td>-5.371468</td>\n",
       "      <td>1.731</td>\n",
       "    </tr>\n",
       "    <tr>\n",
       "      <th>1</th>\n",
       "      <td>2017-01-02</td>\n",
       "      <td>11.149430</td>\n",
       "      <td>-1.148830</td>\n",
       "      <td>-1.207261</td>\n",
       "      <td>1.308</td>\n",
       "    </tr>\n",
       "    <tr>\n",
       "      <th>2</th>\n",
       "      <td>2017-01-03</td>\n",
       "      <td>11.089363</td>\n",
       "      <td>-5.203772</td>\n",
       "      <td>2.533484</td>\n",
       "      <td>0.360</td>\n",
       "    </tr>\n",
       "    <tr>\n",
       "      <th>3</th>\n",
       "      <td>2017-01-04</td>\n",
       "      <td>10.926763</td>\n",
       "      <td>-6.222477</td>\n",
       "      <td>-4.027738</td>\n",
       "      <td>0.742</td>\n",
       "    </tr>\n",
       "    <tr>\n",
       "      <th>4</th>\n",
       "      <td>2017-01-05</td>\n",
       "      <td>10.756387</td>\n",
       "      <td>-6.911579</td>\n",
       "      <td>-3.048631</td>\n",
       "      <td>1.469</td>\n",
       "    </tr>\n",
       "    <tr>\n",
       "      <th>...</th>\n",
       "      <td>...</td>\n",
       "      <td>...</td>\n",
       "      <td>...</td>\n",
       "      <td>...</td>\n",
       "      <td>...</td>\n",
       "    </tr>\n",
       "    <tr>\n",
       "      <th>313</th>\n",
       "      <td>2017-11-10</td>\n",
       "      <td>12.468681</td>\n",
       "      <td>-0.408066</td>\n",
       "      <td>4.630594</td>\n",
       "      <td>-1.239</td>\n",
       "    </tr>\n",
       "    <tr>\n",
       "      <th>314</th>\n",
       "      <td>2017-11-11</td>\n",
       "      <td>12.591080</td>\n",
       "      <td>0.274552</td>\n",
       "      <td>4.486309</td>\n",
       "      <td>-0.740</td>\n",
       "    </tr>\n",
       "    <tr>\n",
       "      <th>315</th>\n",
       "      <td>2017-11-12</td>\n",
       "      <td>12.417127</td>\n",
       "      <td>-0.501287</td>\n",
       "      <td>8.977260</td>\n",
       "      <td>-0.543</td>\n",
       "    </tr>\n",
       "    <tr>\n",
       "      <th>316</th>\n",
       "      <td>2017-11-13</td>\n",
       "      <td>11.889144</td>\n",
       "      <td>4.022042</td>\n",
       "      <td>10.856365</td>\n",
       "      <td>-2.091</td>\n",
       "    </tr>\n",
       "    <tr>\n",
       "      <th>317</th>\n",
       "      <td>2017-11-14</td>\n",
       "      <td>11.876774</td>\n",
       "      <td>3.936518</td>\n",
       "      <td>6.797973</td>\n",
       "      <td>-2.339</td>\n",
       "    </tr>\n",
       "  </tbody>\n",
       "</table>\n",
       "<p>318 rows × 5 columns</p>\n",
       "</div>"
      ],
      "text/plain": [
       "           time  Sea Surface Temperature (deg_C)  \\\n",
       "0    2017-01-01                        11.247412   \n",
       "1    2017-01-02                        11.149430   \n",
       "2    2017-01-03                        11.089363   \n",
       "3    2017-01-04                        10.926763   \n",
       "4    2017-01-05                        10.756387   \n",
       "..          ...                              ...   \n",
       "313  2017-11-10                        12.468681   \n",
       "314  2017-11-11                        12.591080   \n",
       "315  2017-11-12                        12.417127   \n",
       "316  2017-11-13                        11.889144   \n",
       "317  2017-11-14                        11.876774   \n",
       "\n",
       "     Eastward Wind Velocity (m s-1)  Northward Wind Velocity (m s-1)   CUTI  \n",
       "0                          6.413056                        -5.371468  1.731  \n",
       "1                         -1.148830                        -1.207261  1.308  \n",
       "2                         -5.203772                         2.533484  0.360  \n",
       "3                         -6.222477                        -4.027738  0.742  \n",
       "4                         -6.911579                        -3.048631  1.469  \n",
       "..                              ...                              ...    ...  \n",
       "313                       -0.408066                         4.630594 -1.239  \n",
       "314                        0.274552                         4.486309 -0.740  \n",
       "315                       -0.501287                         8.977260 -0.543  \n",
       "316                        4.022042                        10.856365 -2.091  \n",
       "317                        3.936518                         6.797973 -2.339  \n",
       "\n",
       "[318 rows x 5 columns]"
      ]
     },
     "execution_count": 54,
     "metadata": {},
     "output_type": "execute_result"
    }
   ],
   "source": [
    "METBK_daily"
   ]
  },
  {
   "cell_type": "code",
   "execution_count": 55,
   "id": "emotional-generation",
   "metadata": {},
   "outputs": [],
   "source": [
    "METBK_daily['upwelling'] = METBK_daily['CUTI'].apply(lambda x: 1 if x > 0 else 0)"
   ]
  },
  {
   "cell_type": "code",
   "execution_count": 56,
   "id": "persistent-society",
   "metadata": {},
   "outputs": [
    {
     "data": {
      "text/plain": [
       "1    0.613208\n",
       "0    0.386792\n",
       "Name: upwelling, dtype: float64"
      ]
     },
     "execution_count": 56,
     "metadata": {},
     "output_type": "execute_result"
    }
   ],
   "source": [
    "METBK_daily['upwelling'].value_counts(normalize=True)"
   ]
  },
  {
   "cell_type": "code",
   "execution_count": null,
   "id": "settled-electric",
   "metadata": {},
   "outputs": [],
   "source": []
  },
  {
   "cell_type": "markdown",
   "id": "changing-belle",
   "metadata": {},
   "source": [
    "Depending on the fill values for these datasets, I may need to drop zeros and negative values. I'm not concerned with how clean the data is for this initial EDA, but I'm leaving this function here to come back to later."
   ]
  },
  {
   "cell_type": "code",
   "execution_count": null,
   "id": "bottom-blogger",
   "metadata": {},
   "outputs": [],
   "source": [
    "# this function can only be used if the expected values are always >0\n",
    "def remove_zeros(df, variables):\n",
    "    cnames = []\n",
    "    for v in variables:\n",
    "        if v not in ['lat', 'lon']:\n",
    "            cname = v + '_ind'\n",
    "            cnames.append(cname)\n",
    "            df[cname] = df[v] > 0.00\n",
    "    for cn in cnames:\n",
    "        df = df.loc[df[cn] == True]\n",
    "    df = df.drop(columns=cnames)\n",
    "    return df"
   ]
  },
  {
   "cell_type": "code",
   "execution_count": null,
   "id": "ongoing-consortium",
   "metadata": {},
   "outputs": [],
   "source": [
    "# METBK_data = remove_zeros(METBK_data, METBK_var)\n",
    "# profiler_data = remove_zeros(profiler_data, profiler_var)\n",
    "# platform_data = remove_zeros(platform_data, platform_var)"
   ]
  }
 ],
 "metadata": {
  "kernelspec": {
   "display_name": "Python 3",
   "language": "python",
   "name": "python3"
  },
  "language_info": {
   "codemirror_mode": {
    "name": "ipython",
    "version": 3
   },
   "file_extension": ".py",
   "mimetype": "text/x-python",
   "name": "python",
   "nbconvert_exporter": "python",
   "pygments_lexer": "ipython3",
   "version": "3.9.2"
  }
 },
 "nbformat": 4,
 "nbformat_minor": 5
}
