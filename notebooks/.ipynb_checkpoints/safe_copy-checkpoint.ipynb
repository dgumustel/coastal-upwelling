{
 "cells": [
  {
   "cell_type": "markdown",
   "metadata": {},
   "source": [
    "# Data Collection\n",
    "---"
   ]
  },
  {
   "cell_type": "code",
   "execution_count": 1,
   "metadata": {},
   "outputs": [],
   "source": [
    "# import necessary functions\n",
    "\n",
    "import numpy as np\n",
    "from numpy import datetime64 as dt64, timedelta64 as td64\n",
    "import pickle\n",
    "\n",
    "import sys, os\n",
    "import shutil\n",
    "import xarray as xr\n",
    "import pandas as pd\n",
    "from matplotlib import pyplot as plt\n",
    "import cmocean.cm as cmo\n",
    "import requests\n",
    "import re\n",
    "import datetime as dt\n",
    "\n",
    "from netCDF4 import Dataset, num2date, date2num \n",
    "from datetime import datetime, timedelta\n",
    "\n",
    "from yodapy.datasources import OOI\n",
    "ooi = OOI(cloud_source=True)\n",
    "\n",
    "# Local application/library specific imports\n",
    "#from golive_library import GoliveLibrary as g\n",
    "\n",
    "from yodapy.utils.creds import set_credentials_file"
   ]
  },
  {
   "cell_type": "code",
   "execution_count": 18,
   "metadata": {},
   "outputs": [],
   "source": [
    "set_credentials_file(data_source='ooi', username='OOIAPI-U6ZIZ5UNB1LIMA', token='TEMP-TOKEN-VUO6PXYMNLE')"
   ]
  },
  {
   "cell_type": "code",
   "execution_count": 23,
   "metadata": {},
   "outputs": [],
   "source": [
    "# enter your OOI API username and token, and directory where output .csv files are saved\n",
    "API_USERNAME = 'OOIAPI-U6ZIZ5UNB1LIMA'\n",
    "API_TOKEN = 'VUO6PXYMNLE'\n",
    "save_dir = ''"
   ]
  },
  {
   "cell_type": "markdown",
   "metadata": {},
   "source": [
    "Set up output and data directories - but if I'm using a ton of data, do I REALLY want to be saving all of it?"
   ]
  },
  {
   "cell_type": "markdown",
   "metadata": {},
   "source": [
    "eh"
   ]
  },
  {
   "cell_type": "code",
   "execution_count": 4,
   "metadata": {
    "tags": []
   },
   "outputs": [],
   "source": [
    "# ooi.sites"
   ]
  },
  {
   "cell_type": "code",
   "execution_count": 5,
   "metadata": {
    "tags": []
   },
   "outputs": [],
   "source": [
    "# ooi.instruments"
   ]
  },
  {
   "cell_type": "markdown",
   "metadata": {},
   "source": [
    "THOUSANDS of instruments!"
   ]
  },
  {
   "cell_type": "code",
   "execution_count": 6,
   "metadata": {},
   "outputs": [],
   "source": [
    "# Narrow selection by putting desired site reference designator into search\n",
    "# shallow profiler\n",
    "# ooi.search('CE04OSPD')"
   ]
  },
  {
   "cell_type": "markdown",
   "metadata": {},
   "source": [
    "Check the instruments now"
   ]
  },
  {
   "cell_type": "code",
   "execution_count": 7,
   "metadata": {
    "tags": []
   },
   "outputs": [],
   "source": [
    "# ooi.instruments"
   ]
  },
  {
   "cell_type": "markdown",
   "metadata": {},
   "source": [
    "We want the CTD instrument"
   ]
  },
  {
   "cell_type": "code",
   "execution_count": 8,
   "metadata": {},
   "outputs": [],
   "source": [
    "# Narrow selection by putting desired site reference designator into search\n",
    "# 200m platform\n",
    "# ooi.search('CE04OSPS')"
   ]
  },
  {
   "cell_type": "markdown",
   "metadata": {},
   "source": [
    "Check the instruments now"
   ]
  },
  {
   "cell_type": "code",
   "execution_count": 9,
   "metadata": {
    "tags": []
   },
   "outputs": [],
   "source": [
    "# ooi.instruments"
   ]
  },
  {
   "cell_type": "markdown",
   "metadata": {},
   "source": [
    "Look at surface mooring data - looking for wind measurements"
   ]
  },
  {
   "cell_type": "code",
   "execution_count": 10,
   "metadata": {},
   "outputs": [],
   "source": [
    "# Narrow selection by putting desired site reference designator into search\n",
    "# surface mooring\n",
    "# ooi.search('CE04OSSM', instrument='pCO2 Air-Sea')"
   ]
  },
  {
   "cell_type": "code",
   "execution_count": 11,
   "metadata": {},
   "outputs": [],
   "source": [
    "# ooi.instruments"
   ]
  },
  {
   "cell_type": "code",
   "execution_count": 12,
   "metadata": {},
   "outputs": [],
   "source": [
    "# start_time = '2017-08-21T06:000'\n",
    "# end_time = '2017-08-22T07:0000'    # the data file will include measurements close as possible to midnight on the morning of 2019-08-08 "
   ]
  },
  {
   "cell_type": "code",
   "execution_count": 13,
   "metadata": {
    "tags": []
   },
   "outputs": [],
   "source": [
    "# ooi.request_data(begin_date=start_time, end_date=end_time)"
   ]
  },
  {
   "cell_type": "code",
   "execution_count": 14,
   "metadata": {},
   "outputs": [],
   "source": [
    "# # editing these\n",
    "# %time req_asseet = ooi.request_data(begin_date=begin_date, end_date=end_date)\n",
    "# filenamelist = ooi.to_xarray()"
   ]
  },
  {
   "cell_type": "code",
   "execution_count": null,
   "metadata": {},
   "outputs": [],
   "source": []
  },
  {
   "cell_type": "markdown",
   "metadata": {},
   "source": [
    "---\n",
    "# Following along with the Endurance coastal upwelling notebook nugget"
   ]
  },
  {
   "cell_type": "markdown",
   "metadata": {},
   "source": [
    "### Pull data \n",
    "\n",
    "Looking at just a small section of the data available:\n",
    "* 200m platform at Oregon Offshore location (CE04)\n",
    "* Use the CTD-O instrument, start with temperature\n",
    "* March-June 2017 or 2018\n",
    "* look at shallow profiler data later! "
   ]
  },
  {
   "cell_type": "markdown",
   "metadata": {},
   "source": [
    "Using this function written by lgarzio to request data from the OOI"
   ]
  },
  {
   "cell_type": "code",
   "execution_count": 20,
   "metadata": {
    "colab": {},
    "colab_type": "code",
    "id": "B8cTVmt5mhsA"
   },
   "outputs": [],
   "source": [
    "def request_data(reference_designator, method, stream, start_date=None, end_date=None):\n",
    "    site = reference_designator[:8]\n",
    "    node = reference_designator[9:14]\n",
    "    instrument = reference_designator[15:]\n",
    "\n",
    "    # Create the request URL\n",
    "    api_base_url = 'https://ooinet.oceanobservatories.org/api/m2m/12576/sensor/inv'\n",
    "    data_request_url = '/'.join((api_base_url, site, node, instrument, method, stream))\n",
    "\n",
    "    # All of the following are optional, but you should specify a date range\n",
    "    params = {\n",
    "        'format': 'application/netcdf',\n",
    "        'include_provenance': 'true',\n",
    "        'include_annotations': 'true'\n",
    "    }\n",
    "    if start_date:\n",
    "        params['beginDT'] = start_date\n",
    "    if end_date:\n",
    "        params['endDT'] = end_date\n",
    "\n",
    "    # Make the data request\n",
    "    r = requests.get(data_request_url, params=params, auth=(API_USERNAME, API_TOKEN))\n",
    "    data = r.json()\n",
    "\n",
    "    # Return just the THREDDS URL\n",
    "    return data['allURLs'][0]"
   ]
  },
  {
   "cell_type": "markdown",
   "metadata": {},
   "source": [
    "Use the above function to get URLs according to your API tokens. Save these URLs so you don't have to request them again every time you open this notebook."
   ]
  },
  {
   "cell_type": "code",
   "execution_count": 21,
   "metadata": {
    "colab": {},
    "colab_type": "code",
    "id": "GDx1obDmm11u"
   },
   "outputs": [
    {
     "ename": "KeyError",
     "evalue": "'allURLs'",
     "output_type": "error",
     "traceback": [
      "\u001b[1;31m---------------------------------------------------------------------------\u001b[0m",
      "\u001b[1;31mKeyError\u001b[0m                                  Traceback (most recent call last)",
      "\u001b[1;32m<ipython-input-21-c83b692b7205>\u001b[0m in \u001b[0;36m<module>\u001b[1;34m\u001b[0m\n\u001b[1;32m----> 1\u001b[1;33m METBK_url = request_data('CE04OSSM-SBD11-06-METBKA000', 'recovered_host', \n\u001b[0m\u001b[0;32m      2\u001b[0m                          \u001b[1;34m'metbk_a_dcl_instrument_recovered'\u001b[0m\u001b[1;33m,\u001b[0m\u001b[1;33m\u001b[0m\u001b[1;33m\u001b[0m\u001b[0m\n\u001b[0;32m      3\u001b[0m                          '2017-08-21T00:00:00.000Z', '2017-08-22T12:00:00.000Z')\n\u001b[0;32m      4\u001b[0m \u001b[0mprint\u001b[0m\u001b[1;33m(\u001b[0m\u001b[1;34m'METBK_url: %s'\u001b[0m \u001b[1;33m%\u001b[0m\u001b[0mMETBK_url\u001b[0m\u001b[1;33m)\u001b[0m\u001b[1;33m\u001b[0m\u001b[1;33m\u001b[0m\u001b[0m\n",
      "\u001b[1;32m<ipython-input-20-e73eb5057cde>\u001b[0m in \u001b[0;36mrequest_data\u001b[1;34m(reference_designator, method, stream, start_date, end_date)\u001b[0m\n\u001b[0;32m     24\u001b[0m \u001b[1;33m\u001b[0m\u001b[0m\n\u001b[0;32m     25\u001b[0m     \u001b[1;31m# Return just the THREDDS URL\u001b[0m\u001b[1;33m\u001b[0m\u001b[1;33m\u001b[0m\u001b[1;33m\u001b[0m\u001b[0m\n\u001b[1;32m---> 26\u001b[1;33m     \u001b[1;32mreturn\u001b[0m \u001b[0mdata\u001b[0m\u001b[1;33m[\u001b[0m\u001b[1;34m'allURLs'\u001b[0m\u001b[1;33m]\u001b[0m\u001b[1;33m[\u001b[0m\u001b[1;36m0\u001b[0m\u001b[1;33m]\u001b[0m\u001b[1;33m\u001b[0m\u001b[1;33m\u001b[0m\u001b[0m\n\u001b[0m",
      "\u001b[1;31mKeyError\u001b[0m: 'allURLs'"
     ]
    }
   ],
   "source": [
    "METBK_url = request_data('CE04OSSM-SBD11-06-METBKA000', 'recovered_host', \n",
    "                         'metbk_a_dcl_instrument_recovered',\n",
    "                         '2017-08-21T00:00:00.000Z', '2017-08-22T12:00:00.000Z')\n",
    "print('METBK_url: %s' %METBK_url)"
   ]
  },
  {
   "cell_type": "code",
   "execution_count": 24,
   "metadata": {
    "colab": {},
    "colab_type": "code",
    "id": "GDx1obDmm11u"
   },
   "outputs": [
    {
     "name": "stdout",
     "output_type": "stream",
     "text": [
      "CTD_url: https://opendap.oceanobservatories.org/thredds/catalog/ooi/deryag@uw.edu/20210428T020336326Z-CE04OSPS-SF01B-2A-CTDPFA107-streamed-ctdpf_sbe43_sample/catalog.html\n"
     ]
    }
   ],
   "source": [
    "CTD_url = request_data('CE04OSPS-SF01B-2A-CTDPFA107', 'streamed', 'ctdpf_sbe43_sample',\n",
    "                        '2017-08-21T00:00:00.000Z', '2017-08-22T12:00:00.000Z')\n",
    "print('CTD_url: %s' %CTD_url)"
   ]
  },
  {
   "cell_type": "markdown",
   "metadata": {},
   "source": [
    "Saved the URLs below."
   ]
  },
  {
   "cell_type": "code",
   "execution_count": 25,
   "metadata": {
    "colab": {},
    "colab_type": "code",
    "id": "_zkTLF5gtPZx"
   },
   "outputs": [],
   "source": [
    "CTD_url = 'https://opendap.oceanobservatories.org/thredds/catalog/ooi/deryag@uw.edu/20210422T023415685Z-CE04OSPS-SF01B-2A-CTDPFA107-streamed-ctdpf_sbe43_sample/catalog.html'\n",
    "METBK_url = 'https://opendap.oceanobservatories.org/thredds/catalog/ooi/deryag@uw.edu/20210422T022044996Z-CE04OSSM-SBD11-06-METBKA000-recovered_host-metbk_a_dcl_instrument_recovered/catalog.html'"
   ]
  },
  {
   "cell_type": "markdown",
   "metadata": {},
   "source": [
    "### Load data files"
   ]
  },
  {
   "cell_type": "markdown",
   "metadata": {},
   "source": [
    "This function does A LOT - will explain later"
   ]
  },
  {
   "cell_type": "code",
   "execution_count": 26,
   "metadata": {
    "colab": {},
    "colab_type": "code",
    "id": "CIvFhvqdgBni"
   },
   "outputs": [],
   "source": [
    "def get_data(url, variables, deployments=None):\n",
    "    # Function to grab all data from specified directory\n",
    "    tds_url = 'https://opendap.oceanobservatories.org/thredds/dodsC'\n",
    "    dataset = requests.get(url).text\n",
    "    ii = re.findall(r'href=[\\'\"]?([^\\'\" >]+)', dataset)\n",
    "    # x = re.findall(r'(ooi/.*?.nc)', dataset)\n",
    "    x = [y for y in ii if y.endswith('.nc')]\n",
    "    for i in x:\n",
    "        if i.endswith('.nc') == False:\n",
    "            x.remove(i)\n",
    "    for i in x:\n",
    "        try:\n",
    "            float(i[-4])\n",
    "        except:\n",
    "            x.remove(i)\n",
    "    # dataset = [os.path.join(tds_url, i) for i in x]\n",
    "    datasets = [os.path.join(tds_url, i.split('=')[-1]).replace(\"\\\\\",\"/\") for i in x]\n",
    "\n",
    "    # remove deployments not in deployment list, if given\n",
    "    if deployments is not None:\n",
    "        deploy = ['deployment{:04d}'.format(j) for j in deployments]\n",
    "        datasets = [k for k in datasets if k.split('/')[-1].split('_')[0] in deploy]\n",
    "\n",
    "    # remove collocated data files if necessary\n",
    "    catalog_rms = url.split('/')[-2][20:]\n",
    "    selected_datasets = []\n",
    "    for d in datasets:\n",
    "        if catalog_rms == d.split('/')[-1].split('_20')[0][15:]:\n",
    "            selected_datasets.append(d)\n",
    "\n",
    "    # create a dictionary to populate with data from the selected datasets\n",
    "    data_dict = {'time': np.array([], dtype='datetime64[ns]')}\n",
    "    unit_dict = {}\n",
    "    for v in variables:\n",
    "        data_dict.update({v: np.array([])})\n",
    "        unit_dict.update({v: []})\n",
    "    print('Appending data from files')\n",
    "\n",
    "    for sd in selected_datasets:\n",
    "        url_with_fillmismatch = f'{sd}#fillmismatch'\n",
    "        ds = xr.open_dataset(url_with_fillmismatch, mask_and_scale=False)\n",
    "        data_dict['time'] = np.append(data_dict['time'], ds['time'].values)\n",
    "        for var in variables:\n",
    "            data_dict[var] = np.append(data_dict[var], ds[var].values)\n",
    "            units = ds[var].units\n",
    "            if units not in unit_dict[var]:\n",
    "                unit_dict[var].append(units)\n",
    "\n",
    "    # convert dictionary to a dataframe\n",
    "    df = pd.DataFrame(data_dict)\n",
    "    df.sort_values(by=['time'], inplace=True)  # make sure the timestamps are in ascending order\n",
    "\n",
    "    return df, unit_dict"
   ]
  },
  {
   "cell_type": "markdown",
   "metadata": {},
   "source": [
    "Time to actually GET the data! Print a `.head()` of each dataset to make sure the data was successfully pulled."
   ]
  },
  {
   "cell_type": "code",
   "execution_count": 27,
   "metadata": {
    "colab": {},
    "colab_type": "code",
    "id": "L4dTLdWxgDU4"
   },
   "outputs": [
    {
     "name": "stdout",
     "output_type": "stream",
     "text": [
      "Appending data from files\n",
      "Appending data from files\n",
      "{'seawater_pressure': ['dbar'], 'seawater_temperature': ['ºC'], 'lat': ['degrees_north'], 'lon': ['degrees_east']}\n",
      "{'sea_surface_temperature': ['ºC'], 'met_windavg_mag_corr_east': ['m s-1'], 'met_windavg_mag_corr_north': ['m s-1']}\n"
     ]
    }
   ],
   "source": [
    "# Specify the variable(s) of interest and get the data for the three datasets\n",
    "CTD_var = ['seawater_pressure', 'seawater_temperature', 'lat', 'lon']\n",
    "METBK_var = ['sea_surface_temperature', 'met_windavg_mag_corr_east', 'met_windavg_mag_corr_north']\n",
    "\n",
    "CTD_data, CTD_units = get_data(CTD_url, CTD_var)\n",
    "METBK_data, METBK_units = get_data(METBK_url, METBK_var)\n",
    "print(CTD_units)\n",
    "print(METBK_units)"
   ]
  },
  {
   "cell_type": "code",
   "execution_count": 28,
   "metadata": {},
   "outputs": [
    {
     "data": {
      "text/html": [
       "<div>\n",
       "<style scoped>\n",
       "    .dataframe tbody tr th:only-of-type {\n",
       "        vertical-align: middle;\n",
       "    }\n",
       "\n",
       "    .dataframe tbody tr th {\n",
       "        vertical-align: top;\n",
       "    }\n",
       "\n",
       "    .dataframe thead th {\n",
       "        text-align: right;\n",
       "    }\n",
       "</style>\n",
       "<table border=\"1\" class=\"dataframe\">\n",
       "  <thead>\n",
       "    <tr style=\"text-align: right;\">\n",
       "      <th></th>\n",
       "      <th>time</th>\n",
       "      <th>seawater_pressure</th>\n",
       "      <th>seawater_temperature</th>\n",
       "      <th>lat</th>\n",
       "      <th>lon</th>\n",
       "    </tr>\n",
       "  </thead>\n",
       "  <tbody>\n",
       "    <tr>\n",
       "      <th>0</th>\n",
       "      <td>2017-08-21 00:00:00.447585792</td>\n",
       "      <td>190.001841</td>\n",
       "      <td>7.575786</td>\n",
       "      <td>44.37415</td>\n",
       "      <td>-124.95648</td>\n",
       "    </tr>\n",
       "    <tr>\n",
       "      <th>1</th>\n",
       "      <td>2017-08-21 00:00:01.448322048</td>\n",
       "      <td>190.001818</td>\n",
       "      <td>7.575907</td>\n",
       "      <td>44.37415</td>\n",
       "      <td>-124.95648</td>\n",
       "    </tr>\n",
       "    <tr>\n",
       "      <th>2</th>\n",
       "      <td>2017-08-21 00:00:02.447913472</td>\n",
       "      <td>189.999678</td>\n",
       "      <td>7.575847</td>\n",
       "      <td>44.37415</td>\n",
       "      <td>-124.95648</td>\n",
       "    </tr>\n",
       "    <tr>\n",
       "      <th>3</th>\n",
       "      <td>2017-08-21 00:00:03.448756224</td>\n",
       "      <td>189.998631</td>\n",
       "      <td>7.576028</td>\n",
       "      <td>44.37415</td>\n",
       "      <td>-124.95648</td>\n",
       "    </tr>\n",
       "    <tr>\n",
       "      <th>4</th>\n",
       "      <td>2017-08-21 00:00:04.448346624</td>\n",
       "      <td>189.997538</td>\n",
       "      <td>7.576269</td>\n",
       "      <td>44.37415</td>\n",
       "      <td>-124.95648</td>\n",
       "    </tr>\n",
       "  </tbody>\n",
       "</table>\n",
       "</div>"
      ],
      "text/plain": [
       "                           time  seawater_pressure  seawater_temperature  \\\n",
       "0 2017-08-21 00:00:00.447585792         190.001841              7.575786   \n",
       "1 2017-08-21 00:00:01.448322048         190.001818              7.575907   \n",
       "2 2017-08-21 00:00:02.447913472         189.999678              7.575847   \n",
       "3 2017-08-21 00:00:03.448756224         189.998631              7.576028   \n",
       "4 2017-08-21 00:00:04.448346624         189.997538              7.576269   \n",
       "\n",
       "        lat        lon  \n",
       "0  44.37415 -124.95648  \n",
       "1  44.37415 -124.95648  \n",
       "2  44.37415 -124.95648  \n",
       "3  44.37415 -124.95648  \n",
       "4  44.37415 -124.95648  "
      ]
     },
     "execution_count": 28,
     "metadata": {},
     "output_type": "execute_result"
    }
   ],
   "source": [
    "CTD_data.head()"
   ]
  },
  {
   "cell_type": "code",
   "execution_count": 29,
   "metadata": {},
   "outputs": [
    {
     "data": {
      "text/html": [
       "<div>\n",
       "<style scoped>\n",
       "    .dataframe tbody tr th:only-of-type {\n",
       "        vertical-align: middle;\n",
       "    }\n",
       "\n",
       "    .dataframe tbody tr th {\n",
       "        vertical-align: top;\n",
       "    }\n",
       "\n",
       "    .dataframe thead th {\n",
       "        text-align: right;\n",
       "    }\n",
       "</style>\n",
       "<table border=\"1\" class=\"dataframe\">\n",
       "  <thead>\n",
       "    <tr style=\"text-align: right;\">\n",
       "      <th></th>\n",
       "      <th>time</th>\n",
       "      <th>sea_surface_temperature</th>\n",
       "      <th>met_windavg_mag_corr_east</th>\n",
       "      <th>met_windavg_mag_corr_north</th>\n",
       "    </tr>\n",
       "  </thead>\n",
       "  <tbody>\n",
       "    <tr>\n",
       "      <th>0</th>\n",
       "      <td>2017-08-21 00:00:03.796999680</td>\n",
       "      <td>14.549</td>\n",
       "      <td>-0.360490</td>\n",
       "      <td>-7.946707</td>\n",
       "    </tr>\n",
       "    <tr>\n",
       "      <th>1</th>\n",
       "      <td>2017-08-21 00:01:08.644000256</td>\n",
       "      <td>14.547</td>\n",
       "      <td>1.163867</td>\n",
       "      <td>-6.922775</td>\n",
       "    </tr>\n",
       "    <tr>\n",
       "      <th>2</th>\n",
       "      <td>2017-08-21 00:02:12.951000064</td>\n",
       "      <td>14.541</td>\n",
       "      <td>0.017504</td>\n",
       "      <td>-7.967213</td>\n",
       "    </tr>\n",
       "    <tr>\n",
       "      <th>3</th>\n",
       "      <td>2017-08-21 00:03:17.189000192</td>\n",
       "      <td>14.539</td>\n",
       "      <td>0.291025</td>\n",
       "      <td>-8.104277</td>\n",
       "    </tr>\n",
       "    <tr>\n",
       "      <th>4</th>\n",
       "      <td>2017-08-21 00:04:22.203999744</td>\n",
       "      <td>14.533</td>\n",
       "      <td>1.330982</td>\n",
       "      <td>-6.387917</td>\n",
       "    </tr>\n",
       "  </tbody>\n",
       "</table>\n",
       "</div>"
      ],
      "text/plain": [
       "                           time  sea_surface_temperature  \\\n",
       "0 2017-08-21 00:00:03.796999680                   14.549   \n",
       "1 2017-08-21 00:01:08.644000256                   14.547   \n",
       "2 2017-08-21 00:02:12.951000064                   14.541   \n",
       "3 2017-08-21 00:03:17.189000192                   14.539   \n",
       "4 2017-08-21 00:04:22.203999744                   14.533   \n",
       "\n",
       "   met_windavg_mag_corr_east  met_windavg_mag_corr_north  \n",
       "0                  -0.360490                   -7.946707  \n",
       "1                   1.163867                   -6.922775  \n",
       "2                   0.017504                   -7.967213  \n",
       "3                   0.291025                   -8.104277  \n",
       "4                   1.330982                   -6.387917  "
      ]
     },
     "execution_count": 29,
     "metadata": {},
     "output_type": "execute_result"
    }
   ],
   "source": [
    "METBK_data.head()"
   ]
  },
  {
   "cell_type": "markdown",
   "metadata": {},
   "source": [
    "Yay! If one of the above printouts is empty try rerunning the cell where you got the data."
   ]
  },
  {
   "cell_type": "code",
   "execution_count": 31,
   "metadata": {
    "scrolled": true,
    "tags": []
   },
   "outputs": [],
   "source": [
    "# subset the glider dataframes for a time range that includes one transect on/offshore\n",
    "CTD_data = CTD_data[(CTD_data['time'] > dt.datetime(2016, 8, 15, 13, 0, 0)) &\n",
    "                   (CTD_data['time'] < dt.datetime(2016, 8, 24, 9, 0, 0))]\n"
   ]
  },
  {
   "cell_type": "markdown",
   "metadata": {},
   "source": [
    "Data looks slightly different now."
   ]
  },
  {
   "cell_type": "code",
   "execution_count": 32,
   "metadata": {},
   "outputs": [
    {
     "data": {
      "text/html": [
       "<div>\n",
       "<style scoped>\n",
       "    .dataframe tbody tr th:only-of-type {\n",
       "        vertical-align: middle;\n",
       "    }\n",
       "\n",
       "    .dataframe tbody tr th {\n",
       "        vertical-align: top;\n",
       "    }\n",
       "\n",
       "    .dataframe thead th {\n",
       "        text-align: right;\n",
       "    }\n",
       "</style>\n",
       "<table border=\"1\" class=\"dataframe\">\n",
       "  <thead>\n",
       "    <tr style=\"text-align: right;\">\n",
       "      <th></th>\n",
       "      <th>time</th>\n",
       "      <th>seawater_pressure</th>\n",
       "      <th>seawater_temperature</th>\n",
       "      <th>lat</th>\n",
       "      <th>lon</th>\n",
       "    </tr>\n",
       "  </thead>\n",
       "  <tbody>\n",
       "  </tbody>\n",
       "</table>\n",
       "</div>"
      ],
      "text/plain": [
       "Empty DataFrame\n",
       "Columns: [time, seawater_pressure, seawater_temperature, lat, lon]\n",
       "Index: []"
      ]
     },
     "execution_count": 32,
     "metadata": {},
     "output_type": "execute_result"
    }
   ],
   "source": [
    "CTD_data.head()"
   ]
  },
  {
   "cell_type": "code",
   "execution_count": null,
   "metadata": {},
   "outputs": [],
   "source": [
    "FLORT_data.head()"
   ]
  },
  {
   "cell_type": "markdown",
   "metadata": {},
   "source": [
    "There's a bunch of plotting for the glider data that I'm skipping because I'm more interested in the platform data for this project. Will need to edit the code above so I'm not pulling data that I don't end up using."
   ]
  },
  {
   "cell_type": "code",
   "execution_count": null,
   "metadata": {},
   "outputs": [],
   "source": [
    "def return_array_subsites_standard_loc(array):\n",
    "    DBurl= 'https://datareview.marine.rutgers.edu/regions/view/{}.json'.format(array)\n",
    "    r = requests.get(DBurl)\n",
    "    url_ct = r.json()['region']['sites']\n",
    "    loc_df = pd.DataFrame()\n",
    "    for ii in range(len(url_ct)):\n",
    "        if url_ct[ii]['reference_designator'] != 'CE05MOAS':\n",
    "            data = {\n",
    "                    'lat': url_ct[ii]['latitude'],\n",
    "                    'lon': url_ct[ii]['longitude'],\n",
    "                    'max_z': url_ct[ii]['max_depth']\n",
    "                    }\n",
    "            new_r = pd.DataFrame(data, columns=['lat', 'lon', 'max_z'], index=[url_ct[ii]['reference_designator']])\n",
    "            loc_df = loc_df.append(new_r)\n",
    "    return loc_df"
   ]
  },
  {
   "cell_type": "code",
   "execution_count": null,
   "metadata": {},
   "outputs": [],
   "source": [
    "array_loc = return_array_subsites_standard_loc('CE')\n",
    "print(array_loc)"
   ]
  },
  {
   "cell_type": "code",
   "execution_count": null,
   "metadata": {},
   "outputs": [],
   "source": [
    "# this function can only be used if the expected values are always >0\n",
    "def remove_zeros(df, variables):\n",
    "    cnames = []\n",
    "    for v in variables:\n",
    "        if v not in ['lat', 'lon']:\n",
    "            cname = v + '_ind'\n",
    "            cnames.append(cname)\n",
    "            df[cname] = df[v] > 0.00\n",
    "    for cn in cnames:\n",
    "        df = df.loc[df[cn] == True]\n",
    "    df = df.drop(columns=cnames)\n",
    "    return df"
   ]
  },
  {
   "cell_type": "code",
   "execution_count": null,
   "metadata": {},
   "outputs": [],
   "source": [
    "CTD_data = remove_zeros(CTD_data, CTD_var)"
   ]
  },
  {
   "cell_type": "code",
   "execution_count": null,
   "metadata": {},
   "outputs": [],
   "source": [
    "FLORT_data = remove_zeros(FLORT_data, FLORT_var)"
   ]
  },
  {
   "cell_type": "code",
   "execution_count": null,
   "metadata": {},
   "outputs": [],
   "source": [
    "CTD_data.head()"
   ]
  },
  {
   "cell_type": "code",
   "execution_count": null,
   "metadata": {},
   "outputs": [],
   "source": [
    "METBK_data.head()"
   ]
  },
  {
   "cell_type": "code",
   "execution_count": null,
   "metadata": {},
   "outputs": [],
   "source": [
    "fig, (ax1, ax2, ax3) = plt.subplots(3,1, sharex=True, figsize = (8, 10))\n",
    "ax1.plot(METBK_data['time'], METBK_data['sea_surface_temperature'], 'b.')\n",
    "ax1.set_xlabel('')\n",
    "ax1.set_ylabel('Sea Surface Temperature (deg_C)')\n",
    "ax1.set_title('Oregon Shelf Surface Mooring')\n",
    "\n",
    "ax2.plot(METBK_data['time'], METBK_data['met_windavg_mag_corr_east'], 'c.')\n",
    "ax2.set_xlabel('')\n",
    "ax2.set_ylabel('Eastward Wind Velocity ({})'.format(METBK_units['met_windavg_mag_corr_east'][0]))\n",
    "\n",
    "ax3.plot(METBK_data['time'], METBK_data['met_windavg_mag_corr_north'], 'g.')\n",
    "ax3.set_xlabel('')\n",
    "ax3.set_ylabel('Northward Wind Velocity ({})'.format(METBK_units['met_windavg_mag_corr_north'][0]))\n",
    "\n",
    "plt.xticks(rotation=35);"
   ]
  },
  {
   "cell_type": "markdown",
   "metadata": {},
   "source": [
    "Plot wind data! "
   ]
  },
  {
   "cell_type": "code",
   "execution_count": null,
   "metadata": {},
   "outputs": [],
   "source": [
    "METBK_hourly = METBK_data.resample('H', on='time').mean().dropna(how='all').reset_index()\n",
    "METBK_hourly.head()"
   ]
  },
  {
   "cell_type": "code",
   "execution_count": null,
   "metadata": {},
   "outputs": [],
   "source": [
    "fig, ax = plt.subplots(figsize=(10,4))\n",
    "plt.plot(METBK_hourly['time'], METBK_hourly['met_windavg_mag_corr_east'], 'c', label='eastward wind')\n",
    "plt.plot(METBK_hourly['time'], METBK_hourly['met_windavg_mag_corr_north'], 'g', label='northward wind')\n",
    "ax.set_ylabel('Wind Velocity ({})'.format(METBK_units['met_windavg_mag_corr_north'][0]))\n",
    "ax.legend()\n",
    "plt.axhline(y=0, ls='-', c='black') # add horizontal line at 0\n",
    "ax.set_title('Oregon Shelf Surface Mooring: hourly averages')\n",
    "plt.xticks(rotation=35);"
   ]
  },
  {
   "cell_type": "code",
   "execution_count": null,
   "metadata": {},
   "outputs": [],
   "source": [
    "# calculate the percentage of time during this time range that winds are blowing towards the south\n",
    "north_winds = np.array(METBK_hourly['met_windavg_mag_corr_north'])\n",
    "upwelling_percentage = len(north_winds[north_winds < 0]) / len(north_winds) * 100\n",
    "print('{}%'.format(round(upwelling_percentage)))"
   ]
  },
  {
   "cell_type": "code",
   "execution_count": null,
   "metadata": {},
   "outputs": [],
   "source": [
    "# rename the columns and add units\n",
    "METBK_hourly = METBK_hourly.rename(columns={'sea_surface_temperature': 'Sea Surface Temperature (deg_C)',\n",
    "                                            'met_windavg_mag_corr_east': 'Eastward Wind Velocity ({})'.format(METBK_units['met_windavg_mag_corr_east'][0]), \n",
    "                                            'met_windavg_mag_corr_north': 'Northward Wind Velocity ({})'.format(METBK_units['met_windavg_mag_corr_north'][0])})\n",
    "METBK_hourly.head()"
   ]
  },
  {
   "cell_type": "code",
   "execution_count": null,
   "metadata": {},
   "outputs": [],
   "source": [
    "# Plot hourly-averaged METBK data\n",
    "fig, (ax1, ax2) = plt.subplots(2, 1, sharex=True, figsize = (10, 8))\n",
    "ax1.plot(METBK_hourly['time'], METBK_hourly['Sea Surface Temperature (deg_C)'], 'blue')\n",
    "ax1.set_xlabel('')\n",
    "ax1.set_ylabel('Sea Surface Temperature (deg_C)')\n",
    "ax1.set_title('Oregon Shelf Surface Mooring: hourly averages')\n",
    "\n",
    "ax2.plot(METBK_hourly['time'], METBK_hourly['Eastward Wind Velocity (m s-1)'], 'c', label='eastward wind')\n",
    "ax2.plot(METBK_hourly['time'], METBK_hourly['Northward Wind Velocity (m s-1)'], 'g', label='northward wind')\n",
    "ax2.set_ylabel('Wind Velocity ({})'.format(METBK_units['met_windavg_mag_corr_north'][0]))\n",
    "ax2.legend()\n",
    "ax2.axhline(y=0, ls='-', c='black') # add horizontal line at 0\n",
    "\n",
    "plt.xticks(rotation=35);"
   ]
  },
  {
   "cell_type": "code",
   "execution_count": null,
   "metadata": {},
   "outputs": [],
   "source": [
    "fig, ax = plt.subplots(figsize=(10,4))\n",
    "ax.plot(METBK_hourly['time'], METBK_hourly['Northward Wind Velocity (m s-1)'], 'g')\n",
    "ax.set_ylabel('Northward Wind Velocity (m s-1)', color='g')\n",
    "plt.xticks(rotation=35)\n",
    "\n",
    "ax2 = ax.twinx()  # instantiate a second axis that shares the same x-axis\n",
    "ax2.plot(METBK_hourly['time'], METBK_hourly['Sea Surface Temperature (deg_C)'], 'blue')\n",
    "ax2.set_ylabel('Sea Surface Temperature (deg_C)', color='blue')\n",
    "\n",
    "ax.axhline(y=0, ls='-', c='black') # add horizontal line at 0\n",
    "ax.set_title('Oregon Shelf Surface Mooring: hourly averages');"
   ]
  },
  {
   "cell_type": "code",
   "execution_count": null,
   "metadata": {},
   "outputs": [],
   "source": []
  },
  {
   "cell_type": "code",
   "execution_count": null,
   "metadata": {},
   "outputs": [],
   "source": []
  },
  {
   "cell_type": "code",
   "execution_count": null,
   "metadata": {},
   "outputs": [],
   "source": []
  }
 ],
 "metadata": {
  "kernelspec": {
   "display_name": "Python 3",
   "language": "python",
   "name": "python3"
  },
  "language_info": {
   "codemirror_mode": {
    "name": "ipython",
    "version": 3
   },
   "file_extension": ".py",
   "mimetype": "text/x-python",
   "name": "python",
   "nbconvert_exporter": "python",
   "pygments_lexer": "ipython3",
   "version": "3.9.2"
  }
 },
 "nbformat": 4,
 "nbformat_minor": 4
}
