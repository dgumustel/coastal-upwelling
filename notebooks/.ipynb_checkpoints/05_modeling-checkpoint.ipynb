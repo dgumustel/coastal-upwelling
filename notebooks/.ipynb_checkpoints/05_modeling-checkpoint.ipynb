{
 "cells": [
  {
   "cell_type": "markdown",
   "id": "neither-monroe",
   "metadata": {},
   "source": [
    "# Classification modeling\n",
    "---"
   ]
  },
  {
   "cell_type": "markdown",
   "id": "bigger-holder",
   "metadata": {},
   "source": [
    "For my baseline model, I need to ask myself what I'm actually trying to do and whether my audience cares more about accuracy or interpretation. In academic settings and Earth sciences, I prefer to prioritize interpretation since I'm working with real-world concepts and I'd like to be able to use these methods to learn about the oceanographic processes at play here. For this reason, I'll be using scikit-learn's Logistic Regression model, a straightforward classification model that prioritizes interpretability over accuracy. There are several assumptions we make about our data when we use this model, including assuming that our independent variables are independent *of each other*. However, I know this isn't the case in my data, so I'll opt to engineer some interaction features and then utilize regularization techniques to reduce the effect of multicollinearity in this model."
   ]
  },
  {
   "cell_type": "code",
   "execution_count": 66,
   "id": "loose-royal",
   "metadata": {},
   "outputs": [],
   "source": [
    "import matplotlib.pyplot as plt\n",
    "import numpy as np\n",
    "import pandas as pd\n",
    "import seaborn as sns\n",
    "\n",
    "from sklearn.linear_model import LogisticRegression\n",
    "from sklearn.model_selection import train_test_split, GridSearchCV\n",
    "from sklearn.preprocessing import StandardScaler, PolynomialFeatures\n",
    "from sklearn.pipeline import Pipeline\n",
    "from sklearn.metrics import confusion_matrix, ConfusionMatrixDisplay"
   ]
  },
  {
   "cell_type": "code",
   "execution_count": 2,
   "id": "identified-trash",
   "metadata": {},
   "outputs": [],
   "source": [
    "df = pd.read_csv('../../coastal_upwelling_output/clean_dataframe.csv')"
   ]
  },
  {
   "cell_type": "code",
   "execution_count": 3,
   "id": "norwegian-stuart",
   "metadata": {},
   "outputs": [
    {
     "data": {
      "text/html": [
       "<div>\n",
       "<style scoped>\n",
       "    .dataframe tbody tr th:only-of-type {\n",
       "        vertical-align: middle;\n",
       "    }\n",
       "\n",
       "    .dataframe tbody tr th {\n",
       "        vertical-align: top;\n",
       "    }\n",
       "\n",
       "    .dataframe thead th {\n",
       "        text-align: right;\n",
       "    }\n",
       "</style>\n",
       "<table border=\"1\" class=\"dataframe\">\n",
       "  <thead>\n",
       "    <tr style=\"text-align: right;\">\n",
       "      <th></th>\n",
       "      <th>time</th>\n",
       "      <th>density</th>\n",
       "      <th>practical_salinity</th>\n",
       "      <th>seawater_temperature</th>\n",
       "      <th>sea_surface_temperature</th>\n",
       "      <th>CUTI</th>\n",
       "      <th>upwelling</th>\n",
       "    </tr>\n",
       "  </thead>\n",
       "  <tbody>\n",
       "    <tr>\n",
       "      <th>0</th>\n",
       "      <td>2017-01-01 00:00:00</td>\n",
       "      <td>1027.258767</td>\n",
       "      <td>33.916755</td>\n",
       "      <td>7.766451</td>\n",
       "      <td>11.273</td>\n",
       "      <td>1.731</td>\n",
       "      <td>1</td>\n",
       "    </tr>\n",
       "    <tr>\n",
       "      <th>1</th>\n",
       "      <td>2017-01-01 00:01:00</td>\n",
       "      <td>1027.260164</td>\n",
       "      <td>33.917475</td>\n",
       "      <td>7.760876</td>\n",
       "      <td>11.268</td>\n",
       "      <td>1.731</td>\n",
       "      <td>1</td>\n",
       "    </tr>\n",
       "    <tr>\n",
       "      <th>2</th>\n",
       "      <td>2017-01-01 00:02:00</td>\n",
       "      <td>1027.258920</td>\n",
       "      <td>33.917249</td>\n",
       "      <td>7.767207</td>\n",
       "      <td>11.267</td>\n",
       "      <td>1.731</td>\n",
       "      <td>1</td>\n",
       "    </tr>\n",
       "    <tr>\n",
       "      <th>3</th>\n",
       "      <td>2017-01-01 00:03:00</td>\n",
       "      <td>1027.258097</td>\n",
       "      <td>33.916964</td>\n",
       "      <td>7.771317</td>\n",
       "      <td>11.267</td>\n",
       "      <td>1.731</td>\n",
       "      <td>1</td>\n",
       "    </tr>\n",
       "    <tr>\n",
       "      <th>4</th>\n",
       "      <td>2017-01-01 00:04:00</td>\n",
       "      <td>1027.258173</td>\n",
       "      <td>33.917076</td>\n",
       "      <td>7.771017</td>\n",
       "      <td>11.278</td>\n",
       "      <td>1.731</td>\n",
       "      <td>1</td>\n",
       "    </tr>\n",
       "    <tr>\n",
       "      <th>...</th>\n",
       "      <td>...</td>\n",
       "      <td>...</td>\n",
       "      <td>...</td>\n",
       "      <td>...</td>\n",
       "      <td>...</td>\n",
       "      <td>...</td>\n",
       "      <td>...</td>\n",
       "    </tr>\n",
       "    <tr>\n",
       "      <th>329194</th>\n",
       "      <td>2017-09-15 23:55:00</td>\n",
       "      <td>1027.366397</td>\n",
       "      <td>33.960043</td>\n",
       "      <td>7.866675</td>\n",
       "      <td>15.198</td>\n",
       "      <td>-0.194</td>\n",
       "      <td>0</td>\n",
       "    </tr>\n",
       "    <tr>\n",
       "      <th>329195</th>\n",
       "      <td>2017-09-15 23:56:00</td>\n",
       "      <td>1027.366555</td>\n",
       "      <td>33.960125</td>\n",
       "      <td>7.866182</td>\n",
       "      <td>15.171</td>\n",
       "      <td>-0.194</td>\n",
       "      <td>0</td>\n",
       "    </tr>\n",
       "    <tr>\n",
       "      <th>329196</th>\n",
       "      <td>2017-09-15 23:57:00</td>\n",
       "      <td>1027.365319</td>\n",
       "      <td>33.959667</td>\n",
       "      <td>7.872284</td>\n",
       "      <td>15.158</td>\n",
       "      <td>-0.194</td>\n",
       "      <td>0</td>\n",
       "    </tr>\n",
       "    <tr>\n",
       "      <th>329197</th>\n",
       "      <td>2017-09-15 23:58:00</td>\n",
       "      <td>1027.364325</td>\n",
       "      <td>33.959192</td>\n",
       "      <td>7.876495</td>\n",
       "      <td>15.199</td>\n",
       "      <td>-0.194</td>\n",
       "      <td>0</td>\n",
       "    </tr>\n",
       "    <tr>\n",
       "      <th>329198</th>\n",
       "      <td>2017-09-15 23:59:00</td>\n",
       "      <td>1027.361044</td>\n",
       "      <td>33.957907</td>\n",
       "      <td>7.891755</td>\n",
       "      <td>15.195</td>\n",
       "      <td>-0.194</td>\n",
       "      <td>0</td>\n",
       "    </tr>\n",
       "  </tbody>\n",
       "</table>\n",
       "<p>329199 rows × 7 columns</p>\n",
       "</div>"
      ],
      "text/plain": [
       "                       time      density  practical_salinity  \\\n",
       "0       2017-01-01 00:00:00  1027.258767           33.916755   \n",
       "1       2017-01-01 00:01:00  1027.260164           33.917475   \n",
       "2       2017-01-01 00:02:00  1027.258920           33.917249   \n",
       "3       2017-01-01 00:03:00  1027.258097           33.916964   \n",
       "4       2017-01-01 00:04:00  1027.258173           33.917076   \n",
       "...                     ...          ...                 ...   \n",
       "329194  2017-09-15 23:55:00  1027.366397           33.960043   \n",
       "329195  2017-09-15 23:56:00  1027.366555           33.960125   \n",
       "329196  2017-09-15 23:57:00  1027.365319           33.959667   \n",
       "329197  2017-09-15 23:58:00  1027.364325           33.959192   \n",
       "329198  2017-09-15 23:59:00  1027.361044           33.957907   \n",
       "\n",
       "        seawater_temperature  sea_surface_temperature   CUTI  upwelling  \n",
       "0                   7.766451                   11.273  1.731          1  \n",
       "1                   7.760876                   11.268  1.731          1  \n",
       "2                   7.767207                   11.267  1.731          1  \n",
       "3                   7.771317                   11.267  1.731          1  \n",
       "4                   7.771017                   11.278  1.731          1  \n",
       "...                      ...                      ...    ...        ...  \n",
       "329194              7.866675                   15.198 -0.194          0  \n",
       "329195              7.866182                   15.171 -0.194          0  \n",
       "329196              7.872284                   15.158 -0.194          0  \n",
       "329197              7.876495                   15.199 -0.194          0  \n",
       "329198              7.891755                   15.195 -0.194          0  \n",
       "\n",
       "[329199 rows x 7 columns]"
      ]
     },
     "execution_count": 3,
     "metadata": {},
     "output_type": "execute_result"
    }
   ],
   "source": [
    "df"
   ]
  },
  {
   "cell_type": "markdown",
   "id": "arranged-dress",
   "metadata": {},
   "source": [
    "This dataframe is over 300,000 observations, which I'm hesitant to pass to a model right away. I'm going to resample down to a small size at first, and then add data back in once the workflow is established."
   ]
  },
  {
   "cell_type": "code",
   "execution_count": 4,
   "id": "thirty-impossible",
   "metadata": {},
   "outputs": [],
   "source": [
    "df['time'] = pd.to_datetime(df['time'])"
   ]
  },
  {
   "cell_type": "code",
   "execution_count": 5,
   "id": "strong-headline",
   "metadata": {},
   "outputs": [
    {
     "name": "stdout",
     "output_type": "stream",
     "text": [
      "(17714, 7)\n"
     ]
    }
   ],
   "source": [
    "df_resampled = df.resample('20T', on='time').mean().dropna(how='all').reset_index()\n",
    "print(df_resampled.shape)"
   ]
  },
  {
   "cell_type": "code",
   "execution_count": 6,
   "id": "protective-delaware",
   "metadata": {},
   "outputs": [
    {
     "data": {
      "text/html": [
       "<div>\n",
       "<style scoped>\n",
       "    .dataframe tbody tr th:only-of-type {\n",
       "        vertical-align: middle;\n",
       "    }\n",
       "\n",
       "    .dataframe tbody tr th {\n",
       "        vertical-align: top;\n",
       "    }\n",
       "\n",
       "    .dataframe thead th {\n",
       "        text-align: right;\n",
       "    }\n",
       "</style>\n",
       "<table border=\"1\" class=\"dataframe\">\n",
       "  <thead>\n",
       "    <tr style=\"text-align: right;\">\n",
       "      <th></th>\n",
       "      <th>time</th>\n",
       "      <th>density</th>\n",
       "      <th>practical_salinity</th>\n",
       "      <th>seawater_temperature</th>\n",
       "      <th>sea_surface_temperature</th>\n",
       "      <th>CUTI</th>\n",
       "      <th>upwelling</th>\n",
       "    </tr>\n",
       "  </thead>\n",
       "  <tbody>\n",
       "    <tr>\n",
       "      <th>0</th>\n",
       "      <td>2017-01-01 00:00:00</td>\n",
       "      <td>1027.258926</td>\n",
       "      <td>33.917802</td>\n",
       "      <td>7.768099</td>\n",
       "      <td>11.27030</td>\n",
       "      <td>1.731</td>\n",
       "      <td>1.0</td>\n",
       "    </tr>\n",
       "    <tr>\n",
       "      <th>1</th>\n",
       "      <td>2017-01-01 00:20:00</td>\n",
       "      <td>1027.273454</td>\n",
       "      <td>33.923736</td>\n",
       "      <td>7.695256</td>\n",
       "      <td>11.26795</td>\n",
       "      <td>1.731</td>\n",
       "      <td>1.0</td>\n",
       "    </tr>\n",
       "    <tr>\n",
       "      <th>2</th>\n",
       "      <td>2017-01-01 00:40:00</td>\n",
       "      <td>1027.274977</td>\n",
       "      <td>33.925383</td>\n",
       "      <td>7.688413</td>\n",
       "      <td>11.26675</td>\n",
       "      <td>1.731</td>\n",
       "      <td>1.0</td>\n",
       "    </tr>\n",
       "    <tr>\n",
       "      <th>3</th>\n",
       "      <td>2017-01-01 01:00:00</td>\n",
       "      <td>1027.273794</td>\n",
       "      <td>33.926747</td>\n",
       "      <td>7.698557</td>\n",
       "      <td>11.26465</td>\n",
       "      <td>1.731</td>\n",
       "      <td>1.0</td>\n",
       "    </tr>\n",
       "    <tr>\n",
       "      <th>4</th>\n",
       "      <td>2017-01-01 01:20:00</td>\n",
       "      <td>1027.255639</td>\n",
       "      <td>33.916462</td>\n",
       "      <td>7.764130</td>\n",
       "      <td>11.26475</td>\n",
       "      <td>1.731</td>\n",
       "      <td>1.0</td>\n",
       "    </tr>\n",
       "    <tr>\n",
       "      <th>...</th>\n",
       "      <td>...</td>\n",
       "      <td>...</td>\n",
       "      <td>...</td>\n",
       "      <td>...</td>\n",
       "      <td>...</td>\n",
       "      <td>...</td>\n",
       "      <td>...</td>\n",
       "    </tr>\n",
       "    <tr>\n",
       "      <th>17709</th>\n",
       "      <td>2017-09-15 22:20:00</td>\n",
       "      <td>1027.335307</td>\n",
       "      <td>33.948736</td>\n",
       "      <td>8.005974</td>\n",
       "      <td>15.24465</td>\n",
       "      <td>-0.194</td>\n",
       "      <td>0.0</td>\n",
       "    </tr>\n",
       "    <tr>\n",
       "      <th>17710</th>\n",
       "      <td>2017-09-15 22:40:00</td>\n",
       "      <td>1027.329899</td>\n",
       "      <td>33.946218</td>\n",
       "      <td>8.028650</td>\n",
       "      <td>15.25365</td>\n",
       "      <td>-0.194</td>\n",
       "      <td>0.0</td>\n",
       "    </tr>\n",
       "    <tr>\n",
       "      <th>17711</th>\n",
       "      <td>2017-09-15 23:00:00</td>\n",
       "      <td>1027.347918</td>\n",
       "      <td>33.953680</td>\n",
       "      <td>7.949766</td>\n",
       "      <td>15.22895</td>\n",
       "      <td>-0.194</td>\n",
       "      <td>0.0</td>\n",
       "    </tr>\n",
       "    <tr>\n",
       "      <th>17712</th>\n",
       "      <td>2017-09-15 23:20:00</td>\n",
       "      <td>1027.323936</td>\n",
       "      <td>33.942572</td>\n",
       "      <td>8.052701</td>\n",
       "      <td>15.17020</td>\n",
       "      <td>-0.194</td>\n",
       "      <td>0.0</td>\n",
       "    </tr>\n",
       "    <tr>\n",
       "      <th>17713</th>\n",
       "      <td>2017-09-15 23:40:00</td>\n",
       "      <td>1027.350124</td>\n",
       "      <td>33.953536</td>\n",
       "      <td>7.939834</td>\n",
       "      <td>15.18360</td>\n",
       "      <td>-0.194</td>\n",
       "      <td>0.0</td>\n",
       "    </tr>\n",
       "  </tbody>\n",
       "</table>\n",
       "<p>17714 rows × 7 columns</p>\n",
       "</div>"
      ],
      "text/plain": [
       "                     time      density  practical_salinity  \\\n",
       "0     2017-01-01 00:00:00  1027.258926           33.917802   \n",
       "1     2017-01-01 00:20:00  1027.273454           33.923736   \n",
       "2     2017-01-01 00:40:00  1027.274977           33.925383   \n",
       "3     2017-01-01 01:00:00  1027.273794           33.926747   \n",
       "4     2017-01-01 01:20:00  1027.255639           33.916462   \n",
       "...                   ...          ...                 ...   \n",
       "17709 2017-09-15 22:20:00  1027.335307           33.948736   \n",
       "17710 2017-09-15 22:40:00  1027.329899           33.946218   \n",
       "17711 2017-09-15 23:00:00  1027.347918           33.953680   \n",
       "17712 2017-09-15 23:20:00  1027.323936           33.942572   \n",
       "17713 2017-09-15 23:40:00  1027.350124           33.953536   \n",
       "\n",
       "       seawater_temperature  sea_surface_temperature   CUTI  upwelling  \n",
       "0                  7.768099                 11.27030  1.731        1.0  \n",
       "1                  7.695256                 11.26795  1.731        1.0  \n",
       "2                  7.688413                 11.26675  1.731        1.0  \n",
       "3                  7.698557                 11.26465  1.731        1.0  \n",
       "4                  7.764130                 11.26475  1.731        1.0  \n",
       "...                     ...                      ...    ...        ...  \n",
       "17709              8.005974                 15.24465 -0.194        0.0  \n",
       "17710              8.028650                 15.25365 -0.194        0.0  \n",
       "17711              7.949766                 15.22895 -0.194        0.0  \n",
       "17712              8.052701                 15.17020 -0.194        0.0  \n",
       "17713              7.939834                 15.18360 -0.194        0.0  \n",
       "\n",
       "[17714 rows x 7 columns]"
      ]
     },
     "execution_count": 6,
     "metadata": {},
     "output_type": "execute_result"
    }
   ],
   "source": [
    "df_resampled"
   ]
  },
  {
   "cell_type": "markdown",
   "id": "muslim-patio",
   "metadata": {},
   "source": [
    "---\n",
    "### Checking feature correlation\n",
    "\n",
    "One of the big assumptions we make when building logistic regression models is that our independent features are independent of each other. We can print out a heatmap to check whether our features are correlated to each other or not."
   ]
  },
  {
   "cell_type": "code",
   "execution_count": 71,
   "id": "minute-store",
   "metadata": {},
   "outputs": [
    {
     "data": {
      "text/plain": [
       "<AxesSubplot:>"
      ]
     },
     "execution_count": 71,
     "metadata": {},
     "output_type": "execute_result"
    },
    {
     "data": {
      "image/png": "[encoded data removed]",
      "text/plain": [
       "<Figure size 576x576 with 2 Axes>"
      ]
     },
     "metadata": {
      "needs_background": "light"
     },
     "output_type": "display_data"
    }
   ],
   "source": [
    "plt.figure(figsize=(8,8))\n",
    "\n",
    "corr = df_resampled.corr()\n",
    "mask = np.triu(np.ones_like(corr, dtype=bool))\n",
    "\n",
    "sns.heatmap(df_resampled.corr(), annot=True, vmin=-1, vmax=1, mask=mask)"
   ]
  },
  {
   "cell_type": "markdown",
   "id": "tracked-accommodation",
   "metadata": {},
   "source": [
    "Yup, looks like our features are correlated with each other. I'll build a logistic regression model without addressing the multicollinearity first, and then attempt to correct for it using PolynomialFeatures and ridge and lasso penalties. "
   ]
  },
  {
   "cell_type": "markdown",
   "id": "productive-ordinary",
   "metadata": {},
   "source": [
    "---\n",
    "### Train test split"
   ]
  },
  {
   "cell_type": "code",
   "execution_count": 7,
   "id": "alternative-chest",
   "metadata": {},
   "outputs": [],
   "source": [
    "X = df_resampled.drop(columns=['time', 'CUTI', 'upwelling'])\n",
    "y = df_resampled['upwelling']"
   ]
  },
  {
   "cell_type": "code",
   "execution_count": 68,
   "id": "removed-excitement",
   "metadata": {},
   "outputs": [
    {
     "data": {
      "text/plain": [
       "1.0    0.61951\n",
       "0.0    0.38049\n",
       "Name: upwelling, dtype: float64"
      ]
     },
     "execution_count": 68,
     "metadata": {},
     "output_type": "execute_result"
    }
   ],
   "source": [
    "y.value_counts(normalize=True)"
   ]
  },
  {
   "cell_type": "markdown",
   "id": "junior-amendment",
   "metadata": {},
   "source": [
    "If we created a null model that labeled all predictions as the majority class, we'd be correct about 61.96% of the time! This is the accuracy I'm hoping to beat with logistic regression or decision tree models."
   ]
  },
  {
   "cell_type": "code",
   "execution_count": 8,
   "id": "lasting-shuttle",
   "metadata": {},
   "outputs": [
    {
     "data": {
      "text/html": [
       "<div>\n",
       "<style scoped>\n",
       "    .dataframe tbody tr th:only-of-type {\n",
       "        vertical-align: middle;\n",
       "    }\n",
       "\n",
       "    .dataframe tbody tr th {\n",
       "        vertical-align: top;\n",
       "    }\n",
       "\n",
       "    .dataframe thead th {\n",
       "        text-align: right;\n",
       "    }\n",
       "</style>\n",
       "<table border=\"1\" class=\"dataframe\">\n",
       "  <thead>\n",
       "    <tr style=\"text-align: right;\">\n",
       "      <th></th>\n",
       "      <th>density</th>\n",
       "      <th>practical_salinity</th>\n",
       "      <th>seawater_temperature</th>\n",
       "      <th>sea_surface_temperature</th>\n",
       "    </tr>\n",
       "  </thead>\n",
       "  <tbody>\n",
       "    <tr>\n",
       "      <th>0</th>\n",
       "      <td>1027.258926</td>\n",
       "      <td>33.917802</td>\n",
       "      <td>7.768099</td>\n",
       "      <td>11.27030</td>\n",
       "    </tr>\n",
       "    <tr>\n",
       "      <th>1</th>\n",
       "      <td>1027.273454</td>\n",
       "      <td>33.923736</td>\n",
       "      <td>7.695256</td>\n",
       "      <td>11.26795</td>\n",
       "    </tr>\n",
       "    <tr>\n",
       "      <th>2</th>\n",
       "      <td>1027.274977</td>\n",
       "      <td>33.925383</td>\n",
       "      <td>7.688413</td>\n",
       "      <td>11.26675</td>\n",
       "    </tr>\n",
       "    <tr>\n",
       "      <th>3</th>\n",
       "      <td>1027.273794</td>\n",
       "      <td>33.926747</td>\n",
       "      <td>7.698557</td>\n",
       "      <td>11.26465</td>\n",
       "    </tr>\n",
       "    <tr>\n",
       "      <th>4</th>\n",
       "      <td>1027.255639</td>\n",
       "      <td>33.916462</td>\n",
       "      <td>7.764130</td>\n",
       "      <td>11.26475</td>\n",
       "    </tr>\n",
       "    <tr>\n",
       "      <th>...</th>\n",
       "      <td>...</td>\n",
       "      <td>...</td>\n",
       "      <td>...</td>\n",
       "      <td>...</td>\n",
       "    </tr>\n",
       "    <tr>\n",
       "      <th>17709</th>\n",
       "      <td>1027.335307</td>\n",
       "      <td>33.948736</td>\n",
       "      <td>8.005974</td>\n",
       "      <td>15.24465</td>\n",
       "    </tr>\n",
       "    <tr>\n",
       "      <th>17710</th>\n",
       "      <td>1027.329899</td>\n",
       "      <td>33.946218</td>\n",
       "      <td>8.028650</td>\n",
       "      <td>15.25365</td>\n",
       "    </tr>\n",
       "    <tr>\n",
       "      <th>17711</th>\n",
       "      <td>1027.347918</td>\n",
       "      <td>33.953680</td>\n",
       "      <td>7.949766</td>\n",
       "      <td>15.22895</td>\n",
       "    </tr>\n",
       "    <tr>\n",
       "      <th>17712</th>\n",
       "      <td>1027.323936</td>\n",
       "      <td>33.942572</td>\n",
       "      <td>8.052701</td>\n",
       "      <td>15.17020</td>\n",
       "    </tr>\n",
       "    <tr>\n",
       "      <th>17713</th>\n",
       "      <td>1027.350124</td>\n",
       "      <td>33.953536</td>\n",
       "      <td>7.939834</td>\n",
       "      <td>15.18360</td>\n",
       "    </tr>\n",
       "  </tbody>\n",
       "</table>\n",
       "<p>17714 rows × 4 columns</p>\n",
       "</div>"
      ],
      "text/plain": [
       "           density  practical_salinity  seawater_temperature  \\\n",
       "0      1027.258926           33.917802              7.768099   \n",
       "1      1027.273454           33.923736              7.695256   \n",
       "2      1027.274977           33.925383              7.688413   \n",
       "3      1027.273794           33.926747              7.698557   \n",
       "4      1027.255639           33.916462              7.764130   \n",
       "...            ...                 ...                   ...   \n",
       "17709  1027.335307           33.948736              8.005974   \n",
       "17710  1027.329899           33.946218              8.028650   \n",
       "17711  1027.347918           33.953680              7.949766   \n",
       "17712  1027.323936           33.942572              8.052701   \n",
       "17713  1027.350124           33.953536              7.939834   \n",
       "\n",
       "       sea_surface_temperature  \n",
       "0                     11.27030  \n",
       "1                     11.26795  \n",
       "2                     11.26675  \n",
       "3                     11.26465  \n",
       "4                     11.26475  \n",
       "...                        ...  \n",
       "17709                 15.24465  \n",
       "17710                 15.25365  \n",
       "17711                 15.22895  \n",
       "17712                 15.17020  \n",
       "17713                 15.18360  \n",
       "\n",
       "[17714 rows x 4 columns]"
      ]
     },
     "execution_count": 8,
     "metadata": {},
     "output_type": "execute_result"
    }
   ],
   "source": [
    "X"
   ]
  },
  {
   "cell_type": "code",
   "execution_count": 9,
   "id": "remarkable-teacher",
   "metadata": {},
   "outputs": [
    {
     "data": {
      "text/plain": [
       "0        1.0\n",
       "1        1.0\n",
       "2        1.0\n",
       "3        1.0\n",
       "4        1.0\n",
       "        ... \n",
       "17709    0.0\n",
       "17710    0.0\n",
       "17711    0.0\n",
       "17712    0.0\n",
       "17713    0.0\n",
       "Name: upwelling, Length: 17714, dtype: float64"
      ]
     },
     "execution_count": 9,
     "metadata": {},
     "output_type": "execute_result"
    }
   ],
   "source": [
    "y"
   ]
  },
  {
   "cell_type": "code",
   "execution_count": 10,
   "id": "cultural-drill",
   "metadata": {},
   "outputs": [],
   "source": [
    "X_train, X_test, y_train, y_test = train_test_split(X, y, stratify=y, random_state=42)"
   ]
  },
  {
   "cell_type": "markdown",
   "id": "exceptional-perth",
   "metadata": {},
   "source": [
    "---\n",
    "### Scale the data\n"
   ]
  },
  {
   "cell_type": "code",
   "execution_count": 11,
   "id": "incredible-michigan",
   "metadata": {},
   "outputs": [],
   "source": [
    "# Instantiate scaler:\n",
    "sc = StandardScaler()"
   ]
  },
  {
   "cell_type": "code",
   "execution_count": 12,
   "id": "canadian-fitness",
   "metadata": {},
   "outputs": [],
   "source": [
    "# Scale the data\n",
    "X_train_sc = sc.fit_transform(X_train)\n",
    "X_test_sc = sc.transform(X_test)"
   ]
  },
  {
   "cell_type": "markdown",
   "id": "filled-subscription",
   "metadata": {},
   "source": [
    "---\n",
    "### Building a baseline model\n",
    "\n",
    "It's always best to start with a simple model so that you have something to compare the rest of your models to. "
   ]
  },
  {
   "cell_type": "code",
   "execution_count": 13,
   "id": "satellite-synthesis",
   "metadata": {},
   "outputs": [],
   "source": [
    "# Instantiate model\n",
    "logreg = LogisticRegression()"
   ]
  },
  {
   "cell_type": "code",
   "execution_count": 14,
   "id": "fifth-arthur",
   "metadata": {},
   "outputs": [
    {
     "data": {
      "text/plain": [
       "LogisticRegression()"
      ]
     },
     "execution_count": 14,
     "metadata": {},
     "output_type": "execute_result"
    }
   ],
   "source": [
    "# Fit the model\n",
    "logreg.fit(X_train_sc, y_train)"
   ]
  },
  {
   "cell_type": "code",
   "execution_count": 15,
   "id": "active-absorption",
   "metadata": {},
   "outputs": [
    {
     "name": "stdout",
     "output_type": "stream",
     "text": [
      "LogReg Intercept: [0.60851976]\n",
      "LogReg Coef: [[ 0.17084918 -0.60407464 -0.99386531  0.46001757]]\n"
     ]
    }
   ],
   "source": [
    "print(f'LogReg Intercept: {logreg.intercept_}')\n",
    "print(f'LogReg Coef: {logreg.coef_}')"
   ]
  },
  {
   "cell_type": "code",
   "execution_count": 16,
   "id": "precise-prophet",
   "metadata": {},
   "outputs": [
    {
     "name": "stdout",
     "output_type": "stream",
     "text": [
      "Train accuracy: 0.7261573202860369\n",
      "Test accuracy: 0.7277037706028449\n"
     ]
    }
   ],
   "source": [
    "# Step 4: Evaluate model.\n",
    "print(f'Train accuracy: {logreg.score(X_train_sc, y_train)}')\n",
    "print(f'Test accuracy: {logreg.score(X_test_sc, y_test)}')"
   ]
  },
  {
   "cell_type": "markdown",
   "id": "appreciated-resolution",
   "metadata": {},
   "source": [
    "We got an initial accuracy of ~72% on the train and test data with 17714 observations, which is about 10% greater than our null model. However, this model isn't a good one because we didn't address the multicollinearity in the data. Let's add some basic interaction feature engineering and regularization to reduce the impact of this multicollinearity."
   ]
  },
  {
   "cell_type": "markdown",
   "id": "stuffed-astrology",
   "metadata": {},
   "source": [
    "---\n",
    "### GridSearch and Regularization"
   ]
  },
  {
   "cell_type": "markdown",
   "id": "indirect-loading",
   "metadata": {},
   "source": [
    "An easy way to get a variety of feature interactions is using sklearn's PolynomialFeatures function. There are four features in this model, so I'll set the degree to 4 so that there will be an engineered feature that includes all 4 of the original features. "
   ]
  },
  {
   "cell_type": "code",
   "execution_count": 39,
   "id": "theoretical-buffer",
   "metadata": {},
   "outputs": [],
   "source": [
    "poly = PolynomialFeatures(degree=4, interaction_only=False, include_bias=False)"
   ]
  },
  {
   "cell_type": "code",
   "execution_count": 40,
   "id": "agreed-prime",
   "metadata": {},
   "outputs": [
    {
     "data": {
      "text/plain": [
       "['density',\n",
       " 'practical_salinity',\n",
       " 'seawater_temperature',\n",
       " 'sea_surface_temperature',\n",
       " 'density^2',\n",
       " 'density practical_salinity',\n",
       " 'density seawater_temperature',\n",
       " 'density sea_surface_temperature',\n",
       " 'practical_salinity^2',\n",
       " 'practical_salinity seawater_temperature',\n",
       " 'practical_salinity sea_surface_temperature',\n",
       " 'seawater_temperature^2',\n",
       " 'seawater_temperature sea_surface_temperature',\n",
       " 'sea_surface_temperature^2',\n",
       " 'density^3',\n",
       " 'density^2 practical_salinity',\n",
       " 'density^2 seawater_temperature',\n",
       " 'density^2 sea_surface_temperature',\n",
       " 'density practical_salinity^2',\n",
       " 'density practical_salinity seawater_temperature',\n",
       " 'density practical_salinity sea_surface_temperature',\n",
       " 'density seawater_temperature^2',\n",
       " 'density seawater_temperature sea_surface_temperature',\n",
       " 'density sea_surface_temperature^2',\n",
       " 'practical_salinity^3',\n",
       " 'practical_salinity^2 seawater_temperature',\n",
       " 'practical_salinity^2 sea_surface_temperature',\n",
       " 'practical_salinity seawater_temperature^2',\n",
       " 'practical_salinity seawater_temperature sea_surface_temperature',\n",
       " 'practical_salinity sea_surface_temperature^2',\n",
       " 'seawater_temperature^3',\n",
       " 'seawater_temperature^2 sea_surface_temperature',\n",
       " 'seawater_temperature sea_surface_temperature^2',\n",
       " 'sea_surface_temperature^3',\n",
       " 'density^4',\n",
       " 'density^3 practical_salinity',\n",
       " 'density^3 seawater_temperature',\n",
       " 'density^3 sea_surface_temperature',\n",
       " 'density^2 practical_salinity^2',\n",
       " 'density^2 practical_salinity seawater_temperature',\n",
       " 'density^2 practical_salinity sea_surface_temperature',\n",
       " 'density^2 seawater_temperature^2',\n",
       " 'density^2 seawater_temperature sea_surface_temperature',\n",
       " 'density^2 sea_surface_temperature^2',\n",
       " 'density practical_salinity^3',\n",
       " 'density practical_salinity^2 seawater_temperature',\n",
       " 'density practical_salinity^2 sea_surface_temperature',\n",
       " 'density practical_salinity seawater_temperature^2',\n",
       " 'density practical_salinity seawater_temperature sea_surface_temperature',\n",
       " 'density practical_salinity sea_surface_temperature^2',\n",
       " 'density seawater_temperature^3',\n",
       " 'density seawater_temperature^2 sea_surface_temperature',\n",
       " 'density seawater_temperature sea_surface_temperature^2',\n",
       " 'density sea_surface_temperature^3',\n",
       " 'practical_salinity^4',\n",
       " 'practical_salinity^3 seawater_temperature',\n",
       " 'practical_salinity^3 sea_surface_temperature',\n",
       " 'practical_salinity^2 seawater_temperature^2',\n",
       " 'practical_salinity^2 seawater_temperature sea_surface_temperature',\n",
       " 'practical_salinity^2 sea_surface_temperature^2',\n",
       " 'practical_salinity seawater_temperature^3',\n",
       " 'practical_salinity seawater_temperature^2 sea_surface_temperature',\n",
       " 'practical_salinity seawater_temperature sea_surface_temperature^2',\n",
       " 'practical_salinity sea_surface_temperature^3',\n",
       " 'seawater_temperature^4',\n",
       " 'seawater_temperature^3 sea_surface_temperature',\n",
       " 'seawater_temperature^2 sea_surface_temperature^2',\n",
       " 'seawater_temperature sea_surface_temperature^3',\n",
       " 'sea_surface_temperature^4']"
      ]
     },
     "execution_count": 40,
     "metadata": {},
     "output_type": "execute_result"
    }
   ],
   "source": [
    "X_poly = poly.fit_transform(X)\n",
    "poly.get_feature_names(X.columns)"
   ]
  },
  {
   "cell_type": "code",
   "execution_count": 41,
   "id": "comic-threshold",
   "metadata": {},
   "outputs": [
    {
     "data": {
      "text/plain": [
       "(17714, 69)"
      ]
     },
     "execution_count": 41,
     "metadata": {},
     "output_type": "execute_result"
    }
   ],
   "source": [
    "X_poly.shape"
   ]
  },
  {
   "cell_type": "markdown",
   "id": "prepared-victim",
   "metadata": {},
   "source": [
    "Scale the data again!"
   ]
  },
  {
   "cell_type": "code",
   "execution_count": 42,
   "id": "alien-puppy",
   "metadata": {},
   "outputs": [],
   "source": [
    "X_train, X_test, y_train, y_test = train_test_split(X_poly, y, stratify=y, random_state=42)"
   ]
  },
  {
   "cell_type": "code",
   "execution_count": 43,
   "id": "closed-resolution",
   "metadata": {},
   "outputs": [],
   "source": [
    "sc = StandardScaler()\n",
    "X_train_sc = sc.fit_transform(X_train)\n",
    "X_test_sc = sc.transform(X_test)"
   ]
  },
  {
   "cell_type": "code",
   "execution_count": 56,
   "id": "numerical-disposition",
   "metadata": {},
   "outputs": [],
   "source": [
    "logreg = LogisticRegression(solver='liblinear')"
   ]
  },
  {
   "cell_type": "code",
   "execution_count": 57,
   "id": "optimum-exemption",
   "metadata": {},
   "outputs": [],
   "source": [
    "logreg_params = {\n",
    "    'penalty':['l1', 'l2'],\n",
    "    'C': np.linspace(0.001, 1, 10)\n",
    "}"
   ]
  },
  {
   "cell_type": "code",
   "execution_count": 58,
   "id": "average-auckland",
   "metadata": {},
   "outputs": [],
   "source": [
    "gs = GridSearchCV(logreg, logreg_params, cv=5, verbose=2)"
   ]
  },
  {
   "cell_type": "code",
   "execution_count": 59,
   "id": "chubby-europe",
   "metadata": {
    "scrolled": true,
    "tags": []
   },
   "outputs": [
    {
     "name": "stdout",
     "output_type": "stream",
     "text": [
      "Fitting 5 folds for each of 20 candidates, totalling 100 fits\n",
      "[CV] END ................................C=0.001, penalty=l1; total time=   0.0s\n",
      "[CV] END ................................C=0.001, penalty=l1; total time=   0.0s\n",
      "[CV] END ................................C=0.001, penalty=l1; total time=   0.0s\n",
      "[CV] END ................................C=0.001, penalty=l1; total time=   0.0s\n",
      "[CV] END ................................C=0.001, penalty=l1; total time=   0.0s\n",
      "[CV] END ................................C=0.001, penalty=l2; total time=   0.0s\n",
      "[CV] END ................................C=0.001, penalty=l2; total time=   0.0s\n",
      "[CV] END ................................C=0.001, penalty=l2; total time=   0.0s\n",
      "[CV] END ................................C=0.001, penalty=l2; total time=   0.0s\n",
      "[CV] END ................................C=0.001, penalty=l2; total time=   0.0s\n",
      "[CV] END ................................C=0.112, penalty=l1; total time=   0.7s\n",
      "[CV] END ................................C=0.112, penalty=l1; total time=   0.9s\n",
      "[CV] END ................................C=0.112, penalty=l1; total time=   0.6s\n",
      "[CV] END ................................C=0.112, penalty=l1; total time=   0.5s\n",
      "[CV] END ................................C=0.112, penalty=l1; total time=   0.6s\n",
      "[CV] END ................................C=0.112, penalty=l2; total time=   0.0s\n",
      "[CV] END ................................C=0.112, penalty=l2; total time=   0.0s\n",
      "[CV] END ................................C=0.112, penalty=l2; total time=   0.0s\n",
      "[CV] END ................................C=0.112, penalty=l2; total time=   0.0s\n",
      "[CV] END ................................C=0.112, penalty=l2; total time=   0.0s\n",
      "[CV] END ................................C=0.223, penalty=l1; total time=   1.1s\n",
      "[CV] END ................................C=0.223, penalty=l1; total time=   1.0s\n",
      "[CV] END ................................C=0.223, penalty=l1; total time=   0.6s\n",
      "[CV] END ................................C=0.223, penalty=l1; total time=   0.4s\n",
      "[CV] END ................................C=0.223, penalty=l1; total time=   1.1s\n",
      "[CV] END ................................C=0.223, penalty=l2; total time=   0.0s\n",
      "[CV] END ................................C=0.223, penalty=l2; total time=   0.0s\n",
      "[CV] END ................................C=0.223, penalty=l2; total time=   0.0s\n",
      "[CV] END ................................C=0.223, penalty=l2; total time=   0.0s\n",
      "[CV] END ................................C=0.223, penalty=l2; total time=   0.0s\n",
      "[CV] END ................................C=0.334, penalty=l1; total time=   0.9s\n",
      "[CV] END ................................C=0.334, penalty=l1; total time=   0.9s\n",
      "[CV] END ................................C=0.334, penalty=l1; total time=   1.0s\n",
      "[CV] END ................................C=0.334, penalty=l1; total time=   1.3s\n",
      "[CV] END ................................C=0.334, penalty=l1; total time=   1.0s\n",
      "[CV] END ................................C=0.334, penalty=l2; total time=   0.0s\n",
      "[CV] END ................................C=0.334, penalty=l2; total time=   0.0s\n",
      "[CV] END ................................C=0.334, penalty=l2; total time=   0.0s\n",
      "[CV] END ................................C=0.334, penalty=l2; total time=   0.0s\n",
      "[CV] END ................................C=0.334, penalty=l2; total time=   0.0s\n",
      "[CV] END ................................C=0.445, penalty=l1; total time=   1.3s\n",
      "[CV] END ................................C=0.445, penalty=l1; total time=   1.4s\n",
      "[CV] END ................................C=0.445, penalty=l1; total time=   1.2s\n",
      "[CV] END ................................C=0.445, penalty=l1; total time=   1.4s\n",
      "[CV] END ................................C=0.445, penalty=l1; total time=   1.4s\n",
      "[CV] END ................................C=0.445, penalty=l2; total time=   0.0s\n",
      "[CV] END ................................C=0.445, penalty=l2; total time=   0.0s\n",
      "[CV] END ................................C=0.445, penalty=l2; total time=   0.0s\n",
      "[CV] END ................................C=0.445, penalty=l2; total time=   0.0s\n",
      "[CV] END ................................C=0.445, penalty=l2; total time=   0.0s\n",
      "[CV] END ................................C=0.556, penalty=l1; total time=   2.1s\n",
      "[CV] END ................................C=0.556, penalty=l1; total time=   2.0s\n",
      "[CV] END ................................C=0.556, penalty=l1; total time=   1.9s\n",
      "[CV] END ................................C=0.556, penalty=l1; total time=   1.7s\n",
      "[CV] END ................................C=0.556, penalty=l1; total time=   1.9s\n",
      "[CV] END ................................C=0.556, penalty=l2; total time=   0.0s\n",
      "[CV] END ................................C=0.556, penalty=l2; total time=   0.0s\n",
      "[CV] END ................................C=0.556, penalty=l2; total time=   0.0s\n",
      "[CV] END ................................C=0.556, penalty=l2; total time=   0.0s\n",
      "[CV] END ................................C=0.556, penalty=l2; total time=   0.0s\n",
      "[CV] END ................................C=0.667, penalty=l1; total time=   1.9s\n",
      "[CV] END ................................C=0.667, penalty=l1; total time=   2.2s\n",
      "[CV] END ................................C=0.667, penalty=l1; total time=   2.3s\n",
      "[CV] END ................................C=0.667, penalty=l1; total time=   2.1s\n",
      "[CV] END ................................C=0.667, penalty=l1; total time=   1.8s\n",
      "[CV] END ................................C=0.667, penalty=l2; total time=   0.0s\n",
      "[CV] END ................................C=0.667, penalty=l2; total time=   0.0s\n",
      "[CV] END ................................C=0.667, penalty=l2; total time=   0.0s\n",
      "[CV] END ................................C=0.667, penalty=l2; total time=   0.0s\n",
      "[CV] END ................................C=0.667, penalty=l2; total time=   0.0s\n",
      "[CV] END ................................C=0.778, penalty=l1; total time=   2.6s\n",
      "[CV] END ................................C=0.778, penalty=l1; total time=   2.1s\n",
      "[CV] END ................................C=0.778, penalty=l1; total time=   2.8s\n",
      "[CV] END ................................C=0.778, penalty=l1; total time=   2.7s\n",
      "[CV] END ................................C=0.778, penalty=l1; total time=   2.7s\n",
      "[CV] END ................................C=0.778, penalty=l2; total time=   0.0s\n",
      "[CV] END ................................C=0.778, penalty=l2; total time=   0.0s\n",
      "[CV] END ................................C=0.778, penalty=l2; total time=   0.0s\n",
      "[CV] END ................................C=0.778, penalty=l2; total time=   0.0s\n",
      "[CV] END ................................C=0.778, penalty=l2; total time=   0.0s\n",
      "[CV] END ................................C=0.889, penalty=l1; total time=   3.1s\n",
      "[CV] END ................................C=0.889, penalty=l1; total time=   3.2s\n",
      "[CV] END ................................C=0.889, penalty=l1; total time=   2.3s\n",
      "[CV] END ................................C=0.889, penalty=l1; total time=   2.9s\n",
      "[CV] END ................................C=0.889, penalty=l1; total time=   3.6s\n",
      "[CV] END ................................C=0.889, penalty=l2; total time=   0.0s\n",
      "[CV] END ................................C=0.889, penalty=l2; total time=   0.0s\n",
      "[CV] END ................................C=0.889, penalty=l2; total time=   0.0s\n",
      "[CV] END ................................C=0.889, penalty=l2; total time=   0.0s\n",
      "[CV] END ................................C=0.889, penalty=l2; total time=   0.0s\n",
      "[CV] END ..................................C=1.0, penalty=l1; total time=   4.3s\n",
      "[CV] END ..................................C=1.0, penalty=l1; total time=   1.5s\n",
      "[CV] END ..................................C=1.0, penalty=l1; total time=   3.0s\n",
      "[CV] END ..................................C=1.0, penalty=l1; total time=   3.6s\n",
      "[CV] END ..................................C=1.0, penalty=l1; total time=   4.3s\n",
      "[CV] END ..................................C=1.0, penalty=l2; total time=   0.0s\n",
      "[CV] END ..................................C=1.0, penalty=l2; total time=   0.0s\n",
      "[CV] END ..................................C=1.0, penalty=l2; total time=   0.0s\n",
      "[CV] END ..................................C=1.0, penalty=l2; total time=   0.0s\n",
      "[CV] END ..................................C=1.0, penalty=l2; total time=   0.0s\n"
     ]
    },
    {
     "data": {
      "text/plain": [
       "GridSearchCV(cv=5, estimator=LogisticRegression(solver='liblinear'),\n",
       "             param_grid={'C': array([0.001, 0.112, 0.223, 0.334, 0.445, 0.556, 0.667, 0.778, 0.889,\n",
       "       1.   ]),\n",
       "                         'penalty': ['l1', 'l2']},\n",
       "             verbose=2)"
      ]
     },
     "execution_count": 59,
     "metadata": {},
     "output_type": "execute_result"
    }
   ],
   "source": [
    "gs.fit(X_train_sc, y_train)"
   ]
  },
  {
   "cell_type": "code",
   "execution_count": 60,
   "id": "complicated-sudan",
   "metadata": {},
   "outputs": [
    {
     "name": "stdout",
     "output_type": "stream",
     "text": [
      "Train accuracy: 0.744824990590892\n",
      "Test accuracy: 0.7520885075637842\n"
     ]
    }
   ],
   "source": [
    "print(f'Train accuracy: {gs.score(X_train_sc, y_train)}')\n",
    "print(f'Test accuracy: {gs.score(X_test_sc, y_test)}')"
   ]
  },
  {
   "cell_type": "code",
   "execution_count": 76,
   "id": "allied-destruction",
   "metadata": {},
   "outputs": [
    {
     "name": "stdout",
     "output_type": "stream",
     "text": [
      "Best parameters: {'C': 0.334, 'penalty': 'l2'}\n",
      "Best score: 0.7443733534060971\n"
     ]
    }
   ],
   "source": [
    "print(f'Best parameters: {gs.best_params_}')\n",
    "print(f'Best score: {gs.best_score_}')"
   ]
  },
  {
   "cell_type": "code",
   "execution_count": 65,
   "id": "initial-zealand",
   "metadata": {},
   "outputs": [],
   "source": [
    "predictions = gs.predict(X_test_sc)"
   ]
  },
  {
   "cell_type": "code",
   "execution_count": 77,
   "id": "english-feature",
   "metadata": {},
   "outputs": [
    {
     "data": {
      "image/png": "[encoded data removed]",
      "text/plain": [
       "<Figure size 432x288 with 2 Axes>"
      ]
     },
     "metadata": {
      "needs_background": "light"
     },
     "output_type": "display_data"
    }
   ],
   "source": [
    "cm = confusion_matrix(y_test, predictions)\n",
    "ConfusionMatrixDisplay(cm).plot();"
   ]
  },
  {
   "cell_type": "markdown",
   "id": "attractive-railway",
   "metadata": {},
   "source": [
    "Looks like our false positives and false negatives are nearly equal to each other. "
   ]
  }
 ],
 "metadata": {
  "kernelspec": {
   "display_name": "Python 3",
   "language": "python",
   "name": "python3"
  },
  "language_info": {
   "codemirror_mode": {
    "name": "ipython",
    "version": 3
   },
   "file_extension": ".py",
   "mimetype": "text/x-python",
   "name": "python",
   "nbconvert_exporter": "python",
   "pygments_lexer": "ipython3",
   "version": "3.9.2"
  }
 },
 "nbformat": 4,
 "nbformat_minor": 5
}
