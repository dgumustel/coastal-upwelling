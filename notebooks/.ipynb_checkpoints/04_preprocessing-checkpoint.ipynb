{
 "cells": [
  {
   "cell_type": "markdown",
   "id": "banner-equilibrium",
   "metadata": {},
   "source": [
    "# Preprocessing the Data\n",
    "---"
   ]
  },
  {
   "cell_type": "markdown",
   "id": "royal-repeat",
   "metadata": {},
   "source": [
    "The first model I plan to make will utilize temperature data from the surface mooring and CTD-O variables from the 200 meter platform in 2017. The steps that need to be completed before modeling include: \n",
    "* find proportion of missing data - then drop or impute it accordingly\n",
    "* resample to lower resolution to reduce number of observations to pass to model\n",
    "* create new dataframe containing the target variable and features\n",
    "* save clean dataframe as csv"
   ]
  },
  {
   "cell_type": "code",
   "execution_count": 1,
   "id": "generous-spirit",
   "metadata": {},
   "outputs": [],
   "source": [
    "# Imports\n",
    "import pandas as pd\n",
    "import numpy as np\n",
    "import matplotlib.pyplot as plt\n",
    "import missingno as msno\n",
    "import seaborn as sns\n",
    "\n",
    "from scipy import stats\n",
    "\n",
    "sns.set()"
   ]
  },
  {
   "cell_type": "markdown",
   "id": "static-photographer",
   "metadata": {},
   "source": [
    "---\n",
    "### Load data\n",
    "\n",
    "Read in the surface mooring and 200m platform data."
   ]
  },
  {
   "cell_type": "code",
   "execution_count": 2,
   "id": "laughing-great",
   "metadata": {},
   "outputs": [],
   "source": [
    "METBK_data = pd.read_csv('../../coastal_upwelling_output/metbk_data_2017.csv')\n",
    "platform_data = pd.read_csv('../../coastal_upwelling_output/platform_data_2017.csv')"
   ]
  },
  {
   "cell_type": "code",
   "execution_count": 3,
   "id": "juvenile-murray",
   "metadata": {},
   "outputs": [],
   "source": [
    "CUTI_data = pd.read_csv('../../coastal_upwelling_output/CUTI_daily.csv',\n",
    "                  parse_dates=[[0,1,2]],\n",
    "                  infer_datetime_format=True)\n",
    "CUTI_data.rename(columns={'year_month_day':'time'},inplace=True)"
   ]
  },
  {
   "cell_type": "code",
   "execution_count": 4,
   "id": "pleasant-stone",
   "metadata": {},
   "outputs": [],
   "source": [
    "METBK_data['time'] = pd.to_datetime(METBK_data['time'])\n",
    "platform_data['time'] = pd.to_datetime(platform_data['time'])"
   ]
  },
  {
   "cell_type": "markdown",
   "id": "exact-grenada",
   "metadata": {},
   "source": [
    "---\n",
    "### Drop unwanted columns\n",
    "\n",
    "The goal of this project is to identify upwelling using environmental variables in the ocean, like seawater temperature and salinity. Since this is the goal, we actually don't need the wind data collected by the METBK package. Unforunately, I also have to drop the dissolved oxygen measurements collected by the 200 meter platform due to the instrument malfunctioning or being uncalibrated for a significant period of time in 2017.\n",
    "\n",
    "I'll be combining the datasets along the column labeled `'time'`, but I'll want to drop that column when I'm done, too."
   ]
  },
  {
   "cell_type": "code",
   "execution_count": 5,
   "id": "commercial-making",
   "metadata": {},
   "outputs": [
    {
     "data": {
      "text/html": [
       "<div>\n",
       "<style scoped>\n",
       "    .dataframe tbody tr th:only-of-type {\n",
       "        vertical-align: middle;\n",
       "    }\n",
       "\n",
       "    .dataframe tbody tr th {\n",
       "        vertical-align: top;\n",
       "    }\n",
       "\n",
       "    .dataframe thead th {\n",
       "        text-align: right;\n",
       "    }\n",
       "</style>\n",
       "<table border=\"1\" class=\"dataframe\">\n",
       "  <thead>\n",
       "    <tr style=\"text-align: right;\">\n",
       "      <th></th>\n",
       "      <th>time</th>\n",
       "      <th>sea_surface_temperature</th>\n",
       "    </tr>\n",
       "  </thead>\n",
       "  <tbody>\n",
       "    <tr>\n",
       "      <th>0</th>\n",
       "      <td>2017-01-01 00:00:30.432000000</td>\n",
       "      <td>11.273</td>\n",
       "    </tr>\n",
       "    <tr>\n",
       "      <th>1</th>\n",
       "      <td>2017-01-01 00:01:37.298999808</td>\n",
       "      <td>11.268</td>\n",
       "    </tr>\n",
       "    <tr>\n",
       "      <th>2</th>\n",
       "      <td>2017-01-01 00:02:41.522000384</td>\n",
       "      <td>11.267</td>\n",
       "    </tr>\n",
       "    <tr>\n",
       "      <th>3</th>\n",
       "      <td>2017-01-01 00:03:46.300000256</td>\n",
       "      <td>11.267</td>\n",
       "    </tr>\n",
       "    <tr>\n",
       "      <th>4</th>\n",
       "      <td>2017-01-01 00:04:50.525000192</td>\n",
       "      <td>11.278</td>\n",
       "    </tr>\n",
       "    <tr>\n",
       "      <th>...</th>\n",
       "      <td>...</td>\n",
       "      <td>...</td>\n",
       "    </tr>\n",
       "    <tr>\n",
       "      <th>485132</th>\n",
       "      <td>2017-12-01 18:28:40.451000320</td>\n",
       "      <td>12.053</td>\n",
       "    </tr>\n",
       "    <tr>\n",
       "      <th>485133</th>\n",
       "      <td>2017-12-01 18:29:44.697999872</td>\n",
       "      <td>12.053</td>\n",
       "    </tr>\n",
       "    <tr>\n",
       "      <th>485134</th>\n",
       "      <td>2017-12-01 18:30:16.942000128</td>\n",
       "      <td>12.052</td>\n",
       "    </tr>\n",
       "    <tr>\n",
       "      <th>485135</th>\n",
       "      <td>2017-12-01 18:31:21.691999744</td>\n",
       "      <td>12.052</td>\n",
       "    </tr>\n",
       "    <tr>\n",
       "      <th>485136</th>\n",
       "      <td>2017-12-01 18:32:26.453000192</td>\n",
       "      <td>12.052</td>\n",
       "    </tr>\n",
       "  </tbody>\n",
       "</table>\n",
       "<p>485137 rows × 2 columns</p>\n",
       "</div>"
      ],
      "text/plain": [
       "                                time  sea_surface_temperature\n",
       "0      2017-01-01 00:00:30.432000000                   11.273\n",
       "1      2017-01-01 00:01:37.298999808                   11.268\n",
       "2      2017-01-01 00:02:41.522000384                   11.267\n",
       "3      2017-01-01 00:03:46.300000256                   11.267\n",
       "4      2017-01-01 00:04:50.525000192                   11.278\n",
       "...                              ...                      ...\n",
       "485132 2017-12-01 18:28:40.451000320                   12.053\n",
       "485133 2017-12-01 18:29:44.697999872                   12.053\n",
       "485134 2017-12-01 18:30:16.942000128                   12.052\n",
       "485135 2017-12-01 18:31:21.691999744                   12.052\n",
       "485136 2017-12-01 18:32:26.453000192                   12.052\n",
       "\n",
       "[485137 rows x 2 columns]"
      ]
     },
     "execution_count": 5,
     "metadata": {},
     "output_type": "execute_result"
    }
   ],
   "source": [
    "METBK_data.drop(columns=['met_windavg_mag_corr_east', 'met_windavg_mag_corr_north'], inplace=True)\n",
    "METBK_data"
   ]
  },
  {
   "cell_type": "code",
   "execution_count": 6,
   "id": "institutional-stroke",
   "metadata": {},
   "outputs": [
    {
     "data": {
      "text/html": [
       "<div>\n",
       "<style scoped>\n",
       "    .dataframe tbody tr th:only-of-type {\n",
       "        vertical-align: middle;\n",
       "    }\n",
       "\n",
       "    .dataframe tbody tr th {\n",
       "        vertical-align: top;\n",
       "    }\n",
       "\n",
       "    .dataframe thead th {\n",
       "        text-align: right;\n",
       "    }\n",
       "</style>\n",
       "<table border=\"1\" class=\"dataframe\">\n",
       "  <thead>\n",
       "    <tr style=\"text-align: right;\">\n",
       "      <th></th>\n",
       "      <th>time</th>\n",
       "      <th>density</th>\n",
       "      <th>practical_salinity</th>\n",
       "      <th>seawater_temperature</th>\n",
       "    </tr>\n",
       "  </thead>\n",
       "  <tbody>\n",
       "    <tr>\n",
       "      <th>0</th>\n",
       "      <td>2017-01-01 00:00:00.358334464</td>\n",
       "      <td>1027.258302</td>\n",
       "      <td>33.916341</td>\n",
       "      <td>7.767863</td>\n",
       "    </tr>\n",
       "    <tr>\n",
       "      <th>1</th>\n",
       "      <td>2017-01-01 00:00:01.358341632</td>\n",
       "      <td>1027.258472</td>\n",
       "      <td>33.916495</td>\n",
       "      <td>7.767433</td>\n",
       "    </tr>\n",
       "    <tr>\n",
       "      <th>2</th>\n",
       "      <td>2017-01-01 00:00:02.358451712</td>\n",
       "      <td>1027.258521</td>\n",
       "      <td>33.916536</td>\n",
       "      <td>7.767187</td>\n",
       "    </tr>\n",
       "    <tr>\n",
       "      <th>3</th>\n",
       "      <td>2017-01-01 00:00:03.358353408</td>\n",
       "      <td>1027.258479</td>\n",
       "      <td>33.916442</td>\n",
       "      <td>7.766941</td>\n",
       "    </tr>\n",
       "    <tr>\n",
       "      <th>4</th>\n",
       "      <td>2017-01-01 00:00:04.359924736</td>\n",
       "      <td>1027.258647</td>\n",
       "      <td>33.916615</td>\n",
       "      <td>7.766695</td>\n",
       "    </tr>\n",
       "    <tr>\n",
       "      <th>...</th>\n",
       "      <td>...</td>\n",
       "      <td>...</td>\n",
       "      <td>...</td>\n",
       "      <td>...</td>\n",
       "    </tr>\n",
       "    <tr>\n",
       "      <th>21413150</th>\n",
       "      <td>2017-09-16 12:13:36.463305728</td>\n",
       "      <td>1026.694767</td>\n",
       "      <td>33.802832</td>\n",
       "      <td>8.837725</td>\n",
       "    </tr>\n",
       "    <tr>\n",
       "      <th>21413151</th>\n",
       "      <td>2017-09-16 12:13:37.463519744</td>\n",
       "      <td>1026.693119</td>\n",
       "      <td>33.802465</td>\n",
       "      <td>8.838104</td>\n",
       "    </tr>\n",
       "    <tr>\n",
       "      <th>21413152</th>\n",
       "      <td>2017-09-16 12:13:38.463524352</td>\n",
       "      <td>1026.692393</td>\n",
       "      <td>33.802463</td>\n",
       "      <td>8.838041</td>\n",
       "    </tr>\n",
       "    <tr>\n",
       "      <th>21413153</th>\n",
       "      <td>2017-09-16 12:13:39.464573440</td>\n",
       "      <td>1026.691110</td>\n",
       "      <td>33.802138</td>\n",
       "      <td>8.838483</td>\n",
       "    </tr>\n",
       "    <tr>\n",
       "      <th>21413154</th>\n",
       "      <td>2017-09-16 12:13:40.463225344</td>\n",
       "      <td>1026.690872</td>\n",
       "      <td>33.801812</td>\n",
       "      <td>8.839241</td>\n",
       "    </tr>\n",
       "  </tbody>\n",
       "</table>\n",
       "<p>21413155 rows × 4 columns</p>\n",
       "</div>"
      ],
      "text/plain": [
       "                                  time      density  practical_salinity  \\\n",
       "0        2017-01-01 00:00:00.358334464  1027.258302           33.916341   \n",
       "1        2017-01-01 00:00:01.358341632  1027.258472           33.916495   \n",
       "2        2017-01-01 00:00:02.358451712  1027.258521           33.916536   \n",
       "3        2017-01-01 00:00:03.358353408  1027.258479           33.916442   \n",
       "4        2017-01-01 00:00:04.359924736  1027.258647           33.916615   \n",
       "...                                ...          ...                 ...   \n",
       "21413150 2017-09-16 12:13:36.463305728  1026.694767           33.802832   \n",
       "21413151 2017-09-16 12:13:37.463519744  1026.693119           33.802465   \n",
       "21413152 2017-09-16 12:13:38.463524352  1026.692393           33.802463   \n",
       "21413153 2017-09-16 12:13:39.464573440  1026.691110           33.802138   \n",
       "21413154 2017-09-16 12:13:40.463225344  1026.690872           33.801812   \n",
       "\n",
       "          seawater_temperature  \n",
       "0                     7.767863  \n",
       "1                     7.767433  \n",
       "2                     7.767187  \n",
       "3                     7.766941  \n",
       "4                     7.766695  \n",
       "...                        ...  \n",
       "21413150              8.837725  \n",
       "21413151              8.838104  \n",
       "21413152              8.838041  \n",
       "21413153              8.838483  \n",
       "21413154              8.839241  \n",
       "\n",
       "[21413155 rows x 4 columns]"
      ]
     },
     "execution_count": 6,
     "metadata": {},
     "output_type": "execute_result"
    }
   ],
   "source": [
    "platform_data.drop(columns=['seawater_pressure', 'dissolved_oxygen'], inplace=True)\n",
    "platform_data"
   ]
  },
  {
   "cell_type": "markdown",
   "id": "adaptive-canon",
   "metadata": {},
   "source": [
    "---\n",
    "### Combine the data\n",
    "\n",
    "Let's merge these three dataframes into one on the `time` column. Then we won't waste any time looking for nulls or filled values in data that we aren't going to be using. To start, we should slice the METBK dataframe to cover the same time period as the platform data."
   ]
  },
  {
   "cell_type": "code",
   "execution_count": 7,
   "id": "terminal-yukon",
   "metadata": {},
   "outputs": [
    {
     "data": {
      "text/plain": [
       "21413150   2017-09-16 12:13:36.463305728\n",
       "21413151   2017-09-16 12:13:37.463519744\n",
       "21413152   2017-09-16 12:13:38.463524352\n",
       "21413153   2017-09-16 12:13:39.464573440\n",
       "21413154   2017-09-16 12:13:40.463225344\n",
       "Name: time, dtype: datetime64[ns]"
      ]
     },
     "execution_count": 7,
     "metadata": {},
     "output_type": "execute_result"
    }
   ],
   "source": [
    "platform_data['time'].tail()"
   ]
  },
  {
   "cell_type": "markdown",
   "id": "concerned-envelope",
   "metadata": {},
   "source": [
    "Then use it in a mask to slice the METBK data to match."
   ]
  },
  {
   "cell_type": "code",
   "execution_count": 8,
   "id": "lucky-swaziland",
   "metadata": {},
   "outputs": [],
   "source": [
    "mask = (METBK_data['time'][:] > '2017-01-01') & (METBK_data['time'] <= '2017-09-16')\n",
    "METBK_data = METBK_data.loc[mask]\n",
    "\n",
    "mask = (platform_data['time'][:] > '2017-01-01') & (platform_data['time'] <= '2017-09-16')\n",
    "platform_data = platform_data.loc[mask]"
   ]
  },
  {
   "cell_type": "code",
   "execution_count": 9,
   "id": "indie-student",
   "metadata": {},
   "outputs": [
    {
     "data": {
      "text/plain": [
       "372170   2017-09-15 23:55:29.374000128\n",
       "372171   2017-09-15 23:56:33.941000192\n",
       "372172   2017-09-15 23:57:38.194000384\n",
       "372173   2017-09-15 23:58:42.480999936\n",
       "372174   2017-09-15 23:59:46.709000192\n",
       "Name: time, dtype: datetime64[ns]"
      ]
     },
     "execution_count": 9,
     "metadata": {},
     "output_type": "execute_result"
    }
   ],
   "source": [
    "METBK_data['time'].tail()"
   ]
  },
  {
   "cell_type": "markdown",
   "id": "painted-christmas",
   "metadata": {},
   "source": [
    "Next, we should resample the platform data into 1 hour intervals so it's closer to the time interval seen in the METBK data."
   ]
  },
  {
   "cell_type": "code",
   "execution_count": 10,
   "id": "subject-southwest",
   "metadata": {},
   "outputs": [
    {
     "data": {
      "text/plain": [
       "0    2017-01-01 00:00:30.432000000\n",
       "1    2017-01-01 00:01:37.298999808\n",
       "2    2017-01-01 00:02:41.522000384\n",
       "3    2017-01-01 00:03:46.300000256\n",
       "4    2017-01-01 00:04:50.525000192\n",
       "5    2017-01-01 00:05:54.762999808\n",
       "6    2017-01-01 00:06:58.998000128\n",
       "7    2017-01-01 00:07:31.111000064\n",
       "8    2017-01-01 00:08:36.003999744\n",
       "9    2017-01-01 00:09:40.264000000\n",
       "10   2017-01-01 00:10:44.499999744\n",
       "11   2017-01-01 00:11:49.525000192\n",
       "12   2017-01-01 00:12:56.161999872\n",
       "13   2017-01-01 00:13:30.575000064\n",
       "14   2017-01-01 00:14:34.812999680\n",
       "15   2017-01-01 00:15:38.352999936\n",
       "16   2017-01-01 00:16:42.584999936\n",
       "17   2017-01-01 00:17:47.187000320\n",
       "18   2017-01-01 00:18:51.496999936\n",
       "19   2017-01-01 00:19:55.993999872\n",
       "Name: time, dtype: datetime64[ns]"
      ]
     },
     "execution_count": 10,
     "metadata": {},
     "output_type": "execute_result"
    }
   ],
   "source": [
    "METBK_data['time'][:20]"
   ]
  },
  {
   "cell_type": "code",
   "execution_count": 11,
   "id": "decreased-singer",
   "metadata": {},
   "outputs": [
    {
     "data": {
      "text/plain": [
       "0    2017-01-01 00:00:00.358334464\n",
       "1    2017-01-01 00:00:01.358341632\n",
       "2    2017-01-01 00:00:02.358451712\n",
       "3    2017-01-01 00:00:03.358353408\n",
       "4    2017-01-01 00:00:04.359924736\n",
       "5    2017-01-01 00:00:05.358471680\n",
       "6    2017-01-01 00:00:06.358373888\n",
       "7    2017-01-01 00:00:07.358381568\n",
       "8    2017-01-01 00:00:08.358491648\n",
       "9    2017-01-01 00:00:09.358393856\n",
       "10   2017-01-01 00:00:10.358401536\n",
       "11   2017-01-01 00:00:11.358616064\n",
       "12   2017-01-01 00:00:12.358309888\n",
       "13   2017-01-01 00:00:13.358525952\n",
       "14   2017-01-01 00:00:14.359156736\n",
       "15   2017-01-01 00:00:15.358537728\n",
       "16   2017-01-01 00:00:16.358440960\n",
       "17   2017-01-01 00:00:17.358550528\n",
       "18   2017-01-01 00:00:18.358349824\n",
       "19   2017-01-01 00:00:19.358460928\n",
       "Name: time, dtype: datetime64[ns]"
      ]
     },
     "execution_count": 11,
     "metadata": {},
     "output_type": "execute_result"
    }
   ],
   "source": [
    "platform_data['time'][:20]"
   ]
  },
  {
   "cell_type": "markdown",
   "id": "underlying-graph",
   "metadata": {},
   "source": [
    "Unfortunately, it looks like the METBK data is collected at inconsistent intervals. I want to see if resampling the "
   ]
  },
  {
   "cell_type": "code",
   "execution_count": 12,
   "id": "handy-kitchen",
   "metadata": {},
   "outputs": [
    {
     "name": "stdout",
     "output_type": "stream",
     "text": [
      "(356206, 4)\n"
     ]
    }
   ],
   "source": [
    "platform_min = platform_data.resample('T', on='time').mean().dropna(how='all').reset_index()\n",
    "print(platform_min.shape)"
   ]
  },
  {
   "cell_type": "code",
   "execution_count": 13,
   "id": "moving-combination",
   "metadata": {},
   "outputs": [
    {
     "name": "stdout",
     "output_type": "stream",
     "text": [
      "(346333, 2)\n"
     ]
    }
   ],
   "source": [
    "METBK_min = METBK_data.resample('T', on='time').mean().dropna(how='all').reset_index()\n",
    "print(METBK_min.shape)"
   ]
  },
  {
   "cell_type": "code",
   "execution_count": 14,
   "id": "practical-central",
   "metadata": {},
   "outputs": [
    {
     "data": {
      "text/plain": [
       "0        2017-01-01 00:00:00\n",
       "1        2017-01-01 00:01:00\n",
       "2        2017-01-01 00:02:00\n",
       "3        2017-01-01 00:03:00\n",
       "4        2017-01-01 00:04:00\n",
       "                 ...        \n",
       "356201   2017-09-15 23:55:00\n",
       "356202   2017-09-15 23:56:00\n",
       "356203   2017-09-15 23:57:00\n",
       "356204   2017-09-15 23:58:00\n",
       "356205   2017-09-15 23:59:00\n",
       "Name: time, Length: 356206, dtype: datetime64[ns]"
      ]
     },
     "execution_count": 14,
     "metadata": {},
     "output_type": "execute_result"
    }
   ],
   "source": [
    "platform_min['time']"
   ]
  },
  {
   "cell_type": "code",
   "execution_count": 15,
   "id": "alpha-grounds",
   "metadata": {},
   "outputs": [
    {
     "data": {
      "text/plain": [
       "0        2017-01-01 00:00:00\n",
       "1        2017-01-01 00:01:00\n",
       "2        2017-01-01 00:02:00\n",
       "3        2017-01-01 00:03:00\n",
       "4        2017-01-01 00:04:00\n",
       "                 ...        \n",
       "346328   2017-09-15 23:55:00\n",
       "346329   2017-09-15 23:56:00\n",
       "346330   2017-09-15 23:57:00\n",
       "346331   2017-09-15 23:58:00\n",
       "346332   2017-09-15 23:59:00\n",
       "Name: time, Length: 346333, dtype: datetime64[ns]"
      ]
     },
     "execution_count": 15,
     "metadata": {},
     "output_type": "execute_result"
    }
   ],
   "source": [
    "METBK_min['time']"
   ]
  },
  {
   "cell_type": "code",
   "execution_count": 16,
   "id": "noble-speech",
   "metadata": {},
   "outputs": [],
   "source": [
    "indices = []\n",
    "for i in range(len(METBK_min['time'])):\n",
    "    if METBK_min['time'][i] != platform_min['time'][i]:\n",
    "        indices.append(i)"
   ]
  },
  {
   "cell_type": "code",
   "execution_count": 17,
   "id": "unauthorized-crazy",
   "metadata": {},
   "outputs": [
    {
     "data": {
      "text/plain": [
       "345535"
      ]
     },
     "execution_count": 17,
     "metadata": {},
     "output_type": "execute_result"
    }
   ],
   "source": [
    "len(indices)"
   ]
  },
  {
   "cell_type": "code",
   "execution_count": 18,
   "id": "obvious-hamilton",
   "metadata": {},
   "outputs": [
    {
     "data": {
      "text/html": [
       "<div>\n",
       "<style scoped>\n",
       "    .dataframe tbody tr th:only-of-type {\n",
       "        vertical-align: middle;\n",
       "    }\n",
       "\n",
       "    .dataframe tbody tr th {\n",
       "        vertical-align: top;\n",
       "    }\n",
       "\n",
       "    .dataframe thead th {\n",
       "        text-align: right;\n",
       "    }\n",
       "</style>\n",
       "<table border=\"1\" class=\"dataframe\">\n",
       "  <thead>\n",
       "    <tr style=\"text-align: right;\">\n",
       "      <th></th>\n",
       "      <th>time</th>\n",
       "      <th>density</th>\n",
       "      <th>practical_salinity</th>\n",
       "      <th>seawater_temperature</th>\n",
       "    </tr>\n",
       "  </thead>\n",
       "  <tbody>\n",
       "    <tr>\n",
       "      <th>0</th>\n",
       "      <td>2017-01-01 00:00:00</td>\n",
       "      <td>1027.258767</td>\n",
       "      <td>33.916755</td>\n",
       "      <td>7.766451</td>\n",
       "    </tr>\n",
       "    <tr>\n",
       "      <th>1</th>\n",
       "      <td>2017-01-01 00:01:00</td>\n",
       "      <td>1027.260164</td>\n",
       "      <td>33.917475</td>\n",
       "      <td>7.760876</td>\n",
       "    </tr>\n",
       "    <tr>\n",
       "      <th>2</th>\n",
       "      <td>2017-01-01 00:02:00</td>\n",
       "      <td>1027.258920</td>\n",
       "      <td>33.917249</td>\n",
       "      <td>7.767207</td>\n",
       "    </tr>\n",
       "    <tr>\n",
       "      <th>3</th>\n",
       "      <td>2017-01-01 00:03:00</td>\n",
       "      <td>1027.258097</td>\n",
       "      <td>33.916964</td>\n",
       "      <td>7.771317</td>\n",
       "    </tr>\n",
       "    <tr>\n",
       "      <th>4</th>\n",
       "      <td>2017-01-01 00:04:00</td>\n",
       "      <td>1027.258173</td>\n",
       "      <td>33.917076</td>\n",
       "      <td>7.771017</td>\n",
       "    </tr>\n",
       "    <tr>\n",
       "      <th>...</th>\n",
       "      <td>...</td>\n",
       "      <td>...</td>\n",
       "      <td>...</td>\n",
       "      <td>...</td>\n",
       "    </tr>\n",
       "    <tr>\n",
       "      <th>356201</th>\n",
       "      <td>2017-09-15 23:55:00</td>\n",
       "      <td>1027.366397</td>\n",
       "      <td>33.960043</td>\n",
       "      <td>7.866675</td>\n",
       "    </tr>\n",
       "    <tr>\n",
       "      <th>356202</th>\n",
       "      <td>2017-09-15 23:56:00</td>\n",
       "      <td>1027.366555</td>\n",
       "      <td>33.960125</td>\n",
       "      <td>7.866182</td>\n",
       "    </tr>\n",
       "    <tr>\n",
       "      <th>356203</th>\n",
       "      <td>2017-09-15 23:57:00</td>\n",
       "      <td>1027.365319</td>\n",
       "      <td>33.959667</td>\n",
       "      <td>7.872284</td>\n",
       "    </tr>\n",
       "    <tr>\n",
       "      <th>356204</th>\n",
       "      <td>2017-09-15 23:58:00</td>\n",
       "      <td>1027.364325</td>\n",
       "      <td>33.959192</td>\n",
       "      <td>7.876495</td>\n",
       "    </tr>\n",
       "    <tr>\n",
       "      <th>356205</th>\n",
       "      <td>2017-09-15 23:59:00</td>\n",
       "      <td>1027.361044</td>\n",
       "      <td>33.957907</td>\n",
       "      <td>7.891755</td>\n",
       "    </tr>\n",
       "  </tbody>\n",
       "</table>\n",
       "<p>356206 rows × 4 columns</p>\n",
       "</div>"
      ],
      "text/plain": [
       "                      time      density  practical_salinity  \\\n",
       "0      2017-01-01 00:00:00  1027.258767           33.916755   \n",
       "1      2017-01-01 00:01:00  1027.260164           33.917475   \n",
       "2      2017-01-01 00:02:00  1027.258920           33.917249   \n",
       "3      2017-01-01 00:03:00  1027.258097           33.916964   \n",
       "4      2017-01-01 00:04:00  1027.258173           33.917076   \n",
       "...                    ...          ...                 ...   \n",
       "356201 2017-09-15 23:55:00  1027.366397           33.960043   \n",
       "356202 2017-09-15 23:56:00  1027.366555           33.960125   \n",
       "356203 2017-09-15 23:57:00  1027.365319           33.959667   \n",
       "356204 2017-09-15 23:58:00  1027.364325           33.959192   \n",
       "356205 2017-09-15 23:59:00  1027.361044           33.957907   \n",
       "\n",
       "        seawater_temperature  \n",
       "0                   7.766451  \n",
       "1                   7.760876  \n",
       "2                   7.767207  \n",
       "3                   7.771317  \n",
       "4                   7.771017  \n",
       "...                      ...  \n",
       "356201              7.866675  \n",
       "356202              7.866182  \n",
       "356203              7.872284  \n",
       "356204              7.876495  \n",
       "356205              7.891755  \n",
       "\n",
       "[356206 rows x 4 columns]"
      ]
     },
     "execution_count": 18,
     "metadata": {},
     "output_type": "execute_result"
    }
   ],
   "source": [
    "platform_min"
   ]
  },
  {
   "cell_type": "code",
   "execution_count": 19,
   "id": "biological-locking",
   "metadata": {},
   "outputs": [
    {
     "data": {
      "text/html": [
       "<div>\n",
       "<style scoped>\n",
       "    .dataframe tbody tr th:only-of-type {\n",
       "        vertical-align: middle;\n",
       "    }\n",
       "\n",
       "    .dataframe tbody tr th {\n",
       "        vertical-align: top;\n",
       "    }\n",
       "\n",
       "    .dataframe thead th {\n",
       "        text-align: right;\n",
       "    }\n",
       "</style>\n",
       "<table border=\"1\" class=\"dataframe\">\n",
       "  <thead>\n",
       "    <tr style=\"text-align: right;\">\n",
       "      <th></th>\n",
       "      <th>time</th>\n",
       "      <th>sea_surface_temperature</th>\n",
       "    </tr>\n",
       "  </thead>\n",
       "  <tbody>\n",
       "    <tr>\n",
       "      <th>0</th>\n",
       "      <td>2017-01-01 00:00:00</td>\n",
       "      <td>11.273</td>\n",
       "    </tr>\n",
       "    <tr>\n",
       "      <th>1</th>\n",
       "      <td>2017-01-01 00:01:00</td>\n",
       "      <td>11.268</td>\n",
       "    </tr>\n",
       "    <tr>\n",
       "      <th>2</th>\n",
       "      <td>2017-01-01 00:02:00</td>\n",
       "      <td>11.267</td>\n",
       "    </tr>\n",
       "    <tr>\n",
       "      <th>3</th>\n",
       "      <td>2017-01-01 00:03:00</td>\n",
       "      <td>11.267</td>\n",
       "    </tr>\n",
       "    <tr>\n",
       "      <th>4</th>\n",
       "      <td>2017-01-01 00:04:00</td>\n",
       "      <td>11.278</td>\n",
       "    </tr>\n",
       "    <tr>\n",
       "      <th>...</th>\n",
       "      <td>...</td>\n",
       "      <td>...</td>\n",
       "    </tr>\n",
       "    <tr>\n",
       "      <th>346328</th>\n",
       "      <td>2017-09-15 23:55:00</td>\n",
       "      <td>15.198</td>\n",
       "    </tr>\n",
       "    <tr>\n",
       "      <th>346329</th>\n",
       "      <td>2017-09-15 23:56:00</td>\n",
       "      <td>15.171</td>\n",
       "    </tr>\n",
       "    <tr>\n",
       "      <th>346330</th>\n",
       "      <td>2017-09-15 23:57:00</td>\n",
       "      <td>15.158</td>\n",
       "    </tr>\n",
       "    <tr>\n",
       "      <th>346331</th>\n",
       "      <td>2017-09-15 23:58:00</td>\n",
       "      <td>15.199</td>\n",
       "    </tr>\n",
       "    <tr>\n",
       "      <th>346332</th>\n",
       "      <td>2017-09-15 23:59:00</td>\n",
       "      <td>15.195</td>\n",
       "    </tr>\n",
       "  </tbody>\n",
       "</table>\n",
       "<p>346333 rows × 2 columns</p>\n",
       "</div>"
      ],
      "text/plain": [
       "                      time  sea_surface_temperature\n",
       "0      2017-01-01 00:00:00                   11.273\n",
       "1      2017-01-01 00:01:00                   11.268\n",
       "2      2017-01-01 00:02:00                   11.267\n",
       "3      2017-01-01 00:03:00                   11.267\n",
       "4      2017-01-01 00:04:00                   11.278\n",
       "...                    ...                      ...\n",
       "346328 2017-09-15 23:55:00                   15.198\n",
       "346329 2017-09-15 23:56:00                   15.171\n",
       "346330 2017-09-15 23:57:00                   15.158\n",
       "346331 2017-09-15 23:58:00                   15.199\n",
       "346332 2017-09-15 23:59:00                   15.195\n",
       "\n",
       "[346333 rows x 2 columns]"
      ]
     },
     "execution_count": 19,
     "metadata": {},
     "output_type": "execute_result"
    }
   ],
   "source": [
    "METBK_min"
   ]
  },
  {
   "cell_type": "code",
   "execution_count": 20,
   "id": "secure-excitement",
   "metadata": {},
   "outputs": [],
   "source": [
    "df = pd.merge(platform_min, METBK_min, on='time', how='right')"
   ]
  },
  {
   "cell_type": "code",
   "execution_count": 21,
   "id": "indirect-world",
   "metadata": {},
   "outputs": [
    {
     "name": "stdout",
     "output_type": "stream",
     "text": [
      "(356206, 4)\n",
      "(346333, 2)\n",
      "(346333, 5)\n"
     ]
    }
   ],
   "source": [
    "print(platform_min.shape)\n",
    "print(METBK_min.shape)\n",
    "print(df.shape)"
   ]
  },
  {
   "cell_type": "markdown",
   "id": "damaged-concept",
   "metadata": {},
   "source": [
    "Let's check out the percentage of our data that is filled with nulls:"
   ]
  },
  {
   "cell_type": "code",
   "execution_count": 22,
   "id": "departmental-corrections",
   "metadata": {},
   "outputs": [
    {
     "data": {
      "text/plain": [
       "time                       0.000000\n",
       "density                    4.319542\n",
       "practical_salinity         4.319542\n",
       "seawater_temperature       4.319542\n",
       "sea_surface_temperature    0.000000\n",
       "dtype: float64"
      ]
     },
     "execution_count": 22,
     "metadata": {},
     "output_type": "execute_result"
    }
   ],
   "source": [
    "100 * df.isna().sum() / len(df) "
   ]
  },
  {
   "cell_type": "code",
   "execution_count": 23,
   "id": "cleared-blame",
   "metadata": {},
   "outputs": [
    {
     "data": {
      "text/plain": [
       "0         7.766451\n",
       "1         7.760876\n",
       "2         7.767207\n",
       "3         7.771317\n",
       "4         7.771017\n",
       "            ...   \n",
       "346328    7.866675\n",
       "346329    7.866182\n",
       "346330    7.872284\n",
       "346331    7.876495\n",
       "346332    7.891755\n",
       "Name: seawater_temperature, Length: 346333, dtype: float64"
      ]
     },
     "execution_count": 23,
     "metadata": {},
     "output_type": "execute_result"
    }
   ],
   "source": [
    "df['seawater_temperature']"
   ]
  },
  {
   "cell_type": "code",
   "execution_count": 24,
   "id": "frank-intellectual",
   "metadata": {},
   "outputs": [
    {
     "data": {
      "text/html": [
       "<div>\n",
       "<style scoped>\n",
       "    .dataframe tbody tr th:only-of-type {\n",
       "        vertical-align: middle;\n",
       "    }\n",
       "\n",
       "    .dataframe tbody tr th {\n",
       "        vertical-align: top;\n",
       "    }\n",
       "\n",
       "    .dataframe thead th {\n",
       "        text-align: right;\n",
       "    }\n",
       "</style>\n",
       "<table border=\"1\" class=\"dataframe\">\n",
       "  <thead>\n",
       "    <tr style=\"text-align: right;\">\n",
       "      <th></th>\n",
       "      <th>time</th>\n",
       "      <th>density</th>\n",
       "      <th>practical_salinity</th>\n",
       "      <th>seawater_temperature</th>\n",
       "      <th>sea_surface_temperature</th>\n",
       "    </tr>\n",
       "  </thead>\n",
       "  <tbody>\n",
       "    <tr>\n",
       "      <th>0</th>\n",
       "      <td>2017-01-01 00:00:00</td>\n",
       "      <td>1027.258767</td>\n",
       "      <td>33.916755</td>\n",
       "      <td>7.766451</td>\n",
       "      <td>11.273</td>\n",
       "    </tr>\n",
       "    <tr>\n",
       "      <th>1</th>\n",
       "      <td>2017-01-01 00:01:00</td>\n",
       "      <td>1027.260164</td>\n",
       "      <td>33.917475</td>\n",
       "      <td>7.760876</td>\n",
       "      <td>11.268</td>\n",
       "    </tr>\n",
       "    <tr>\n",
       "      <th>2</th>\n",
       "      <td>2017-01-01 00:02:00</td>\n",
       "      <td>1027.258920</td>\n",
       "      <td>33.917249</td>\n",
       "      <td>7.767207</td>\n",
       "      <td>11.267</td>\n",
       "    </tr>\n",
       "    <tr>\n",
       "      <th>3</th>\n",
       "      <td>2017-01-01 00:03:00</td>\n",
       "      <td>1027.258097</td>\n",
       "      <td>33.916964</td>\n",
       "      <td>7.771317</td>\n",
       "      <td>11.267</td>\n",
       "    </tr>\n",
       "    <tr>\n",
       "      <th>4</th>\n",
       "      <td>2017-01-01 00:04:00</td>\n",
       "      <td>1027.258173</td>\n",
       "      <td>33.917076</td>\n",
       "      <td>7.771017</td>\n",
       "      <td>11.278</td>\n",
       "    </tr>\n",
       "    <tr>\n",
       "      <th>...</th>\n",
       "      <td>...</td>\n",
       "      <td>...</td>\n",
       "      <td>...</td>\n",
       "      <td>...</td>\n",
       "      <td>...</td>\n",
       "    </tr>\n",
       "    <tr>\n",
       "      <th>346328</th>\n",
       "      <td>2017-09-15 23:55:00</td>\n",
       "      <td>1027.366397</td>\n",
       "      <td>33.960043</td>\n",
       "      <td>7.866675</td>\n",
       "      <td>15.198</td>\n",
       "    </tr>\n",
       "    <tr>\n",
       "      <th>346329</th>\n",
       "      <td>2017-09-15 23:56:00</td>\n",
       "      <td>1027.366555</td>\n",
       "      <td>33.960125</td>\n",
       "      <td>7.866182</td>\n",
       "      <td>15.171</td>\n",
       "    </tr>\n",
       "    <tr>\n",
       "      <th>346330</th>\n",
       "      <td>2017-09-15 23:57:00</td>\n",
       "      <td>1027.365319</td>\n",
       "      <td>33.959667</td>\n",
       "      <td>7.872284</td>\n",
       "      <td>15.158</td>\n",
       "    </tr>\n",
       "    <tr>\n",
       "      <th>346331</th>\n",
       "      <td>2017-09-15 23:58:00</td>\n",
       "      <td>1027.364325</td>\n",
       "      <td>33.959192</td>\n",
       "      <td>7.876495</td>\n",
       "      <td>15.199</td>\n",
       "    </tr>\n",
       "    <tr>\n",
       "      <th>346332</th>\n",
       "      <td>2017-09-15 23:59:00</td>\n",
       "      <td>1027.361044</td>\n",
       "      <td>33.957907</td>\n",
       "      <td>7.891755</td>\n",
       "      <td>15.195</td>\n",
       "    </tr>\n",
       "  </tbody>\n",
       "</table>\n",
       "<p>346333 rows × 5 columns</p>\n",
       "</div>"
      ],
      "text/plain": [
       "                      time      density  practical_salinity  \\\n",
       "0      2017-01-01 00:00:00  1027.258767           33.916755   \n",
       "1      2017-01-01 00:01:00  1027.260164           33.917475   \n",
       "2      2017-01-01 00:02:00  1027.258920           33.917249   \n",
       "3      2017-01-01 00:03:00  1027.258097           33.916964   \n",
       "4      2017-01-01 00:04:00  1027.258173           33.917076   \n",
       "...                    ...          ...                 ...   \n",
       "346328 2017-09-15 23:55:00  1027.366397           33.960043   \n",
       "346329 2017-09-15 23:56:00  1027.366555           33.960125   \n",
       "346330 2017-09-15 23:57:00  1027.365319           33.959667   \n",
       "346331 2017-09-15 23:58:00  1027.364325           33.959192   \n",
       "346332 2017-09-15 23:59:00  1027.361044           33.957907   \n",
       "\n",
       "        seawater_temperature  sea_surface_temperature  \n",
       "0                   7.766451                   11.273  \n",
       "1                   7.760876                   11.268  \n",
       "2                   7.767207                   11.267  \n",
       "3                   7.771317                   11.267  \n",
       "4                   7.771017                   11.278  \n",
       "...                      ...                      ...  \n",
       "346328              7.866675                   15.198  \n",
       "346329              7.866182                   15.171  \n",
       "346330              7.872284                   15.158  \n",
       "346331              7.876495                   15.199  \n",
       "346332              7.891755                   15.195  \n",
       "\n",
       "[346333 rows x 5 columns]"
      ]
     },
     "execution_count": 24,
     "metadata": {},
     "output_type": "execute_result"
    }
   ],
   "source": [
    "df"
   ]
  },
  {
   "cell_type": "code",
   "execution_count": 25,
   "id": "social-theorem",
   "metadata": {},
   "outputs": [
    {
     "data": {
      "text/html": [
       "<div>\n",
       "<style scoped>\n",
       "    .dataframe tbody tr th:only-of-type {\n",
       "        vertical-align: middle;\n",
       "    }\n",
       "\n",
       "    .dataframe tbody tr th {\n",
       "        vertical-align: top;\n",
       "    }\n",
       "\n",
       "    .dataframe thead th {\n",
       "        text-align: right;\n",
       "    }\n",
       "</style>\n",
       "<table border=\"1\" class=\"dataframe\">\n",
       "  <thead>\n",
       "    <tr style=\"text-align: right;\">\n",
       "      <th></th>\n",
       "      <th>time</th>\n",
       "      <th>density</th>\n",
       "      <th>practical_salinity</th>\n",
       "      <th>seawater_temperature</th>\n",
       "      <th>sea_surface_temperature</th>\n",
       "    </tr>\n",
       "  </thead>\n",
       "  <tbody>\n",
       "  </tbody>\n",
       "</table>\n",
       "</div>"
      ],
      "text/plain": [
       "Empty DataFrame\n",
       "Columns: [time, density, practical_salinity, seawater_temperature, sea_surface_temperature]\n",
       "Index: []"
      ]
     },
     "execution_count": 25,
     "metadata": {},
     "output_type": "execute_result"
    }
   ],
   "source": [
    "df.loc[df['seawater_temperature'] < 0]"
   ]
  },
  {
   "cell_type": "code",
   "execution_count": 26,
   "id": "modern-casting",
   "metadata": {},
   "outputs": [
    {
     "data": {
      "text/plain": [
       "time                           0\n",
       "density                    14960\n",
       "practical_salinity         14960\n",
       "seawater_temperature       14960\n",
       "sea_surface_temperature        0\n",
       "dtype: int64"
      ]
     },
     "execution_count": 26,
     "metadata": {},
     "output_type": "execute_result"
    }
   ],
   "source": [
    "df.isna().sum()"
   ]
  },
  {
   "cell_type": "code",
   "execution_count": 27,
   "id": "exempt-surveillance",
   "metadata": {},
   "outputs": [],
   "source": [
    "df = df.dropna().reset_index(drop=True)"
   ]
  },
  {
   "cell_type": "code",
   "execution_count": 28,
   "id": "distinct-democrat",
   "metadata": {},
   "outputs": [
    {
     "data": {
      "text/html": [
       "<div>\n",
       "<style scoped>\n",
       "    .dataframe tbody tr th:only-of-type {\n",
       "        vertical-align: middle;\n",
       "    }\n",
       "\n",
       "    .dataframe tbody tr th {\n",
       "        vertical-align: top;\n",
       "    }\n",
       "\n",
       "    .dataframe thead th {\n",
       "        text-align: right;\n",
       "    }\n",
       "</style>\n",
       "<table border=\"1\" class=\"dataframe\">\n",
       "  <thead>\n",
       "    <tr style=\"text-align: right;\">\n",
       "      <th></th>\n",
       "      <th>time</th>\n",
       "      <th>density</th>\n",
       "      <th>practical_salinity</th>\n",
       "      <th>seawater_temperature</th>\n",
       "      <th>sea_surface_temperature</th>\n",
       "    </tr>\n",
       "  </thead>\n",
       "  <tbody>\n",
       "    <tr>\n",
       "      <th>0</th>\n",
       "      <td>2017-01-01 00:00:00</td>\n",
       "      <td>1027.258767</td>\n",
       "      <td>33.916755</td>\n",
       "      <td>7.766451</td>\n",
       "      <td>11.273</td>\n",
       "    </tr>\n",
       "    <tr>\n",
       "      <th>1</th>\n",
       "      <td>2017-01-01 00:01:00</td>\n",
       "      <td>1027.260164</td>\n",
       "      <td>33.917475</td>\n",
       "      <td>7.760876</td>\n",
       "      <td>11.268</td>\n",
       "    </tr>\n",
       "    <tr>\n",
       "      <th>2</th>\n",
       "      <td>2017-01-01 00:02:00</td>\n",
       "      <td>1027.258920</td>\n",
       "      <td>33.917249</td>\n",
       "      <td>7.767207</td>\n",
       "      <td>11.267</td>\n",
       "    </tr>\n",
       "    <tr>\n",
       "      <th>3</th>\n",
       "      <td>2017-01-01 00:03:00</td>\n",
       "      <td>1027.258097</td>\n",
       "      <td>33.916964</td>\n",
       "      <td>7.771317</td>\n",
       "      <td>11.267</td>\n",
       "    </tr>\n",
       "    <tr>\n",
       "      <th>4</th>\n",
       "      <td>2017-01-01 00:04:00</td>\n",
       "      <td>1027.258173</td>\n",
       "      <td>33.917076</td>\n",
       "      <td>7.771017</td>\n",
       "      <td>11.278</td>\n",
       "    </tr>\n",
       "    <tr>\n",
       "      <th>...</th>\n",
       "      <td>...</td>\n",
       "      <td>...</td>\n",
       "      <td>...</td>\n",
       "      <td>...</td>\n",
       "      <td>...</td>\n",
       "    </tr>\n",
       "    <tr>\n",
       "      <th>331368</th>\n",
       "      <td>2017-09-15 23:55:00</td>\n",
       "      <td>1027.366397</td>\n",
       "      <td>33.960043</td>\n",
       "      <td>7.866675</td>\n",
       "      <td>15.198</td>\n",
       "    </tr>\n",
       "    <tr>\n",
       "      <th>331369</th>\n",
       "      <td>2017-09-15 23:56:00</td>\n",
       "      <td>1027.366555</td>\n",
       "      <td>33.960125</td>\n",
       "      <td>7.866182</td>\n",
       "      <td>15.171</td>\n",
       "    </tr>\n",
       "    <tr>\n",
       "      <th>331370</th>\n",
       "      <td>2017-09-15 23:57:00</td>\n",
       "      <td>1027.365319</td>\n",
       "      <td>33.959667</td>\n",
       "      <td>7.872284</td>\n",
       "      <td>15.158</td>\n",
       "    </tr>\n",
       "    <tr>\n",
       "      <th>331371</th>\n",
       "      <td>2017-09-15 23:58:00</td>\n",
       "      <td>1027.364325</td>\n",
       "      <td>33.959192</td>\n",
       "      <td>7.876495</td>\n",
       "      <td>15.199</td>\n",
       "    </tr>\n",
       "    <tr>\n",
       "      <th>331372</th>\n",
       "      <td>2017-09-15 23:59:00</td>\n",
       "      <td>1027.361044</td>\n",
       "      <td>33.957907</td>\n",
       "      <td>7.891755</td>\n",
       "      <td>15.195</td>\n",
       "    </tr>\n",
       "  </tbody>\n",
       "</table>\n",
       "<p>331373 rows × 5 columns</p>\n",
       "</div>"
      ],
      "text/plain": [
       "                      time      density  practical_salinity  \\\n",
       "0      2017-01-01 00:00:00  1027.258767           33.916755   \n",
       "1      2017-01-01 00:01:00  1027.260164           33.917475   \n",
       "2      2017-01-01 00:02:00  1027.258920           33.917249   \n",
       "3      2017-01-01 00:03:00  1027.258097           33.916964   \n",
       "4      2017-01-01 00:04:00  1027.258173           33.917076   \n",
       "...                    ...          ...                 ...   \n",
       "331368 2017-09-15 23:55:00  1027.366397           33.960043   \n",
       "331369 2017-09-15 23:56:00  1027.366555           33.960125   \n",
       "331370 2017-09-15 23:57:00  1027.365319           33.959667   \n",
       "331371 2017-09-15 23:58:00  1027.364325           33.959192   \n",
       "331372 2017-09-15 23:59:00  1027.361044           33.957907   \n",
       "\n",
       "        seawater_temperature  sea_surface_temperature  \n",
       "0                   7.766451                   11.273  \n",
       "1                   7.760876                   11.268  \n",
       "2                   7.767207                   11.267  \n",
       "3                   7.771317                   11.267  \n",
       "4                   7.771017                   11.278  \n",
       "...                      ...                      ...  \n",
       "331368              7.866675                   15.198  \n",
       "331369              7.866182                   15.171  \n",
       "331370              7.872284                   15.158  \n",
       "331371              7.876495                   15.199  \n",
       "331372              7.891755                   15.195  \n",
       "\n",
       "[331373 rows x 5 columns]"
      ]
     },
     "execution_count": 28,
     "metadata": {},
     "output_type": "execute_result"
    }
   ],
   "source": [
    "df"
   ]
  },
  {
   "cell_type": "code",
   "execution_count": 29,
   "id": "characteristic-necessity",
   "metadata": {},
   "outputs": [
    {
     "data": {
      "image/png": "[encoded data removed]",
      "text/plain": [
       "<Figure size 1728x864 with 2 Axes>"
      ]
     },
     "metadata": {},
     "output_type": "display_data"
    }
   ],
   "source": [
    "fig, (ax2, ax1) = plt.subplots(2,1, sharex=True, figsize = (24, 12)) \n",
    "ax1.scatter(x=df['time'], y=df['seawater_temperature'], c='g', s=1)\n",
    "ax1.set_ylabel('Seawater Temperature at 200 meters', size=24)\n",
    "ax1.set_title('Platform data', size=24)\n",
    "\n",
    "ax2.scatter(x=df['time'], y=df['sea_surface_temperature'], c='b', s=1)\n",
    "ax2.set_xlabel('Time', size=24)\n",
    "ax2.set_ylabel('Sea Surface Temperature', size=24)\n",
    "ax2.set_title('METBK data', size=24)\n",
    "\n",
    "\n",
    "plt.xticks(rotation=35);\n",
    "plt.tight_layout()"
   ]
  },
  {
   "cell_type": "markdown",
   "id": "actual-bloom",
   "metadata": {},
   "source": [
    "In the plot above we can see some areas where data is missing, but this is less than 5% of our total data so hopefully we'll survive! Next, we need to append the CUTI index data to this dataframe."
   ]
  },
  {
   "cell_type": "markdown",
   "id": "impressive-ceiling",
   "metadata": {},
   "source": [
    "---\n",
    "### Appending the CUTI index\n",
    "\n",
    "Now we can add the upwelling index to this dataframe. First, we only need the upwelling index for the year 2017 at the location 44 degrees North, so let's grab that slice."
   ]
  },
  {
   "cell_type": "code",
   "execution_count": 30,
   "id": "paperback-anaheim",
   "metadata": {},
   "outputs": [],
   "source": [
    "CUTI_data = CUTI_data[CUTI_data['time'].dt.year == 2017][['time', '44N']].reset_index(drop=True)"
   ]
  },
  {
   "cell_type": "code",
   "execution_count": 31,
   "id": "consistent-ferry",
   "metadata": {},
   "outputs": [
    {
     "data": {
      "text/html": [
       "<div>\n",
       "<style scoped>\n",
       "    .dataframe tbody tr th:only-of-type {\n",
       "        vertical-align: middle;\n",
       "    }\n",
       "\n",
       "    .dataframe tbody tr th {\n",
       "        vertical-align: top;\n",
       "    }\n",
       "\n",
       "    .dataframe thead th {\n",
       "        text-align: right;\n",
       "    }\n",
       "</style>\n",
       "<table border=\"1\" class=\"dataframe\">\n",
       "  <thead>\n",
       "    <tr style=\"text-align: right;\">\n",
       "      <th></th>\n",
       "      <th>time</th>\n",
       "      <th>44N</th>\n",
       "    </tr>\n",
       "  </thead>\n",
       "  <tbody>\n",
       "    <tr>\n",
       "      <th>0</th>\n",
       "      <td>2017-01-01</td>\n",
       "      <td>1.731</td>\n",
       "    </tr>\n",
       "    <tr>\n",
       "      <th>1</th>\n",
       "      <td>2017-01-02</td>\n",
       "      <td>1.308</td>\n",
       "    </tr>\n",
       "    <tr>\n",
       "      <th>2</th>\n",
       "      <td>2017-01-03</td>\n",
       "      <td>0.360</td>\n",
       "    </tr>\n",
       "    <tr>\n",
       "      <th>3</th>\n",
       "      <td>2017-01-04</td>\n",
       "      <td>0.742</td>\n",
       "    </tr>\n",
       "    <tr>\n",
       "      <th>4</th>\n",
       "      <td>2017-01-05</td>\n",
       "      <td>1.469</td>\n",
       "    </tr>\n",
       "    <tr>\n",
       "      <th>...</th>\n",
       "      <td>...</td>\n",
       "      <td>...</td>\n",
       "    </tr>\n",
       "    <tr>\n",
       "      <th>360</th>\n",
       "      <td>2017-12-27</td>\n",
       "      <td>0.256</td>\n",
       "    </tr>\n",
       "    <tr>\n",
       "      <th>361</th>\n",
       "      <td>2017-12-28</td>\n",
       "      <td>0.214</td>\n",
       "    </tr>\n",
       "    <tr>\n",
       "      <th>362</th>\n",
       "      <td>2017-12-29</td>\n",
       "      <td>-0.814</td>\n",
       "    </tr>\n",
       "    <tr>\n",
       "      <th>363</th>\n",
       "      <td>2017-12-30</td>\n",
       "      <td>-0.675</td>\n",
       "    </tr>\n",
       "    <tr>\n",
       "      <th>364</th>\n",
       "      <td>2017-12-31</td>\n",
       "      <td>-0.260</td>\n",
       "    </tr>\n",
       "  </tbody>\n",
       "</table>\n",
       "<p>365 rows × 2 columns</p>\n",
       "</div>"
      ],
      "text/plain": [
       "          time    44N\n",
       "0   2017-01-01  1.731\n",
       "1   2017-01-02  1.308\n",
       "2   2017-01-03  0.360\n",
       "3   2017-01-04  0.742\n",
       "4   2017-01-05  1.469\n",
       "..         ...    ...\n",
       "360 2017-12-27  0.256\n",
       "361 2017-12-28  0.214\n",
       "362 2017-12-29 -0.814\n",
       "363 2017-12-30 -0.675\n",
       "364 2017-12-31 -0.260\n",
       "\n",
       "[365 rows x 2 columns]"
      ]
     },
     "execution_count": 31,
     "metadata": {},
     "output_type": "execute_result"
    }
   ],
   "source": [
    "CUTI_data"
   ]
  },
  {
   "cell_type": "markdown",
   "id": "rental-administration",
   "metadata": {},
   "source": [
    "Now there are a few different ways to append this data to our dataframe. The time column in the merged dataframe is on a 1-minute resolution, but the upwelling index is on a 1-day resolution. To combine these, I loop through every month and day in our dataframe (January 01 to September 15) and grab the indices for all measurements taken on that particular day. Then I find the CUTI index value for that same date, and append it to a CUTI column in the dataframe for each date. Looping through the months and days turned out to be hugely more efficient than looping through each row in the dataframe one by one, I'm very happy with this solution!"
   ]
  },
  {
   "cell_type": "code",
   "execution_count": 32,
   "id": "greater-collins",
   "metadata": {},
   "outputs": [],
   "source": [
    "for month in range(1, 10): # our dataframe only contains dates up to 2017-09-15\n",
    "    for day in range(1, 32):\n",
    "        try:\n",
    "            indices = df[(df['time'].dt.month == month) & (df['time'].dt.day == day)].index\n",
    "            cuti_value = CUTI_data.loc[(CUTI_data['time'].dt.month == month) & (CUTI_data['time'].dt.day == day)]['44N'].values[0]\n",
    "            #print(month, day, cuti_value)\n",
    "            df.loc[indices,'CUTI'] = cuti_value\n",
    "        except:\n",
    "            pass"
   ]
  },
  {
   "cell_type": "code",
   "execution_count": 33,
   "id": "global-council",
   "metadata": {},
   "outputs": [
    {
     "data": {
      "text/html": [
       "<div>\n",
       "<style scoped>\n",
       "    .dataframe tbody tr th:only-of-type {\n",
       "        vertical-align: middle;\n",
       "    }\n",
       "\n",
       "    .dataframe tbody tr th {\n",
       "        vertical-align: top;\n",
       "    }\n",
       "\n",
       "    .dataframe thead th {\n",
       "        text-align: right;\n",
       "    }\n",
       "</style>\n",
       "<table border=\"1\" class=\"dataframe\">\n",
       "  <thead>\n",
       "    <tr style=\"text-align: right;\">\n",
       "      <th></th>\n",
       "      <th>time</th>\n",
       "      <th>density</th>\n",
       "      <th>practical_salinity</th>\n",
       "      <th>seawater_temperature</th>\n",
       "      <th>sea_surface_temperature</th>\n",
       "      <th>CUTI</th>\n",
       "    </tr>\n",
       "  </thead>\n",
       "  <tbody>\n",
       "    <tr>\n",
       "      <th>0</th>\n",
       "      <td>2017-01-01 00:00:00</td>\n",
       "      <td>1027.258767</td>\n",
       "      <td>33.916755</td>\n",
       "      <td>7.766451</td>\n",
       "      <td>11.273</td>\n",
       "      <td>1.731</td>\n",
       "    </tr>\n",
       "    <tr>\n",
       "      <th>1</th>\n",
       "      <td>2017-01-01 00:01:00</td>\n",
       "      <td>1027.260164</td>\n",
       "      <td>33.917475</td>\n",
       "      <td>7.760876</td>\n",
       "      <td>11.268</td>\n",
       "      <td>1.731</td>\n",
       "    </tr>\n",
       "    <tr>\n",
       "      <th>2</th>\n",
       "      <td>2017-01-01 00:02:00</td>\n",
       "      <td>1027.258920</td>\n",
       "      <td>33.917249</td>\n",
       "      <td>7.767207</td>\n",
       "      <td>11.267</td>\n",
       "      <td>1.731</td>\n",
       "    </tr>\n",
       "    <tr>\n",
       "      <th>3</th>\n",
       "      <td>2017-01-01 00:03:00</td>\n",
       "      <td>1027.258097</td>\n",
       "      <td>33.916964</td>\n",
       "      <td>7.771317</td>\n",
       "      <td>11.267</td>\n",
       "      <td>1.731</td>\n",
       "    </tr>\n",
       "    <tr>\n",
       "      <th>4</th>\n",
       "      <td>2017-01-01 00:04:00</td>\n",
       "      <td>1027.258173</td>\n",
       "      <td>33.917076</td>\n",
       "      <td>7.771017</td>\n",
       "      <td>11.278</td>\n",
       "      <td>1.731</td>\n",
       "    </tr>\n",
       "    <tr>\n",
       "      <th>...</th>\n",
       "      <td>...</td>\n",
       "      <td>...</td>\n",
       "      <td>...</td>\n",
       "      <td>...</td>\n",
       "      <td>...</td>\n",
       "      <td>...</td>\n",
       "    </tr>\n",
       "    <tr>\n",
       "      <th>331368</th>\n",
       "      <td>2017-09-15 23:55:00</td>\n",
       "      <td>1027.366397</td>\n",
       "      <td>33.960043</td>\n",
       "      <td>7.866675</td>\n",
       "      <td>15.198</td>\n",
       "      <td>-0.194</td>\n",
       "    </tr>\n",
       "    <tr>\n",
       "      <th>331369</th>\n",
       "      <td>2017-09-15 23:56:00</td>\n",
       "      <td>1027.366555</td>\n",
       "      <td>33.960125</td>\n",
       "      <td>7.866182</td>\n",
       "      <td>15.171</td>\n",
       "      <td>-0.194</td>\n",
       "    </tr>\n",
       "    <tr>\n",
       "      <th>331370</th>\n",
       "      <td>2017-09-15 23:57:00</td>\n",
       "      <td>1027.365319</td>\n",
       "      <td>33.959667</td>\n",
       "      <td>7.872284</td>\n",
       "      <td>15.158</td>\n",
       "      <td>-0.194</td>\n",
       "    </tr>\n",
       "    <tr>\n",
       "      <th>331371</th>\n",
       "      <td>2017-09-15 23:58:00</td>\n",
       "      <td>1027.364325</td>\n",
       "      <td>33.959192</td>\n",
       "      <td>7.876495</td>\n",
       "      <td>15.199</td>\n",
       "      <td>-0.194</td>\n",
       "    </tr>\n",
       "    <tr>\n",
       "      <th>331372</th>\n",
       "      <td>2017-09-15 23:59:00</td>\n",
       "      <td>1027.361044</td>\n",
       "      <td>33.957907</td>\n",
       "      <td>7.891755</td>\n",
       "      <td>15.195</td>\n",
       "      <td>-0.194</td>\n",
       "    </tr>\n",
       "  </tbody>\n",
       "</table>\n",
       "<p>331373 rows × 6 columns</p>\n",
       "</div>"
      ],
      "text/plain": [
       "                      time      density  practical_salinity  \\\n",
       "0      2017-01-01 00:00:00  1027.258767           33.916755   \n",
       "1      2017-01-01 00:01:00  1027.260164           33.917475   \n",
       "2      2017-01-01 00:02:00  1027.258920           33.917249   \n",
       "3      2017-01-01 00:03:00  1027.258097           33.916964   \n",
       "4      2017-01-01 00:04:00  1027.258173           33.917076   \n",
       "...                    ...          ...                 ...   \n",
       "331368 2017-09-15 23:55:00  1027.366397           33.960043   \n",
       "331369 2017-09-15 23:56:00  1027.366555           33.960125   \n",
       "331370 2017-09-15 23:57:00  1027.365319           33.959667   \n",
       "331371 2017-09-15 23:58:00  1027.364325           33.959192   \n",
       "331372 2017-09-15 23:59:00  1027.361044           33.957907   \n",
       "\n",
       "        seawater_temperature  sea_surface_temperature   CUTI  \n",
       "0                   7.766451                   11.273  1.731  \n",
       "1                   7.760876                   11.268  1.731  \n",
       "2                   7.767207                   11.267  1.731  \n",
       "3                   7.771317                   11.267  1.731  \n",
       "4                   7.771017                   11.278  1.731  \n",
       "...                      ...                      ...    ...  \n",
       "331368              7.866675                   15.198 -0.194  \n",
       "331369              7.866182                   15.171 -0.194  \n",
       "331370              7.872284                   15.158 -0.194  \n",
       "331371              7.876495                   15.199 -0.194  \n",
       "331372              7.891755                   15.195 -0.194  \n",
       "\n",
       "[331373 rows x 6 columns]"
      ]
     },
     "execution_count": 33,
     "metadata": {},
     "output_type": "execute_result"
    }
   ],
   "source": [
    "df"
   ]
  },
  {
   "cell_type": "markdown",
   "id": "indoor-fossil",
   "metadata": {},
   "source": [
    "There, now we've got the CUTI upwelling index for each measurement taken. We can one hot encode this to a binary value, because we'll be building a classifier model with two classes: upwelling, or not upwelling. To binarize this, we can say that any row where the upwelling index is positive is a 1, and every other row is a 0. "
   ]
  },
  {
   "cell_type": "code",
   "execution_count": 34,
   "id": "applicable-genealogy",
   "metadata": {},
   "outputs": [
    {
     "data": {
      "image/png": "[encoded data removed]",
      "text/plain": [
       "<Figure size 432x288 with 1 Axes>"
      ]
     },
     "metadata": {},
     "output_type": "display_data"
    }
   ],
   "source": [
    "df.boxplot('CUTI', vert=False);"
   ]
  },
  {
   "cell_type": "code",
   "execution_count": 35,
   "id": "reasonable-monthly",
   "metadata": {},
   "outputs": [],
   "source": [
    "df['upwelling'] = df['CUTI'].apply(lambda x: 1 if x > 0 else 0)"
   ]
  },
  {
   "cell_type": "code",
   "execution_count": 36,
   "id": "internal-proof",
   "metadata": {},
   "outputs": [
    {
     "data": {
      "text/plain": [
       "1    0.612814\n",
       "0    0.387186\n",
       "Name: upwelling, dtype: float64"
      ]
     },
     "execution_count": 36,
     "metadata": {},
     "output_type": "execute_result"
    }
   ],
   "source": [
    "df['upwelling'].value_counts(normalize=True)"
   ]
  },
  {
   "cell_type": "markdown",
   "id": "blind-appointment",
   "metadata": {},
   "source": [
    "It looks like we have favorable conditions for upwelling for about 61.28% in 2017 from January 1st to September 15th."
   ]
  },
  {
   "cell_type": "markdown",
   "id": "another-promotion",
   "metadata": {},
   "source": [
    "We can also create a multiclass classification problem by turning the upwelling index into three classes: 0 for the middle 50% of data, 1 for values in the upper 25% of the data, and -1 for values in the lower 25% of the data. We can find these thresholds using `.describe()` on the CUTI column. "
   ]
  },
  {
   "cell_type": "code",
   "execution_count": 37,
   "id": "gorgeous-shanghai",
   "metadata": {},
   "outputs": [
    {
     "data": {
      "text/plain": [
       "0.133"
      ]
     },
     "execution_count": 37,
     "metadata": {},
     "output_type": "execute_result"
    }
   ],
   "source": [
    "df['CUTI'].quantile()"
   ]
  },
  {
   "cell_type": "code",
   "execution_count": 39,
   "id": "leading-signature",
   "metadata": {},
   "outputs": [
    {
     "data": {
      "text/plain": [
       "-0.382"
      ]
     },
     "execution_count": 39,
     "metadata": {},
     "output_type": "execute_result"
    }
   ],
   "source": [
    "df['CUTI'].quantile(.25)"
   ]
  },
  {
   "cell_type": "code",
   "execution_count": 40,
   "id": "higher-hostel",
   "metadata": {},
   "outputs": [
    {
     "data": {
      "text/plain": [
       "0.63"
      ]
     },
     "execution_count": 40,
     "metadata": {},
     "output_type": "execute_result"
    }
   ],
   "source": [
    "df['CUTI'].quantile(.75)"
   ]
  },
  {
   "cell_type": "code",
   "execution_count": 41,
   "id": "crude-herald",
   "metadata": {},
   "outputs": [
    {
     "data": {
      "text/plain": [
       "count    331373.000000\n",
       "mean          0.106239\n",
       "std           0.824869\n",
       "min          -3.996000\n",
       "25%          -0.382000\n",
       "50%           0.133000\n",
       "75%           0.630000\n",
       "max           2.517000\n",
       "Name: CUTI, dtype: float64"
      ]
     },
     "execution_count": 41,
     "metadata": {},
     "output_type": "execute_result"
    }
   ],
   "source": [
    "df['CUTI'].describe()"
   ]
  },
  {
   "cell_type": "code",
   "execution_count": 38,
   "id": "resistant-static",
   "metadata": {},
   "outputs": [],
   "source": [
    "# nested lambda conditionals source: https://stackoverflow.com/questions/44991438/lambda-including-if-elif-else\n",
    "df['upwelling_multi'] = df['CUTI'].apply(lambda x: 1 if x > 0.630000 else (-1 if x < -0.382000 else 0))"
   ]
  },
  {
   "cell_type": "code",
   "execution_count": 39,
   "id": "unlikely-customer",
   "metadata": {},
   "outputs": [
    {
     "data": {
      "text/plain": [
       " 0    0.501489\n",
       " 1    0.249381\n",
       "-1    0.249130\n",
       "Name: upwelling_multi, dtype: float64"
      ]
     },
     "execution_count": 39,
     "metadata": {},
     "output_type": "execute_result"
    }
   ],
   "source": [
    "df['upwelling_multi'].value_counts(normalize=True)"
   ]
  },
  {
   "cell_type": "markdown",
   "id": "dependent-validation",
   "metadata": {},
   "source": [
    "Doing a value count of the multiclass is a little sanity check: we expect half of our data to be contained in the 0 class, and the other half to be split evenly among the classes -1 and 1. "
   ]
  },
  {
   "cell_type": "code",
   "execution_count": 40,
   "id": "amino-sterling",
   "metadata": {},
   "outputs": [
    {
     "data": {
      "text/html": [
       "<div>\n",
       "<style scoped>\n",
       "    .dataframe tbody tr th:only-of-type {\n",
       "        vertical-align: middle;\n",
       "    }\n",
       "\n",
       "    .dataframe tbody tr th {\n",
       "        vertical-align: top;\n",
       "    }\n",
       "\n",
       "    .dataframe thead th {\n",
       "        text-align: right;\n",
       "    }\n",
       "</style>\n",
       "<table border=\"1\" class=\"dataframe\">\n",
       "  <thead>\n",
       "    <tr style=\"text-align: right;\">\n",
       "      <th></th>\n",
       "      <th>time</th>\n",
       "      <th>density</th>\n",
       "      <th>practical_salinity</th>\n",
       "      <th>seawater_temperature</th>\n",
       "      <th>sea_surface_temperature</th>\n",
       "      <th>CUTI</th>\n",
       "      <th>upwelling</th>\n",
       "      <th>upwelling_multi</th>\n",
       "    </tr>\n",
       "  </thead>\n",
       "  <tbody>\n",
       "    <tr>\n",
       "      <th>0</th>\n",
       "      <td>2017-01-01 00:00:00</td>\n",
       "      <td>1027.258767</td>\n",
       "      <td>33.916755</td>\n",
       "      <td>7.766451</td>\n",
       "      <td>11.273</td>\n",
       "      <td>1.731</td>\n",
       "      <td>1</td>\n",
       "      <td>1</td>\n",
       "    </tr>\n",
       "    <tr>\n",
       "      <th>1</th>\n",
       "      <td>2017-01-01 00:01:00</td>\n",
       "      <td>1027.260164</td>\n",
       "      <td>33.917475</td>\n",
       "      <td>7.760876</td>\n",
       "      <td>11.268</td>\n",
       "      <td>1.731</td>\n",
       "      <td>1</td>\n",
       "      <td>1</td>\n",
       "    </tr>\n",
       "    <tr>\n",
       "      <th>2</th>\n",
       "      <td>2017-01-01 00:02:00</td>\n",
       "      <td>1027.258920</td>\n",
       "      <td>33.917249</td>\n",
       "      <td>7.767207</td>\n",
       "      <td>11.267</td>\n",
       "      <td>1.731</td>\n",
       "      <td>1</td>\n",
       "      <td>1</td>\n",
       "    </tr>\n",
       "    <tr>\n",
       "      <th>3</th>\n",
       "      <td>2017-01-01 00:03:00</td>\n",
       "      <td>1027.258097</td>\n",
       "      <td>33.916964</td>\n",
       "      <td>7.771317</td>\n",
       "      <td>11.267</td>\n",
       "      <td>1.731</td>\n",
       "      <td>1</td>\n",
       "      <td>1</td>\n",
       "    </tr>\n",
       "    <tr>\n",
       "      <th>4</th>\n",
       "      <td>2017-01-01 00:04:00</td>\n",
       "      <td>1027.258173</td>\n",
       "      <td>33.917076</td>\n",
       "      <td>7.771017</td>\n",
       "      <td>11.278</td>\n",
       "      <td>1.731</td>\n",
       "      <td>1</td>\n",
       "      <td>1</td>\n",
       "    </tr>\n",
       "    <tr>\n",
       "      <th>...</th>\n",
       "      <td>...</td>\n",
       "      <td>...</td>\n",
       "      <td>...</td>\n",
       "      <td>...</td>\n",
       "      <td>...</td>\n",
       "      <td>...</td>\n",
       "      <td>...</td>\n",
       "      <td>...</td>\n",
       "    </tr>\n",
       "    <tr>\n",
       "      <th>331368</th>\n",
       "      <td>2017-09-15 23:55:00</td>\n",
       "      <td>1027.366397</td>\n",
       "      <td>33.960043</td>\n",
       "      <td>7.866675</td>\n",
       "      <td>15.198</td>\n",
       "      <td>-0.194</td>\n",
       "      <td>0</td>\n",
       "      <td>0</td>\n",
       "    </tr>\n",
       "    <tr>\n",
       "      <th>331369</th>\n",
       "      <td>2017-09-15 23:56:00</td>\n",
       "      <td>1027.366555</td>\n",
       "      <td>33.960125</td>\n",
       "      <td>7.866182</td>\n",
       "      <td>15.171</td>\n",
       "      <td>-0.194</td>\n",
       "      <td>0</td>\n",
       "      <td>0</td>\n",
       "    </tr>\n",
       "    <tr>\n",
       "      <th>331370</th>\n",
       "      <td>2017-09-15 23:57:00</td>\n",
       "      <td>1027.365319</td>\n",
       "      <td>33.959667</td>\n",
       "      <td>7.872284</td>\n",
       "      <td>15.158</td>\n",
       "      <td>-0.194</td>\n",
       "      <td>0</td>\n",
       "      <td>0</td>\n",
       "    </tr>\n",
       "    <tr>\n",
       "      <th>331371</th>\n",
       "      <td>2017-09-15 23:58:00</td>\n",
       "      <td>1027.364325</td>\n",
       "      <td>33.959192</td>\n",
       "      <td>7.876495</td>\n",
       "      <td>15.199</td>\n",
       "      <td>-0.194</td>\n",
       "      <td>0</td>\n",
       "      <td>0</td>\n",
       "    </tr>\n",
       "    <tr>\n",
       "      <th>331372</th>\n",
       "      <td>2017-09-15 23:59:00</td>\n",
       "      <td>1027.361044</td>\n",
       "      <td>33.957907</td>\n",
       "      <td>7.891755</td>\n",
       "      <td>15.195</td>\n",
       "      <td>-0.194</td>\n",
       "      <td>0</td>\n",
       "      <td>0</td>\n",
       "    </tr>\n",
       "  </tbody>\n",
       "</table>\n",
       "<p>331373 rows × 8 columns</p>\n",
       "</div>"
      ],
      "text/plain": [
       "                      time      density  practical_salinity  \\\n",
       "0      2017-01-01 00:00:00  1027.258767           33.916755   \n",
       "1      2017-01-01 00:01:00  1027.260164           33.917475   \n",
       "2      2017-01-01 00:02:00  1027.258920           33.917249   \n",
       "3      2017-01-01 00:03:00  1027.258097           33.916964   \n",
       "4      2017-01-01 00:04:00  1027.258173           33.917076   \n",
       "...                    ...          ...                 ...   \n",
       "331368 2017-09-15 23:55:00  1027.366397           33.960043   \n",
       "331369 2017-09-15 23:56:00  1027.366555           33.960125   \n",
       "331370 2017-09-15 23:57:00  1027.365319           33.959667   \n",
       "331371 2017-09-15 23:58:00  1027.364325           33.959192   \n",
       "331372 2017-09-15 23:59:00  1027.361044           33.957907   \n",
       "\n",
       "        seawater_temperature  sea_surface_temperature   CUTI  upwelling  \\\n",
       "0                   7.766451                   11.273  1.731          1   \n",
       "1                   7.760876                   11.268  1.731          1   \n",
       "2                   7.767207                   11.267  1.731          1   \n",
       "3                   7.771317                   11.267  1.731          1   \n",
       "4                   7.771017                   11.278  1.731          1   \n",
       "...                      ...                      ...    ...        ...   \n",
       "331368              7.866675                   15.198 -0.194          0   \n",
       "331369              7.866182                   15.171 -0.194          0   \n",
       "331370              7.872284                   15.158 -0.194          0   \n",
       "331371              7.876495                   15.199 -0.194          0   \n",
       "331372              7.891755                   15.195 -0.194          0   \n",
       "\n",
       "        upwelling_multi  \n",
       "0                     1  \n",
       "1                     1  \n",
       "2                     1  \n",
       "3                     1  \n",
       "4                     1  \n",
       "...                 ...  \n",
       "331368                0  \n",
       "331369                0  \n",
       "331370                0  \n",
       "331371                0  \n",
       "331372                0  \n",
       "\n",
       "[331373 rows x 8 columns]"
      ]
     },
     "execution_count": 40,
     "metadata": {},
     "output_type": "execute_result"
    }
   ],
   "source": [
    "df"
   ]
  },
  {
   "cell_type": "markdown",
   "id": "marked-guess",
   "metadata": {},
   "source": [
    "Here's the final dataframe! Now that everything has been properly appended along time, we can drop this column."
   ]
  },
  {
   "cell_type": "code",
   "execution_count": 41,
   "id": "comfortable-former",
   "metadata": {},
   "outputs": [],
   "source": [
    "# Commented out for now, dropping data in 05 notebook instead\n",
    "# df.drop(columns=['time'], inplace=True)\n",
    "# df"
   ]
  },
  {
   "cell_type": "markdown",
   "id": "drawn-motivation",
   "metadata": {},
   "source": [
    "---\n",
    "### Removing outliers\n",
    "\n",
    "Statistical analysis is a vital piece of the preprocessing process! There are a few different ways to remove outliers and you can read about them [in this article](https://towardsdatascience.com/ways-to-detect-and-remove-the-outliers-404d16608dba). I'm going to use the z-score to identify and remove outliers in this data.\n",
    "\n",
    "Question: should I be removing outliers before grouping the data into upwelling/not upwelling? Aren't I artifically labeling the data here and impacting what might be considered outliers? Answer to this problem: run the z-score on the entire dataset, not on subsets grouped by upwelling/not upwelling. That way my labels aren't impacting which datapoints are identified as outliers."
   ]
  },
  {
   "cell_type": "markdown",
   "id": "everyday-palmer",
   "metadata": {},
   "source": [
    "These datasets are too large to put into a scatter plot, but some box plots will give us a good idea of our data distributions. "
   ]
  },
  {
   "cell_type": "code",
   "execution_count": 42,
   "id": "geological-stocks",
   "metadata": {},
   "outputs": [],
   "source": [
    "meanprops={\"marker\":\"o\",\n",
    "                       \"markerfacecolor\":\"white\", \n",
    "                       \"markeredgecolor\":\"black\",\n",
    "                      \"markersize\":\"10\"}"
   ]
  },
  {
   "cell_type": "code",
   "execution_count": 43,
   "id": "close-bench",
   "metadata": {},
   "outputs": [
    {
     "data": {
      "image/png": "[encoded data removed]",
      "text/plain": [
       "<Figure size 1728x864 with 2 Axes>"
      ]
     },
     "metadata": {},
     "output_type": "display_data"
    }
   ],
   "source": [
    "fig, (ax1, ax2) = plt.subplots(1, 2, figsize=(24,12))\n",
    "sns.boxplot(y='seawater_temperature', x='upwelling', data=df, ax=ax1, showmeans=True, meanprops=meanprops)\n",
    "sns.boxplot(y='practical_salinity', x='upwelling', data=df, ax=ax2, showmeans=True, meanprops=meanprops);"
   ]
  },
  {
   "cell_type": "markdown",
   "id": "compatible-retirement",
   "metadata": {},
   "source": [
    "First of all, look at these wonderful signals of upwelling in our data! Upwelled water is colder and saltier than the alternative, just like we'd expect! But there some potential outliers here, and some pretty significant looking ones in the salinity data in particular. We should check sea surface temperatures and salinity as well. "
   ]
  },
  {
   "cell_type": "code",
   "execution_count": 44,
   "id": "muslim-presence",
   "metadata": {},
   "outputs": [
    {
     "data": {
      "image/png": "[encoded data removed]",
      "text/plain": [
       "<Figure size 1728x864 with 2 Axes>"
      ]
     },
     "metadata": {},
     "output_type": "display_data"
    }
   ],
   "source": [
    "fig, (ax1, ax2) = plt.subplots(1, 2, figsize=(24,12))\n",
    "sns.boxplot(y='density', x='upwelling', data=df, ax=ax1, showmeans=True, meanprops=meanprops)\n",
    "sns.boxplot(y='sea_surface_temperature', x='upwelling', data=df, ax=ax2, showmeans=True, meanprops=meanprops);"
   ]
  },
  {
   "cell_type": "markdown",
   "id": "acting-heaven",
   "metadata": {},
   "source": [
    "Interesting that the sea surface temperature has an inverse relationship to the seawater temperature at depth. This might indicate that upwelling doesn't significantly impact the surface waters, and it's effect is limited to lower in the water column. It'll be especially interesting to see how this changes in the profiler data at various depths, but that will be for another time. For now, let's get the z-scores so we can identify and remove outliers."
   ]
  },
  {
   "cell_type": "code",
   "execution_count": 45,
   "id": "comfortable-cruise",
   "metadata": {},
   "outputs": [
    {
     "data": {
      "text/html": [
       "<div>\n",
       "<style scoped>\n",
       "    .dataframe tbody tr th:only-of-type {\n",
       "        vertical-align: middle;\n",
       "    }\n",
       "\n",
       "    .dataframe tbody tr th {\n",
       "        vertical-align: top;\n",
       "    }\n",
       "\n",
       "    .dataframe thead th {\n",
       "        text-align: right;\n",
       "    }\n",
       "</style>\n",
       "<table border=\"1\" class=\"dataframe\">\n",
       "  <thead>\n",
       "    <tr style=\"text-align: right;\">\n",
       "      <th></th>\n",
       "      <th>density</th>\n",
       "      <th>practical_salinity</th>\n",
       "      <th>seawater_temperature</th>\n",
       "      <th>sea_surface_temperature</th>\n",
       "      <th>upwelling_multi</th>\n",
       "    </tr>\n",
       "  </thead>\n",
       "  <tbody>\n",
       "    <tr>\n",
       "      <th>0</th>\n",
       "      <td>1027.258767</td>\n",
       "      <td>33.916755</td>\n",
       "      <td>7.766451</td>\n",
       "      <td>11.273</td>\n",
       "      <td>1</td>\n",
       "    </tr>\n",
       "    <tr>\n",
       "      <th>1</th>\n",
       "      <td>1027.260164</td>\n",
       "      <td>33.917475</td>\n",
       "      <td>7.760876</td>\n",
       "      <td>11.268</td>\n",
       "      <td>1</td>\n",
       "    </tr>\n",
       "    <tr>\n",
       "      <th>2</th>\n",
       "      <td>1027.258920</td>\n",
       "      <td>33.917249</td>\n",
       "      <td>7.767207</td>\n",
       "      <td>11.267</td>\n",
       "      <td>1</td>\n",
       "    </tr>\n",
       "    <tr>\n",
       "      <th>3</th>\n",
       "      <td>1027.258097</td>\n",
       "      <td>33.916964</td>\n",
       "      <td>7.771317</td>\n",
       "      <td>11.267</td>\n",
       "      <td>1</td>\n",
       "    </tr>\n",
       "    <tr>\n",
       "      <th>4</th>\n",
       "      <td>1027.258173</td>\n",
       "      <td>33.917076</td>\n",
       "      <td>7.771017</td>\n",
       "      <td>11.278</td>\n",
       "      <td>1</td>\n",
       "    </tr>\n",
       "    <tr>\n",
       "      <th>...</th>\n",
       "      <td>...</td>\n",
       "      <td>...</td>\n",
       "      <td>...</td>\n",
       "      <td>...</td>\n",
       "      <td>...</td>\n",
       "    </tr>\n",
       "    <tr>\n",
       "      <th>331368</th>\n",
       "      <td>1027.366397</td>\n",
       "      <td>33.960043</td>\n",
       "      <td>7.866675</td>\n",
       "      <td>15.198</td>\n",
       "      <td>0</td>\n",
       "    </tr>\n",
       "    <tr>\n",
       "      <th>331369</th>\n",
       "      <td>1027.366555</td>\n",
       "      <td>33.960125</td>\n",
       "      <td>7.866182</td>\n",
       "      <td>15.171</td>\n",
       "      <td>0</td>\n",
       "    </tr>\n",
       "    <tr>\n",
       "      <th>331370</th>\n",
       "      <td>1027.365319</td>\n",
       "      <td>33.959667</td>\n",
       "      <td>7.872284</td>\n",
       "      <td>15.158</td>\n",
       "      <td>0</td>\n",
       "    </tr>\n",
       "    <tr>\n",
       "      <th>331371</th>\n",
       "      <td>1027.364325</td>\n",
       "      <td>33.959192</td>\n",
       "      <td>7.876495</td>\n",
       "      <td>15.199</td>\n",
       "      <td>0</td>\n",
       "    </tr>\n",
       "    <tr>\n",
       "      <th>331372</th>\n",
       "      <td>1027.361044</td>\n",
       "      <td>33.957907</td>\n",
       "      <td>7.891755</td>\n",
       "      <td>15.195</td>\n",
       "      <td>0</td>\n",
       "    </tr>\n",
       "  </tbody>\n",
       "</table>\n",
       "<p>331373 rows × 5 columns</p>\n",
       "</div>"
      ],
      "text/plain": [
       "            density  practical_salinity  seawater_temperature  \\\n",
       "0       1027.258767           33.916755              7.766451   \n",
       "1       1027.260164           33.917475              7.760876   \n",
       "2       1027.258920           33.917249              7.767207   \n",
       "3       1027.258097           33.916964              7.771317   \n",
       "4       1027.258173           33.917076              7.771017   \n",
       "...             ...                 ...                   ...   \n",
       "331368  1027.366397           33.960043              7.866675   \n",
       "331369  1027.366555           33.960125              7.866182   \n",
       "331370  1027.365319           33.959667              7.872284   \n",
       "331371  1027.364325           33.959192              7.876495   \n",
       "331372  1027.361044           33.957907              7.891755   \n",
       "\n",
       "        sea_surface_temperature  upwelling_multi  \n",
       "0                        11.273                1  \n",
       "1                        11.268                1  \n",
       "2                        11.267                1  \n",
       "3                        11.267                1  \n",
       "4                        11.278                1  \n",
       "...                         ...              ...  \n",
       "331368                   15.198                0  \n",
       "331369                   15.171                0  \n",
       "331370                   15.158                0  \n",
       "331371                   15.199                0  \n",
       "331372                   15.195                0  \n",
       "\n",
       "[331373 rows x 5 columns]"
      ]
     },
     "execution_count": 45,
     "metadata": {},
     "output_type": "execute_result"
    }
   ],
   "source": [
    "X = df.drop(columns=['time', 'CUTI', 'upwelling'])\n",
    "X"
   ]
  },
  {
   "cell_type": "code",
   "execution_count": 46,
   "id": "dramatic-decimal",
   "metadata": {},
   "outputs": [
    {
     "name": "stdout",
     "output_type": "stream",
     "text": [
      "[[2.06497940e-01 2.19698358e-01 1.80122813e-02 5.27925245e-01\n",
      "  1.41596975e+00]\n",
      " [1.95432211e-01 2.07967282e-01 6.36268060e-03 5.30597592e-01\n",
      "  1.41596975e+00]\n",
      " [2.05282460e-01 2.11657978e-01 1.95931593e-02 5.31131755e-01\n",
      "  1.41596975e+00]\n",
      " ...\n",
      " [6.37567231e-01 4.79163547e-01 2.39179844e-01 1.54844079e+00\n",
      "  3.54751091e-04]\n",
      " [6.29693865e-01 4.71422384e-01 2.47980564e-01 1.57035372e+00\n",
      "  3.54751091e-04]\n",
      " [6.03708568e-01 4.50496746e-01 2.79871092e-01 1.56821554e+00\n",
      "  3.54751091e-04]]\n"
     ]
    }
   ],
   "source": [
    "z = np.abs(stats.zscore(X))\n",
    "print(z)"
   ]
  },
  {
   "cell_type": "code",
   "execution_count": 47,
   "id": "numerical-albania",
   "metadata": {},
   "outputs": [
    {
     "name": "stdout",
     "output_type": "stream",
     "text": [
      "(array([ 29655,  29656,  29657, ..., 290126, 306319, 313929], dtype=int64), array([1, 1, 1, ..., 1, 1, 1], dtype=int64))\n"
     ]
    }
   ],
   "source": [
    "threshold = 3\n",
    "print(np.where(z > 3))"
   ]
  },
  {
   "cell_type": "code",
   "execution_count": 48,
   "id": "dietary-retro",
   "metadata": {},
   "outputs": [
    {
     "name": "stdout",
     "output_type": "stream",
     "text": [
      "3.1981650897982283\n"
     ]
    }
   ],
   "source": [
    "print(z[29655][1])"
   ]
  },
  {
   "cell_type": "code",
   "execution_count": 49,
   "id": "final-offense",
   "metadata": {},
   "outputs": [],
   "source": [
    "clean_df = df[(z < 3).all(axis=1)]"
   ]
  },
  {
   "cell_type": "code",
   "execution_count": 50,
   "id": "floral-stations",
   "metadata": {},
   "outputs": [
    {
     "name": "stdout",
     "output_type": "stream",
     "text": [
      "(331373, 8)\n",
      "(329199, 8)\n"
     ]
    }
   ],
   "source": [
    "print(df.shape)\n",
    "print(clean_df.shape)"
   ]
  },
  {
   "cell_type": "code",
   "execution_count": 51,
   "id": "religious-consent",
   "metadata": {},
   "outputs": [
    {
     "name": "stdout",
     "output_type": "stream",
     "text": [
      "Outliers made up 0.6561% of the data.\n"
     ]
    }
   ],
   "source": [
    "pct_outliers = 100 * (df.shape[0] - clean_df.shape[0]) / df.shape[0] \n",
    "print(f'Outliers made up {round(pct_outliers, 4)}% of the data.')"
   ]
  },
  {
   "cell_type": "code",
   "execution_count": 52,
   "id": "chicken-pocket",
   "metadata": {},
   "outputs": [
    {
     "data": {
      "image/png": "[encoded data removed]",
      "text/plain": [
       "<Figure size 1728x864 with 2 Axes>"
      ]
     },
     "metadata": {},
     "output_type": "display_data"
    }
   ],
   "source": [
    "fig, (ax1, ax2) = plt.subplots(1, 2, figsize=(24,12))\n",
    "sns.boxplot(y='seawater_temperature', x='upwelling', data=clean_df, ax=ax1, showmeans=True, meanprops=meanprops)\n",
    "sns.boxplot(y='practical_salinity', x='upwelling', data=clean_df, ax=ax2, showmeans=True, meanprops=meanprops);"
   ]
  },
  {
   "cell_type": "markdown",
   "id": "threatened-barrier",
   "metadata": {},
   "source": [
    "First of all, look at these wonderful signals of upwelling in our data! Upwelled water is colder and saltier than the alternative, just like we'd expect! But there some potential outliers here, and some pretty significant looking ones in the salinity data in particular. We should check sea surface temperatures and salinity as well. "
   ]
  },
  {
   "cell_type": "code",
   "execution_count": 53,
   "id": "raised-special",
   "metadata": {},
   "outputs": [
    {
     "data": {
      "image/png": "[encoded data removed]",
      "text/plain": [
       "<Figure size 1728x864 with 2 Axes>"
      ]
     },
     "metadata": {},
     "output_type": "display_data"
    }
   ],
   "source": [
    "fig, (ax1, ax2) = plt.subplots(1, 2, figsize=(24,12))\n",
    "\n",
    "sns.boxplot(y='density', x='upwelling', data=clean_df, ax=ax1, showmeans=True, meanprops=meanprops)\n",
    "sns.boxplot(y='sea_surface_temperature', x='upwelling', data=clean_df, ax=ax2, showmeans=True, meanprops=meanprops);"
   ]
  },
  {
   "cell_type": "markdown",
   "id": "black-asbestos",
   "metadata": {},
   "source": [
    "Hey, that looks much better! Obviously there are still some data points considered outliers by the standard boxplot, but I'm satisfied with the z-score method. "
   ]
  },
  {
   "cell_type": "markdown",
   "id": "foster-concentration",
   "metadata": {},
   "source": [
    "---\n",
    "### Saving the clean data"
   ]
  },
  {
   "cell_type": "markdown",
   "id": "ancient-curtis",
   "metadata": {},
   "source": [
    "This dataset might be ready for modeling now! Is there anything I'm still missing? "
   ]
  },
  {
   "cell_type": "code",
   "execution_count": 54,
   "id": "religious-welding",
   "metadata": {},
   "outputs": [],
   "source": [
    "clean_df.to_csv('../../coastal_upwelling_output/clean_dataframe.csv', index=False)"
   ]
  }
 ],
 "metadata": {
  "kernelspec": {
   "display_name": "Python 3",
   "language": "python",
   "name": "python3"
  },
  "language_info": {
   "codemirror_mode": {
    "name": "ipython",
    "version": 3
   },
   "file_extension": ".py",
   "mimetype": "text/x-python",
   "name": "python",
   "nbconvert_exporter": "python",
   "pygments_lexer": "ipython3",
   "version": "3.9.2"
  }
 },
 "nbformat": 4,
 "nbformat_minor": 5
}
