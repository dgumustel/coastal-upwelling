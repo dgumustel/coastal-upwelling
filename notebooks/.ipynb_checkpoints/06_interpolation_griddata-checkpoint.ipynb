{
 "cells": [
  {
   "cell_type": "markdown",
   "id": "peripheral-liver",
   "metadata": {},
   "source": [
    "# Interpolating profiler data to a regular grid\n",
    "---"
   ]
  },
  {
   "cell_type": "code",
   "execution_count": 1,
   "id": "operational-treasure",
   "metadata": {},
   "outputs": [],
   "source": [
    "# Imports\n",
    "import pandas as pd\n",
    "import matplotlib.pyplot as plt\n",
    "import seaborn as sns\n",
    "import numpy as np\n",
    "\n",
    "from scipy.interpolate import griddata\n",
    "\n",
    "sns.set()"
   ]
  },
  {
   "cell_type": "code",
   "execution_count": 2,
   "id": "metric-samoa",
   "metadata": {},
   "outputs": [],
   "source": [
    "profiler_data = pd.read_csv('../../coastal_upwelling_output/profiler_data_2018.csv')"
   ]
  },
  {
   "cell_type": "code",
   "execution_count": 3,
   "id": "persistent-ontario",
   "metadata": {},
   "outputs": [],
   "source": [
    "CUTI_data = pd.read_csv('../../coastal_upwelling_output/CUTI_daily.csv',\n",
    "                  parse_dates=[[0,1,2]],\n",
    "                  infer_datetime_format=True)\n",
    "CUTI_data.rename(columns={'year_month_day':'time'},inplace=True)"
   ]
  },
  {
   "cell_type": "code",
   "execution_count": 4,
   "id": "duplicate-tablet",
   "metadata": {},
   "outputs": [
    {
     "data": {
      "text/plain": [
       "0           2018-07-17 15:38:50.061576192\n",
       "1           2018-07-17 15:38:51.061581824\n",
       "2           2018-07-17 15:38:52.061271552\n",
       "3           2018-07-17 15:38:53.061588992\n",
       "4           2018-07-17 15:38:54.061177344\n",
       "                        ...              \n",
       "13164698    2018-12-31 11:59:55.458120192\n",
       "13164699    2018-12-31 11:59:56.458231296\n",
       "13164700    2018-12-31 11:59:57.458030592\n",
       "13164701    2018-12-31 11:59:58.457932288\n",
       "13164702    2018-12-31 11:59:59.458563072\n",
       "Name: time, Length: 13164703, dtype: object"
      ]
     },
     "execution_count": 4,
     "metadata": {},
     "output_type": "execute_result"
    }
   ],
   "source": [
    "profiler_data.time"
   ]
  },
  {
   "cell_type": "code",
   "execution_count": null,
   "id": "appropriate-quebec",
   "metadata": {},
   "outputs": [],
   "source": [
    "profiler_data['time'] = pd.to_datetime(profiler_data['time'])"
   ]
  },
  {
   "cell_type": "code",
   "execution_count": null,
   "id": "quality-chorus",
   "metadata": {},
   "outputs": [],
   "source": [
    "# profiler_minutes = profiler_data.resample('T', on='time').mean().dropna(how='all').reset_index()\n",
    "# profiler_minutes.head()\n",
    "\n",
    "profiler_hourly = profiler_data.resample('H', on='time').mean().dropna(how='all').reset_index()\n",
    "# # profiler_hourly.head()\n",
    "\n",
    "# profiler_daily = profiler_data.resample('D', on='time').mean().dropna(how='all').reset_index()\n",
    "# # profiler_daily.head()"
   ]
  },
  {
   "cell_type": "code",
   "execution_count": null,
   "id": "therapeutic-classification",
   "metadata": {},
   "outputs": [],
   "source": [
    "# Plot hourly-averaged METBK data\n",
    "fig, ax = plt.subplots(1, 1, sharex=True, figsize=(12,8))\n",
    "ax.plot(profiler_hourly['time'], profiler_hourly['seawater_pressure'], 'b', linewidth=2)\n",
    "ax.set_xlabel('Time', size=24)\n",
    "ax.set_ylabel('Seawater Pressure', size=24)\n",
    "ax.set_title('Oregon Offshore profiler hourly averages', size=24)\n",
    "ax.invert_yaxis()\n",
    "\n",
    "plt.xticks(rotation=35);"
   ]
  },
  {
   "cell_type": "markdown",
   "id": "administrative-needle",
   "metadata": {},
   "source": [
    "There are several times where the sensor appears to be non-functional. I don' want to interpolate over these regions, because the interpolation won't be at all informed of the true structure of the water column. I decided to create a dictionary containing the start and end dates of time periods I want to drop, as the key:value pairs. Then I can drop them all at once, see how much of the data I've lost, concatenate the dataframe to prevent gaps in the water column being passed to the interpolation and gridding function.\n",
    "\n",
    "To choose the time periods to drop, I need to investigate each period one by one..."
   ]
  },
  {
   "cell_type": "code",
   "execution_count": null,
   "id": "warming-richmond",
   "metadata": {},
   "outputs": [],
   "source": [
    "dates_to_drop = {}"
   ]
  },
  {
   "cell_type": "code",
   "execution_count": null,
   "id": "inappropriate-representation",
   "metadata": {},
   "outputs": [],
   "source": [
    "mask = (profiler_data['time'][:] > '2018-08-22 02:00:00') & (profiler_data['time'] <= '2018-09-07 05:00:00').reset_index(drop=True)\n",
    "df_temp = profiler_data.loc[mask].reset_index(drop=True)\n",
    "\n",
    "fig, ax = plt.subplots(1, 1, sharex=True, figsize=(12,8))\n",
    "ax.plot(df_temp['time'], df_temp['seawater_pressure'], 'b', linewidth=2)\n",
    "ax.set_xlabel('Time', size=24)\n",
    "ax.set_ylabel('Seawater Pressure', size=24)\n",
    "ax.set_title('Oregon Offshore profiler hourly averages', size=24)\n",
    "ax.invert_yaxis()\n",
    "\n",
    "plt.xticks(rotation=35);"
   ]
  },
  {
   "cell_type": "code",
   "execution_count": null,
   "id": "representative-holmes",
   "metadata": {},
   "outputs": [],
   "source": [
    "mask = (profiler_data['time'][:] > '2018-08-22 02:00:00') & (profiler_data['time'] <= '2018-09-07 05:00:00').reset_index(drop=True)\n",
    "df_temp = profiler_data.loc[mask].reset_index(drop=True)\n",
    "\n",
    "fig, ax = plt.subplots(1, 1, sharex=True)\n",
    "ax.scatter(df_temp['time'], df_temp['seawater_pressure'])\n",
    "ax.set_xlabel('Time', size=24)\n",
    "ax.set_ylabel('Seawater Pressure', size=24)\n",
    "ax.set_title('Oregon Offshore profiler hourly averages', size=24)\n",
    "ax.invert_yaxis()\n",
    "\n",
    "plt.xticks(rotation=35);"
   ]
  },
  {
   "cell_type": "code",
   "execution_count": null,
   "id": "alert-gravity",
   "metadata": {},
   "outputs": [],
   "source": [
    "df = profiler_data"
   ]
  },
  {
   "cell_type": "code",
   "execution_count": null,
   "id": "tired-fairy",
   "metadata": {
    "tags": []
   },
   "outputs": [],
   "source": [
    "# mask = (df['time'] > '2018-08-22 02:00:00') & (df['time'] <= '2018-09-07 05:00:00')\n",
    "# df.drop(index=df.loc[mask][:].index, axis=0, inplace=True)\n",
    "# df.reset_index(drop=True)"
   ]
  },
  {
   "cell_type": "code",
   "execution_count": null,
   "id": "failing-crest",
   "metadata": {},
   "outputs": [],
   "source": [
    "mask = (profiler_data['time'][:] > '2018-08-20 02:00:00') & (profiler_data['time'] <= '2018-09-20 05:00:00').reset_index(drop=True)\n",
    "df_temp = profiler_data.loc[mask].reset_index(drop=True)\n",
    "\n",
    "fig, ax = plt.subplots(1, 1, sharex=True)\n",
    "ax.scatter(x=df_temp['time'], y=df_temp['seawater_pressure'])\n",
    "ax.set_xlabel('Time', size=24)\n",
    "ax.set_ylabel('Seawater Pressure', size=24)\n",
    "ax.set_title('Oregon Offshore profiler hourly averages', size=24)\n",
    "ax.invert_yaxis()\n",
    "\n",
    "plt.xticks(rotation=35);"
   ]
  },
  {
   "cell_type": "markdown",
   "id": "stock-trunk",
   "metadata": {},
   "source": [
    "Now there's no data here! We can repeat this a couple more times. "
   ]
  },
  {
   "cell_type": "code",
   "execution_count": null,
   "id": "convinced-current",
   "metadata": {},
   "outputs": [],
   "source": [
    "mask = (profiler_data['time'][:] > '2018-09-17 22:00:00') & (profiler_data['time'] <= '2018-10-02 20:00:00')\n",
    "df_temp = profiler_data.loc[mask].reset_index(drop=True)\n",
    "\n",
    "fig, ax = plt.subplots(1, 1, sharex=True, figsize=(12,8))\n",
    "ax.plot(df_temp['time'], df_temp['seawater_pressure'], 'b', linewidth=2)\n",
    "ax.set_xlabel('Time', size=24)\n",
    "ax.set_ylabel('Seawater Pressure', size=24)\n",
    "ax.set_title('Oregon Offshore profiler hourly averages', size=24)\n",
    "ax.invert_yaxis()\n",
    "\n",
    "plt.xticks(rotation=35);"
   ]
  },
  {
   "cell_type": "code",
   "execution_count": null,
   "id": "favorite-electron",
   "metadata": {
    "tags": []
   },
   "outputs": [],
   "source": [
    "# mask = (df['time'] > '2018-09-17 22:00:00') & (df['time'] <= '2018-10-02 20:00:00')\n",
    "# df.drop(index=df.loc[mask][:].index, axis=0, inplace=True)\n",
    "# df.reset_index(drop=True)"
   ]
  },
  {
   "cell_type": "code",
   "execution_count": null,
   "id": "featured-summer",
   "metadata": {},
   "outputs": [],
   "source": [
    "mask = (df['time'] > '2018-09-15 22:00:00') & (profiler_data['time'] <= '2018-10-04 20:00:00')\n",
    "df_temp = profiler_data.loc[mask].reset_index(drop=True)\n",
    "\n",
    "fig, ax = plt.subplots(1, 1, sharex=True)\n",
    "ax.scatter(x=df_temp['time'], y=df_temp['seawater_pressure'])\n",
    "ax.set_xlabel('Time')\n",
    "ax.set_ylabel('Seawater Pressure')\n",
    "ax.set_title('Oregon Offshore profiler hourly averages')\n",
    "ax.invert_yaxis()\n",
    "\n",
    "plt.xticks(rotation=35);"
   ]
  },
  {
   "cell_type": "code",
   "execution_count": null,
   "id": "precious-headset",
   "metadata": {},
   "outputs": [],
   "source": []
  },
  {
   "cell_type": "markdown",
   "id": "ancient-hygiene",
   "metadata": {},
   "source": [
    "Let's do just one more for now."
   ]
  },
  {
   "cell_type": "code",
   "execution_count": null,
   "id": "spectacular-mauritius",
   "metadata": {},
   "outputs": [],
   "source": [
    "mask = (profiler_data['time'][:] > '2018-10-18 06:00:00') & (profiler_data['time'] <= '2018-10-20 00:00:00')\n",
    "df_temp = profiler_data.loc[mask].reset_index(drop=True)\n",
    "\n",
    "fig, ax = plt.subplots(1, 1, sharex=True, figsize=(12,8))\n",
    "ax.plot(mask['time'], mask['seawater_pressure'], 'b', linewidth=2)\n",
    "ax.set_xlabel('Time', size=24)\n",
    "ax.set_ylabel('Seawater Pressure', size=24)\n",
    "ax.set_title('Oregon Offshore profiler hourly averages', size=24)\n",
    "ax.invert_yaxis()\n",
    "\n",
    "plt.xticks(rotation=35);"
   ]
  },
  {
   "cell_type": "code",
   "execution_count": null,
   "id": "federal-anime",
   "metadata": {
    "tags": []
   },
   "outputs": [],
   "source": [
    "# mask = (df['time'] > '2018-10-18 06:00:00') & (df['time'] <= '2018-10-20 00:00:00')\n",
    "# df.drop(index=df.loc[mask][:].index, axis=0, inplace=True)\n",
    "# df.reset_index(drop=True, inplace=True)"
   ]
  },
  {
   "cell_type": "code",
   "execution_count": null,
   "id": "given-saturday",
   "metadata": {},
   "outputs": [],
   "source": [
    "mask = (df['time'] > '2018-10-16 06:00:00') & (profiler_data['time'] <= '2018-10-22 00:00:00')\n",
    "df_temp = profiler_data.loc[mask].reset_index(drop=True)\n",
    "\n",
    "fig, ax = plt.subplots(1, 1, sharex=True)\n",
    "ax.scatter(x=df_temp['time'], y=df_temp['seawater_pressure'])\n",
    "ax.set_xlabel('Time')\n",
    "ax.set_ylabel('Seawater Pressure')\n",
    "ax.set_title('Oregon Offshore profiler hourly averages')\n",
    "ax.invert_yaxis()\n",
    "\n",
    "plt.xticks(rotation=35);"
   ]
  },
  {
   "cell_type": "code",
   "execution_count": null,
   "id": "german-merit",
   "metadata": {},
   "outputs": [],
   "source": [
    "df"
   ]
  },
  {
   "cell_type": "code",
   "execution_count": null,
   "id": "spiritual-benefit",
   "metadata": {},
   "outputs": [],
   "source": [
    "# Plot hourly-averaged METBK data\n",
    "fig, ax = plt.subplots(1, 1, sharex=True, figsize=(12,8))\n",
    "ax.scatter(df['time'], df['seawater_pressure'])\n",
    "ax.set_xlabel('Time', size=24)\n",
    "ax.set_ylabel('Seawater Pressure', size=24)\n",
    "ax.set_title('Oregon Offshore profiler hourly averages', size=24)\n",
    "ax.invert_yaxis()\n",
    "\n",
    "plt.xticks(rotation=35);"
   ]
  },
  {
   "cell_type": "markdown",
   "id": "responsible-politics",
   "metadata": {},
   "source": [
    "### Using `griddata()`\n",
    "Apparently it's recommended that you add gaps in AFTER interpolating instead of removing the data prior to interpolating. Might delete everything above later... According to: https://www.mathworks.com/matlabcentral/answers/363643-use-griddata-ignoring-gaps-in-data"
   ]
  },
  {
   "cell_type": "code",
   "execution_count": null,
   "id": "jewish-liabilities",
   "metadata": {},
   "outputs": [],
   "source": [
    "df = profiler_data"
   ]
  },
  {
   "cell_type": "code",
   "execution_count": null,
   "id": "average-liberal",
   "metadata": {},
   "outputs": [],
   "source": [
    "df_resampled = df.resample('T', on='time').mean().dropna(how='all').reset_index()\n",
    "df_resampled['time']"
   ]
  },
  {
   "cell_type": "code",
   "execution_count": null,
   "id": "relevant-winner",
   "metadata": {},
   "outputs": [],
   "source": [
    "mask = (df_resampled['time'][:] > '2018-12-01') & (df_resampled['time'] <= '2018-12-02')\n",
    "df_resampled = df_resampled.loc[mask].reset_index(drop=True)"
   ]
  },
  {
   "cell_type": "code",
   "execution_count": null,
   "id": "rational-kentucky",
   "metadata": {},
   "outputs": [],
   "source": [
    "# mask = (profiler_data['time'][:] > '2018-12-01') & (profiler_data['time'] <= '2018-12-01').reset_index(drop=True)\n",
    "# df = profiler_data.loc[mask].reset_index(drop=True)\n",
    "# # df = df.resample('T', on='time').mean().dropna(how='all').reset_index()\n",
    "# df['time']"
   ]
  },
  {
   "cell_type": "code",
   "execution_count": null,
   "id": "associate-nirvana",
   "metadata": {},
   "outputs": [],
   "source": [
    "df_resampled['time_'] = df_resampled['time'].values.astype(object)"
   ]
  },
  {
   "cell_type": "code",
   "execution_count": null,
   "id": "cosmetic-parish",
   "metadata": {},
   "outputs": [],
   "source": [
    "df_resampled['time_']"
   ]
  },
  {
   "cell_type": "code",
   "execution_count": null,
   "id": "wanted-aviation",
   "metadata": {},
   "outputs": [],
   "source": [
    "# data coordinates and values\n",
    "x = df_resampled.time_.astype(np.int64) / 100000000000 # np.random.random(100)\n",
    "y = df_resampled.seawater_pressure # np.random.random(100)\n",
    "z = df_resampled.seawater_temperature # np.random.random(100)"
   ]
  },
  {
   "cell_type": "code",
   "execution_count": null,
   "id": "divided-navigator",
   "metadata": {},
   "outputs": [],
   "source": [
    "x"
   ]
  },
  {
   "cell_type": "code",
   "execution_count": null,
   "id": "processed-mortality",
   "metadata": {},
   "outputs": [],
   "source": [
    "x.describe()"
   ]
  },
  {
   "cell_type": "code",
   "execution_count": null,
   "id": "improving-target",
   "metadata": {},
   "outputs": [],
   "source": [
    "y.describe()"
   ]
  },
  {
   "cell_type": "code",
   "execution_count": null,
   "id": "extreme-refrigerator",
   "metadata": {
    "scrolled": true
   },
   "outputs": [],
   "source": [
    "# target grid to interpolate to\n",
    "xi = np.arange(min(x), max(x), 50)\n",
    "yi = np.arange(min(y), max(y), 6)\n",
    "xi"
   ]
  },
  {
   "cell_type": "code",
   "execution_count": null,
   "id": "demonstrated-extension",
   "metadata": {},
   "outputs": [],
   "source": [
    "xi,yi = np.meshgrid(xi,yi)"
   ]
  },
  {
   "cell_type": "code",
   "execution_count": null,
   "id": "comparative-greene",
   "metadata": {},
   "outputs": [],
   "source": [
    "xi.shape"
   ]
  },
  {
   "cell_type": "code",
   "execution_count": null,
   "id": "coral-visiting",
   "metadata": {},
   "outputs": [],
   "source": [
    "yi.shape"
   ]
  },
  {
   "cell_type": "markdown",
   "id": "bacterial-spread",
   "metadata": {},
   "source": [
    "Creating the interpolated gridded data takes a minute to finish running when you pass it 13M data points. "
   ]
  },
  {
   "cell_type": "code",
   "execution_count": null,
   "id": "white-removal",
   "metadata": {},
   "outputs": [],
   "source": [
    "# interpolate\n",
    "# zi_nearest = griddata((x,y),z,(xi,yi),method='nearest', rescale=True)\n",
    "zi_linear = griddata((x,y),z,(xi,yi),method='linear', rescale=True)\n",
    "# zi_cubic = griddata((x,y),z,(xi,yi),method='cubic', rescale=True)"
   ]
  },
  {
   "cell_type": "code",
   "execution_count": null,
   "id": "challenging-extent",
   "metadata": {},
   "outputs": [],
   "source": [
    "# set masks to recreate gaps in our data\n",
    "mask1 = (df_resampled['time'] > '2018-08-22 02:00:00') & (df_resampled['time'] <= '2018-09-07 05:00:00')\n",
    "mask2 = (df_resampled['time'] > '2018-09-15 22:00:00') & (df_resampled['time'] <= '2018-10-04 20:00:00')\n",
    "mask3 = (df_resampled['time'] > '2018-10-16 06:00:00') & (df_resampled['time'] <= '2018-10-22 00:00:00')"
   ]
  },
  {
   "cell_type": "code",
   "execution_count": null,
   "id": "norwegian-charlotte",
   "metadata": {},
   "outputs": [],
   "source": [
    "sns.set_style('whitegrid')"
   ]
  },
  {
   "cell_type": "code",
   "execution_count": null,
   "id": "orange-spirituality",
   "metadata": {},
   "outputs": [],
   "source": [
    "fig, ax = plt.subplots(figsize=(12,6))\n",
    "\n",
    "ax.invert_yaxis()\n",
    "ax.grid()\n",
    "\n",
    "sc = ax.scatter(x,y,c=z,edgecolors='k')\n",
    "ax.set_xlabel('Time', size=16)\n",
    "ax.set_ylabel('Pressure (dbar)', size=16)\n",
    "ax.set_title('Temperature (degC)', size=16)\n",
    "cb = fig.colorbar(sc,ax=ax)\n",
    "cb.set_label(label='Temperature (deg C)', size=16)\n",
    "cb.ax.tick_params(labelsize=16)\n",
    "\n",
    "plt.tight_layout()\n",
    "plt.savefig('../figures/dec-01_raw.png')"
   ]
  },
  {
   "cell_type": "code",
   "execution_count": null,
   "id": "treated-mississippi",
   "metadata": {},
   "outputs": [],
   "source": [
    "fig, ax = plt.subplots(figsize=(12,6))\n",
    "\n",
    "cs2 = ax.contourf(xi,yi,zi_linear)\n",
    "plt.colorbar(cs2, ax=ax)\n",
    "ax.scatter(x, y, c=z,edgecolors='k')\n",
    "ax.invert_yaxis()\n",
    "ax.set_title(\"Using method='linear'\",fontsize=16)\n",
    "ax.set_xlabel('Time', size=16)\n",
    "ax.set_ylabel('Pressure (dbar)', size=16)\n",
    "ax.set_title('Temperature (degC)', size=16)\n",
    "# cb = fig.colorbar(sc,ax=ax)\n",
    "# cb = plt.colorbar(cs2, ax=ax)\n",
    "cb.set_label(label='Temperature (deg C)', size=16)\n",
    "cb.ax.tick_params(labelsize=16)\n",
    "\n",
    "plt.tight_layout()\n",
    "plt.savefig('../figures/dec-01_griddata.png')"
   ]
  },
  {
   "cell_type": "markdown",
   "id": "developmental-binary",
   "metadata": {},
   "source": [
    "### Add more data "
   ]
  },
  {
   "cell_type": "code",
   "execution_count": null,
   "id": "paperback-subject",
   "metadata": {},
   "outputs": [],
   "source": [
    "df_resampled = df"
   ]
  },
  {
   "cell_type": "code",
   "execution_count": null,
   "id": "virtual-catering",
   "metadata": {},
   "outputs": [],
   "source": [
    "df_resampled['time']"
   ]
  },
  {
   "cell_type": "code",
   "execution_count": null,
   "id": "sticky-bankruptcy",
   "metadata": {},
   "outputs": [],
   "source": [
    "mask = (df_resampled['time'][:] > '2018-12-01') & (df_resampled['time'] <= '2018-12-31')\n",
    "df_resampled = df_resampled.loc[mask].reset_index(drop=True)"
   ]
  },
  {
   "cell_type": "code",
   "execution_count": null,
   "id": "welsh-doubt",
   "metadata": {},
   "outputs": [],
   "source": [
    "# mask = (profiler_data['time'][:] > '2018-12-01') & (profiler_data['time'] <= '2018-12-01').reset_index(drop=True)\n",
    "# df = profiler_data.loc[mask].reset_index(drop=True)\n",
    "# # df = df.resample('T', on='time').mean().dropna(how='all').reset_index()\n",
    "# df['time']"
   ]
  },
  {
   "cell_type": "code",
   "execution_count": null,
   "id": "personalized-trading",
   "metadata": {},
   "outputs": [],
   "source": [
    "df_resampled['time_'] = df_resampled['time'].values.astype(object)"
   ]
  },
  {
   "cell_type": "code",
   "execution_count": null,
   "id": "documentary-analysis",
   "metadata": {},
   "outputs": [],
   "source": [
    "df_resampled['time_']"
   ]
  },
  {
   "cell_type": "code",
   "execution_count": null,
   "id": "short-handbook",
   "metadata": {},
   "outputs": [],
   "source": [
    "# data coordinates and values\n",
    "x = df_resampled.time_.astype(np.int64) / 100000000000 # np.random.random(100)\n",
    "y = df_resampled.seawater_pressure # np.random.random(100)\n",
    "z = df_resampled.seawater_temperature # np.random.random(100)"
   ]
  },
  {
   "cell_type": "code",
   "execution_count": null,
   "id": "supported-marine",
   "metadata": {
    "scrolled": true
   },
   "outputs": [],
   "source": [
    "# target grid to interpolate to\n",
    "xi = np.arange(min(x), max(x), 50)\n",
    "yi = np.arange(min(y), max(y), 6)"
   ]
  },
  {
   "cell_type": "code",
   "execution_count": null,
   "id": "direct-motivation",
   "metadata": {},
   "outputs": [],
   "source": [
    "xi,yi = np.meshgrid(xi,yi)"
   ]
  },
  {
   "cell_type": "code",
   "execution_count": null,
   "id": "south-acquisition",
   "metadata": {},
   "outputs": [],
   "source": [
    "xi.shape"
   ]
  },
  {
   "cell_type": "code",
   "execution_count": null,
   "id": "earned-hierarchy",
   "metadata": {},
   "outputs": [],
   "source": [
    "yi.shape"
   ]
  },
  {
   "cell_type": "code",
   "execution_count": null,
   "id": "recreational-victory",
   "metadata": {},
   "outputs": [],
   "source": [
    "# interpolate\n",
    "# zi_nearest = griddata((x,y),z,(xi,yi),method='nearest', rescale=True)\n",
    "zi_linear = griddata((x,y),z,(xi,yi),method='linear', rescale=True)\n",
    "# zi_cubic = griddata((x,y),z,(xi,yi),method='cubic', rescale=True)"
   ]
  },
  {
   "cell_type": "code",
   "execution_count": null,
   "id": "industrial-columbus",
   "metadata": {},
   "outputs": [],
   "source": [
    "fig, ax = plt.subplots(figsize=(16,8))\n",
    "\n",
    "cs2 = ax.contourf(xi,yi,zi_linear)\n",
    "plt.colorbar(cs2, ax=ax)\n",
    "# ax2.plot(x,y,'k.')\n",
    "ax.set_xlabel('time')\n",
    "ax.set_ylabel('depth')\n",
    "ax.invert_yaxis()\n",
    "ax.set_title(\"Using method='linear'\",fontsize=16)\n",
    "\n",
    "plt.savefig('../figures/december_gridded.png')"
   ]
  },
  {
   "cell_type": "markdown",
   "id": "adult-liver",
   "metadata": {},
   "source": [
    "### ADD MORE DATA"
   ]
  },
  {
   "cell_type": "code",
   "execution_count": null,
   "id": "stretch-setting",
   "metadata": {},
   "outputs": [],
   "source": [
    "df_resampled = df"
   ]
  },
  {
   "cell_type": "code",
   "execution_count": null,
   "id": "hired-composite",
   "metadata": {},
   "outputs": [],
   "source": [
    "df_resampled['time_'] = df_resampled['time'].values.astype(object)"
   ]
  },
  {
   "cell_type": "code",
   "execution_count": null,
   "id": "posted-surge",
   "metadata": {},
   "outputs": [],
   "source": [
    "df_resampled['time_']"
   ]
  },
  {
   "cell_type": "code",
   "execution_count": null,
   "id": "automated-florida",
   "metadata": {},
   "outputs": [],
   "source": [
    "# data coordinates and values\n",
    "x = df_resampled.time_.astype(np.int64) / 100000000000 # np.random.random(100)\n",
    "y = df_resampled.seawater_pressure # np.random.random(100)\n",
    "z = df_resampled.seawater_temperature # np.random.random(100)"
   ]
  },
  {
   "cell_type": "code",
   "execution_count": null,
   "id": "velvet-progress",
   "metadata": {
    "scrolled": true
   },
   "outputs": [],
   "source": [
    "# target grid to interpolate to\n",
    "xi = np.arange(min(x), max(x), 50)\n",
    "yi = np.arange(min(y), max(y), 6)"
   ]
  },
  {
   "cell_type": "code",
   "execution_count": null,
   "id": "recreational-cycling",
   "metadata": {},
   "outputs": [],
   "source": [
    "xi,yi = np.meshgrid(xi,yi)"
   ]
  },
  {
   "cell_type": "code",
   "execution_count": null,
   "id": "dying-intersection",
   "metadata": {},
   "outputs": [],
   "source": [
    "xi.shape"
   ]
  },
  {
   "cell_type": "code",
   "execution_count": null,
   "id": "baking-player",
   "metadata": {},
   "outputs": [],
   "source": [
    "yi.shape"
   ]
  },
  {
   "cell_type": "code",
   "execution_count": null,
   "id": "regular-scale",
   "metadata": {},
   "outputs": [],
   "source": [
    "# interpolate\n",
    "# zi_nearest = griddata((x,y),z,(xi,yi),method='nearest', rescale=True)\n",
    "zi_linear = griddata((x,y),z,(xi,yi),method='linear', rescale=True)\n",
    "# zi_cubic = griddata((x,y),z,(xi,yi),method='cubic', rescale=True)"
   ]
  },
  {
   "cell_type": "code",
   "execution_count": null,
   "id": "structural-building",
   "metadata": {},
   "outputs": [],
   "source": [
    "df['time']"
   ]
  },
  {
   "cell_type": "code",
   "execution_count": null,
   "id": "pregnant-softball",
   "metadata": {},
   "outputs": [],
   "source": [
    "['2018-07-17', '2018-08-17', '2018-09-17', '2018-10-17', '2018-11-17', '2018-12-17']"
   ]
  },
  {
   "cell_type": "code",
   "execution_count": null,
   "id": "hired-softball",
   "metadata": {},
   "outputs": [],
   "source": [
    "fig, ax = plt.subplots(figsize=(24,8))\n",
    "\n",
    "cs2 = ax.contourf(xi,yi,zi_linear, levels=10)\n",
    "cb = plt.colorbar(cs2, ax=ax)\n",
    "# ax2.plot(x,y,'k.')\n",
    "ax.set_xlabel('Time',fontsize=16)\n",
    "ax.set_ylabel('Pressure (dbar)',fontsize=16)\n",
    "ax.invert_yaxis()\n",
    "ax.set_title(\"2018 Interpolated Profiler Data\",fontsize=24)\n",
    "\n",
    "plt.tick_params(axis='both', which='major', labelsize=16)\n",
    "\n",
    "\n",
    "# cb = fig.colorbar(sc,ax=ax)\n",
    "cb.set_label(label='Temperature (deg C)', size=16)\n",
    "cb.ax.tick_params(labelsize=16)\n",
    "\n",
    "plt.savefig('../figures/2018_gridded.png')"
   ]
  },
  {
   "cell_type": "markdown",
   "id": "personal-science",
   "metadata": {},
   "source": [
    "---\n",
    "### Create a dataframe from the griddata() result"
   ]
  },
  {
   "cell_type": "code",
   "execution_count": null,
   "id": "aggressive-citizenship",
   "metadata": {},
   "outputs": [],
   "source": [
    "# xi = np.arange(min(x), max(x), 50)\n",
    "# yi = np.arange(min(y), max(y), 6)\n",
    "\n",
    "z_df = pd.DataFrame(zi_linear, columns=np.arange(min(x), max(x), 50), index=np.arange(min(y), max(y), 6))"
   ]
  },
  {
   "cell_type": "code",
   "execution_count": null,
   "id": "southwest-format",
   "metadata": {},
   "outputs": [],
   "source": [
    "z_df = z_df.T"
   ]
  },
  {
   "cell_type": "code",
   "execution_count": null,
   "id": "short-branch",
   "metadata": {},
   "outputs": [],
   "source": [
    "z_df"
   ]
  },
  {
   "cell_type": "code",
   "execution_count": null,
   "id": "executed-duplicate",
   "metadata": {},
   "outputs": [],
   "source": [
    "col_dict = {k:int(k) for k in z_df.columns}\n",
    "col_dict"
   ]
  },
  {
   "cell_type": "code",
   "execution_count": null,
   "id": "regulated-period",
   "metadata": {},
   "outputs": [],
   "source": [
    "z_df.rename(col_dict, inplace=True, axis=1)"
   ]
  },
  {
   "cell_type": "code",
   "execution_count": null,
   "id": "micro-scale",
   "metadata": {},
   "outputs": [],
   "source": []
  },
  {
   "cell_type": "code",
   "execution_count": null,
   "id": "located-butler",
   "metadata": {},
   "outputs": [],
   "source": [
    "z_df['time'] = z_df.index\n",
    "\n",
    "z_df['time'] = 100000000000 * z_df['time']\n",
    "z_df"
   ]
  },
  {
   "cell_type": "code",
   "execution_count": null,
   "id": "intermediate-spread",
   "metadata": {},
   "outputs": [],
   "source": [
    "z_df['time'] = pd.to_datetime(z_df['time'])\n",
    "z_df"
   ]
  },
  {
   "cell_type": "markdown",
   "id": "breathing-yahoo",
   "metadata": {},
   "source": [
    "---\n",
    "### Append CUTI data"
   ]
  },
  {
   "cell_type": "code",
   "execution_count": null,
   "id": "middle-window",
   "metadata": {},
   "outputs": [],
   "source": [
    "CUTI_data = CUTI_data[CUTI_data['time'].dt.year == 2018][['time', '44N']].reset_index(drop=True)\n",
    "CUTI_data"
   ]
  },
  {
   "cell_type": "code",
   "execution_count": null,
   "id": "domestic-confidence",
   "metadata": {},
   "outputs": [],
   "source": [
    "for month in range(1, 13): # our dataframe only contains dates up to 2017-09-15\n",
    "    for day in range(1, 32):\n",
    "        try:\n",
    "            indices = z_df[(z_df['time'].dt.month == month) & (z_df['time'].dt.day == day)].index\n",
    "            cuti_value = CUTI_data.loc[(CUTI_data['time'].dt.month == month) & (CUTI_data['time'].dt.day == day)]['44N'].values[0]\n",
    "#             print(month, day, cuti_value)\n",
    "            z_df.loc[indices,'CUTI'] = cuti_value\n",
    "        except:\n",
    "            pass"
   ]
  },
  {
   "cell_type": "code",
   "execution_count": null,
   "id": "stopped-wallet",
   "metadata": {},
   "outputs": [],
   "source": [
    "z_df"
   ]
  },
  {
   "cell_type": "code",
   "execution_count": null,
   "id": "leading-works",
   "metadata": {},
   "outputs": [],
   "source": [
    "z_df.boxplot('CUTI', vert=False);"
   ]
  },
  {
   "cell_type": "code",
   "execution_count": null,
   "id": "exempt-music",
   "metadata": {},
   "outputs": [],
   "source": [
    "z_df['upwelling'] = z_df['CUTI'].apply(lambda x: 1 if x > 0 else 0)"
   ]
  },
  {
   "cell_type": "code",
   "execution_count": null,
   "id": "talented-benjamin",
   "metadata": {},
   "outputs": [],
   "source": [
    "z_df['upwelling'].value_counts(normalize=True)"
   ]
  },
  {
   "cell_type": "code",
   "execution_count": null,
   "id": "cosmetic-event",
   "metadata": {},
   "outputs": [],
   "source": [
    "z_df"
   ]
  },
  {
   "cell_type": "code",
   "execution_count": null,
   "id": "premium-retailer",
   "metadata": {},
   "outputs": [],
   "source": [
    "z_df.set_index('time', inplace=True)\n",
    "z_df"
   ]
  },
  {
   "cell_type": "code",
   "execution_count": null,
   "id": "australian-attempt",
   "metadata": {},
   "outputs": [],
   "source": [
    "z_df.isna().sum()"
   ]
  },
  {
   "cell_type": "markdown",
   "id": "tutorial-johnson",
   "metadata": {},
   "source": [
    "Need to drop the first column because it's entirely NANs."
   ]
  },
  {
   "cell_type": "code",
   "execution_count": null,
   "id": "exceptional-murder",
   "metadata": {},
   "outputs": [],
   "source": [
    "z_df.drop(columns=z_df.columns[0], inplace=True)\n",
    "# df.isna().sum()\n",
    "z_df"
   ]
  },
  {
   "cell_type": "code",
   "execution_count": null,
   "id": "instructional-transcript",
   "metadata": {},
   "outputs": [],
   "source": [
    "z_df.dropna(axis=0, inplace=True)\n",
    "z_df"
   ]
  },
  {
   "cell_type": "code",
   "execution_count": null,
   "id": "turkish-advice",
   "metadata": {},
   "outputs": [],
   "source": [
    "z_df.isna().sum()"
   ]
  },
  {
   "cell_type": "code",
   "execution_count": null,
   "id": "executed-proportion",
   "metadata": {},
   "outputs": [],
   "source": [
    "z_df.to_csv('../../coastal_upwelling_output/interpolated.csv')"
   ]
  },
  {
   "cell_type": "code",
   "execution_count": null,
   "id": "supposed-volume",
   "metadata": {},
   "outputs": [],
   "source": []
  },
  {
   "cell_type": "code",
   "execution_count": null,
   "id": "purple-abortion",
   "metadata": {},
   "outputs": [],
   "source": []
  },
  {
   "cell_type": "code",
   "execution_count": null,
   "id": "provincial-productivity",
   "metadata": {},
   "outputs": [],
   "source": []
  },
  {
   "cell_type": "code",
   "execution_count": null,
   "id": "dominant-candle",
   "metadata": {},
   "outputs": [],
   "source": []
  },
  {
   "cell_type": "code",
   "execution_count": null,
   "id": "funded-excellence",
   "metadata": {},
   "outputs": [],
   "source": [
    "# # mask out the field\n",
    "# zi[mask1] = np.nan\n",
    "# zi[mask2] = np.nan\n",
    "# zi[mask3] = np.nan\n",
    "\n",
    "# plot\n",
    "fig, (ax1, ax2, ax3) = plt.subplots(3, 1, figsize=(16,16))\n",
    "\n",
    "\n",
    "cs1 = ax1.contourf(xi,yi,zi_nearest)\n",
    "plt.colorbar(cs1, ax=ax1)\n",
    "ax1.plot(x,y,'k.')\n",
    "ax1.set_xlabel('time')\n",
    "ax1.set_ylabel('depth')\n",
    "ax1.invert_yaxis()\n",
    "ax1.set_title(\"Using method='nearest'\",fontsize=16)\n",
    "\n",
    "cs2 = ax2.contourf(xi,yi,zi_linear)\n",
    "plt.colorbar(cs2, ax=ax2)\n",
    "ax2.plot(x,y,'k.')\n",
    "ax2.set_xlabel('time')\n",
    "ax2.set_ylabel('depth')\n",
    "ax2.invert_yaxis()\n",
    "ax2.set_title(\"Using method='linear'\",fontsize=16)\n",
    "\n",
    "cs3 = ax3.contourf(xi,yi,zi_cubic)\n",
    "plt.colorbar(cs3, ax=ax3)\n",
    "ax3.plot(x,y,'k.')\n",
    "ax3.set_xlabel('time')\n",
    "ax3.set_ylabel('depth')\n",
    "ax3.invert_yaxis()\n",
    "ax3.set_title(\"Using method='cubic'\",fontsize=16)\n",
    "\n",
    "plt.tight_layout();\n",
    "plt.savefig('../figures/gridded_data.png')"
   ]
  },
  {
   "cell_type": "code",
   "execution_count": null,
   "id": "handmade-globe",
   "metadata": {},
   "outputs": [],
   "source": []
  }
 ],
 "metadata": {
  "kernelspec": {
   "display_name": "Python 3",
   "language": "python",
   "name": "python3"
  },
  "language_info": {
   "codemirror_mode": {
    "name": "ipython",
    "version": 3
   },
   "file_extension": ".py",
   "mimetype": "text/x-python",
   "name": "python",
   "nbconvert_exporter": "python",
   "pygments_lexer": "ipython3",
   "version": "3.8.10"
  }
 },
 "nbformat": 4,
 "nbformat_minor": 5
}
