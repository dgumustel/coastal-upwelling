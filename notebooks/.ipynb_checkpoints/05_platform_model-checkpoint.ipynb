{
 "cells": [
  {
   "cell_type": "markdown",
   "id": "arbitrary-final",
   "metadata": {},
   "source": [
    "Just storing modeling tests in here - come back later for updates! "
   ]
  },
  {
   "cell_type": "code",
   "execution_count": 57,
   "id": "egyptian-hello",
   "metadata": {},
   "outputs": [],
   "source": [
    "METBK_units = {'sea_surface_temperature': ['ºC'],\n",
    " 'met_windavg_mag_corr_east': ['m s-1'],\n",
    " 'met_windavg_mag_corr_north': ['m s-1']}"
   ]
  },
  {
   "cell_type": "code",
   "execution_count": 58,
   "id": "brief-python",
   "metadata": {},
   "outputs": [],
   "source": [
    "METBK_daily = METBK_daily.rename(columns={'Sea Surface Temperature (deg_C)':'sea_surface_temperature',\n",
    "                                            'Eastward Wind Velocity (m s-1)': 'met_windavg_mag_corr_east'.format(METBK_units['met_windavg_mag_corr_east'][0]), \n",
    "                                            'Northward Wind Velocity (m s-1)': 'met_windavg_mag_corr_north'.format(METBK_units['met_windavg_mag_corr_north'][0])})"
   ]
  },
  {
   "cell_type": "code",
   "execution_count": 59,
   "id": "separated-julian",
   "metadata": {},
   "outputs": [
    {
     "data": {
      "text/html": [
       "<div>\n",
       "<style scoped>\n",
       "    .dataframe tbody tr th:only-of-type {\n",
       "        vertical-align: middle;\n",
       "    }\n",
       "\n",
       "    .dataframe tbody tr th {\n",
       "        vertical-align: top;\n",
       "    }\n",
       "\n",
       "    .dataframe thead th {\n",
       "        text-align: right;\n",
       "    }\n",
       "</style>\n",
       "<table border=\"1\" class=\"dataframe\">\n",
       "  <thead>\n",
       "    <tr style=\"text-align: right;\">\n",
       "      <th></th>\n",
       "      <th>time</th>\n",
       "      <th>sea_surface_temperature</th>\n",
       "      <th>met_windavg_mag_corr_east</th>\n",
       "      <th>met_windavg_mag_corr_north</th>\n",
       "      <th>CUTI</th>\n",
       "      <th>upwelling</th>\n",
       "    </tr>\n",
       "  </thead>\n",
       "  <tbody>\n",
       "    <tr>\n",
       "      <th>0</th>\n",
       "      <td>2017-01-01</td>\n",
       "      <td>11.247412</td>\n",
       "      <td>6.413056</td>\n",
       "      <td>-5.371468</td>\n",
       "      <td>1.731</td>\n",
       "      <td>1</td>\n",
       "    </tr>\n",
       "    <tr>\n",
       "      <th>1</th>\n",
       "      <td>2017-01-02</td>\n",
       "      <td>11.149430</td>\n",
       "      <td>-1.148830</td>\n",
       "      <td>-1.207261</td>\n",
       "      <td>1.308</td>\n",
       "      <td>1</td>\n",
       "    </tr>\n",
       "    <tr>\n",
       "      <th>2</th>\n",
       "      <td>2017-01-03</td>\n",
       "      <td>11.089363</td>\n",
       "      <td>-5.203772</td>\n",
       "      <td>2.533484</td>\n",
       "      <td>0.360</td>\n",
       "      <td>1</td>\n",
       "    </tr>\n",
       "    <tr>\n",
       "      <th>3</th>\n",
       "      <td>2017-01-04</td>\n",
       "      <td>10.926763</td>\n",
       "      <td>-6.222477</td>\n",
       "      <td>-4.027738</td>\n",
       "      <td>0.742</td>\n",
       "      <td>1</td>\n",
       "    </tr>\n",
       "    <tr>\n",
       "      <th>4</th>\n",
       "      <td>2017-01-05</td>\n",
       "      <td>10.756387</td>\n",
       "      <td>-6.911579</td>\n",
       "      <td>-3.048631</td>\n",
       "      <td>1.469</td>\n",
       "      <td>1</td>\n",
       "    </tr>\n",
       "    <tr>\n",
       "      <th>...</th>\n",
       "      <td>...</td>\n",
       "      <td>...</td>\n",
       "      <td>...</td>\n",
       "      <td>...</td>\n",
       "      <td>...</td>\n",
       "      <td>...</td>\n",
       "    </tr>\n",
       "    <tr>\n",
       "      <th>313</th>\n",
       "      <td>2017-11-10</td>\n",
       "      <td>12.468681</td>\n",
       "      <td>-0.408066</td>\n",
       "      <td>4.630594</td>\n",
       "      <td>-1.239</td>\n",
       "      <td>0</td>\n",
       "    </tr>\n",
       "    <tr>\n",
       "      <th>314</th>\n",
       "      <td>2017-11-11</td>\n",
       "      <td>12.591080</td>\n",
       "      <td>0.274552</td>\n",
       "      <td>4.486309</td>\n",
       "      <td>-0.740</td>\n",
       "      <td>0</td>\n",
       "    </tr>\n",
       "    <tr>\n",
       "      <th>315</th>\n",
       "      <td>2017-11-12</td>\n",
       "      <td>12.417127</td>\n",
       "      <td>-0.501287</td>\n",
       "      <td>8.977260</td>\n",
       "      <td>-0.543</td>\n",
       "      <td>0</td>\n",
       "    </tr>\n",
       "    <tr>\n",
       "      <th>316</th>\n",
       "      <td>2017-11-13</td>\n",
       "      <td>11.889144</td>\n",
       "      <td>4.022042</td>\n",
       "      <td>10.856365</td>\n",
       "      <td>-2.091</td>\n",
       "      <td>0</td>\n",
       "    </tr>\n",
       "    <tr>\n",
       "      <th>317</th>\n",
       "      <td>2017-11-14</td>\n",
       "      <td>11.876774</td>\n",
       "      <td>3.936518</td>\n",
       "      <td>6.797973</td>\n",
       "      <td>-2.339</td>\n",
       "      <td>0</td>\n",
       "    </tr>\n",
       "  </tbody>\n",
       "</table>\n",
       "<p>318 rows × 6 columns</p>\n",
       "</div>"
      ],
      "text/plain": [
       "           time  sea_surface_temperature  met_windavg_mag_corr_east  \\\n",
       "0    2017-01-01                11.247412                   6.413056   \n",
       "1    2017-01-02                11.149430                  -1.148830   \n",
       "2    2017-01-03                11.089363                  -5.203772   \n",
       "3    2017-01-04                10.926763                  -6.222477   \n",
       "4    2017-01-05                10.756387                  -6.911579   \n",
       "..          ...                      ...                        ...   \n",
       "313  2017-11-10                12.468681                  -0.408066   \n",
       "314  2017-11-11                12.591080                   0.274552   \n",
       "315  2017-11-12                12.417127                  -0.501287   \n",
       "316  2017-11-13                11.889144                   4.022042   \n",
       "317  2017-11-14                11.876774                   3.936518   \n",
       "\n",
       "     met_windavg_mag_corr_north   CUTI  upwelling  \n",
       "0                     -5.371468  1.731          1  \n",
       "1                     -1.207261  1.308          1  \n",
       "2                      2.533484  0.360          1  \n",
       "3                     -4.027738  0.742          1  \n",
       "4                     -3.048631  1.469          1  \n",
       "..                          ...    ...        ...  \n",
       "313                    4.630594 -1.239          0  \n",
       "314                    4.486309 -0.740          0  \n",
       "315                    8.977260 -0.543          0  \n",
       "316                   10.856365 -2.091          0  \n",
       "317                    6.797973 -2.339          0  \n",
       "\n",
       "[318 rows x 6 columns]"
      ]
     },
     "execution_count": 59,
     "metadata": {},
     "output_type": "execute_result"
    }
   ],
   "source": [
    "METBK_daily"
   ]
  },
  {
   "cell_type": "code",
   "execution_count": 64,
   "id": "robust-luther",
   "metadata": {},
   "outputs": [],
   "source": [
    "features = ['sea_surface_temperature', 'met_windavg_mag_corr_east', 'met_windavg_mag_corr_north']\n",
    "X = METBK_daily[features]\n",
    "y = METBK_daily['upwelling']"
   ]
  },
  {
   "cell_type": "code",
   "execution_count": 65,
   "id": "exempt-modeling",
   "metadata": {},
   "outputs": [
    {
     "data": {
      "text/html": [
       "<div>\n",
       "<style scoped>\n",
       "    .dataframe tbody tr th:only-of-type {\n",
       "        vertical-align: middle;\n",
       "    }\n",
       "\n",
       "    .dataframe tbody tr th {\n",
       "        vertical-align: top;\n",
       "    }\n",
       "\n",
       "    .dataframe thead th {\n",
       "        text-align: right;\n",
       "    }\n",
       "</style>\n",
       "<table border=\"1\" class=\"dataframe\">\n",
       "  <thead>\n",
       "    <tr style=\"text-align: right;\">\n",
       "      <th></th>\n",
       "      <th>sea_surface_temperature</th>\n",
       "      <th>met_windavg_mag_corr_east</th>\n",
       "      <th>met_windavg_mag_corr_north</th>\n",
       "    </tr>\n",
       "  </thead>\n",
       "  <tbody>\n",
       "    <tr>\n",
       "      <th>0</th>\n",
       "      <td>11.247412</td>\n",
       "      <td>6.413056</td>\n",
       "      <td>-5.371468</td>\n",
       "    </tr>\n",
       "    <tr>\n",
       "      <th>1</th>\n",
       "      <td>11.149430</td>\n",
       "      <td>-1.148830</td>\n",
       "      <td>-1.207261</td>\n",
       "    </tr>\n",
       "    <tr>\n",
       "      <th>2</th>\n",
       "      <td>11.089363</td>\n",
       "      <td>-5.203772</td>\n",
       "      <td>2.533484</td>\n",
       "    </tr>\n",
       "    <tr>\n",
       "      <th>3</th>\n",
       "      <td>10.926763</td>\n",
       "      <td>-6.222477</td>\n",
       "      <td>-4.027738</td>\n",
       "    </tr>\n",
       "    <tr>\n",
       "      <th>4</th>\n",
       "      <td>10.756387</td>\n",
       "      <td>-6.911579</td>\n",
       "      <td>-3.048631</td>\n",
       "    </tr>\n",
       "    <tr>\n",
       "      <th>...</th>\n",
       "      <td>...</td>\n",
       "      <td>...</td>\n",
       "      <td>...</td>\n",
       "    </tr>\n",
       "    <tr>\n",
       "      <th>313</th>\n",
       "      <td>12.468681</td>\n",
       "      <td>-0.408066</td>\n",
       "      <td>4.630594</td>\n",
       "    </tr>\n",
       "    <tr>\n",
       "      <th>314</th>\n",
       "      <td>12.591080</td>\n",
       "      <td>0.274552</td>\n",
       "      <td>4.486309</td>\n",
       "    </tr>\n",
       "    <tr>\n",
       "      <th>315</th>\n",
       "      <td>12.417127</td>\n",
       "      <td>-0.501287</td>\n",
       "      <td>8.977260</td>\n",
       "    </tr>\n",
       "    <tr>\n",
       "      <th>316</th>\n",
       "      <td>11.889144</td>\n",
       "      <td>4.022042</td>\n",
       "      <td>10.856365</td>\n",
       "    </tr>\n",
       "    <tr>\n",
       "      <th>317</th>\n",
       "      <td>11.876774</td>\n",
       "      <td>3.936518</td>\n",
       "      <td>6.797973</td>\n",
       "    </tr>\n",
       "  </tbody>\n",
       "</table>\n",
       "<p>318 rows × 3 columns</p>\n",
       "</div>"
      ],
      "text/plain": [
       "     sea_surface_temperature  met_windavg_mag_corr_east  \\\n",
       "0                  11.247412                   6.413056   \n",
       "1                  11.149430                  -1.148830   \n",
       "2                  11.089363                  -5.203772   \n",
       "3                  10.926763                  -6.222477   \n",
       "4                  10.756387                  -6.911579   \n",
       "..                       ...                        ...   \n",
       "313                12.468681                  -0.408066   \n",
       "314                12.591080                   0.274552   \n",
       "315                12.417127                  -0.501287   \n",
       "316                11.889144                   4.022042   \n",
       "317                11.876774                   3.936518   \n",
       "\n",
       "     met_windavg_mag_corr_north  \n",
       "0                     -5.371468  \n",
       "1                     -1.207261  \n",
       "2                      2.533484  \n",
       "3                     -4.027738  \n",
       "4                     -3.048631  \n",
       "..                          ...  \n",
       "313                    4.630594  \n",
       "314                    4.486309  \n",
       "315                    8.977260  \n",
       "316                   10.856365  \n",
       "317                    6.797973  \n",
       "\n",
       "[318 rows x 3 columns]"
      ]
     },
     "execution_count": 65,
     "metadata": {},
     "output_type": "execute_result"
    }
   ],
   "source": [
    "X"
   ]
  },
  {
   "cell_type": "code",
   "execution_count": 66,
   "id": "artificial-partner",
   "metadata": {},
   "outputs": [
    {
     "data": {
      "text/plain": [
       "0      1\n",
       "1      1\n",
       "2      1\n",
       "3      1\n",
       "4      1\n",
       "      ..\n",
       "313    0\n",
       "314    0\n",
       "315    0\n",
       "316    0\n",
       "317    0\n",
       "Name: upwelling, Length: 318, dtype: int64"
      ]
     },
     "execution_count": 66,
     "metadata": {},
     "output_type": "execute_result"
    }
   ],
   "source": [
    "y"
   ]
  },
  {
   "cell_type": "code",
   "execution_count": 70,
   "id": "incident-victim",
   "metadata": {},
   "outputs": [],
   "source": [
    "sc = StandardScaler()"
   ]
  },
  {
   "cell_type": "code",
   "execution_count": 72,
   "id": "rural-expansion",
   "metadata": {},
   "outputs": [],
   "source": [
    "X_train, X_test, y_train, y_test = train_test_split(X, y, stratify=y, random_state=42)"
   ]
  },
  {
   "cell_type": "code",
   "execution_count": 73,
   "id": "married-briefs",
   "metadata": {},
   "outputs": [],
   "source": [
    "X_train_sc = sc.fit_transform(X_train)\n",
    "X_test_sc = sc.transform(X_test)"
   ]
  },
  {
   "cell_type": "code",
   "execution_count": 75,
   "id": "freelance-explanation",
   "metadata": {},
   "outputs": [],
   "source": [
    "logreg = LogisticRegression()"
   ]
  },
  {
   "cell_type": "code",
   "execution_count": 76,
   "id": "metallic-status",
   "metadata": {},
   "outputs": [
    {
     "data": {
      "text/plain": [
       "LogisticRegression()"
      ]
     },
     "execution_count": 76,
     "metadata": {},
     "output_type": "execute_result"
    }
   ],
   "source": [
    "logreg.fit(X_train_sc, y_train)"
   ]
  },
  {
   "cell_type": "code",
   "execution_count": 77,
   "id": "connected-scheduling",
   "metadata": {},
   "outputs": [
    {
     "data": {
      "text/plain": [
       "0.8319327731092437"
      ]
     },
     "execution_count": 77,
     "metadata": {},
     "output_type": "execute_result"
    }
   ],
   "source": [
    "logreg.score(X_train_sc, y_train)"
   ]
  },
  {
   "cell_type": "code",
   "execution_count": 78,
   "id": "gross-buying",
   "metadata": {},
   "outputs": [
    {
     "data": {
      "text/plain": [
       "0.8125"
      ]
     },
     "execution_count": 78,
     "metadata": {},
     "output_type": "execute_result"
    }
   ],
   "source": [
    "logreg.score(X_test_sc, y_test)"
   ]
  },
  {
   "cell_type": "code",
   "execution_count": 79,
   "id": "separate-candy",
   "metadata": {},
   "outputs": [
    {
     "data": {
      "text/html": [
       "<div>\n",
       "<style scoped>\n",
       "    .dataframe tbody tr th:only-of-type {\n",
       "        vertical-align: middle;\n",
       "    }\n",
       "\n",
       "    .dataframe tbody tr th {\n",
       "        vertical-align: top;\n",
       "    }\n",
       "\n",
       "    .dataframe thead th {\n",
       "        text-align: right;\n",
       "    }\n",
       "</style>\n",
       "<table border=\"1\" class=\"dataframe\">\n",
       "  <thead>\n",
       "    <tr style=\"text-align: right;\">\n",
       "      <th></th>\n",
       "      <th>sea_surface_temperature</th>\n",
       "      <th>met_windavg_mag_corr_east</th>\n",
       "      <th>met_windavg_mag_corr_north</th>\n",
       "    </tr>\n",
       "  </thead>\n",
       "  <tbody>\n",
       "    <tr>\n",
       "      <th>102</th>\n",
       "      <td>10.340394</td>\n",
       "      <td>4.393650</td>\n",
       "      <td>5.505326</td>\n",
       "    </tr>\n",
       "    <tr>\n",
       "      <th>79</th>\n",
       "      <td>10.432781</td>\n",
       "      <td>-1.444948</td>\n",
       "      <td>6.717467</td>\n",
       "    </tr>\n",
       "    <tr>\n",
       "      <th>280</th>\n",
       "      <td>14.719081</td>\n",
       "      <td>0.921250</td>\n",
       "      <td>-5.099964</td>\n",
       "    </tr>\n",
       "    <tr>\n",
       "      <th>186</th>\n",
       "      <td>13.437458</td>\n",
       "      <td>-0.098272</td>\n",
       "      <td>-3.034137</td>\n",
       "    </tr>\n",
       "    <tr>\n",
       "      <th>155</th>\n",
       "      <td>14.538817</td>\n",
       "      <td>-0.589584</td>\n",
       "      <td>-6.848077</td>\n",
       "    </tr>\n",
       "    <tr>\n",
       "      <th>...</th>\n",
       "      <td>...</td>\n",
       "      <td>...</td>\n",
       "      <td>...</td>\n",
       "    </tr>\n",
       "    <tr>\n",
       "      <th>233</th>\n",
       "      <td>14.815643</td>\n",
       "      <td>1.153536</td>\n",
       "      <td>-2.578816</td>\n",
       "    </tr>\n",
       "    <tr>\n",
       "      <th>58</th>\n",
       "      <td>10.488763</td>\n",
       "      <td>5.111347</td>\n",
       "      <td>-2.618992</td>\n",
       "    </tr>\n",
       "    <tr>\n",
       "      <th>195</th>\n",
       "      <td>14.060986</td>\n",
       "      <td>1.617900</td>\n",
       "      <td>-2.921389</td>\n",
       "    </tr>\n",
       "    <tr>\n",
       "      <th>74</th>\n",
       "      <td>10.602498</td>\n",
       "      <td>3.696034</td>\n",
       "      <td>0.242052</td>\n",
       "    </tr>\n",
       "    <tr>\n",
       "      <th>175</th>\n",
       "      <td>13.425513</td>\n",
       "      <td>-0.181825</td>\n",
       "      <td>3.168286</td>\n",
       "    </tr>\n",
       "  </tbody>\n",
       "</table>\n",
       "<p>238 rows × 3 columns</p>\n",
       "</div>"
      ],
      "text/plain": [
       "     sea_surface_temperature  met_windavg_mag_corr_east  \\\n",
       "102                10.340394                   4.393650   \n",
       "79                 10.432781                  -1.444948   \n",
       "280                14.719081                   0.921250   \n",
       "186                13.437458                  -0.098272   \n",
       "155                14.538817                  -0.589584   \n",
       "..                       ...                        ...   \n",
       "233                14.815643                   1.153536   \n",
       "58                 10.488763                   5.111347   \n",
       "195                14.060986                   1.617900   \n",
       "74                 10.602498                   3.696034   \n",
       "175                13.425513                  -0.181825   \n",
       "\n",
       "     met_windavg_mag_corr_north  \n",
       "102                    5.505326  \n",
       "79                     6.717467  \n",
       "280                   -5.099964  \n",
       "186                   -3.034137  \n",
       "155                   -6.848077  \n",
       "..                          ...  \n",
       "233                   -2.578816  \n",
       "58                    -2.618992  \n",
       "195                   -2.921389  \n",
       "74                     0.242052  \n",
       "175                    3.168286  \n",
       "\n",
       "[238 rows x 3 columns]"
      ]
     },
     "execution_count": 79,
     "metadata": {},
     "output_type": "execute_result"
    }
   ],
   "source": [
    "X_train"
   ]
  }
 ],
 "metadata": {
  "kernelspec": {
   "display_name": "Python 3",
   "language": "python",
   "name": "python3"
  },
  "language_info": {
   "codemirror_mode": {
    "name": "ipython",
    "version": 3
   },
   "file_extension": ".py",
   "mimetype": "text/x-python",
   "name": "python",
   "nbconvert_exporter": "python",
   "pygments_lexer": "ipython3",
   "version": "3.9.2"
  }
 },
 "nbformat": 4,
 "nbformat_minor": 5
}
