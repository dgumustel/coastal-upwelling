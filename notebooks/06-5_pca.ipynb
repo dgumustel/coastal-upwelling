{
 "cells": [
  {
   "cell_type": "code",
   "execution_count": 7,
   "id": "2ddc4163-042c-4210-a372-f469d9325177",
   "metadata": {},
   "outputs": [],
   "source": [
    "import pandas as pd\n",
    "%matplotlib inline\n",
    "import numpy as np\n",
    "import matplotlib.pyplot as plt\n",
    "import seaborn as sns; sns.set()\n",
    "\n",
    "from sklearn.decomposition import PCA"
   ]
  },
  {
   "cell_type": "code",
   "execution_count": 9,
   "id": "36d7a6c6-fb3e-471d-b253-3bf91ff38a5e",
   "metadata": {},
   "outputs": [],
   "source": [
    "df = pd.read_csv('../../coastal_upwelling_output/interpolated.csv')\n",
    "df.rename({'Unnamed: 0':'time'},inplace=True, axis=1)\n",
    "df.set_index('time', inplace=True)\n",
    "df.drop(columns=['CUTI', 'upwelling'], inplace=True)"
   ]
  },
  {
   "cell_type": "code",
   "execution_count": 10,
   "id": "d8767ca2-7497-4ce8-abf0-89a1fc23069b",
   "metadata": {},
   "outputs": [
    {
     "data": {
      "text/html": [
       "<div>\n",
       "<style scoped>\n",
       "    .dataframe tbody tr th:only-of-type {\n",
       "        vertical-align: middle;\n",
       "    }\n",
       "\n",
       "    .dataframe tbody tr th {\n",
       "        vertical-align: top;\n",
       "    }\n",
       "\n",
       "    .dataframe thead th {\n",
       "        text-align: right;\n",
       "    }\n",
       "</style>\n",
       "<table border=\"1\" class=\"dataframe\">\n",
       "  <thead>\n",
       "    <tr style=\"text-align: right;\">\n",
       "      <th></th>\n",
       "      <th>10</th>\n",
       "      <th>16</th>\n",
       "      <th>22</th>\n",
       "      <th>28</th>\n",
       "      <th>34</th>\n",
       "      <th>40</th>\n",
       "      <th>46</th>\n",
       "      <th>52</th>\n",
       "      <th>58</th>\n",
       "      <th>64</th>\n",
       "      <th>...</th>\n",
       "      <th>142</th>\n",
       "      <th>148</th>\n",
       "      <th>154</th>\n",
       "      <th>160</th>\n",
       "      <th>166</th>\n",
       "      <th>172</th>\n",
       "      <th>178</th>\n",
       "      <th>184</th>\n",
       "      <th>190</th>\n",
       "      <th>196</th>\n",
       "    </tr>\n",
       "    <tr>\n",
       "      <th>time</th>\n",
       "      <th></th>\n",
       "      <th></th>\n",
       "      <th></th>\n",
       "      <th></th>\n",
       "      <th></th>\n",
       "      <th></th>\n",
       "      <th></th>\n",
       "      <th></th>\n",
       "      <th></th>\n",
       "      <th></th>\n",
       "      <th></th>\n",
       "      <th></th>\n",
       "      <th></th>\n",
       "      <th></th>\n",
       "      <th></th>\n",
       "      <th></th>\n",
       "      <th></th>\n",
       "      <th></th>\n",
       "      <th></th>\n",
       "      <th></th>\n",
       "      <th></th>\n",
       "    </tr>\n",
       "  </thead>\n",
       "  <tbody>\n",
       "    <tr>\n",
       "      <th>2018-07-17 17:02:10.061576192</th>\n",
       "      <td>14.050275</td>\n",
       "      <td>11.959311</td>\n",
       "      <td>10.073221</td>\n",
       "      <td>9.767676</td>\n",
       "      <td>9.482159</td>\n",
       "      <td>9.105380</td>\n",
       "      <td>9.056556</td>\n",
       "      <td>9.055258</td>\n",
       "      <td>9.038180</td>\n",
       "      <td>8.987498</td>\n",
       "      <td>...</td>\n",
       "      <td>7.619771</td>\n",
       "      <td>7.586346</td>\n",
       "      <td>7.528777</td>\n",
       "      <td>7.338059</td>\n",
       "      <td>7.275881</td>\n",
       "      <td>7.237259</td>\n",
       "      <td>7.168897</td>\n",
       "      <td>7.087552</td>\n",
       "      <td>7.032359</td>\n",
       "      <td>6.999018</td>\n",
       "    </tr>\n",
       "    <tr>\n",
       "      <th>2018-07-17 18:25:30.061576192</th>\n",
       "      <td>13.957127</td>\n",
       "      <td>10.870573</td>\n",
       "      <td>9.901940</td>\n",
       "      <td>9.695652</td>\n",
       "      <td>9.342295</td>\n",
       "      <td>9.117574</td>\n",
       "      <td>9.069495</td>\n",
       "      <td>9.021141</td>\n",
       "      <td>9.080058</td>\n",
       "      <td>9.081508</td>\n",
       "      <td>...</td>\n",
       "      <td>7.794354</td>\n",
       "      <td>7.704981</td>\n",
       "      <td>7.655243</td>\n",
       "      <td>7.505627</td>\n",
       "      <td>7.412475</td>\n",
       "      <td>7.401960</td>\n",
       "      <td>7.334573</td>\n",
       "      <td>7.211357</td>\n",
       "      <td>7.136497</td>\n",
       "      <td>7.066432</td>\n",
       "    </tr>\n",
       "    <tr>\n",
       "      <th>2018-07-17 19:48:50.061576192</th>\n",
       "      <td>14.042208</td>\n",
       "      <td>10.949701</td>\n",
       "      <td>9.850174</td>\n",
       "      <td>9.776190</td>\n",
       "      <td>9.300516</td>\n",
       "      <td>9.257225</td>\n",
       "      <td>9.193214</td>\n",
       "      <td>9.130008</td>\n",
       "      <td>9.150563</td>\n",
       "      <td>9.106404</td>\n",
       "      <td>...</td>\n",
       "      <td>7.836112</td>\n",
       "      <td>7.726186</td>\n",
       "      <td>7.664953</td>\n",
       "      <td>7.591927</td>\n",
       "      <td>7.506104</td>\n",
       "      <td>7.450694</td>\n",
       "      <td>7.371207</td>\n",
       "      <td>7.261236</td>\n",
       "      <td>7.173726</td>\n",
       "      <td>7.114324</td>\n",
       "    </tr>\n",
       "    <tr>\n",
       "      <th>2018-07-17 21:12:10.061576192</th>\n",
       "      <td>14.140387</td>\n",
       "      <td>11.095460</td>\n",
       "      <td>9.932039</td>\n",
       "      <td>9.728931</td>\n",
       "      <td>9.258736</td>\n",
       "      <td>9.346245</td>\n",
       "      <td>9.331689</td>\n",
       "      <td>9.174076</td>\n",
       "      <td>9.217667</td>\n",
       "      <td>9.102127</td>\n",
       "      <td>...</td>\n",
       "      <td>7.801404</td>\n",
       "      <td>7.722635</td>\n",
       "      <td>7.672826</td>\n",
       "      <td>7.621918</td>\n",
       "      <td>7.514516</td>\n",
       "      <td>7.366019</td>\n",
       "      <td>7.300821</td>\n",
       "      <td>7.201451</td>\n",
       "      <td>7.165526</td>\n",
       "      <td>7.150486</td>\n",
       "    </tr>\n",
       "    <tr>\n",
       "      <th>2018-07-17 22:35:30.061576192</th>\n",
       "      <td>14.116346</td>\n",
       "      <td>11.205226</td>\n",
       "      <td>9.967389</td>\n",
       "      <td>9.708485</td>\n",
       "      <td>9.617728</td>\n",
       "      <td>9.247863</td>\n",
       "      <td>9.456468</td>\n",
       "      <td>9.246932</td>\n",
       "      <td>9.266785</td>\n",
       "      <td>9.216697</td>\n",
       "      <td>...</td>\n",
       "      <td>7.825550</td>\n",
       "      <td>7.761461</td>\n",
       "      <td>7.710273</td>\n",
       "      <td>7.659872</td>\n",
       "      <td>7.586809</td>\n",
       "      <td>7.503011</td>\n",
       "      <td>7.421469</td>\n",
       "      <td>7.306080</td>\n",
       "      <td>7.253350</td>\n",
       "      <td>7.191860</td>\n",
       "    </tr>\n",
       "    <tr>\n",
       "      <th>...</th>\n",
       "      <td>...</td>\n",
       "      <td>...</td>\n",
       "      <td>...</td>\n",
       "      <td>...</td>\n",
       "      <td>...</td>\n",
       "      <td>...</td>\n",
       "      <td>...</td>\n",
       "      <td>...</td>\n",
       "      <td>...</td>\n",
       "      <td>...</td>\n",
       "      <td>...</td>\n",
       "      <td>...</td>\n",
       "      <td>...</td>\n",
       "      <td>...</td>\n",
       "      <td>...</td>\n",
       "      <td>...</td>\n",
       "      <td>...</td>\n",
       "      <td>...</td>\n",
       "      <td>...</td>\n",
       "      <td>...</td>\n",
       "      <td>...</td>\n",
       "    </tr>\n",
       "    <tr>\n",
       "      <th>2018-12-25 19:42:10.061576192</th>\n",
       "      <td>11.958360</td>\n",
       "      <td>11.958135</td>\n",
       "      <td>11.958165</td>\n",
       "      <td>11.952446</td>\n",
       "      <td>11.940669</td>\n",
       "      <td>11.822778</td>\n",
       "      <td>11.618385</td>\n",
       "      <td>11.532611</td>\n",
       "      <td>11.528637</td>\n",
       "      <td>11.527489</td>\n",
       "      <td>...</td>\n",
       "      <td>9.162451</td>\n",
       "      <td>9.118422</td>\n",
       "      <td>9.168857</td>\n",
       "      <td>9.034012</td>\n",
       "      <td>8.862957</td>\n",
       "      <td>8.840823</td>\n",
       "      <td>8.886654</td>\n",
       "      <td>8.814835</td>\n",
       "      <td>8.724564</td>\n",
       "      <td>8.534272</td>\n",
       "    </tr>\n",
       "    <tr>\n",
       "      <th>2018-12-25 21:05:30.061576192</th>\n",
       "      <td>11.966183</td>\n",
       "      <td>11.966942</td>\n",
       "      <td>11.967257</td>\n",
       "      <td>11.958619</td>\n",
       "      <td>11.929104</td>\n",
       "      <td>11.848490</td>\n",
       "      <td>11.649076</td>\n",
       "      <td>11.534315</td>\n",
       "      <td>11.527931</td>\n",
       "      <td>11.524362</td>\n",
       "      <td>...</td>\n",
       "      <td>9.322393</td>\n",
       "      <td>9.224035</td>\n",
       "      <td>9.089054</td>\n",
       "      <td>9.022601</td>\n",
       "      <td>8.882834</td>\n",
       "      <td>8.855709</td>\n",
       "      <td>8.847703</td>\n",
       "      <td>8.814844</td>\n",
       "      <td>8.684697</td>\n",
       "      <td>8.536650</td>\n",
       "    </tr>\n",
       "    <tr>\n",
       "      <th>2018-12-25 22:28:50.061576192</th>\n",
       "      <td>11.974130</td>\n",
       "      <td>11.973730</td>\n",
       "      <td>11.974008</td>\n",
       "      <td>11.968621</td>\n",
       "      <td>11.933196</td>\n",
       "      <td>11.913816</td>\n",
       "      <td>11.740736</td>\n",
       "      <td>11.675417</td>\n",
       "      <td>11.565127</td>\n",
       "      <td>11.539638</td>\n",
       "      <td>...</td>\n",
       "      <td>9.320347</td>\n",
       "      <td>9.267709</td>\n",
       "      <td>9.166364</td>\n",
       "      <td>9.116368</td>\n",
       "      <td>9.001082</td>\n",
       "      <td>8.974241</td>\n",
       "      <td>8.897539</td>\n",
       "      <td>8.833432</td>\n",
       "      <td>8.750648</td>\n",
       "      <td>8.539029</td>\n",
       "    </tr>\n",
       "    <tr>\n",
       "      <th>2018-12-25 23:52:10.061576192</th>\n",
       "      <td>11.982202</td>\n",
       "      <td>11.979041</td>\n",
       "      <td>11.978485</td>\n",
       "      <td>11.968747</td>\n",
       "      <td>11.949102</td>\n",
       "      <td>11.948089</td>\n",
       "      <td>11.841979</td>\n",
       "      <td>11.765422</td>\n",
       "      <td>11.649837</td>\n",
       "      <td>11.599377</td>\n",
       "      <td>...</td>\n",
       "      <td>9.295486</td>\n",
       "      <td>9.302252</td>\n",
       "      <td>9.212205</td>\n",
       "      <td>9.163474</td>\n",
       "      <td>9.088436</td>\n",
       "      <td>9.043842</td>\n",
       "      <td>8.930959</td>\n",
       "      <td>8.866600</td>\n",
       "      <td>8.816795</td>\n",
       "      <td>8.541407</td>\n",
       "    </tr>\n",
       "    <tr>\n",
       "      <th>2018-12-26 01:15:30.061576192</th>\n",
       "      <td>11.990295</td>\n",
       "      <td>11.986075</td>\n",
       "      <td>11.982824</td>\n",
       "      <td>11.968874</td>\n",
       "      <td>11.965074</td>\n",
       "      <td>11.965405</td>\n",
       "      <td>11.936267</td>\n",
       "      <td>11.844511</td>\n",
       "      <td>11.732570</td>\n",
       "      <td>11.658112</td>\n",
       "      <td>...</td>\n",
       "      <td>9.288552</td>\n",
       "      <td>9.261029</td>\n",
       "      <td>9.183982</td>\n",
       "      <td>9.138820</td>\n",
       "      <td>9.138525</td>\n",
       "      <td>9.083291</td>\n",
       "      <td>9.005863</td>\n",
       "      <td>8.973352</td>\n",
       "      <td>8.890710</td>\n",
       "      <td>8.543786</td>\n",
       "    </tr>\n",
       "  </tbody>\n",
       "</table>\n",
       "<p>2789 rows × 32 columns</p>\n",
       "</div>"
      ],
      "text/plain": [
       "                                      10         16         22         28  \\\n",
       "time                                                                        \n",
       "2018-07-17 17:02:10.061576192  14.050275  11.959311  10.073221   9.767676   \n",
       "2018-07-17 18:25:30.061576192  13.957127  10.870573   9.901940   9.695652   \n",
       "2018-07-17 19:48:50.061576192  14.042208  10.949701   9.850174   9.776190   \n",
       "2018-07-17 21:12:10.061576192  14.140387  11.095460   9.932039   9.728931   \n",
       "2018-07-17 22:35:30.061576192  14.116346  11.205226   9.967389   9.708485   \n",
       "...                                  ...        ...        ...        ...   \n",
       "2018-12-25 19:42:10.061576192  11.958360  11.958135  11.958165  11.952446   \n",
       "2018-12-25 21:05:30.061576192  11.966183  11.966942  11.967257  11.958619   \n",
       "2018-12-25 22:28:50.061576192  11.974130  11.973730  11.974008  11.968621   \n",
       "2018-12-25 23:52:10.061576192  11.982202  11.979041  11.978485  11.968747   \n",
       "2018-12-26 01:15:30.061576192  11.990295  11.986075  11.982824  11.968874   \n",
       "\n",
       "                                      34         40         46         52  \\\n",
       "time                                                                        \n",
       "2018-07-17 17:02:10.061576192   9.482159   9.105380   9.056556   9.055258   \n",
       "2018-07-17 18:25:30.061576192   9.342295   9.117574   9.069495   9.021141   \n",
       "2018-07-17 19:48:50.061576192   9.300516   9.257225   9.193214   9.130008   \n",
       "2018-07-17 21:12:10.061576192   9.258736   9.346245   9.331689   9.174076   \n",
       "2018-07-17 22:35:30.061576192   9.617728   9.247863   9.456468   9.246932   \n",
       "...                                  ...        ...        ...        ...   \n",
       "2018-12-25 19:42:10.061576192  11.940669  11.822778  11.618385  11.532611   \n",
       "2018-12-25 21:05:30.061576192  11.929104  11.848490  11.649076  11.534315   \n",
       "2018-12-25 22:28:50.061576192  11.933196  11.913816  11.740736  11.675417   \n",
       "2018-12-25 23:52:10.061576192  11.949102  11.948089  11.841979  11.765422   \n",
       "2018-12-26 01:15:30.061576192  11.965074  11.965405  11.936267  11.844511   \n",
       "\n",
       "                                      58         64  ...       142       148  \\\n",
       "time                                                 ...                       \n",
       "2018-07-17 17:02:10.061576192   9.038180   8.987498  ...  7.619771  7.586346   \n",
       "2018-07-17 18:25:30.061576192   9.080058   9.081508  ...  7.794354  7.704981   \n",
       "2018-07-17 19:48:50.061576192   9.150563   9.106404  ...  7.836112  7.726186   \n",
       "2018-07-17 21:12:10.061576192   9.217667   9.102127  ...  7.801404  7.722635   \n",
       "2018-07-17 22:35:30.061576192   9.266785   9.216697  ...  7.825550  7.761461   \n",
       "...                                  ...        ...  ...       ...       ...   \n",
       "2018-12-25 19:42:10.061576192  11.528637  11.527489  ...  9.162451  9.118422   \n",
       "2018-12-25 21:05:30.061576192  11.527931  11.524362  ...  9.322393  9.224035   \n",
       "2018-12-25 22:28:50.061576192  11.565127  11.539638  ...  9.320347  9.267709   \n",
       "2018-12-25 23:52:10.061576192  11.649837  11.599377  ...  9.295486  9.302252   \n",
       "2018-12-26 01:15:30.061576192  11.732570  11.658112  ...  9.288552  9.261029   \n",
       "\n",
       "                                    154       160       166       172  \\\n",
       "time                                                                    \n",
       "2018-07-17 17:02:10.061576192  7.528777  7.338059  7.275881  7.237259   \n",
       "2018-07-17 18:25:30.061576192  7.655243  7.505627  7.412475  7.401960   \n",
       "2018-07-17 19:48:50.061576192  7.664953  7.591927  7.506104  7.450694   \n",
       "2018-07-17 21:12:10.061576192  7.672826  7.621918  7.514516  7.366019   \n",
       "2018-07-17 22:35:30.061576192  7.710273  7.659872  7.586809  7.503011   \n",
       "...                                 ...       ...       ...       ...   \n",
       "2018-12-25 19:42:10.061576192  9.168857  9.034012  8.862957  8.840823   \n",
       "2018-12-25 21:05:30.061576192  9.089054  9.022601  8.882834  8.855709   \n",
       "2018-12-25 22:28:50.061576192  9.166364  9.116368  9.001082  8.974241   \n",
       "2018-12-25 23:52:10.061576192  9.212205  9.163474  9.088436  9.043842   \n",
       "2018-12-26 01:15:30.061576192  9.183982  9.138820  9.138525  9.083291   \n",
       "\n",
       "                                    178       184       190       196  \n",
       "time                                                                   \n",
       "2018-07-17 17:02:10.061576192  7.168897  7.087552  7.032359  6.999018  \n",
       "2018-07-17 18:25:30.061576192  7.334573  7.211357  7.136497  7.066432  \n",
       "2018-07-17 19:48:50.061576192  7.371207  7.261236  7.173726  7.114324  \n",
       "2018-07-17 21:12:10.061576192  7.300821  7.201451  7.165526  7.150486  \n",
       "2018-07-17 22:35:30.061576192  7.421469  7.306080  7.253350  7.191860  \n",
       "...                                 ...       ...       ...       ...  \n",
       "2018-12-25 19:42:10.061576192  8.886654  8.814835  8.724564  8.534272  \n",
       "2018-12-25 21:05:30.061576192  8.847703  8.814844  8.684697  8.536650  \n",
       "2018-12-25 22:28:50.061576192  8.897539  8.833432  8.750648  8.539029  \n",
       "2018-12-25 23:52:10.061576192  8.930959  8.866600  8.816795  8.541407  \n",
       "2018-12-26 01:15:30.061576192  9.005863  8.973352  8.890710  8.543786  \n",
       "\n",
       "[2789 rows x 32 columns]"
      ]
     },
     "execution_count": 10,
     "metadata": {},
     "output_type": "execute_result"
    }
   ],
   "source": [
    "df"
   ]
  },
  {
   "cell_type": "code",
   "execution_count": 28,
   "id": "e763a823-e274-4465-abe0-519ccb5501be",
   "metadata": {},
   "outputs": [
    {
     "data": {
      "text/plain": [
       "<matplotlib.image.AxesImage at 0x2df530be550>"
      ]
     },
     "execution_count": 28,
     "metadata": {},
     "output_type": "execute_result"
    },
    {
     "data": {
      "image/png": "[encoded data removed]",
      "text/plain": [
       "<Figure size 432x288 with 1 Axes>"
      ]
     },
     "metadata": {},
     "output_type": "display_data"
    }
   ],
   "source": [
    "fig, ax = plt.subplots()\n",
    "ax.imshow(df.T)"
   ]
  },
  {
   "cell_type": "code",
   "execution_count": 31,
   "id": "74fb00f1-6683-4a0d-8074-c79555de60b1",
   "metadata": {},
   "outputs": [
    {
     "data": {
      "image/png": "[encoded data removed]",
      "text/plain": [
       "<Figure size 432x288 with 1 Axes>"
      ]
     },
     "metadata": {},
     "output_type": "display_data"
    }
   ],
   "source": [
    "fig, ax = plt.subplots()\n",
    "\n",
    "ax.contourf(df.T, levels=30)\n",
    "ax.invert_yaxis()"
   ]
  },
  {
   "cell_type": "code",
   "execution_count": 41,
   "id": "398b3719-44b6-4e5f-b3a4-c591319f8225",
   "metadata": {},
   "outputs": [
    {
     "data": {
      "text/plain": [
       "Text(0, 0.5, 'Cumulative explained variance')"
      ]
     },
     "execution_count": 41,
     "metadata": {},
     "output_type": "execute_result"
    },
    {
     "data": {
      "image/png": "[encoded data removed]",
      "text/plain": [
       "<Figure size 432x288 with 1 Axes>"
      ]
     },
     "metadata": {},
     "output_type": "display_data"
    }
   ],
   "source": [
    "pca = PCA().fit(df)\n",
    "plt.plot(np.cumsum(pca.explained_variance_ratio_), '.')\n",
    "plt.xlabel('Number of components')\n",
    "plt.ylabel('Cumulative explained variance')"
   ]
  },
  {
   "cell_type": "markdown",
   "id": "b5a8ff5f-32cf-4ca3-83dc-600772511e9d",
   "metadata": {},
   "source": [
    "The first 2 components explain over 80% of the variance - I'll include 4 for now because that explains 95% of the variance, but in general how do you choose the number of components to use? "
   ]
  },
  {
   "cell_type": "code",
   "execution_count": 57,
   "id": "8e7e4aa9-2f7d-4905-9b89-69a8d06a110e",
   "metadata": {},
   "outputs": [
    {
     "data": {
      "text/plain": [
       "4"
      ]
     },
     "execution_count": 57,
     "metadata": {},
     "output_type": "execute_result"
    }
   ],
   "source": [
    "pca = PCA(n_components=4).fit(df)\n",
    "pca.n_components_"
   ]
  },
  {
   "cell_type": "code",
   "execution_count": 58,
   "id": "cc16e611-93c3-486a-a148-6a18d380e81c",
   "metadata": {},
   "outputs": [
    {
     "data": {
      "text/plain": [
       "array([8.9311908 , 4.64471182, 0.90308301, 0.50069181])"
      ]
     },
     "execution_count": 58,
     "metadata": {},
     "output_type": "execute_result"
    }
   ],
   "source": [
    "pca.explained_variance_"
   ]
  },
  {
   "cell_type": "code",
   "execution_count": 59,
   "id": "aef6fc20-effb-4f18-b5fc-3fe1acedc5e7",
   "metadata": {},
   "outputs": [],
   "source": [
    "components = pca.transform(df)"
   ]
  },
  {
   "cell_type": "code",
   "execution_count": 60,
   "id": "9a183314-d59c-499c-8037-650b5bdf0f45",
   "metadata": {},
   "outputs": [],
   "source": [
    "filtered = pca.inverse_transform(components)"
   ]
  },
  {
   "cell_type": "code",
   "execution_count": 61,
   "id": "3ce13e85-c595-4ece-b677-c39d7a864653",
   "metadata": {},
   "outputs": [
    {
     "data": {
      "image/png": "[encoded data removed]",
      "text/plain": [
       "<Figure size 432x288 with 1 Axes>"
      ]
     },
     "metadata": {},
     "output_type": "display_data"
    }
   ],
   "source": [
    "fig, ax = plt.subplots()\n",
    "\n",
    "ax.contourf(filtered.T, levels=30)\n",
    "ax.invert_yaxis()"
   ]
  },
  {
   "cell_type": "code",
   "execution_count": null,
   "id": "edfc8ac1-f32b-4a1a-bb65-edca90655e51",
   "metadata": {},
   "outputs": [],
   "source": []
  },
  {
   "cell_type": "code",
   "execution_count": 15,
   "id": "b8bc032f-3296-42c6-a9ab-03e04edd80d7",
   "metadata": {},
   "outputs": [
    {
     "data": {
      "text/plain": [
       "PCA(n_components=2)"
      ]
     },
     "execution_count": 15,
     "metadata": {},
     "output_type": "execute_result"
    }
   ],
   "source": [
    "pca = PCA(n_components=1)\n",
    "pca.fit(df)"
   ]
  },
  {
   "cell_type": "code",
   "execution_count": 16,
   "id": "2c21572f-413e-4bcb-a00f-e5b9ff2f3fcf",
   "metadata": {},
   "outputs": [
    {
     "name": "stdout",
     "output_type": "stream",
     "text": [
      "[[ 0.04637957  0.24861474  0.3216514   0.29107414  0.28034191  0.24841423\n",
      "   0.2199429   0.197964    0.18300353  0.17284187  0.16514643  0.16415328\n",
      "   0.16413521  0.16423486  0.1600489   0.16087171  0.16286128  0.16079666\n",
      "   0.15623374  0.15198853  0.14926475  0.14589691  0.14111217  0.13843448\n",
      "   0.13354229  0.13009286  0.12554702  0.12231655  0.11938222  0.11463996\n",
      "   0.11068681  0.09663537]\n",
      " [-0.64741305 -0.53475429 -0.36770273 -0.07172859  0.00865234  0.05106137\n",
      "   0.05972456  0.05251244  0.04207918  0.04026739  0.05077366  0.05474031\n",
      "   0.0646815   0.07160826  0.09321952  0.09249109  0.08790707  0.08418165\n",
      "   0.08607585  0.08764898  0.08663723  0.08546844  0.08231553  0.07790033\n",
      "   0.07869133  0.07989091  0.08052666  0.08025784  0.07852848  0.08024839\n",
      "   0.07918381  0.08986975]]\n"
     ]
    }
   ],
   "source": [
    "print(pca.components_)"
   ]
  },
  {
   "cell_type": "code",
   "execution_count": 17,
   "id": "aa0bd2e3-85b7-49c5-989b-4c405a423e08",
   "metadata": {},
   "outputs": [
    {
     "name": "stdout",
     "output_type": "stream",
     "text": [
      "[8.9311908  4.64471182]\n"
     ]
    }
   ],
   "source": [
    "print(pca.explained_variance_)"
   ]
  },
  {
   "cell_type": "code",
   "execution_count": null,
   "id": "af4bdae2-5d32-422f-9352-6ed3eab77f54",
   "metadata": {},
   "outputs": [],
   "source": []
  }
 ],
 "metadata": {
  "kernelspec": {
   "display_name": "Python 3",
   "language": "python",
   "name": "python3"
  },
  "language_info": {
   "codemirror_mode": {
    "name": "ipython",
    "version": 3
   },
   "file_extension": ".py",
   "mimetype": "text/x-python",
   "name": "python",
   "nbconvert_exporter": "python",
   "pygments_lexer": "ipython3",
   "version": "3.8.10"
  }
 },
 "nbformat": 4,
 "nbformat_minor": 5
}
