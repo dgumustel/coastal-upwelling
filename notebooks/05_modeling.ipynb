{
 "cells": [
  {
   "cell_type": "markdown",
   "id": "polished-accounting",
   "metadata": {},
   "source": [
    "# Classification modeling\n",
    "---"
   ]
  },
  {
   "cell_type": "markdown",
   "id": "cosmetic-buffalo",
   "metadata": {},
   "source": [
    "For my baseline model, I need to ask myself what I'm actually trying to do and whether my audience cares more about accuracy or interpretation. In academic settings and Earth sciences, I prefer to prioritize interpretation since I'm working with real-world concepts and I'd like to be able to use these methods to learn about the oceanographic processes at play here. For this reason, I'll be using scikit-learn's Logistic Regression model, a straightforward classification model that prioritizes interpretability over accuracy. There are several assumptions we make about our data when we use this model, including assuming that our independent variables are independent *of each other*. \n",
    "\n",
    "However, I know this isn't the case in my data and the variables are strongly correlated with each other. Out of curiosity, I'm going to make a model with each feature individually as one way to avoid the multicollinearity, and then use polynomial features to engineer some interaction features and utilize regularization techniques to reduce the effect of multicollinearity. "
   ]
  },
  {
   "cell_type": "code",
   "execution_count": 40,
   "id": "northern-pickup",
   "metadata": {},
   "outputs": [],
   "source": [
    "import matplotlib.pyplot as plt\n",
    "import numpy as np\n",
    "import pandas as pd\n",
    "import seaborn as sns\n",
    "\n",
    "from sklearn.linear_model import LogisticRegression\n",
    "from sklearn.model_selection import train_test_split, GridSearchCV, cross_val_score\n",
    "from sklearn.preprocessing import StandardScaler, PolynomialFeatures\n",
    "from sklearn.pipeline import Pipeline\n",
    "from sklearn.metrics import confusion_matrix, ConfusionMatrixDisplay, plot_confusion_matrix, classification_report\n",
    "from sklearn.tree import DecisionTreeClassifier, plot_tree, export_text"
   ]
  },
  {
   "cell_type": "markdown",
   "id": "above-carolina",
   "metadata": {},
   "source": [
    "---\n",
    "### Load the data"
   ]
  },
  {
   "cell_type": "code",
   "execution_count": 2,
   "id": "hybrid-combining",
   "metadata": {},
   "outputs": [],
   "source": [
    "df = pd.read_csv('../../coastal_upwelling_output/clean_dataframe.csv')"
   ]
  },
  {
   "cell_type": "code",
   "execution_count": 3,
   "id": "legal-tuner",
   "metadata": {},
   "outputs": [
    {
     "data": {
      "text/html": [
       "<div>\n",
       "<style scoped>\n",
       "    .dataframe tbody tr th:only-of-type {\n",
       "        vertical-align: middle;\n",
       "    }\n",
       "\n",
       "    .dataframe tbody tr th {\n",
       "        vertical-align: top;\n",
       "    }\n",
       "\n",
       "    .dataframe thead th {\n",
       "        text-align: right;\n",
       "    }\n",
       "</style>\n",
       "<table border=\"1\" class=\"dataframe\">\n",
       "  <thead>\n",
       "    <tr style=\"text-align: right;\">\n",
       "      <th></th>\n",
       "      <th>time</th>\n",
       "      <th>density</th>\n",
       "      <th>practical_salinity</th>\n",
       "      <th>seawater_temperature</th>\n",
       "      <th>sea_surface_temperature</th>\n",
       "      <th>CUTI</th>\n",
       "      <th>upwelling</th>\n",
       "    </tr>\n",
       "  </thead>\n",
       "  <tbody>\n",
       "    <tr>\n",
       "      <th>0</th>\n",
       "      <td>2017-01-01 00:00:00</td>\n",
       "      <td>1027.258767</td>\n",
       "      <td>33.916755</td>\n",
       "      <td>7.766451</td>\n",
       "      <td>11.273</td>\n",
       "      <td>1.731</td>\n",
       "      <td>1</td>\n",
       "    </tr>\n",
       "    <tr>\n",
       "      <th>1</th>\n",
       "      <td>2017-01-01 00:01:00</td>\n",
       "      <td>1027.260164</td>\n",
       "      <td>33.917475</td>\n",
       "      <td>7.760876</td>\n",
       "      <td>11.268</td>\n",
       "      <td>1.731</td>\n",
       "      <td>1</td>\n",
       "    </tr>\n",
       "    <tr>\n",
       "      <th>2</th>\n",
       "      <td>2017-01-01 00:02:00</td>\n",
       "      <td>1027.258920</td>\n",
       "      <td>33.917249</td>\n",
       "      <td>7.767207</td>\n",
       "      <td>11.267</td>\n",
       "      <td>1.731</td>\n",
       "      <td>1</td>\n",
       "    </tr>\n",
       "    <tr>\n",
       "      <th>3</th>\n",
       "      <td>2017-01-01 00:03:00</td>\n",
       "      <td>1027.258097</td>\n",
       "      <td>33.916964</td>\n",
       "      <td>7.771317</td>\n",
       "      <td>11.267</td>\n",
       "      <td>1.731</td>\n",
       "      <td>1</td>\n",
       "    </tr>\n",
       "    <tr>\n",
       "      <th>4</th>\n",
       "      <td>2017-01-01 00:04:00</td>\n",
       "      <td>1027.258173</td>\n",
       "      <td>33.917076</td>\n",
       "      <td>7.771017</td>\n",
       "      <td>11.278</td>\n",
       "      <td>1.731</td>\n",
       "      <td>1</td>\n",
       "    </tr>\n",
       "    <tr>\n",
       "      <th>...</th>\n",
       "      <td>...</td>\n",
       "      <td>...</td>\n",
       "      <td>...</td>\n",
       "      <td>...</td>\n",
       "      <td>...</td>\n",
       "      <td>...</td>\n",
       "      <td>...</td>\n",
       "    </tr>\n",
       "    <tr>\n",
       "      <th>329194</th>\n",
       "      <td>2017-09-15 23:55:00</td>\n",
       "      <td>1027.366397</td>\n",
       "      <td>33.960043</td>\n",
       "      <td>7.866675</td>\n",
       "      <td>15.198</td>\n",
       "      <td>-0.194</td>\n",
       "      <td>0</td>\n",
       "    </tr>\n",
       "    <tr>\n",
       "      <th>329195</th>\n",
       "      <td>2017-09-15 23:56:00</td>\n",
       "      <td>1027.366555</td>\n",
       "      <td>33.960125</td>\n",
       "      <td>7.866182</td>\n",
       "      <td>15.171</td>\n",
       "      <td>-0.194</td>\n",
       "      <td>0</td>\n",
       "    </tr>\n",
       "    <tr>\n",
       "      <th>329196</th>\n",
       "      <td>2017-09-15 23:57:00</td>\n",
       "      <td>1027.365319</td>\n",
       "      <td>33.959667</td>\n",
       "      <td>7.872284</td>\n",
       "      <td>15.158</td>\n",
       "      <td>-0.194</td>\n",
       "      <td>0</td>\n",
       "    </tr>\n",
       "    <tr>\n",
       "      <th>329197</th>\n",
       "      <td>2017-09-15 23:58:00</td>\n",
       "      <td>1027.364325</td>\n",
       "      <td>33.959192</td>\n",
       "      <td>7.876495</td>\n",
       "      <td>15.199</td>\n",
       "      <td>-0.194</td>\n",
       "      <td>0</td>\n",
       "    </tr>\n",
       "    <tr>\n",
       "      <th>329198</th>\n",
       "      <td>2017-09-15 23:59:00</td>\n",
       "      <td>1027.361044</td>\n",
       "      <td>33.957907</td>\n",
       "      <td>7.891755</td>\n",
       "      <td>15.195</td>\n",
       "      <td>-0.194</td>\n",
       "      <td>0</td>\n",
       "    </tr>\n",
       "  </tbody>\n",
       "</table>\n",
       "<p>329199 rows × 7 columns</p>\n",
       "</div>"
      ],
      "text/plain": [
       "                       time      density  practical_salinity  \\\n",
       "0       2017-01-01 00:00:00  1027.258767           33.916755   \n",
       "1       2017-01-01 00:01:00  1027.260164           33.917475   \n",
       "2       2017-01-01 00:02:00  1027.258920           33.917249   \n",
       "3       2017-01-01 00:03:00  1027.258097           33.916964   \n",
       "4       2017-01-01 00:04:00  1027.258173           33.917076   \n",
       "...                     ...          ...                 ...   \n",
       "329194  2017-09-15 23:55:00  1027.366397           33.960043   \n",
       "329195  2017-09-15 23:56:00  1027.366555           33.960125   \n",
       "329196  2017-09-15 23:57:00  1027.365319           33.959667   \n",
       "329197  2017-09-15 23:58:00  1027.364325           33.959192   \n",
       "329198  2017-09-15 23:59:00  1027.361044           33.957907   \n",
       "\n",
       "        seawater_temperature  sea_surface_temperature   CUTI  upwelling  \n",
       "0                   7.766451                   11.273  1.731          1  \n",
       "1                   7.760876                   11.268  1.731          1  \n",
       "2                   7.767207                   11.267  1.731          1  \n",
       "3                   7.771317                   11.267  1.731          1  \n",
       "4                   7.771017                   11.278  1.731          1  \n",
       "...                      ...                      ...    ...        ...  \n",
       "329194              7.866675                   15.198 -0.194          0  \n",
       "329195              7.866182                   15.171 -0.194          0  \n",
       "329196              7.872284                   15.158 -0.194          0  \n",
       "329197              7.876495                   15.199 -0.194          0  \n",
       "329198              7.891755                   15.195 -0.194          0  \n",
       "\n",
       "[329199 rows x 7 columns]"
      ]
     },
     "execution_count": 3,
     "metadata": {},
     "output_type": "execute_result"
    }
   ],
   "source": [
    "df"
   ]
  },
  {
   "cell_type": "markdown",
   "id": "acoustic-jumping",
   "metadata": {},
   "source": [
    "This dataframe is over 300,000 observations, which I'm hesitant to pass to a model right away. I'm going to resample down to a small size at first, and then add data back in once the workflow is established."
   ]
  },
  {
   "cell_type": "code",
   "execution_count": 4,
   "id": "comparable-workstation",
   "metadata": {},
   "outputs": [],
   "source": [
    "df['time'] = pd.to_datetime(df['time'])"
   ]
  },
  {
   "cell_type": "code",
   "execution_count": 5,
   "id": "found-football",
   "metadata": {},
   "outputs": [
    {
     "name": "stdout",
     "output_type": "stream",
     "text": [
      "(17714, 4)\n"
     ]
    }
   ],
   "source": [
    "df_resampled = df.resample('20T', on='time').mean().dropna(how='all').reset_index().drop(columns=['time', 'CUTI', 'density'])\n",
    "print(df_resampled.shape)"
   ]
  },
  {
   "cell_type": "code",
   "execution_count": 6,
   "id": "norwegian-chaos",
   "metadata": {},
   "outputs": [
    {
     "data": {
      "text/html": [
       "<div>\n",
       "<style scoped>\n",
       "    .dataframe tbody tr th:only-of-type {\n",
       "        vertical-align: middle;\n",
       "    }\n",
       "\n",
       "    .dataframe tbody tr th {\n",
       "        vertical-align: top;\n",
       "    }\n",
       "\n",
       "    .dataframe thead th {\n",
       "        text-align: right;\n",
       "    }\n",
       "</style>\n",
       "<table border=\"1\" class=\"dataframe\">\n",
       "  <thead>\n",
       "    <tr style=\"text-align: right;\">\n",
       "      <th></th>\n",
       "      <th>practical_salinity</th>\n",
       "      <th>seawater_temperature</th>\n",
       "      <th>sea_surface_temperature</th>\n",
       "      <th>upwelling</th>\n",
       "    </tr>\n",
       "  </thead>\n",
       "  <tbody>\n",
       "    <tr>\n",
       "      <th>0</th>\n",
       "      <td>33.917802</td>\n",
       "      <td>7.768099</td>\n",
       "      <td>11.27030</td>\n",
       "      <td>1.0</td>\n",
       "    </tr>\n",
       "    <tr>\n",
       "      <th>1</th>\n",
       "      <td>33.923736</td>\n",
       "      <td>7.695256</td>\n",
       "      <td>11.26795</td>\n",
       "      <td>1.0</td>\n",
       "    </tr>\n",
       "    <tr>\n",
       "      <th>2</th>\n",
       "      <td>33.925383</td>\n",
       "      <td>7.688413</td>\n",
       "      <td>11.26675</td>\n",
       "      <td>1.0</td>\n",
       "    </tr>\n",
       "    <tr>\n",
       "      <th>3</th>\n",
       "      <td>33.926747</td>\n",
       "      <td>7.698557</td>\n",
       "      <td>11.26465</td>\n",
       "      <td>1.0</td>\n",
       "    </tr>\n",
       "    <tr>\n",
       "      <th>4</th>\n",
       "      <td>33.916462</td>\n",
       "      <td>7.764130</td>\n",
       "      <td>11.26475</td>\n",
       "      <td>1.0</td>\n",
       "    </tr>\n",
       "    <tr>\n",
       "      <th>...</th>\n",
       "      <td>...</td>\n",
       "      <td>...</td>\n",
       "      <td>...</td>\n",
       "      <td>...</td>\n",
       "    </tr>\n",
       "    <tr>\n",
       "      <th>17709</th>\n",
       "      <td>33.948736</td>\n",
       "      <td>8.005974</td>\n",
       "      <td>15.24465</td>\n",
       "      <td>0.0</td>\n",
       "    </tr>\n",
       "    <tr>\n",
       "      <th>17710</th>\n",
       "      <td>33.946218</td>\n",
       "      <td>8.028650</td>\n",
       "      <td>15.25365</td>\n",
       "      <td>0.0</td>\n",
       "    </tr>\n",
       "    <tr>\n",
       "      <th>17711</th>\n",
       "      <td>33.953680</td>\n",
       "      <td>7.949766</td>\n",
       "      <td>15.22895</td>\n",
       "      <td>0.0</td>\n",
       "    </tr>\n",
       "    <tr>\n",
       "      <th>17712</th>\n",
       "      <td>33.942572</td>\n",
       "      <td>8.052701</td>\n",
       "      <td>15.17020</td>\n",
       "      <td>0.0</td>\n",
       "    </tr>\n",
       "    <tr>\n",
       "      <th>17713</th>\n",
       "      <td>33.953536</td>\n",
       "      <td>7.939834</td>\n",
       "      <td>15.18360</td>\n",
       "      <td>0.0</td>\n",
       "    </tr>\n",
       "  </tbody>\n",
       "</table>\n",
       "<p>17714 rows × 4 columns</p>\n",
       "</div>"
      ],
      "text/plain": [
       "       practical_salinity  seawater_temperature  sea_surface_temperature  \\\n",
       "0               33.917802              7.768099                 11.27030   \n",
       "1               33.923736              7.695256                 11.26795   \n",
       "2               33.925383              7.688413                 11.26675   \n",
       "3               33.926747              7.698557                 11.26465   \n",
       "4               33.916462              7.764130                 11.26475   \n",
       "...                   ...                   ...                      ...   \n",
       "17709           33.948736              8.005974                 15.24465   \n",
       "17710           33.946218              8.028650                 15.25365   \n",
       "17711           33.953680              7.949766                 15.22895   \n",
       "17712           33.942572              8.052701                 15.17020   \n",
       "17713           33.953536              7.939834                 15.18360   \n",
       "\n",
       "       upwelling  \n",
       "0            1.0  \n",
       "1            1.0  \n",
       "2            1.0  \n",
       "3            1.0  \n",
       "4            1.0  \n",
       "...          ...  \n",
       "17709        0.0  \n",
       "17710        0.0  \n",
       "17711        0.0  \n",
       "17712        0.0  \n",
       "17713        0.0  \n",
       "\n",
       "[17714 rows x 4 columns]"
      ]
     },
     "execution_count": 6,
     "metadata": {},
     "output_type": "execute_result"
    }
   ],
   "source": [
    "df_resampled"
   ]
  },
  {
   "cell_type": "markdown",
   "id": "needed-conservative",
   "metadata": {},
   "source": [
    "---\n",
    "### Checking feature correlation\n",
    "\n",
    "One of the big assumptions we make when building logistic regression models is that our independent features are independent of each other. We can print out a heatmap to check whether our features are correlated to each other or not."
   ]
  },
  {
   "cell_type": "code",
   "execution_count": 7,
   "id": "express-residence",
   "metadata": {},
   "outputs": [
    {
     "data": {
      "text/plain": [
       "<AxesSubplot:>"
      ]
     },
     "execution_count": 7,
     "metadata": {},
     "output_type": "execute_result"
    },
    {
     "data": {
      "image/png": "[encoded data removed]",
      "text/plain": [
       "<Figure size 576x576 with 2 Axes>"
      ]
     },
     "metadata": {
      "needs_background": "light"
     },
     "output_type": "display_data"
    }
   ],
   "source": [
    "plt.figure(figsize=(8,8))\n",
    "\n",
    "corr = df_resampled.corr()\n",
    "mask = np.triu(np.ones_like(corr, dtype=bool))\n",
    "\n",
    "sns.heatmap(df_resampled.corr(), annot=True, vmin=-1, vmax=1, mask=mask)"
   ]
  },
  {
   "cell_type": "markdown",
   "id": "sticky-adams",
   "metadata": {},
   "source": [
    "Yup, looks like our features are correlated with each other! We can also tell from this heatmap that seawater temperature collected by the 200 meter platform is most strongly correlated to upwelling of all our features. I'll build a logistic regression model without addressing the multicollinearity first, and then attempt to improve it by using PolynomialFeatures and ridge and lasso penalties. "
   ]
  },
  {
   "cell_type": "code",
   "execution_count": 8,
   "id": "technological-prime",
   "metadata": {},
   "outputs": [
    {
     "data": {
      "image/png": "[encoded data removed]",
      "text/plain": [
       "<Figure size 596.25x540 with 9 Axes>"
      ]
     },
     "metadata": {
      "needs_background": "light"
     },
     "output_type": "display_data"
    }
   ],
   "source": [
    "sns.pairplot(df_resampled, corner=True, hue='upwelling');"
   ]
  },
  {
   "cell_type": "markdown",
   "id": "executed-remark",
   "metadata": {},
   "source": [
    "---\n",
    "### Using only one feature\n",
    "\n",
    "This sections is on building a model with only seawater temperature from the 200 meter platform as the prediction."
   ]
  },
  {
   "cell_type": "code",
   "execution_count": 9,
   "id": "valuable-storm",
   "metadata": {},
   "outputs": [
    {
     "data": {
      "text/plain": [
       "1.0    0.61951\n",
       "0.0    0.38049\n",
       "Name: upwelling, dtype: float64"
      ]
     },
     "execution_count": 9,
     "metadata": {},
     "output_type": "execute_result"
    }
   ],
   "source": [
    "X = df_resampled['seawater_temperature']\n",
    "y = df_resampled['upwelling']\n",
    "\n",
    "y.value_counts(normalize=True)"
   ]
  },
  {
   "cell_type": "markdown",
   "id": "advisory-monroe",
   "metadata": {},
   "source": [
    "If we created a null model that labeled all predictions as the majority class, we'd be correct about 61.96% of the time! This is the accuracy I'm hoping to beat with logistic regression or decision tree models."
   ]
  },
  {
   "cell_type": "code",
   "execution_count": 10,
   "id": "ideal-sheffield",
   "metadata": {},
   "outputs": [],
   "source": [
    "X_train, X_test, y_train, y_test = train_test_split(X, y, stratify=y, random_state=42)"
   ]
  },
  {
   "cell_type": "markdown",
   "id": "wanted-liquid",
   "metadata": {},
   "source": [
    "Create a pipeline with StandardScaler and LogisticRegression"
   ]
  },
  {
   "cell_type": "code",
   "execution_count": 11,
   "id": "authentic-latter",
   "metadata": {},
   "outputs": [],
   "source": [
    "pipe = Pipeline([\n",
    "    ('sc', StandardScaler()),\n",
    "    ('logreg', LogisticRegression())\n",
    "])"
   ]
  },
  {
   "cell_type": "code",
   "execution_count": 12,
   "id": "vanilla-agreement",
   "metadata": {},
   "outputs": [
    {
     "data": {
      "text/plain": [
       "Pipeline(steps=[('sc', StandardScaler()), ('logreg', LogisticRegression())])"
      ]
     },
     "execution_count": 12,
     "metadata": {},
     "output_type": "execute_result"
    }
   ],
   "source": [
    "pipe.fit(X_train.values.reshape(-1, 1), y_train)"
   ]
  },
  {
   "cell_type": "code",
   "execution_count": 13,
   "id": "sunset-silence",
   "metadata": {},
   "outputs": [
    {
     "name": "stdout",
     "output_type": "stream",
     "text": [
      "Train accuracy: 0.689499435453519\n",
      "Test accuracy: 0.6884172499435538\n"
     ]
    }
   ],
   "source": [
    "print(f'Train accuracy: {pipe.score(X_train.values.reshape(-1, 1), y_train)}')\n",
    "print(f'Test accuracy: {pipe.score(X_test.values.reshape(-1, 1), y_test)}')"
   ]
  },
  {
   "cell_type": "code",
   "execution_count": 14,
   "id": "greatest-equity",
   "metadata": {},
   "outputs": [
    {
     "name": "stdout",
     "output_type": "stream",
     "text": [
      "LogReg Intercept: [0.56096136]\n",
      "LogReg Coef: [[-0.89346893]]\n"
     ]
    }
   ],
   "source": [
    "logreg = pipe.named_steps['logreg']\n",
    "print(f'LogReg Intercept: {logreg.intercept_}')\n",
    "print(f'LogReg Coef: {logreg.coef_}')"
   ]
  },
  {
   "cell_type": "code",
   "execution_count": 15,
   "id": "identified-redhead",
   "metadata": {},
   "outputs": [
    {
     "name": "stdout",
     "output_type": "stream",
     "text": [
      "0.689951072638314\n",
      "0.6884159110328907\n"
     ]
    }
   ],
   "source": [
    "print(cross_val_score(pipe, X_train.values.reshape(-1, 1), y_train).mean())\n",
    "print(cross_val_score(pipe, X_test.values.reshape(-1, 1), y_test).mean())"
   ]
  },
  {
   "cell_type": "markdown",
   "id": "sorted-setting",
   "metadata": {},
   "source": [
    "This model performs better than our baseline, woohoo! But maybe we can do better with polynomial features."
   ]
  },
  {
   "cell_type": "code",
   "execution_count": 16,
   "id": "familiar-bathroom",
   "metadata": {},
   "outputs": [
    {
     "data": {
      "image/png": "[encoded data removed]",
      "text/plain": [
       "<Figure size 864x576 with 4 Axes>"
      ]
     },
     "metadata": {
      "needs_background": "light"
     },
     "output_type": "display_data"
    }
   ],
   "source": [
    "fig, (ax1, ax2) = plt.subplots(1, 2, figsize=(12, 8))\n",
    "\n",
    "plot_confusion_matrix(pipe, X_train.values.reshape(-1, 1), y_train, ax=ax1)\n",
    "ax1.set_title('Confusion Matrix: Train Data')\n",
    "\n",
    "plot_confusion_matrix(pipe, X_test.values.reshape(-1, 1), y_test, ax=ax2)\n",
    "ax2.set_title('Confusion Matrix: Test Data');"
   ]
  },
  {
   "cell_type": "code",
   "execution_count": 17,
   "id": "considerable-halloween",
   "metadata": {},
   "outputs": [
    {
     "name": "stdout",
     "output_type": "stream",
     "text": [
      "              precision    recall  f1-score   support\n",
      "\n",
      "         0.0       0.63      0.44      0.52      1685\n",
      "         1.0       0.71      0.84      0.77      2744\n",
      "\n",
      "    accuracy                           0.69      4429\n",
      "   macro avg       0.67      0.64      0.64      4429\n",
      "weighted avg       0.68      0.69      0.67      4429\n",
      "\n"
     ]
    }
   ],
   "source": [
    "test_preds = pipe.predict(X_test.values.reshape(-1, 1))\n",
    "print(classification_report(y_test, test_preds))"
   ]
  },
  {
   "cell_type": "markdown",
   "id": "complete-boards",
   "metadata": {},
   "source": [
    "---\n",
    "### Using PolynomialFeatures\n",
    "\n",
    "Now let's add those features back in and use feature interactions combined with regularization to try upping the accuracy while accounting for the multicollinearity."
   ]
  },
  {
   "cell_type": "markdown",
   "id": "agricultural-square",
   "metadata": {},
   "source": [
    "An easy way to get a variety of feature interactions is using sklearn's PolynomialFeatures function. There are four features in this model, so I'll set the degree to 4 so that there will be an engineered feature that includes all 4 of the original features. "
   ]
  },
  {
   "cell_type": "code",
   "execution_count": 44,
   "id": "removable-drilling",
   "metadata": {},
   "outputs": [],
   "source": [
    "X = df_resampled.drop(columns=['upwelling'])\n",
    "y = df_resampled['upwelling']"
   ]
  },
  {
   "cell_type": "code",
   "execution_count": 45,
   "id": "inclusive-chance",
   "metadata": {},
   "outputs": [],
   "source": [
    "X_train, X_test, y_train, y_test = train_test_split(X, y, stratify=y, random_state=42)"
   ]
  },
  {
   "cell_type": "code",
   "execution_count": 46,
   "id": "eleven-stake",
   "metadata": {},
   "outputs": [],
   "source": [
    "pipe = Pipeline([\n",
    "    ('poly', PolynomialFeatures(degree=4, interaction_only=False, include_bias=False)),\n",
    "    ('sc', StandardScaler()),\n",
    "    ('logreg', LogisticRegression(max_iter=1000))\n",
    "])"
   ]
  },
  {
   "cell_type": "code",
   "execution_count": 47,
   "id": "instant-mason",
   "metadata": {},
   "outputs": [
    {
     "data": {
      "text/plain": [
       "Pipeline(steps=[('poly', PolynomialFeatures(degree=4, include_bias=False)),\n",
       "                ('sc', StandardScaler()),\n",
       "                ('logreg', LogisticRegression(max_iter=1000))])"
      ]
     },
     "execution_count": 47,
     "metadata": {},
     "output_type": "execute_result"
    }
   ],
   "source": [
    "pipe.fit(X_train, y_train)"
   ]
  },
  {
   "cell_type": "code",
   "execution_count": 48,
   "id": "written-delicious",
   "metadata": {},
   "outputs": [
    {
     "name": "stdout",
     "output_type": "stream",
     "text": [
      "Train accuracy: 0.7441475348136997\n",
      "Test accuracy: 0.7520885075637842\n"
     ]
    }
   ],
   "source": [
    "print(f'Train accuracy: {pipe.score(X_train, y_train)}')\n",
    "print(f'Test accuracy: {pipe.score(X_test, y_test)}')"
   ]
  },
  {
   "cell_type": "code",
   "execution_count": 49,
   "id": "patent-turner",
   "metadata": {},
   "outputs": [],
   "source": [
    "poly = PolynomialFeatures(degree=2, interaction_only=False, include_bias=False)"
   ]
  },
  {
   "cell_type": "code",
   "execution_count": 50,
   "id": "authorized-niagara",
   "metadata": {
    "tags": []
   },
   "outputs": [
    {
     "data": {
      "text/plain": [
       "['practical_salinity',\n",
       " 'seawater_temperature',\n",
       " 'sea_surface_temperature',\n",
       " 'practical_salinity^2',\n",
       " 'practical_salinity seawater_temperature',\n",
       " 'practical_salinity sea_surface_temperature',\n",
       " 'seawater_temperature^2',\n",
       " 'seawater_temperature sea_surface_temperature',\n",
       " 'sea_surface_temperature^2']"
      ]
     },
     "execution_count": 50,
     "metadata": {},
     "output_type": "execute_result"
    }
   ],
   "source": [
    "X_poly = poly.fit_transform(X)\n",
    "poly.get_feature_names(X.columns)"
   ]
  },
  {
   "cell_type": "markdown",
   "id": "formed-gnome",
   "metadata": {},
   "source": [
    "Question to self: do the coefficients need to be exponentiated to get their actual values, since the logistic regression model uses the logit function to transform the data?"
   ]
  },
  {
   "cell_type": "code",
   "execution_count": 51,
   "id": "ruled-sleep",
   "metadata": {},
   "outputs": [
    {
     "data": {
      "text/plain": [
       "(17714, 9)"
      ]
     },
     "execution_count": 51,
     "metadata": {},
     "output_type": "execute_result"
    }
   ],
   "source": [
    "X_poly.shape"
   ]
  },
  {
   "cell_type": "markdown",
   "id": "accessible-decrease",
   "metadata": {},
   "source": [
    "Scale the data again!"
   ]
  },
  {
   "cell_type": "code",
   "execution_count": 52,
   "id": "electoral-inspector",
   "metadata": {},
   "outputs": [],
   "source": [
    "X_train, X_test, y_train, y_test = train_test_split(X_poly, y, stratify=y, random_state=42)"
   ]
  },
  {
   "cell_type": "code",
   "execution_count": 53,
   "id": "seven-swedish",
   "metadata": {},
   "outputs": [],
   "source": [
    "sc = StandardScaler()\n",
    "X_train_sc = sc.fit_transform(X_train)\n",
    "X_test_sc = sc.transform(X_test)"
   ]
  },
  {
   "cell_type": "code",
   "execution_count": 54,
   "id": "occasional-microwave",
   "metadata": {},
   "outputs": [],
   "source": [
    "logreg = LogisticRegression(solver='liblinear')"
   ]
  },
  {
   "cell_type": "code",
   "execution_count": 55,
   "id": "perceived-storm",
   "metadata": {},
   "outputs": [],
   "source": [
    "logreg_params = {\n",
    "    'penalty':['l1', 'l2'],\n",
    "    'C': np.linspace(0.001, 1, 10)\n",
    "}"
   ]
  },
  {
   "cell_type": "code",
   "execution_count": 56,
   "id": "regulation-tamil",
   "metadata": {},
   "outputs": [],
   "source": [
    "gs = GridSearchCV(logreg, logreg_params, cv=5, verbose=2)"
   ]
  },
  {
   "cell_type": "code",
   "execution_count": 57,
   "id": "dominican-mercy",
   "metadata": {
    "scrolled": true,
    "tags": []
   },
   "outputs": [
    {
     "name": "stdout",
     "output_type": "stream",
     "text": [
      "Fitting 5 folds for each of 20 candidates, totalling 100 fits\n",
      "[CV] END ................................C=0.001, penalty=l1; total time=   0.0s\n",
      "[CV] END ................................C=0.001, penalty=l1; total time=   0.0s\n",
      "[CV] END ................................C=0.001, penalty=l1; total time=   0.0s\n",
      "[CV] END ................................C=0.001, penalty=l1; total time=   0.0s\n",
      "[CV] END ................................C=0.001, penalty=l1; total time=   0.0s\n",
      "[CV] END ................................C=0.001, penalty=l2; total time=   0.0s\n",
      "[CV] END ................................C=0.001, penalty=l2; total time=   0.0s\n",
      "[CV] END ................................C=0.001, penalty=l2; total time=   0.0s\n",
      "[CV] END ................................C=0.001, penalty=l2; total time=   0.0s\n",
      "[CV] END ................................C=0.001, penalty=l2; total time=   0.0s\n",
      "[CV] END ................................C=0.112, penalty=l1; total time=   0.7s\n",
      "[CV] END ................................C=0.112, penalty=l1; total time=   0.4s\n",
      "[CV] END ................................C=0.112, penalty=l1; total time=   0.4s\n",
      "[CV] END ................................C=0.112, penalty=l1; total time=   0.3s\n",
      "[CV] END ................................C=0.112, penalty=l1; total time=   0.6s\n",
      "[CV] END ................................C=0.112, penalty=l2; total time=   0.0s\n",
      "[CV] END ................................C=0.112, penalty=l2; total time=   0.0s\n",
      "[CV] END ................................C=0.112, penalty=l2; total time=   0.0s\n",
      "[CV] END ................................C=0.112, penalty=l2; total time=   0.0s\n",
      "[CV] END ................................C=0.112, penalty=l2; total time=   0.0s\n",
      "[CV] END ................................C=0.223, penalty=l1; total time=   2.4s\n",
      "[CV] END ................................C=0.223, penalty=l1; total time=   2.5s\n",
      "[CV] END ................................C=0.223, penalty=l1; total time=   2.6s\n"
     ]
    },
    {
     "ename": "KeyboardInterrupt",
     "evalue": "",
     "output_type": "error",
     "traceback": [
      "\u001b[1;31m---------------------------------------------------------------------------\u001b[0m",
      "\u001b[1;31mKeyboardInterrupt\u001b[0m                         Traceback (most recent call last)",
      "\u001b[1;32m<ipython-input-57-aea67aabae17>\u001b[0m in \u001b[0;36m<module>\u001b[1;34m\u001b[0m\n\u001b[1;32m----> 1\u001b[1;33m \u001b[0mgs\u001b[0m\u001b[1;33m.\u001b[0m\u001b[0mfit\u001b[0m\u001b[1;33m(\u001b[0m\u001b[0mX_train_sc\u001b[0m\u001b[1;33m,\u001b[0m \u001b[0my_train\u001b[0m\u001b[1;33m)\u001b[0m\u001b[1;33m\u001b[0m\u001b[1;33m\u001b[0m\u001b[0m\n\u001b[0m",
      "\u001b[1;32mc:\\users\\derya\\appdata\\local\\programs\\python\\python39\\lib\\site-packages\\sklearn\\utils\\validation.py\u001b[0m in \u001b[0;36minner_f\u001b[1;34m(*args, **kwargs)\u001b[0m\n\u001b[0;32m     61\u001b[0m             \u001b[0mextra_args\u001b[0m \u001b[1;33m=\u001b[0m \u001b[0mlen\u001b[0m\u001b[1;33m(\u001b[0m\u001b[0margs\u001b[0m\u001b[1;33m)\u001b[0m \u001b[1;33m-\u001b[0m \u001b[0mlen\u001b[0m\u001b[1;33m(\u001b[0m\u001b[0mall_args\u001b[0m\u001b[1;33m)\u001b[0m\u001b[1;33m\u001b[0m\u001b[1;33m\u001b[0m\u001b[0m\n\u001b[0;32m     62\u001b[0m             \u001b[1;32mif\u001b[0m \u001b[0mextra_args\u001b[0m \u001b[1;33m<=\u001b[0m \u001b[1;36m0\u001b[0m\u001b[1;33m:\u001b[0m\u001b[1;33m\u001b[0m\u001b[1;33m\u001b[0m\u001b[0m\n\u001b[1;32m---> 63\u001b[1;33m                 \u001b[1;32mreturn\u001b[0m \u001b[0mf\u001b[0m\u001b[1;33m(\u001b[0m\u001b[1;33m*\u001b[0m\u001b[0margs\u001b[0m\u001b[1;33m,\u001b[0m \u001b[1;33m**\u001b[0m\u001b[0mkwargs\u001b[0m\u001b[1;33m)\u001b[0m\u001b[1;33m\u001b[0m\u001b[1;33m\u001b[0m\u001b[0m\n\u001b[0m\u001b[0;32m     64\u001b[0m \u001b[1;33m\u001b[0m\u001b[0m\n\u001b[0;32m     65\u001b[0m             \u001b[1;31m# extra_args > 0\u001b[0m\u001b[1;33m\u001b[0m\u001b[1;33m\u001b[0m\u001b[1;33m\u001b[0m\u001b[0m\n",
      "\u001b[1;32mc:\\users\\derya\\appdata\\local\\programs\\python\\python39\\lib\\site-packages\\sklearn\\model_selection\\_search.py\u001b[0m in \u001b[0;36mfit\u001b[1;34m(self, X, y, groups, **fit_params)\u001b[0m\n\u001b[0;32m    839\u001b[0m                 \u001b[1;32mreturn\u001b[0m \u001b[0mresults\u001b[0m\u001b[1;33m\u001b[0m\u001b[1;33m\u001b[0m\u001b[0m\n\u001b[0;32m    840\u001b[0m \u001b[1;33m\u001b[0m\u001b[0m\n\u001b[1;32m--> 841\u001b[1;33m             \u001b[0mself\u001b[0m\u001b[1;33m.\u001b[0m\u001b[0m_run_search\u001b[0m\u001b[1;33m(\u001b[0m\u001b[0mevaluate_candidates\u001b[0m\u001b[1;33m)\u001b[0m\u001b[1;33m\u001b[0m\u001b[1;33m\u001b[0m\u001b[0m\n\u001b[0m\u001b[0;32m    842\u001b[0m \u001b[1;33m\u001b[0m\u001b[0m\n\u001b[0;32m    843\u001b[0m             \u001b[1;31m# multimetric is determined here because in the case of a callable\u001b[0m\u001b[1;33m\u001b[0m\u001b[1;33m\u001b[0m\u001b[1;33m\u001b[0m\u001b[0m\n",
      "\u001b[1;32mc:\\users\\derya\\appdata\\local\\programs\\python\\python39\\lib\\site-packages\\sklearn\\model_selection\\_search.py\u001b[0m in \u001b[0;36m_run_search\u001b[1;34m(self, evaluate_candidates)\u001b[0m\n\u001b[0;32m   1286\u001b[0m     \u001b[1;32mdef\u001b[0m \u001b[0m_run_search\u001b[0m\u001b[1;33m(\u001b[0m\u001b[0mself\u001b[0m\u001b[1;33m,\u001b[0m \u001b[0mevaluate_candidates\u001b[0m\u001b[1;33m)\u001b[0m\u001b[1;33m:\u001b[0m\u001b[1;33m\u001b[0m\u001b[1;33m\u001b[0m\u001b[0m\n\u001b[0;32m   1287\u001b[0m         \u001b[1;34m\"\"\"Search all candidates in param_grid\"\"\"\u001b[0m\u001b[1;33m\u001b[0m\u001b[1;33m\u001b[0m\u001b[0m\n\u001b[1;32m-> 1288\u001b[1;33m         \u001b[0mevaluate_candidates\u001b[0m\u001b[1;33m(\u001b[0m\u001b[0mParameterGrid\u001b[0m\u001b[1;33m(\u001b[0m\u001b[0mself\u001b[0m\u001b[1;33m.\u001b[0m\u001b[0mparam_grid\u001b[0m\u001b[1;33m)\u001b[0m\u001b[1;33m)\u001b[0m\u001b[1;33m\u001b[0m\u001b[1;33m\u001b[0m\u001b[0m\n\u001b[0m\u001b[0;32m   1289\u001b[0m \u001b[1;33m\u001b[0m\u001b[0m\n\u001b[0;32m   1290\u001b[0m \u001b[1;33m\u001b[0m\u001b[0m\n",
      "\u001b[1;32mc:\\users\\derya\\appdata\\local\\programs\\python\\python39\\lib\\site-packages\\sklearn\\model_selection\\_search.py\u001b[0m in \u001b[0;36mevaluate_candidates\u001b[1;34m(candidate_params, cv, more_results)\u001b[0m\n\u001b[0;32m    793\u001b[0m                               n_splits, n_candidates, n_candidates * n_splits))\n\u001b[0;32m    794\u001b[0m \u001b[1;33m\u001b[0m\u001b[0m\n\u001b[1;32m--> 795\u001b[1;33m                 out = parallel(delayed(_fit_and_score)(clone(base_estimator),\n\u001b[0m\u001b[0;32m    796\u001b[0m                                                        \u001b[0mX\u001b[0m\u001b[1;33m,\u001b[0m \u001b[0my\u001b[0m\u001b[1;33m,\u001b[0m\u001b[1;33m\u001b[0m\u001b[1;33m\u001b[0m\u001b[0m\n\u001b[0;32m    797\u001b[0m                                                        \u001b[0mtrain\u001b[0m\u001b[1;33m=\u001b[0m\u001b[0mtrain\u001b[0m\u001b[1;33m,\u001b[0m \u001b[0mtest\u001b[0m\u001b[1;33m=\u001b[0m\u001b[0mtest\u001b[0m\u001b[1;33m,\u001b[0m\u001b[1;33m\u001b[0m\u001b[1;33m\u001b[0m\u001b[0m\n",
      "\u001b[1;32mc:\\users\\derya\\appdata\\local\\programs\\python\\python39\\lib\\site-packages\\joblib\\parallel.py\u001b[0m in \u001b[0;36m__call__\u001b[1;34m(self, iterable)\u001b[0m\n\u001b[0;32m   1042\u001b[0m                 \u001b[0mself\u001b[0m\u001b[1;33m.\u001b[0m\u001b[0m_iterating\u001b[0m \u001b[1;33m=\u001b[0m \u001b[0mself\u001b[0m\u001b[1;33m.\u001b[0m\u001b[0m_original_iterator\u001b[0m \u001b[1;32mis\u001b[0m \u001b[1;32mnot\u001b[0m \u001b[1;32mNone\u001b[0m\u001b[1;33m\u001b[0m\u001b[1;33m\u001b[0m\u001b[0m\n\u001b[0;32m   1043\u001b[0m \u001b[1;33m\u001b[0m\u001b[0m\n\u001b[1;32m-> 1044\u001b[1;33m             \u001b[1;32mwhile\u001b[0m \u001b[0mself\u001b[0m\u001b[1;33m.\u001b[0m\u001b[0mdispatch_one_batch\u001b[0m\u001b[1;33m(\u001b[0m\u001b[0miterator\u001b[0m\u001b[1;33m)\u001b[0m\u001b[1;33m:\u001b[0m\u001b[1;33m\u001b[0m\u001b[1;33m\u001b[0m\u001b[0m\n\u001b[0m\u001b[0;32m   1045\u001b[0m                 \u001b[1;32mpass\u001b[0m\u001b[1;33m\u001b[0m\u001b[1;33m\u001b[0m\u001b[0m\n\u001b[0;32m   1046\u001b[0m \u001b[1;33m\u001b[0m\u001b[0m\n",
      "\u001b[1;32mc:\\users\\derya\\appdata\\local\\programs\\python\\python39\\lib\\site-packages\\joblib\\parallel.py\u001b[0m in \u001b[0;36mdispatch_one_batch\u001b[1;34m(self, iterator)\u001b[0m\n\u001b[0;32m    857\u001b[0m                 \u001b[1;32mreturn\u001b[0m \u001b[1;32mFalse\u001b[0m\u001b[1;33m\u001b[0m\u001b[1;33m\u001b[0m\u001b[0m\n\u001b[0;32m    858\u001b[0m             \u001b[1;32melse\u001b[0m\u001b[1;33m:\u001b[0m\u001b[1;33m\u001b[0m\u001b[1;33m\u001b[0m\u001b[0m\n\u001b[1;32m--> 859\u001b[1;33m                 \u001b[0mself\u001b[0m\u001b[1;33m.\u001b[0m\u001b[0m_dispatch\u001b[0m\u001b[1;33m(\u001b[0m\u001b[0mtasks\u001b[0m\u001b[1;33m)\u001b[0m\u001b[1;33m\u001b[0m\u001b[1;33m\u001b[0m\u001b[0m\n\u001b[0m\u001b[0;32m    860\u001b[0m                 \u001b[1;32mreturn\u001b[0m \u001b[1;32mTrue\u001b[0m\u001b[1;33m\u001b[0m\u001b[1;33m\u001b[0m\u001b[0m\n\u001b[0;32m    861\u001b[0m \u001b[1;33m\u001b[0m\u001b[0m\n",
      "\u001b[1;32mc:\\users\\derya\\appdata\\local\\programs\\python\\python39\\lib\\site-packages\\joblib\\parallel.py\u001b[0m in \u001b[0;36m_dispatch\u001b[1;34m(self, batch)\u001b[0m\n\u001b[0;32m    775\u001b[0m         \u001b[1;32mwith\u001b[0m \u001b[0mself\u001b[0m\u001b[1;33m.\u001b[0m\u001b[0m_lock\u001b[0m\u001b[1;33m:\u001b[0m\u001b[1;33m\u001b[0m\u001b[1;33m\u001b[0m\u001b[0m\n\u001b[0;32m    776\u001b[0m             \u001b[0mjob_idx\u001b[0m \u001b[1;33m=\u001b[0m \u001b[0mlen\u001b[0m\u001b[1;33m(\u001b[0m\u001b[0mself\u001b[0m\u001b[1;33m.\u001b[0m\u001b[0m_jobs\u001b[0m\u001b[1;33m)\u001b[0m\u001b[1;33m\u001b[0m\u001b[1;33m\u001b[0m\u001b[0m\n\u001b[1;32m--> 777\u001b[1;33m             \u001b[0mjob\u001b[0m \u001b[1;33m=\u001b[0m \u001b[0mself\u001b[0m\u001b[1;33m.\u001b[0m\u001b[0m_backend\u001b[0m\u001b[1;33m.\u001b[0m\u001b[0mapply_async\u001b[0m\u001b[1;33m(\u001b[0m\u001b[0mbatch\u001b[0m\u001b[1;33m,\u001b[0m \u001b[0mcallback\u001b[0m\u001b[1;33m=\u001b[0m\u001b[0mcb\u001b[0m\u001b[1;33m)\u001b[0m\u001b[1;33m\u001b[0m\u001b[1;33m\u001b[0m\u001b[0m\n\u001b[0m\u001b[0;32m    778\u001b[0m             \u001b[1;31m# A job can complete so quickly than its callback is\u001b[0m\u001b[1;33m\u001b[0m\u001b[1;33m\u001b[0m\u001b[1;33m\u001b[0m\u001b[0m\n\u001b[0;32m    779\u001b[0m             \u001b[1;31m# called before we get here, causing self._jobs to\u001b[0m\u001b[1;33m\u001b[0m\u001b[1;33m\u001b[0m\u001b[1;33m\u001b[0m\u001b[0m\n",
      "\u001b[1;32mc:\\users\\derya\\appdata\\local\\programs\\python\\python39\\lib\\site-packages\\joblib\\_parallel_backends.py\u001b[0m in \u001b[0;36mapply_async\u001b[1;34m(self, func, callback)\u001b[0m\n\u001b[0;32m    206\u001b[0m     \u001b[1;32mdef\u001b[0m \u001b[0mapply_async\u001b[0m\u001b[1;33m(\u001b[0m\u001b[0mself\u001b[0m\u001b[1;33m,\u001b[0m \u001b[0mfunc\u001b[0m\u001b[1;33m,\u001b[0m \u001b[0mcallback\u001b[0m\u001b[1;33m=\u001b[0m\u001b[1;32mNone\u001b[0m\u001b[1;33m)\u001b[0m\u001b[1;33m:\u001b[0m\u001b[1;33m\u001b[0m\u001b[1;33m\u001b[0m\u001b[0m\n\u001b[0;32m    207\u001b[0m         \u001b[1;34m\"\"\"Schedule a func to be run\"\"\"\u001b[0m\u001b[1;33m\u001b[0m\u001b[1;33m\u001b[0m\u001b[0m\n\u001b[1;32m--> 208\u001b[1;33m         \u001b[0mresult\u001b[0m \u001b[1;33m=\u001b[0m \u001b[0mImmediateResult\u001b[0m\u001b[1;33m(\u001b[0m\u001b[0mfunc\u001b[0m\u001b[1;33m)\u001b[0m\u001b[1;33m\u001b[0m\u001b[1;33m\u001b[0m\u001b[0m\n\u001b[0m\u001b[0;32m    209\u001b[0m         \u001b[1;32mif\u001b[0m \u001b[0mcallback\u001b[0m\u001b[1;33m:\u001b[0m\u001b[1;33m\u001b[0m\u001b[1;33m\u001b[0m\u001b[0m\n\u001b[0;32m    210\u001b[0m             \u001b[0mcallback\u001b[0m\u001b[1;33m(\u001b[0m\u001b[0mresult\u001b[0m\u001b[1;33m)\u001b[0m\u001b[1;33m\u001b[0m\u001b[1;33m\u001b[0m\u001b[0m\n",
      "\u001b[1;32mc:\\users\\derya\\appdata\\local\\programs\\python\\python39\\lib\\site-packages\\joblib\\_parallel_backends.py\u001b[0m in \u001b[0;36m__init__\u001b[1;34m(self, batch)\u001b[0m\n\u001b[0;32m    570\u001b[0m         \u001b[1;31m# Don't delay the application, to avoid keeping the input\u001b[0m\u001b[1;33m\u001b[0m\u001b[1;33m\u001b[0m\u001b[1;33m\u001b[0m\u001b[0m\n\u001b[0;32m    571\u001b[0m         \u001b[1;31m# arguments in memory\u001b[0m\u001b[1;33m\u001b[0m\u001b[1;33m\u001b[0m\u001b[1;33m\u001b[0m\u001b[0m\n\u001b[1;32m--> 572\u001b[1;33m         \u001b[0mself\u001b[0m\u001b[1;33m.\u001b[0m\u001b[0mresults\u001b[0m \u001b[1;33m=\u001b[0m \u001b[0mbatch\u001b[0m\u001b[1;33m(\u001b[0m\u001b[1;33m)\u001b[0m\u001b[1;33m\u001b[0m\u001b[1;33m\u001b[0m\u001b[0m\n\u001b[0m\u001b[0;32m    573\u001b[0m \u001b[1;33m\u001b[0m\u001b[0m\n\u001b[0;32m    574\u001b[0m     \u001b[1;32mdef\u001b[0m \u001b[0mget\u001b[0m\u001b[1;33m(\u001b[0m\u001b[0mself\u001b[0m\u001b[1;33m)\u001b[0m\u001b[1;33m:\u001b[0m\u001b[1;33m\u001b[0m\u001b[1;33m\u001b[0m\u001b[0m\n",
      "\u001b[1;32mc:\\users\\derya\\appdata\\local\\programs\\python\\python39\\lib\\site-packages\\joblib\\parallel.py\u001b[0m in \u001b[0;36m__call__\u001b[1;34m(self)\u001b[0m\n\u001b[0;32m    260\u001b[0m         \u001b[1;31m# change the default number of processes to -1\u001b[0m\u001b[1;33m\u001b[0m\u001b[1;33m\u001b[0m\u001b[1;33m\u001b[0m\u001b[0m\n\u001b[0;32m    261\u001b[0m         \u001b[1;32mwith\u001b[0m \u001b[0mparallel_backend\u001b[0m\u001b[1;33m(\u001b[0m\u001b[0mself\u001b[0m\u001b[1;33m.\u001b[0m\u001b[0m_backend\u001b[0m\u001b[1;33m,\u001b[0m \u001b[0mn_jobs\u001b[0m\u001b[1;33m=\u001b[0m\u001b[0mself\u001b[0m\u001b[1;33m.\u001b[0m\u001b[0m_n_jobs\u001b[0m\u001b[1;33m)\u001b[0m\u001b[1;33m:\u001b[0m\u001b[1;33m\u001b[0m\u001b[1;33m\u001b[0m\u001b[0m\n\u001b[1;32m--> 262\u001b[1;33m             return [func(*args, **kwargs)\n\u001b[0m\u001b[0;32m    263\u001b[0m                     for func, args, kwargs in self.items]\n\u001b[0;32m    264\u001b[0m \u001b[1;33m\u001b[0m\u001b[0m\n",
      "\u001b[1;32mc:\\users\\derya\\appdata\\local\\programs\\python\\python39\\lib\\site-packages\\joblib\\parallel.py\u001b[0m in \u001b[0;36m<listcomp>\u001b[1;34m(.0)\u001b[0m\n\u001b[0;32m    260\u001b[0m         \u001b[1;31m# change the default number of processes to -1\u001b[0m\u001b[1;33m\u001b[0m\u001b[1;33m\u001b[0m\u001b[1;33m\u001b[0m\u001b[0m\n\u001b[0;32m    261\u001b[0m         \u001b[1;32mwith\u001b[0m \u001b[0mparallel_backend\u001b[0m\u001b[1;33m(\u001b[0m\u001b[0mself\u001b[0m\u001b[1;33m.\u001b[0m\u001b[0m_backend\u001b[0m\u001b[1;33m,\u001b[0m \u001b[0mn_jobs\u001b[0m\u001b[1;33m=\u001b[0m\u001b[0mself\u001b[0m\u001b[1;33m.\u001b[0m\u001b[0m_n_jobs\u001b[0m\u001b[1;33m)\u001b[0m\u001b[1;33m:\u001b[0m\u001b[1;33m\u001b[0m\u001b[1;33m\u001b[0m\u001b[0m\n\u001b[1;32m--> 262\u001b[1;33m             return [func(*args, **kwargs)\n\u001b[0m\u001b[0;32m    263\u001b[0m                     for func, args, kwargs in self.items]\n\u001b[0;32m    264\u001b[0m \u001b[1;33m\u001b[0m\u001b[0m\n",
      "\u001b[1;32mc:\\users\\derya\\appdata\\local\\programs\\python\\python39\\lib\\site-packages\\sklearn\\utils\\fixes.py\u001b[0m in \u001b[0;36m__call__\u001b[1;34m(self, *args, **kwargs)\u001b[0m\n\u001b[0;32m    220\u001b[0m     \u001b[1;32mdef\u001b[0m \u001b[0m__call__\u001b[0m\u001b[1;33m(\u001b[0m\u001b[0mself\u001b[0m\u001b[1;33m,\u001b[0m \u001b[1;33m*\u001b[0m\u001b[0margs\u001b[0m\u001b[1;33m,\u001b[0m \u001b[1;33m**\u001b[0m\u001b[0mkwargs\u001b[0m\u001b[1;33m)\u001b[0m\u001b[1;33m:\u001b[0m\u001b[1;33m\u001b[0m\u001b[1;33m\u001b[0m\u001b[0m\n\u001b[0;32m    221\u001b[0m         \u001b[1;32mwith\u001b[0m \u001b[0mconfig_context\u001b[0m\u001b[1;33m(\u001b[0m\u001b[1;33m**\u001b[0m\u001b[0mself\u001b[0m\u001b[1;33m.\u001b[0m\u001b[0mconfig\u001b[0m\u001b[1;33m)\u001b[0m\u001b[1;33m:\u001b[0m\u001b[1;33m\u001b[0m\u001b[1;33m\u001b[0m\u001b[0m\n\u001b[1;32m--> 222\u001b[1;33m             \u001b[1;32mreturn\u001b[0m \u001b[0mself\u001b[0m\u001b[1;33m.\u001b[0m\u001b[0mfunction\u001b[0m\u001b[1;33m(\u001b[0m\u001b[1;33m*\u001b[0m\u001b[0margs\u001b[0m\u001b[1;33m,\u001b[0m \u001b[1;33m**\u001b[0m\u001b[0mkwargs\u001b[0m\u001b[1;33m)\u001b[0m\u001b[1;33m\u001b[0m\u001b[1;33m\u001b[0m\u001b[0m\n\u001b[0m",
      "\u001b[1;32mc:\\users\\derya\\appdata\\local\\programs\\python\\python39\\lib\\site-packages\\sklearn\\model_selection\\_validation.py\u001b[0m in \u001b[0;36m_fit_and_score\u001b[1;34m(estimator, X, y, scorer, train, test, verbose, parameters, fit_params, return_train_score, return_parameters, return_n_test_samples, return_times, return_estimator, split_progress, candidate_progress, error_score)\u001b[0m\n\u001b[0;32m    591\u001b[0m             \u001b[0mestimator\u001b[0m\u001b[1;33m.\u001b[0m\u001b[0mfit\u001b[0m\u001b[1;33m(\u001b[0m\u001b[0mX_train\u001b[0m\u001b[1;33m,\u001b[0m \u001b[1;33m**\u001b[0m\u001b[0mfit_params\u001b[0m\u001b[1;33m)\u001b[0m\u001b[1;33m\u001b[0m\u001b[1;33m\u001b[0m\u001b[0m\n\u001b[0;32m    592\u001b[0m         \u001b[1;32melse\u001b[0m\u001b[1;33m:\u001b[0m\u001b[1;33m\u001b[0m\u001b[1;33m\u001b[0m\u001b[0m\n\u001b[1;32m--> 593\u001b[1;33m             \u001b[0mestimator\u001b[0m\u001b[1;33m.\u001b[0m\u001b[0mfit\u001b[0m\u001b[1;33m(\u001b[0m\u001b[0mX_train\u001b[0m\u001b[1;33m,\u001b[0m \u001b[0my_train\u001b[0m\u001b[1;33m,\u001b[0m \u001b[1;33m**\u001b[0m\u001b[0mfit_params\u001b[0m\u001b[1;33m)\u001b[0m\u001b[1;33m\u001b[0m\u001b[1;33m\u001b[0m\u001b[0m\n\u001b[0m\u001b[0;32m    594\u001b[0m \u001b[1;33m\u001b[0m\u001b[0m\n\u001b[0;32m    595\u001b[0m     \u001b[1;32mexcept\u001b[0m \u001b[0mException\u001b[0m \u001b[1;32mas\u001b[0m \u001b[0me\u001b[0m\u001b[1;33m:\u001b[0m\u001b[1;33m\u001b[0m\u001b[1;33m\u001b[0m\u001b[0m\n",
      "\u001b[1;32mc:\\users\\derya\\appdata\\local\\programs\\python\\python39\\lib\\site-packages\\sklearn\\linear_model\\_logistic.py\u001b[0m in \u001b[0;36mfit\u001b[1;34m(self, X, y, sample_weight)\u001b[0m\n\u001b[0;32m   1356\u001b[0m                               \u001b[1;34m\" 'solver' is set to 'liblinear'. Got 'n_jobs'\"\u001b[0m\u001b[1;33m\u001b[0m\u001b[1;33m\u001b[0m\u001b[0m\n\u001b[0;32m   1357\u001b[0m                               \" = {}.\".format(effective_n_jobs(self.n_jobs)))\n\u001b[1;32m-> 1358\u001b[1;33m             self.coef_, self.intercept_, n_iter_ = _fit_liblinear(\n\u001b[0m\u001b[0;32m   1359\u001b[0m                 \u001b[0mX\u001b[0m\u001b[1;33m,\u001b[0m \u001b[0my\u001b[0m\u001b[1;33m,\u001b[0m \u001b[0mself\u001b[0m\u001b[1;33m.\u001b[0m\u001b[0mC\u001b[0m\u001b[1;33m,\u001b[0m \u001b[0mself\u001b[0m\u001b[1;33m.\u001b[0m\u001b[0mfit_intercept\u001b[0m\u001b[1;33m,\u001b[0m \u001b[0mself\u001b[0m\u001b[1;33m.\u001b[0m\u001b[0mintercept_scaling\u001b[0m\u001b[1;33m,\u001b[0m\u001b[1;33m\u001b[0m\u001b[1;33m\u001b[0m\u001b[0m\n\u001b[0;32m   1360\u001b[0m                 \u001b[0mself\u001b[0m\u001b[1;33m.\u001b[0m\u001b[0mclass_weight\u001b[0m\u001b[1;33m,\u001b[0m \u001b[0mself\u001b[0m\u001b[1;33m.\u001b[0m\u001b[0mpenalty\u001b[0m\u001b[1;33m,\u001b[0m \u001b[0mself\u001b[0m\u001b[1;33m.\u001b[0m\u001b[0mdual\u001b[0m\u001b[1;33m,\u001b[0m \u001b[0mself\u001b[0m\u001b[1;33m.\u001b[0m\u001b[0mverbose\u001b[0m\u001b[1;33m,\u001b[0m\u001b[1;33m\u001b[0m\u001b[1;33m\u001b[0m\u001b[0m\n",
      "\u001b[1;32mc:\\users\\derya\\appdata\\local\\programs\\python\\python39\\lib\\site-packages\\sklearn\\svm\\_base.py\u001b[0m in \u001b[0;36m_fit_liblinear\u001b[1;34m(X, y, C, fit_intercept, intercept_scaling, class_weight, penalty, dual, verbose, max_iter, tol, random_state, multi_class, loss, epsilon, sample_weight)\u001b[0m\n\u001b[0;32m    973\u001b[0m \u001b[1;33m\u001b[0m\u001b[0m\n\u001b[0;32m    974\u001b[0m     \u001b[0msolver_type\u001b[0m \u001b[1;33m=\u001b[0m \u001b[0m_get_liblinear_solver_type\u001b[0m\u001b[1;33m(\u001b[0m\u001b[0mmulti_class\u001b[0m\u001b[1;33m,\u001b[0m \u001b[0mpenalty\u001b[0m\u001b[1;33m,\u001b[0m \u001b[0mloss\u001b[0m\u001b[1;33m,\u001b[0m \u001b[0mdual\u001b[0m\u001b[1;33m)\u001b[0m\u001b[1;33m\u001b[0m\u001b[1;33m\u001b[0m\u001b[0m\n\u001b[1;32m--> 975\u001b[1;33m     raw_coef_, n_iter_ = liblinear.train_wrap(\n\u001b[0m\u001b[0;32m    976\u001b[0m         \u001b[0mX\u001b[0m\u001b[1;33m,\u001b[0m \u001b[0my_ind\u001b[0m\u001b[1;33m,\u001b[0m \u001b[0msp\u001b[0m\u001b[1;33m.\u001b[0m\u001b[0misspmatrix\u001b[0m\u001b[1;33m(\u001b[0m\u001b[0mX\u001b[0m\u001b[1;33m)\u001b[0m\u001b[1;33m,\u001b[0m \u001b[0msolver_type\u001b[0m\u001b[1;33m,\u001b[0m \u001b[0mtol\u001b[0m\u001b[1;33m,\u001b[0m \u001b[0mbias\u001b[0m\u001b[1;33m,\u001b[0m \u001b[0mC\u001b[0m\u001b[1;33m,\u001b[0m\u001b[1;33m\u001b[0m\u001b[1;33m\u001b[0m\u001b[0m\n\u001b[0;32m    977\u001b[0m         \u001b[0mclass_weight_\u001b[0m\u001b[1;33m,\u001b[0m \u001b[0mmax_iter\u001b[0m\u001b[1;33m,\u001b[0m \u001b[0mrnd\u001b[0m\u001b[1;33m.\u001b[0m\u001b[0mrandint\u001b[0m\u001b[1;33m(\u001b[0m\u001b[0mnp\u001b[0m\u001b[1;33m.\u001b[0m\u001b[0miinfo\u001b[0m\u001b[1;33m(\u001b[0m\u001b[1;34m'i'\u001b[0m\u001b[1;33m)\u001b[0m\u001b[1;33m.\u001b[0m\u001b[0mmax\u001b[0m\u001b[1;33m)\u001b[0m\u001b[1;33m,\u001b[0m\u001b[1;33m\u001b[0m\u001b[1;33m\u001b[0m\u001b[0m\n",
      "\u001b[1;31mKeyboardInterrupt\u001b[0m: "
     ]
    }
   ],
   "source": [
    "gs.fit(X_train_sc, y_train)"
   ]
  },
  {
   "cell_type": "code",
   "execution_count": null,
   "id": "shared-share",
   "metadata": {},
   "outputs": [],
   "source": [
    "print(f'Best parameters: {gs.best_params_}')\n",
    "print(f'Best score: {gs.best_score_}')"
   ]
  },
  {
   "cell_type": "markdown",
   "id": "serial-genius",
   "metadata": {},
   "source": [
    "Now that we have the best parameters, we can create a logistic regression model with these parameters and see what the coefficients are for our poly features."
   ]
  },
  {
   "cell_type": "code",
   "execution_count": null,
   "id": "joint-hobby",
   "metadata": {},
   "outputs": [],
   "source": [
    "logreg3 = LogisticRegression(C=.334, solver='liblinear', penalty='l2')"
   ]
  },
  {
   "cell_type": "code",
   "execution_count": null,
   "id": "intensive-genealogy",
   "metadata": {},
   "outputs": [],
   "source": [
    "logreg3.fit(X_train_sc, y_train)"
   ]
  },
  {
   "cell_type": "code",
   "execution_count": null,
   "id": "postal-recorder",
   "metadata": {},
   "outputs": [],
   "source": [
    "print(f'LogReg Intercept: {logreg3.intercept_}')\n",
    "print(f'LogReg Coef: {logreg3.coef_}')"
   ]
  },
  {
   "cell_type": "code",
   "execution_count": null,
   "id": "danish-paradise",
   "metadata": {},
   "outputs": [],
   "source": [
    "X"
   ]
  },
  {
   "cell_type": "code",
   "execution_count": 32,
   "id": "mechanical-female",
   "metadata": {},
   "outputs": [
    {
     "data": {
      "text/plain": [
       "array([ 0.05463415, -0.062148  , -0.70540433,  0.10580061,  0.05672328,\n",
       "       -0.04736196, -0.70958883,  0.1074085 , -0.0055321 , -0.80222133,\n",
       "        0.1486707 ,  0.08738078, -0.00591653, -0.47797744,  0.05881218,\n",
       "       -0.03418924, -0.7137793 ,  0.10901718,  0.00351988, -0.80649152,\n",
       "        0.15030562,  0.08429796, -0.00487551, -0.47610615,  0.05110224,\n",
       "       -0.90056968,  0.19196895,  0.00815977,  0.01591296, -0.43464806,\n",
       "        0.95606905,  0.44133429, -0.49074913, -0.21949425,  0.06090085,\n",
       "       -0.02234978, -0.71797579,  0.11062663,  0.01209778, -0.81076804,\n",
       "        0.15194125,  0.08121444, -0.00383153, -0.47423477,  0.05815368,\n",
       "       -0.90493032,  0.19362989,  0.00506458,  0.01702491, -0.43276673,\n",
       "        0.95324626,  0.44089685, -0.48898002, -0.21757748,  0.10775485,\n",
       "       -1.00051128,  0.23568006, -0.0714316 ,  0.03888975, -0.3911471 ,\n",
       "        0.88194348,  0.42405695, -0.45506879, -0.17849178,  1.90021848,\n",
       "        1.34530575, -0.3265769 , -0.16207072,  0.95937312])"
      ]
     },
     "execution_count": 32,
     "metadata": {},
     "output_type": "execute_result"
    }
   ],
   "source": [
    "logreg3.coef_[0]"
   ]
  },
  {
   "cell_type": "code",
   "execution_count": 33,
   "id": "brazilian-butler",
   "metadata": {},
   "outputs": [],
   "source": [
    "list(zip(poly.get_feature_names(X.columns), logreg3.coef_[0])).sort()"
   ]
  },
  {
   "cell_type": "code",
   "execution_count": 34,
   "id": "postal-pulse",
   "metadata": {},
   "outputs": [
    {
     "data": {
      "text/plain": [
       "[('practical_salinity^3 seawater_temperature', -1.0005112761681618),\n",
       " ('density practical_salinity^2 seawater_temperature', -0.9049303177305303),\n",
       " ('practical_salinity^2 seawater_temperature', -0.9005696810455995),\n",
       " ('density^2 practical_salinity seawater_temperature', -0.810768036913024),\n",
       " ('density practical_salinity seawater_temperature', -0.8064915229612897),\n",
       " ('practical_salinity seawater_temperature', -0.8022213319904652),\n",
       " ('density^3 seawater_temperature', -0.7179757943571895),\n",
       " ('density^2 seawater_temperature', -0.713779304463597),\n",
       " ('density seawater_temperature', -0.7095888250197461),\n",
       " ('seawater_temperature', -0.7054043300216676)]"
      ]
     },
     "execution_count": 34,
     "metadata": {},
     "output_type": "execute_result"
    }
   ],
   "source": [
    "sorted(list(zip(poly.get_feature_names(X.columns), logreg3.coef_[0])), key=lambda x: x[1])[:10]"
   ]
  },
  {
   "cell_type": "code",
   "execution_count": 35,
   "id": "southeast-elder",
   "metadata": {},
   "outputs": [
    {
     "data": {
      "text/plain": [
       "[('practical_salinity^3 sea_surface_temperature', 0.23568006172144354),\n",
       " ('practical_salinity seawater_temperature^2 sea_surface_temperature',\n",
       "  0.4240569500531106),\n",
       " ('density seawater_temperature^2 sea_surface_temperature',\n",
       "  0.44089684594289413),\n",
       " ('seawater_temperature^2 sea_surface_temperature', 0.44133428993578866),\n",
       " ('practical_salinity seawater_temperature^3', 0.8819434763219793),\n",
       " ('density seawater_temperature^3', 0.9532462596580414),\n",
       " ('seawater_temperature^3', 0.9560690511673234),\n",
       " ('sea_surface_temperature^4', 0.959373124870772),\n",
       " ('seawater_temperature^3 sea_surface_temperature', 1.3453057462692326),\n",
       " ('seawater_temperature^4', 1.9002184769307089)]"
      ]
     },
     "execution_count": 35,
     "metadata": {},
     "output_type": "execute_result"
    }
   ],
   "source": [
    "sorted(list(zip(poly.get_feature_names(X.columns), logreg3.coef_[0])), key=lambda x: x[1])[-10:]"
   ]
  },
  {
   "cell_type": "code",
   "execution_count": 36,
   "id": "german-rogers",
   "metadata": {},
   "outputs": [
    {
     "name": "stdout",
     "output_type": "stream",
     "text": [
      "Train accuracy: 0.744824990590892\n",
      "Test accuracy: 0.7520885075637842\n"
     ]
    }
   ],
   "source": [
    "print(f'Train accuracy: {logreg3.score(X_train_sc, y_train)}')\n",
    "print(f'Test accuracy: {logreg3.score(X_test_sc, y_test)}')"
   ]
  },
  {
   "cell_type": "code",
   "execution_count": null,
   "id": "governing-junior",
   "metadata": {},
   "outputs": [],
   "source": [
    "print(cross_val_score(logreg3, X_train_sc, y_train).mean())\n",
    "print(cross_val_score(logreg3, X_test_sc, y_test).mean())"
   ]
  },
  {
   "cell_type": "code",
   "execution_count": 37,
   "id": "parallel-abuse",
   "metadata": {},
   "outputs": [
    {
     "data": {
      "image/png": "[encoded data removed]",
      "text/plain": [
       "<Figure size 864x576 with 4 Axes>"
      ]
     },
     "metadata": {
      "needs_background": "light"
     },
     "output_type": "display_data"
    }
   ],
   "source": [
    "fig, (ax1, ax2) = plt.subplots(1, 2, figsize=(12, 8))\n",
    "\n",
    "plot_confusion_matrix(logreg3, X_train_sc, y_train, ax=ax1)\n",
    "ax1.set_title('Confusion Matrix: Train Data')\n",
    "\n",
    "plot_confusion_matrix(logreg3, X_test_sc, y_test, ax=ax2)\n",
    "ax2.set_title('Confusion Matrix: Test Data');"
   ]
  },
  {
   "cell_type": "markdown",
   "id": "voluntary-punch",
   "metadata": {},
   "source": [
    "Looks like our false negatives outnumber our false positive"
   ]
  },
  {
   "cell_type": "code",
   "execution_count": 39,
   "id": "rough-allen",
   "metadata": {},
   "outputs": [
    {
     "name": "stdout",
     "output_type": "stream",
     "text": [
      "              precision    recall  f1-score   support\n",
      "\n",
      "         0.0       0.67      0.69      0.68      1685\n",
      "         1.0       0.80      0.79      0.80      2744\n",
      "\n",
      "    accuracy                           0.75      4429\n",
      "   macro avg       0.74      0.74      0.74      4429\n",
      "weighted avg       0.75      0.75      0.75      4429\n",
      "\n"
     ]
    }
   ],
   "source": [
    "test_preds = logreg3.predict(X_test_sc)\n",
    "print(classification_report(y_test, test_preds))"
   ]
  },
  {
   "cell_type": "markdown",
   "id": "enhanced-october",
   "metadata": {},
   "source": [
    "# TODO:\n",
    "\n",
    "Next will be trying to build a decision tree classifier as an alternative classification model that comes with interpretability. I'll also need to come back and reconsider everything I did above, there might be changes to make."
   ]
  },
  {
   "cell_type": "markdown",
   "id": "sudden-bikini",
   "metadata": {},
   "source": [
    "---\n",
    "### Decision trees"
   ]
  },
  {
   "cell_type": "code",
   "execution_count": 41,
   "id": "academic-understanding",
   "metadata": {},
   "outputs": [],
   "source": [
    "dt = DecisionTreeClassifier(random_state=42)"
   ]
  },
  {
   "cell_type": "code",
   "execution_count": null,
   "id": "severe-dietary",
   "metadata": {},
   "outputs": [],
   "source": [
    "dt.fit(X_train, y_train)"
   ]
  },
  {
   "cell_type": "code",
   "execution_count": 13,
   "id": "pleasant-adoption",
   "metadata": {},
   "outputs": [
    {
     "name": "stdout",
     "output_type": "stream",
     "text": [
      "Train accuracy: 0.689499435453519\n",
      "Test accuracy: 0.6884172499435538\n"
     ]
    }
   ],
   "source": [
    "print(f'Train accuracy: {pipe.score(X_train.values.reshape(-1, 1), y_train)}')\n",
    "print(f'Test accuracy: {pipe.score(X_test.values.reshape(-1, 1), y_test)}')"
   ]
  },
  {
   "cell_type": "code",
   "execution_count": 14,
   "id": "subjective-product",
   "metadata": {},
   "outputs": [
    {
     "name": "stdout",
     "output_type": "stream",
     "text": [
      "LogReg Intercept: [0.56096136]\n",
      "LogReg Coef: [[-0.89346893]]\n"
     ]
    }
   ],
   "source": [
    "logreg = pipe.named_steps['logreg']\n",
    "print(f'LogReg Intercept: {logreg.intercept_}')\n",
    "print(f'LogReg Coef: {logreg.coef_}')"
   ]
  },
  {
   "cell_type": "code",
   "execution_count": 15,
   "id": "continental-austin",
   "metadata": {},
   "outputs": [
    {
     "name": "stdout",
     "output_type": "stream",
     "text": [
      "0.689951072638314\n",
      "0.6884159110328907\n"
     ]
    }
   ],
   "source": [
    "print(cross_val_score(pipe, X_train.values.reshape(-1, 1), y_train).mean())\n",
    "print(cross_val_score(pipe, X_test.values.reshape(-1, 1), y_test).mean())"
   ]
  },
  {
   "cell_type": "markdown",
   "id": "outstanding-necessity",
   "metadata": {},
   "source": [
    "This model performs better than our baseline, woohoo! But maybe we can do better with polynomial features."
   ]
  },
  {
   "cell_type": "code",
   "execution_count": 16,
   "id": "departmental-launch",
   "metadata": {},
   "outputs": [
    {
     "data": {
      "image/png": "[encoded data removed]",
      "text/plain": [
       "<Figure size 864x576 with 4 Axes>"
      ]
     },
     "metadata": {
      "needs_background": "light"
     },
     "output_type": "display_data"
    }
   ],
   "source": [
    "fig, (ax1, ax2) = plt.subplots(1, 2, figsize=(12, 8))\n",
    "\n",
    "plot_confusion_matrix(pipe, X_train.values.reshape(-1, 1), y_train, ax=ax1)\n",
    "ax1.set_title('Confusion Matrix: Train Data')\n",
    "\n",
    "plot_confusion_matrix(pipe, X_test.values.reshape(-1, 1), y_test, ax=ax2)\n",
    "ax2.set_title('Confusion Matrix: Test Data');"
   ]
  },
  {
   "cell_type": "code",
   "execution_count": 17,
   "id": "equipped-conversion",
   "metadata": {},
   "outputs": [
    {
     "name": "stdout",
     "output_type": "stream",
     "text": [
      "              precision    recall  f1-score   support\n",
      "\n",
      "         0.0       0.63      0.44      0.52      1685\n",
      "         1.0       0.71      0.84      0.77      2744\n",
      "\n",
      "    accuracy                           0.69      4429\n",
      "   macro avg       0.67      0.64      0.64      4429\n",
      "weighted avg       0.68      0.69      0.67      4429\n",
      "\n"
     ]
    }
   ],
   "source": [
    "test_preds = pipe.predict(X_test.values.reshape(-1, 1))\n",
    "print(classification_report(y_test, test_preds))"
   ]
  }
 ],
 "metadata": {
  "kernelspec": {
   "display_name": "Python 3",
   "language": "python",
   "name": "python3"
  },
  "language_info": {
   "codemirror_mode": {
    "name": "ipython",
    "version": 3
   },
   "file_extension": ".py",
   "mimetype": "text/x-python",
   "name": "python",
   "nbconvert_exporter": "python",
   "pygments_lexer": "ipython3",
   "version": "3.9.2"
  }
 },
 "nbformat": 4,
 "nbformat_minor": 5
}
